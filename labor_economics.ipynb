{
 "cells": [
  {
   "cell_type": "markdown",
   "metadata": {
    "slideshow": {
     "slide_type": "slide"
    }
   },
   "source": [
    "<h1><center>Labor Economics</center></h1>"
   ]
  },
  {
   "cell_type": "markdown",
   "metadata": {
    "slideshow": {
     "slide_type": "slide"
    }
   },
   "source": [
    "### Exam\n",
    "- project work:\n",
    "    - by yourself or in a group\n",
    "    - presentation at the end of the term\n",
    "    - brief written summary of your work, 3-5 pages"
   ]
  },
  {
   "cell_type": "markdown",
   "metadata": {
    "slideshow": {
     "slide_type": "subslide"
    }
   },
   "source": [
    "### Exercise class\n",
    "- biweekly\n",
    "- working on data\n",
    "- small exercises\n",
    "- working on your own project"
   ]
  },
  {
   "cell_type": "markdown",
   "metadata": {
    "slideshow": {
     "slide_type": "subslide"
    }
   },
   "source": [
    "### Tools\n",
    "- Stata\n",
    "<br>Feel free to use any code you like for your own analysis (R, SAS, Stata, Python, ...). However, since we had to decide\n",
    "on a tool to be used in this class, I am going to work with Stata.\n",
    "\n",
    "### Data\n",
    "- Current Population Survey (U.S.)\n",
    "- CPS-Supplements"
   ]
  },
  {
   "cell_type": "markdown",
   "metadata": {
    "slideshow": {
     "slide_type": "slide"
    }
   },
   "source": [
    "## Stata\n",
    "\n",
    "<b>getting started</b>\n",
    "-   https://ell.stackexchange.com/questions/91623/difference-between-by-and-via <br>List of helpful links for beggining to work with stata <br>\n",
    "\n",
    "- https://www.stata.com/features/ <br>List of features in Stata <br>\n",
    "\n",
    "- vast amount of literature and tutorials available online <br>\n",
    "\n",
    "\n"
   ]
  },
  {
   "cell_type": "markdown",
   "metadata": {
    "slideshow": {
     "slide_type": "slide"
    }
   },
   "source": [
    "## Current Population Survey\n",
    "\n",
    "- <a href=\"https://www.census.gov/programs-surveys/cps.html\">cps homepage</a>\n",
    "- started in 1940, open data, free access\n",
    "- monthly survey of ~ 60.000 U.S. households\n",
    "- participants: over 15 years old, not part of the armed forces, not working in institutions such as prisons, long-term care hospitals and nursing homes\n",
    "- conducted by United States Census Bureau, commissioned by Bureau of Labor Statistics"
   ]
  },
  {
   "cell_type": "markdown",
   "metadata": {
    "slideshow": {
     "slide_type": "subslide"
    }
   },
   "source": [
    "- questionnaire covers demographic and economic (especially labor force) topics\n",
    "- expanded by regular (at least yearly) supplements, such as\n",
    "    - Social and Economic Supplement\n",
    "    - Computer and Internet Use\n",
    "    - Tobacco Use\n",
    "    - Civic Engagement\n",
    "    - ...\n",
    "    \n",
    "    (complete list of supplements: <a href = https://www.census.gov/programs-surveys/cps/about/supplemental-surveys.html>LINK</a>)"
   ]
  },
  {
   "cell_type": "markdown",
   "metadata": {
    "slideshow": {
     "slide_type": "subslide"
    }
   },
   "source": [
    "- process of data collection (monthly data):\n",
    "    - households are interviewed in the week of the 19th of a month\n",
    "    - revisited for three following months\n",
    "    - revisited again in the next year and the very same four months\n",
    "    \n",
    "<center><b>4-8-4 pattern</b></center>"
   ]
  },
  {
   "cell_type": "markdown",
   "metadata": {
    "slideshow": {
     "slide_type": "slide"
    }
   },
   "source": [
    "## IPUMS\n",
    "\n",
    "- problem: CPS solely assigns unique identifiers to households, not to individuals\n",
    "    - i.e. the same household is revisited seven times - regardless of which family or individual answers the door\n",
    "- longitudinal research on an individual level complicated, but not impossible"
   ]
  },
  {
   "cell_type": "markdown",
   "metadata": {
    "slideshow": {
     "slide_type": "subslide"
    }
   },
   "source": [
    "- linking items via matching making use of variables such as household identifier, line number within household and demographic characteristics (e.g. sex, age, race) <br>\n",
    "    - <i>Drew, J.A., Flood, S. and Warren, J.R. (2014) \"Making full use of the longitudinal design of the Current Population Survey:\n",
    "    Methods for linking records across 16 months\", Journal of Economic and Social Measurement, 39, pp. 121-144. <br> DOI 10.3233/JEM-140388</i>\n",
    "- accordingly prepared microdata available in the <b>Integrated Public Use Microdata Series (IPUMS-CPS)</b> <a href=\"https://cps.ipums.org/cps/\">LINK</a>"
   ]
  },
  {
   "cell_type": "markdown",
   "metadata": {
    "slideshow": {
     "slide_type": "slide"
    }
   },
   "source": [
    "## <span style=\"color:orange\">Homework</span>\n",
    "\n",
    "Visit https://cps.ipums.org/cps/ and create an account. Register with any valid e-mail adress, preferably your uni-mail adress. Select all the variables and samples potentially relevant to your project.\n",
    "Use the desciprtion of the variables to decide which to include in your extract. Try to minimise the number of variables in your extract.\n",
    "Submit your request. It may take some time for your extract to be prepared and ready for download. The download link will be provided to you via e-mail once the data is processed."
   ]
  },
  {
   "cell_type": "markdown",
   "metadata": {
    "slideshow": {
     "slide_type": "subslide"
    }
   },
   "source": [
    "\n",
    "Hint #1: If you already stumbled upon research papers dealing with questions similar to your project and working with CPS-data, you may include the author's choice of variables in your set as well.\n",
    "\n",
    "Hint #2: take your time. This task is not trivial. Your work depends on the data at hand. Carefully chosen variables suited for answering a particular question facilitate your research."
   ]
  },
  {
   "cell_type": "markdown",
   "metadata": {
    "slideshow": {
     "slide_type": "slide"
    }
   },
   "source": [
    "- We confine our analysis to the years from 2000 onwards\n",
    "- Choose your variables wisely: The number of variables inflates the size of the data set. E.g. 80 variables across monthly data between 2000 and 2019 constitute more than 7 gb of data\n",
    "- adding supplements you receive data sets as large as 50 gb and more"
   ]
  },
  {
   "cell_type": "markdown",
   "metadata": {
    "slideshow": {
     "slide_type": "subslide"
    }
   },
   "source": [
    "- the bigger your extract,\n",
    "    - the more time it takes the IPUMS server to process your request (from several hours to possibly several days)\n",
    "    - the more time it takes you to download it\n",
    "    - the more time and processing power is required to modify and analyse the data\n",
    "- Good practice: Select cases to reduce the size, drop redundant variables (e.g. recodes), do not include every supplement (since for most individuals in the monthly survey the values are blank anyway)\n"
   ]
  },
  {
   "cell_type": "markdown",
   "metadata": {
    "slideshow": {
     "slide_type": "slide"
    }
   },
   "source": [
    "## <span style=\"color:orange\">Homework</span>\n",
    "\n",
    "Validate the CPSID linkages following the hints in the description of the variable. (<a href=\"https://cps.ipums.org/cps-action/variables/cpsidp#description_section\">LINK</a> to description)\n",
    "\n",
    "It is recommended to verify the linkages by checking the consistency of the variables AGE, RACE and SEX.\n",
    "For a linkage to be valid, a CPSID should have a unique gender and race. Though age is not a static variable, it should be in a certain range for the survey lifetime of an individual, i.e. between $AGE_{i, t=1} = AGE_{i, t=0} + d$ with $d \\in [0, 2]$."
   ]
  },
  {
   "cell_type": "markdown",
   "metadata": {
    "slideshow": {
     "slide_type": "subslide"
    }
   },
   "source": [
    "Hint: This is not an easy task to do. You might come up with an own approach outside of Stata, you might be able to write proper code in Stata.\n",
    "Furthermore, you have to consider whether you want to check the linkages for two consecutive months only or if you want to check the whole survey lifetime of a participant."
   ]
  },
  {
   "cell_type": "markdown",
   "metadata": {
    "slideshow": {
     "slide_type": "slide"
    }
   },
   "source": [
    "Here is my approach for validating the linkages between two consecutive months:"
   ]
  },
  {
   "cell_type": "code",
   "execution_count": null,
   "metadata": {
    "scrolled": false,
    "slideshow": {
     "slide_type": "slide"
    }
   },
   "outputs": [],
   "source": [
    "* loading data\n",
    "cd \"C:\\Users\\Hannes\\Documents\"\n",
    "use \"session01.dta\", clear\n",
    "\n",
    "* Creating lead variables\n",
    "bysort cpsidp (year month mish): gen lead_mish = mish[_n+1]\n",
    "bysort cpsidp (year month mish): gen lead_age = age[_n+1] if lead_mish - mish == 1\n",
    "bysort cpsidp (year month mish): gen lead_race = race[_n+1] if lead_mish - mish == 1\n",
    "bysort cpsidp (year month mish): gen lead_sex = sex[_n+1] if lead_mish - mish == 1"
   ]
  },
  {
   "cell_type": "code",
   "execution_count": null,
   "metadata": {
    "scrolled": true,
    "slideshow": {
     "slide_type": "subslide"
    }
   },
   "outputs": [],
   "source": [
    "* Creating lead variables\n",
    "bysort cpsidp (year month mish): gen lag_mish = mish[_n-1]\n",
    "bysort cpsidp (year month mish): gen lag_age = age[_n-1] if mish - lag_mish == 1\n",
    "bysort cpsidp (year month mish): gen lag_race = race[_n-1] if mish - lag_mish == 1\n",
    "bysort cpsidp (year month mish): gen lag_sex = sex[_n-1] if mish - lag_mish == 1"
   ]
  },
  {
   "cell_type": "code",
   "execution_count": null,
   "metadata": {
    "scrolled": false,
    "slideshow": {
     "slide_type": "subslide"
    }
   },
   "outputs": [],
   "source": [
    "* validation\n",
    "gen linked_f = .m\n",
    "replace linked = 1 if lead_mish - mish == 1 & lead_race == race & lead_sex == sex & ((mish == 4 & lead_age - age >= 0 & lead_age - age <= 2) | (mish ~= 4 & lead_age - age >= 0 & lead_age - age <= 1))\n",
    "\n",
    "gen linked_b = .m\n",
    "replace linked_b = 1 if mish - lag_mish == 1 & race == lag_race & sex == lag_sex & ((mish == 5 & age - lag_age >= 0 & age - lag_age <= 2) | (mish ~= 5 & age - lag_age >= 0 & age - lag_age <= 1))"
   ]
  },
  {
   "cell_type": "code",
   "execution_count": null,
   "metadata": {
    "scrolled": true,
    "slideshow": {
     "slide_type": "subslide"
    }
   },
   "outputs": [],
   "source": [
    "* flag for linked backwards and/or forwards\n",
    "gen linked = linked_f ==1 | linked_b == 1"
   ]
  },
  {
   "cell_type": "code",
   "execution_count": null,
   "metadata": {
    "slideshow": {
     "slide_type": "subslide"
    }
   },
   "outputs": [],
   "source": [
    "tab linked"
   ]
  },
  {
   "cell_type": "markdown",
   "metadata": {
    "slideshow": {
     "slide_type": "slide"
    }
   },
   "source": [
    "What makes the linking invalid for those 197,5 k observations?"
   ]
  },
  {
   "cell_type": "code",
   "execution_count": null,
   "metadata": {
    "scrolled": true,
    "slideshow": {
     "slide_type": "subslide"
    }
   },
   "outputs": [],
   "source": [
    "gen age_diff = lead_age - age\n",
    "tab age_diff if linked == 0 & !inrange(age_diff, 0, 2)"
   ]
  },
  {
   "cell_type": "code",
   "execution_count": null,
   "metadata": {
    "scrolled": true,
    "slideshow": {
     "slide_type": "subslide"
    }
   },
   "outputs": [],
   "source": [
    "numlabel, add\n",
    "tab sex lead_sex if linked == 0 & sex ~= lead_sex"
   ]
  },
  {
   "cell_type": "code",
   "execution_count": null,
   "metadata": {
    "scrolled": false,
    "slideshow": {
     "slide_type": "subslide"
    }
   },
   "outputs": [],
   "source": [
    "tab race lead_race if linked == 0 & race ~= lead_race"
   ]
  },
  {
   "cell_type": "code",
   "execution_count": null,
   "metadata": {
    "scrolled": true,
    "slideshow": {
     "slide_type": "subslide"
    }
   },
   "outputs": [],
   "source": [
    "by cpsidp: egen maxmish = max(mish)\n",
    "tab maxmish"
   ]
  },
  {
   "cell_type": "code",
   "execution_count": null,
   "metadata": {
    "scrolled": true,
    "slideshow": {
     "slide_type": "subslide"
    }
   },
   "outputs": [],
   "source": [
    "egen tag_help = tag(cpsidp month year)\n",
    "egen obs = total(tag_help), by(cpsidp)\n",
    "drop tag_help\n",
    "\n",
    "tab obs if obs == 1 & obs ~= maxmish\n"
   ]
  },
  {
   "cell_type": "code",
   "execution_count": null,
   "metadata": {
    "slideshow": {
     "slide_type": "subslide"
    }
   },
   "outputs": [],
   "source": [
    "*gen mish_delta = lead_mish - mish\n",
    "tab mish_delta if mish_delta ~= 1 & linked == 0"
   ]
  },
  {
   "cell_type": "markdown",
   "metadata": {
    "slideshow": {
     "slide_type": "subslide"
    }
   },
   "source": [
    "So why do we make such an effort looking at invalid linkages?\n",
    "\n",
    "Because you ought to know the data you are about to dismiss as well as the data you would like to workt with.\n",
    "Checking you data for sanity might reduce the risk of measurement errors (wrong observations).\n",
    "Apparently the concept of CPSIDP is not as trustworthy as one would have thought beforehand."
   ]
  },
  {
   "cell_type": "markdown",
   "metadata": {
    "slideshow": {
     "slide_type": "subslide"
    }
   },
   "source": [
    "<center>Now that we have our data set, we can start working with it.</center>"
   ]
  },
  {
   "cell_type": "markdown",
   "metadata": {
    "slideshow": {
     "slide_type": "slide"
    }
   },
   "source": [
    "# Insight & descriptive statistics (Task 1)"
   ]
  },
  {
   "cell_type": "markdown",
   "metadata": {
    "slideshow": {
     "slide_type": "slide"
    }
   },
   "source": [
    "### How many unique respondents are introduced into the panel each year? "
   ]
  },
  {
   "cell_type": "code",
   "execution_count": null,
   "metadata": {
    "slideshow": {
     "slide_type": "subslide"
    }
   },
   "outputs": [],
   "source": [
    "count unique new individuals by year\n",
    "sort year month\n",
    "egen tag_help = tag(cpsidp)\n",
    "egen num_entries = total(tag_help), by(year)\n",
    "tabdisp year, c(num_entries)"
   ]
  },
  {
   "cell_type": "markdown",
   "metadata": {
    "slideshow": {
     "slide_type": "slide"
    }
   },
   "source": [
    "### What is the average yearly share of female respondents overall? How does the average annual share evolve from 2000-2020?"
   ]
  },
  {
   "cell_type": "code",
   "execution_count": null,
   "metadata": {
    "scrolled": false,
    "slideshow": {
     "slide_type": "subslide"
    }
   },
   "outputs": [],
   "source": [
    "* share of female responses\n",
    "\n",
    "summarize sex\n",
    "replace sex = sex - 1\n",
    "label define sex 0 \"male\" 1 \"female\"\n",
    "label value sex sex\n",
    "\n",
    "* share overall\n",
    "mean sex\n",
    "\n",
    "* share per year\n",
    "bysort year: egen fem = mean(sex)\n",
    "table year, content(max fem)\n",
    "* or \n",
    "tab year sex, row"
   ]
  },
  {
   "cell_type": "markdown",
   "metadata": {},
   "source": [
    "If you trying to calculate the share of a variable, yet it is not binary coded, you can try different approaches.\n",
    "\n",
    "tab gives you pretty much everything you want:\n",
    "\n",
    ">tab year sex, row\n",
    "\n",
    "If you want to store the share as a ne variable, you have to come up with something different.\n",
    "\n",
    "Let us generate a variable for the share of unique female respondents:"
   ]
  },
  {
   "cell_type": "code",
   "execution_count": null,
   "metadata": {
    "scrolled": true
   },
   "outputs": [],
   "source": [
    "egen fem_counter = tag(year cpsidp) if sex == 1\n",
    "egen fem_total = total(fem_counter), by(year)\n",
    "egen both_counter = tag(year cpsidp)\n",
    "egen respondents_total = total(both_counter), by(year)\n",
    "gen fem_share = fem_total / respondents_total"
   ]
  },
  {
   "cell_type": "code",
   "execution_count": null,
   "metadata": {},
   "outputs": [],
   "source": [
    "save \"workfile01.dta\""
   ]
  },
  {
   "cell_type": "code",
   "execution_count": null,
   "metadata": {},
   "outputs": [],
   "source": [
    "collapse (max) fem_share, by(year)\n",
    "twoway (line fem_share year, sort), ytitle(share) xtitle(year) title(Share of female respondents) yscale(range(0.00 1.00)) ylabel(0(0.1)1)"
   ]
  },
  {
   "cell_type": "code",
   "execution_count": null,
   "metadata": {},
   "outputs": [],
   "source": [
    "use \"workfile01.dta\", clear"
   ]
  },
  {
   "cell_type": "markdown",
   "metadata": {},
   "source": [
    "I strongly recommend to drop the auxiliary after that, so that the table stays clear and tidy."
   ]
  },
  {
   "cell_type": "code",
   "execution_count": null,
   "metadata": {},
   "outputs": [],
   "source": [
    "drop fem_* both_* respondents_*"
   ]
  },
  {
   "cell_type": "markdown",
   "metadata": {},
   "source": [
    "### What is the average yearly share of respondents holding at least a college degree overall? How does the average annual share evolve from 2001-2020?"
   ]
  },
  {
   "cell_type": "markdown",
   "metadata": {},
   "source": [
    "For the average share of respondents holding a college degree you have to calculated the share of respondents instead the share of responses. You also have to keep in mind that individuals are paticipating up to four times a year in the survey.\n",
    "The following code considers this as well as the fact that a person can obtain college degree between the waves of interviews. The highes degree obtained within a year will be counted."
   ]
  },
  {
   "cell_type": "code",
   "execution_count": null,
   "metadata": {
    "scrolled": true
   },
   "outputs": [],
   "source": [
    "tab educ\n",
    "gen college = .\n",
    "replace college = 1 if inlist(educ, 125, 124, 092, 123, 111)\n",
    "\n",
    "egen tag_college = tag(year cpsidp college)\n",
    "egen tag_respondents = tag(year cpsidp)\n",
    "\n",
    "egen college_total = total(tag_college), by(year)\n",
    "egen respondents_total = total(tag_respondents), by(year)\n",
    "\n",
    "gen college_share = college_total / respondents_total"
   ]
  },
  {
   "cell_type": "code",
   "execution_count": null,
   "metadata": {},
   "outputs": [],
   "source": [
    "save \"workfile01.dta\", replace"
   ]
  },
  {
   "cell_type": "code",
   "execution_count": null,
   "metadata": {},
   "outputs": [],
   "source": [
    "collapse (max) college_share, by(year)\n",
    "twoway (line college_share year, sort), ytitle(share) xtitle(year) title(Share of respondents holding at least a college degree) yscale(range(0.00 1.00)) ylabel(0(0.1)1)"
   ]
  },
  {
   "cell_type": "code",
   "execution_count": null,
   "metadata": {},
   "outputs": [],
   "source": [
    "use \"workfile01.dta\", clear"
   ]
  },
  {
   "cell_type": "code",
   "execution_count": null,
   "metadata": {},
   "outputs": [],
   "source": [
    "drop college* respondents*"
   ]
  },
  {
   "cell_type": "markdown",
   "metadata": {},
   "source": [
    "### Plot the distribution of hourly wages for the years 2001, 2009 and 2018."
   ]
  },
  {
   "cell_type": "code",
   "execution_count": null,
   "metadata": {
    "scrolled": true
   },
   "outputs": [],
   "source": [
    "mvdecode(hourwage), mv(999.99)\n",
    "\n",
    "qui histogram hourwage if year==2001, name(h2001) yscale(range(0 1)) ylabel(0(0.02)0.1)\n",
    "qui histogram hourwage if year==2009, name(h2009) yscale(range(0 1)) ylabel(0(0.02)0.1)\n",
    "qui histogram hourwage if year==2018, name(h2018) yscale(range(0 1)) ylabel(0(0.02)0.1)\n",
    "graph combine h2001 h2009 h2018, col(3)"
   ]
  },
  {
   "cell_type": "markdown",
   "metadata": {},
   "source": [
    "### Is the data representative of the distribution of the population across all 50 U.S. states in 2017?"
   ]
  },
  {
   "cell_type": "code",
   "execution_count": null,
   "metadata": {
    "scrolled": true
   },
   "outputs": [],
   "source": [
    "tab statecensus"
   ]
  },
  {
   "cell_type": "code",
   "execution_count": null,
   "metadata": {},
   "outputs": [],
   "source": [
    "egen distinct2017 = tag(cpsidp year) if year == 2017\n",
    "tab statecensus if distinct2017 == 1"
   ]
  },
  {
   "cell_type": "markdown",
   "metadata": {},
   "source": [
    "Compare the frequencies with official figures, which you can finde here:\n",
    "<a href=https://www.census.gov/data/tables/time-series/demo/popest/2010s-state-total.html>census.gov</a>"
   ]
  },
  {
   "cell_type": "markdown",
   "metadata": {},
   "source": [
    "### You have the task to create statistics of employment status, occupation, wage and education. <br>You are also asked to do this analysis for the subpopulations defined by age, race, sex and citizenship.<br> How would you proceed?"
   ]
  },
  {
   "cell_type": "markdown",
   "metadata": {},
   "source": [
    "The idea of this task is to rise awareness of the different scale of measurements present in this data set.\n",
    "E.g., there is no point in calculating 5 point statistics for a nominal variable. Frequency tables are a helpful start for a data analysis.\n",
    "\n",
    "There are different ways in stata to create meaningful statistics. When doing so for various subpopulations, you should avoid to render the statistics to granular, i.e. analsing too many groups. The more result tables you have, the harder it gets to compare them.\n"
   ]
  },
  {
   "cell_type": "code",
   "execution_count": null,
   "metadata": {},
   "outputs": [],
   "source": [
    "/* There exist a variety of commands that yield a quick overview of the data as well as some related basic statistics\n",
    "and further information.*/\n",
    "describe"
   ]
  },
  {
   "cell_type": "code",
   "execution_count": null,
   "metadata": {},
   "outputs": [],
   "source": [
    "codebook"
   ]
  },
  {
   "cell_type": "code",
   "execution_count": null,
   "metadata": {},
   "outputs": [],
   "source": [
    "tab year"
   ]
  },
  {
   "cell_type": "code",
   "execution_count": null,
   "metadata": {},
   "outputs": [],
   "source": [
    "summarize age, detail"
   ]
  },
  {
   "cell_type": "code",
   "execution_count": null,
   "metadata": {},
   "outputs": [],
   "source": [
    "// Create frequency tables using the tabulate command\n",
    "tabulate educ sex, row"
   ]
  },
  {
   "cell_type": "code",
   "execution_count": null,
   "metadata": {},
   "outputs": [],
   "source": [
    "numlabel, add\n",
    "tab educ"
   ]
  },
  {
   "cell_type": "markdown",
   "metadata": {},
   "source": [
    "Value 92 represents associate's degrees. Those degrees academic degrees in the US and in other countries who introduced it. However, in most countries of the EU those degrees are not considered academic.\n",
    "Now we have to decide whether to label those degrees as academic college degrees or not.\n",
    "I choose not to do so, since the results of my analysis would be hard to compare with the situation in other countries where such a degree is unknown.\n",
    "\n",
    "If you happen to work with this variable in your project, you may decide to label associate's degrees differently. However you proceed, please elaborate on your decision."
   ]
  },
  {
   "cell_type": "code",
   "execution_count": null,
   "metadata": {},
   "outputs": [],
   "source": [
    "/* create new variable college that is 0 for every degree below college, 1 for every degree equivalent\n",
    "or above college and .m for missing values */\n",
    "\n",
    "gen college = 0\n",
    "replace college = 1 if educ > 92\n",
    "replace college = .m if educ == 1"
   ]
  },
  {
   "cell_type": "code",
   "execution_count": null,
   "metadata": {},
   "outputs": [],
   "source": [
    "tab sex college, row"
   ]
  },
  {
   "cell_type": "code",
   "execution_count": null,
   "metadata": {
    "scrolled": true,
    "slideshow": {
     "slide_type": "subslide"
    }
   },
   "outputs": [],
   "source": [
    "bysort sex college: tab occ empstat, row"
   ]
  },
  {
   "cell_type": "code",
   "execution_count": null,
   "metadata": {},
   "outputs": [],
   "source": [
    "numlabel, add\n",
    "tabulate faminc"
   ]
  },
  {
   "cell_type": "code",
   "execution_count": null,
   "metadata": {},
   "outputs": [],
   "source": [
    "mvdecode(faminc), mv(996 997 999)"
   ]
  },
  {
   "cell_type": "code",
   "execution_count": null,
   "metadata": {},
   "outputs": [],
   "source": [
    "tabstat faminc, by(year) statistics(p25, median, p75)"
   ]
  },
  {
   "cell_type": "code",
   "execution_count": null,
   "metadata": {},
   "outputs": [],
   "source": [
    "graph bar (count), over(faminc) over(year, label(angle(v))) asyvars stack percent"
   ]
  },
  {
   "cell_type": "markdown",
   "metadata": {},
   "source": [
    "# Effects of wage on hours worked (intensive margin) [Task 2]"
   ]
  },
  {
   "cell_type": "code",
   "execution_count": null,
   "metadata": {},
   "outputs": [],
   "source": [
    "*load data\n",
    "cd \"C:\\Users\\Hannes\\Documents\"\n",
    "use \"session01.dta\", clear"
   ]
  },
  {
   "cell_type": "code",
   "execution_count": null,
   "metadata": {},
   "outputs": [],
   "source": [
    "gen hwage_r = round(hourwage, 1)"
   ]
  },
  {
   "cell_type": "code",
   "execution_count": null,
   "metadata": {},
   "outputs": [],
   "source": [
    "tab hwage_r"
   ]
  },
  {
   "cell_type": "markdown",
   "metadata": {},
   "source": [
    "<a href=\"https://cps.ipums.org/cps-action/variables/HOURWAGE#description_section\"> IPUM's description of hourwage:</a>\n",
    ">HOURWAGE reports how much the respondent earned per hour in the current job, for those workers paid an hourly wage (and coded as \"2\" in PAIDHOUR). Amounts are expressed as they were reported to the interviewer; users must adjust for inflation using Consumer Price Index adjustment factors. Researchers should use the EARNWT weight with this variable. <br> <br> Users should note that HOURWAGE originally had two implied decimal places, but was revised so that the command files provided by IPUMS divide HOURWAGE by 100. <br> <br> HOURWAGE is one of the <a href = \"https://cps.ipums.org/cps/outgoing_rotation_notes.shtml\">Outgoing Rotation/Earner Study</a> questions."
   ]
  },
  {
   "cell_type": "code",
   "execution_count": null,
   "metadata": {
    "scrolled": true
   },
   "outputs": [],
   "source": [
    "summarize hourwage, detail"
   ]
  },
  {
   "cell_type": "markdown",
   "metadata": {},
   "source": [
    "\n",
    "The 10th percentile is 999.99, which means \"not in universe\". Thus we are lacking information on hourly wage for at least 90% of the respondents.\n",
    "The variable for wages in topcoded for the sake of discretion: Every wage that would result in a yearly income of more than \\$ 100,000 (1985-2002) and \\\\$ 150,000 (since 2003) is coded as 99.99 in hourwage."
   ]
  },
  {
   "cell_type": "code",
   "execution_count": null,
   "metadata": {},
   "outputs": [],
   "source": [
    "mvdecode(hourwage), mv(999.99)"
   ]
  },
  {
   "cell_type": "code",
   "execution_count": null,
   "metadata": {},
   "outputs": [],
   "source": [
    "summarize hourwage, detail"
   ]
  },
  {
   "cell_type": "markdown",
   "metadata": {},
   "source": [
    "So how many topcoded values do we have in hourwage?"
   ]
  },
  {
   "cell_type": "code",
   "execution_count": null,
   "metadata": {},
   "outputs": [],
   "source": [
    "tab hourwage if hourwage == 99.99"
   ]
  },
  {
   "cell_type": "code",
   "execution_count": null,
   "metadata": {
    "scrolled": true
   },
   "outputs": [],
   "source": [
    "sum hourwage if hourwage < 99.99"
   ]
  },
  {
   "cell_type": "code",
   "execution_count": null,
   "metadata": {
    "scrolled": true
   },
   "outputs": [],
   "source": [
    "mvdecode(hourwage), mv(99.99)"
   ]
  },
  {
   "cell_type": "code",
   "execution_count": null,
   "metadata": {},
   "outputs": [],
   "source": [
    "tab month if !missing(hourwage)"
   ]
  },
  {
   "cell_type": "markdown",
   "metadata": {},
   "source": [
    "### Examine the effect of wage on hours worked (intensive margin of labour supply) using an OLS."
   ]
  },
  {
   "cell_type": "code",
   "execution_count": null,
   "metadata": {},
   "outputs": [],
   "source": [
    "numlabel , add\n",
    "tabulate uhrswork1"
   ]
  },
  {
   "cell_type": "markdown",
   "metadata": {},
   "source": [
    "uhrswork1 = 999 denotes missing values. But how do we handle varying hours (i.e. uhrswork1=997)? In a way we are lacking information here as well."
   ]
  },
  {
   "cell_type": "code",
   "execution_count": null,
   "metadata": {
    "scrolled": true
   },
   "outputs": [],
   "source": [
    "tab empstat"
   ]
  },
  {
   "cell_type": "markdown",
   "metadata": {},
   "source": [
    "From our understanding individuals with $empstat \\in [1, 12]$ should work at least some hours a week."
   ]
  },
  {
   "cell_type": "code",
   "execution_count": null,
   "metadata": {},
   "outputs": [],
   "source": [
    "tab uhrswork1 if inrange(empstat, 1, 12)"
   ]
  },
  {
   "cell_type": "markdown",
   "metadata": {},
   "source": [
    "uhrswork1 = 997 affects approximately 7.6 % of all respondents having a job. We are going to exclude 997 an 999 from the analysis, since we are interested in effects on the intensive margin.\n",
    "Keep in mind that the missing of data (or in our case a varying in hours) could yield some important implications as well.\n",
    "\n",
    "To elaborate on that, let us have a brief look at missing values."
   ]
  },
  {
   "cell_type": "markdown",
   "metadata": {},
   "source": [
    "#### Missing Completely At Random (MCAR)\n",
    "The occurence of a missing value in Y does not depend on realisations of any other variable $X_i$ nor does it depend on other realisations of Y itself.<br>\n",
    "e.g.\n",
    "- transmission errors\n",
    "\n",
    "#### Missing At Random (MAR)\n",
    "The occurence of a missing value can be fully explained by the other variables $X_i$.<br>\n",
    "e.g.\n",
    "- males are less likely to state existing mental problems - regardless of whether they have mentral problems or not\n",
    "\n",
    "#### Missing Not At Random (MNAR)\n",
    "The occurence of a missing value in Y does depend on realisations of Y itself and can also depend on realisations of other variables $X_i$.<br>\n",
    "e.g.\n",
    "- People with high income are less likely to state their income.\n",
    "\n",
    "\n",
    "\n",
    "Keep in mind that the missing of data might hold some information as well."
   ]
  },
  {
   "cell_type": "code",
   "execution_count": null,
   "metadata": {},
   "outputs": [],
   "source": [
    "mvdecode(uhrswork1), mv(999 997)"
   ]
  },
  {
   "cell_type": "code",
   "execution_count": null,
   "metadata": {},
   "outputs": [],
   "source": [
    "reg uhrswork1 hourwage [pweight=earnwt]"
   ]
  },
  {
   "cell_type": "markdown",
   "metadata": {},
   "source": [
    "OLS minimizes\n",
    "$$\\sum_{i=1}^n (y_i - (\\alpha1 + \\beta x_i))^2$$\n",
    "Introducing a weight $w_i$ (probability weight) for every observation:\n",
    "$$\\sum_{i=1}^n w_i^2 (y_i - (\\alpha1 + \\beta x_i))^2$$\n",
    "$$\\sum_{i=1}^n (w_iy_i - (\\alpha w_i + \\beta w_i x_i))^2$$"
   ]
  },
  {
   "cell_type": "markdown",
   "metadata": {},
   "source": [
    "### Determine the correlation between wages and hours worked. What is the difference between OLS and correlation?"
   ]
  },
  {
   "cell_type": "code",
   "execution_count": null,
   "metadata": {},
   "outputs": [],
   "source": [
    "corr uhrswork1 hourwage"
   ]
  },
  {
   "cell_type": "markdown",
   "metadata": {},
   "source": [
    "The default correlation command does not feature pweights. However, for point estimates of the correlation it is recommended to use aweight instead - though it delivers bogus p-values.\n",
    "https://www.stata.com/support"
   ]
  },
  {
   "cell_type": "code",
   "execution_count": null,
   "metadata": {
    "scrolled": true
   },
   "outputs": [],
   "source": [
    "corr uhrswork1 hourwage [aweight=earnwt]\n",
    "display round(r(rho)^2, .0001)"
   ]
  },
  {
   "cell_type": "markdown",
   "metadata": {},
   "source": [
    "### Add age, sex and citizenship to your model. Include the log of wage and hours. Interpret the results of a multivariate regression."
   ]
  },
  {
   "cell_type": "code",
   "execution_count": null,
   "metadata": {},
   "outputs": [],
   "source": []
  }
 ],
 "metadata": {
  "celltoolbar": "Slideshow",
  "kernelspec": {
   "display_name": "Stata",
   "language": "stata",
   "name": "stata"
  },
  "language_info": {
   "codemirror_mode": "stata",
   "file_extension": ".do",
   "mimetype": "text/x-stata",
   "name": "stata",
   "version": "15.1"
  },
  "widgets": {
   "application/vnd.jupyter.widget-state+json": {
    "state": {},
    "version_major": 2,
    "version_minor": 0
   }
  }
 },
 "nbformat": 4,
 "nbformat_minor": 4
}
