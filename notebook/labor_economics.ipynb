{
 "cells": [
  {
   "cell_type": "markdown",
   "metadata": {
    "slideshow": {
     "slide_type": "slide"
    }
   },
   "source": [
    "<h1><center>Labor Economics</center></h1>"
   ]
  },
  {
   "cell_type": "markdown",
   "metadata": {
    "slideshow": {
     "slide_type": "slide"
    }
   },
   "source": [
    "### Exam\n",
    "- project work:\n",
    "    - by yourself or in a group\n",
    "    - presentation at the end of the term\n",
    "    - brief written summary of your work, 3-5 pages"
   ]
  },
  {
   "cell_type": "markdown",
   "metadata": {
    "slideshow": {
     "slide_type": "subslide"
    }
   },
   "source": [
    "### Exercise class\n",
    "- biweekly\n",
    "- working on data\n",
    "- small exercises\n",
    "- working on your own project"
   ]
  },
  {
   "cell_type": "markdown",
   "metadata": {
    "slideshow": {
     "slide_type": "subslide"
    }
   },
   "source": [
    "### Tools\n",
    "- Stata\n",
    "<br>Feel free to use any code you like for your own analysis (R, SAS, Stata, Python, ...). However, since we had to decide\n",
    "on a tool to be used in this class, I am going to work with Stata.\n",
    "\n",
    "### Data\n",
    "- Current Population Survey (U.S.)\n",
    "- CPS-Supplements"
   ]
  },
  {
   "cell_type": "markdown",
   "metadata": {
    "slideshow": {
     "slide_type": "slide"
    }
   },
   "source": [
    "## Stata\n",
    "\n",
    "<b>getting started</b>\n",
    "-   https://ell.stackexchange.com/questions/91623/difference-between-by-and-via <br>List of helpful links for beggining to work with stata <br>\n",
    "\n",
    "- https://www.stata.com/features/ <br>List of features in Stata <br>\n",
    "\n",
    "- vast amount of literature and tutorials available online <br>\n",
    "\n",
    "\n"
   ]
  },
  {
   "cell_type": "markdown",
   "metadata": {
    "slideshow": {
     "slide_type": "slide"
    }
   },
   "source": [
    "## Current Population Survey\n",
    "\n",
    "- <a href=\"https://www.census.gov/programs-surveys/cps.html\">cps homepage</a>\n",
    "- started in 1940, open data, free access\n",
    "- monthly survey of ~ 60.000 U.S. households\n",
    "- participants: over 15 years old, not part of the armed forces, not working in institutions such as prisons, long-term care hospitals and nursing homes\n",
    "- conducted by United States Census Bureau, commissioned by Bureau of Labor Statistics"
   ]
  },
  {
   "cell_type": "markdown",
   "metadata": {
    "slideshow": {
     "slide_type": "subslide"
    }
   },
   "source": [
    "- questionnaire covers demographic and economic (especially labor force) topics\n",
    "- expanded by regular (at least yearly) supplements, such as\n",
    "    - Social and Economic Supplement\n",
    "    - Computer and Internet Use\n",
    "    - Tobacco Use\n",
    "    - Civic Engagement\n",
    "    - ...\n",
    "    \n",
    "    (complete list of supplements: <a href = https://www.census.gov/programs-surveys/cps/about/supplemental-surveys.html>LINK</a>)"
   ]
  },
  {
   "cell_type": "markdown",
   "metadata": {
    "slideshow": {
     "slide_type": "subslide"
    }
   },
   "source": [
    "- process of data collection (monthly data):\n",
    "    - households are interviewed in the week of the 19th of a month\n",
    "    - revisited for three following months\n",
    "    - revisited again in the next year and the very same four months\n",
    "    \n",
    "<center><b>4-8-4 pattern</b></center>"
   ]
  },
  {
   "cell_type": "markdown",
   "metadata": {
    "slideshow": {
     "slide_type": "slide"
    }
   },
   "source": [
    "## IPUMS\n",
    "\n",
    "- problem: CPS solely assigns unique identifiers to households, not to individuals\n",
    "    - i.e. the same household is revisited seven times - regardless of which family or individual answers the door\n",
    "- longitudinal research on an individual level complicated, but not impossible"
   ]
  },
  {
   "cell_type": "markdown",
   "metadata": {
    "slideshow": {
     "slide_type": "subslide"
    }
   },
   "source": [
    "- linking items via matching making use of variables such as household identifier, line number within household and demographic characteristics (e.g. sex, age, race) <br>\n",
    "    - <i>Drew, J.A., Flood, S. and Warren, J.R. (2014) \"Making full use of the longitudinal design of the Current Population Survey:\n",
    "    Methods for linking records across 16 months\", Journal of Economic and Social Measurement, 39, pp. 121-144. <br> DOI 10.3233/JEM-140388</i>\n",
    "- accordingly prepared microdata available in the <b>Integrated Public Use Microdata Series (IPUMS-CPS)</b> <a href=\"https://cps.ipums.org/cps/\">LINK</a>"
   ]
  },
  {
   "cell_type": "markdown",
   "metadata": {
    "slideshow": {
     "slide_type": "slide"
    }
   },
   "source": [
    "## <span style=\"color:orange\">Homework</span>\n",
    "\n",
    "Visit https://cps.ipums.org/cps/ and create an account. Register with any valid e-mail adress, preferably your uni-mail adress. Select all the variables and samples potentially relevant to your project.\n",
    "Use the desciprtion of the variables to decide which to include in your extract. Try to minimise the number of variables in your extract.\n",
    "Submit your request. It may take some time for your extract to be prepared and ready for download. The download link will be provided to you via e-mail once the data is processed."
   ]
  },
  {
   "cell_type": "markdown",
   "metadata": {
    "slideshow": {
     "slide_type": "subslide"
    }
   },
   "source": [
    "\n",
    "Hint #1: If you already stumbled upon research papers dealing with questions similar to your project and working with CPS-data, you may include the author's choice of variables in your set as well.\n",
    "\n",
    "Hint #2: take your time. This task is not trivial. Your work depends on the data at hand. Carefully chosen variables suited for answering a particular question facilitate your research."
   ]
  },
  {
   "cell_type": "markdown",
   "metadata": {
    "slideshow": {
     "slide_type": "slide"
    }
   },
   "source": [
    "- We confine our analysis to the years from 2000 onwards\n",
    "- Choose your variables wisely: The number of variables inflates the size of the data set. E.g. 80 variables across monthly data between 2000 and 2019 constitute more than 7 gb of data\n",
    "- adding supplements you receive data sets as large as 50 gb and more"
   ]
  },
  {
   "cell_type": "markdown",
   "metadata": {
    "slideshow": {
     "slide_type": "subslide"
    }
   },
   "source": [
    "- the bigger your extract,\n",
    "    - the more time it takes the IPUMS server to process your request (from several hours to possibly several days)\n",
    "    - the more time it takes you to download it\n",
    "    - the more time and processing power is required to modify and analyse the data\n",
    "- Good practice: Select cases to reduce the size, drop redundant variables (e.g. recodes), do not include every supplement (since for most individuals in the monthly survey the values are blank anyway)\n"
   ]
  },
  {
   "cell_type": "markdown",
   "metadata": {
    "slideshow": {
     "slide_type": "slide"
    }
   },
   "source": [
    "## <span style=\"color:orange\">Homework</span>\n",
    "\n",
    "Validate the CPSID linkages following the hints in the description of the variable. (<a href=\"https://cps.ipums.org/cps-action/variables/cpsidp#description_section\">LINK</a> to description)\n",
    "\n",
    "It is recommended to verify the linkages by checking the consistency of the variables AGE, RACE and SEX.\n",
    "For a linkage to be valid, a CPSID should have a unique gender and race. Though age is not a static variable, it should be in a certain range for the survey lifetime of an individual, i.e. between $AGE_{i, t=1} = AGE_{i, t=0} + d$ with $d \\in [0, 2]$."
   ]
  },
  {
   "cell_type": "markdown",
   "metadata": {
    "slideshow": {
     "slide_type": "subslide"
    }
   },
   "source": [
    "Hint: This is not an easy task to do. You might come up with an own approach outside of Stata, you might be able to write proper code in Stata.\n",
    "Furthermore, you have to consider whether you want to check the linkages for two consecutive months only or if you want to check the whole survey lifetime of a participant."
   ]
  },
  {
   "cell_type": "markdown",
   "metadata": {
    "slideshow": {
     "slide_type": "slide"
    }
   },
   "source": [
    "Here is my approach for validating the linkages between two consecutive months:"
   ]
  },
  {
   "cell_type": "code",
   "execution_count": 29,
   "metadata": {
    "scrolled": false,
    "slideshow": {
     "slide_type": "slide"
    }
   },
   "outputs": [
    {
     "name": "stdout",
     "output_type": "stream",
     "text": [
      "\n",
      "C:\\Users\\Hannes\\Documents\n",
      "\n",
      "\n",
      "(1,773,756 missing values generated)\n",
      "\n",
      "(1,993,760 missing values generated)\n",
      "\n",
      "(1,993,760 missing values generated)\n",
      "\n",
      "(1,993,760 missing values generated)\n"
     ]
    }
   ],
   "source": [
    "* loading data\n",
    "cd \"C:\\Users\\Hannes\\Documents\"\n",
    "use \"session01.dta\", clear\n",
    "\n",
    "* Creating lead variables\n",
    "bysort cpsidp (year month mish): gen lead_mish = mish[_n+1]\n",
    "bysort cpsidp (year month mish): gen lead_age = age[_n+1] if lead_mish - mish == 1\n",
    "bysort cpsidp (year month mish): gen lead_race = race[_n+1] if lead_mish - mish == 1\n",
    "bysort cpsidp (year month mish): gen lead_sex = sex[_n+1] if lead_mish - mish == 1"
   ]
  },
  {
   "cell_type": "code",
   "execution_count": 30,
   "metadata": {
    "scrolled": true,
    "slideshow": {
     "slide_type": "subslide"
    }
   },
   "outputs": [
    {
     "name": "stdout",
     "output_type": "stream",
     "text": [
      "\n",
      "(1,773,756 missing values generated)\n",
      "\n",
      "(1,993,760 missing values generated)\n",
      "\n",
      "(1,993,760 missing values generated)\n",
      "\n",
      "(1,993,760 missing values generated)\n"
     ]
    }
   ],
   "source": [
    "* Creating lead variables\n",
    "bysort cpsidp (year month mish): gen lag_mish = mish[_n-1]\n",
    "bysort cpsidp (year month mish): gen lag_age = age[_n-1] if mish - lag_mish == 1\n",
    "bysort cpsidp (year month mish): gen lag_race = race[_n-1] if mish - lag_mish == 1\n",
    "bysort cpsidp (year month mish): gen lag_sex = sex[_n-1] if mish - lag_mish == 1"
   ]
  },
  {
   "cell_type": "code",
   "execution_count": 31,
   "metadata": {
    "scrolled": false,
    "slideshow": {
     "slide_type": "subslide"
    }
   },
   "outputs": [
    {
     "name": "stdout",
     "output_type": "stream",
     "text": [
      "\n",
      "(11,354,337 missing values generated)\n",
      "\n",
      "(9,277,986 real changes made)\n",
      "\n",
      "(11,354,337 missing values generated)\n",
      "\n",
      "(9,277,986 real changes made)\n"
     ]
    }
   ],
   "source": [
    "* validation\n",
    "gen linked_f = .m\n",
    "replace linked_f = 1 if lead_mish - mish == 1 & lead_race == race & lead_sex == sex & ((mish == 4 & lead_age - age >= 0 & lead_age - age <= 2) | (mish ~= 4 & lead_age - age >= 0 & lead_age - age <= 1))\n",
    "\n",
    "gen linked_b = .m\n",
    "replace linked_b = 1 if mish - lag_mish == 1 & race == lag_race & sex == lag_sex & ((mish == 5 & age - lag_age >= 0 & age - lag_age <= 2) | (mish ~= 5 & age - lag_age >= 0 & age - lag_age <= 1))"
   ]
  },
  {
   "cell_type": "code",
   "execution_count": 32,
   "metadata": {
    "scrolled": true,
    "slideshow": {
     "slide_type": "subslide"
    }
   },
   "outputs": [],
   "source": [
    "* flag for linked backwards and/or forwards\n",
    "gen linked = linked_f == 1 | linked_b == 1"
   ]
  },
  {
   "cell_type": "code",
   "execution_count": 33,
   "metadata": {
    "slideshow": {
     "slide_type": "subslide"
    }
   },
   "outputs": [
    {
     "name": "stdout",
     "output_type": "stream",
     "text": [
      "\n",
      "     linked |      Freq.     Percent        Cum.\n",
      "------------+-----------------------------------\n",
      "          0 |    197,314        1.74        1.74\n",
      "          1 | 11,157,023       98.26      100.00\n",
      "------------+-----------------------------------\n",
      "      Total | 11,354,337      100.00\n"
     ]
    }
   ],
   "source": [
    "tab linked"
   ]
  },
  {
   "cell_type": "markdown",
   "metadata": {
    "slideshow": {
     "slide_type": "slide"
    }
   },
   "source": [
    "What makes the linking invalid for those 197,5 k observations?"
   ]
  },
  {
   "cell_type": "code",
   "execution_count": 34,
   "metadata": {
    "scrolled": true,
    "slideshow": {
     "slide_type": "subslide"
    }
   },
   "outputs": [
    {
     "name": "stdout",
     "output_type": "stream",
     "text": [
      "\n",
      "(1,993,760 missing values generated)\n",
      "\n",
      "\n",
      "   age_diff |      Freq.     Percent        Cum.\n",
      "------------+-----------------------------------\n",
      "        -52 |          1        0.00        0.00\n",
      "        -51 |          2        0.01        0.01\n",
      "        -50 |          4        0.01        0.02\n",
      "        -49 |          2        0.01        0.03\n",
      "        -48 |          3        0.01        0.03\n",
      "        -47 |          4        0.01        0.05\n",
      "        -46 |          6        0.02        0.06\n",
      "        -45 |          9        0.03        0.09\n",
      "        -44 |         17        0.05        0.14\n",
      "        -43 |         12        0.03        0.17\n",
      "        -42 |         17        0.05        0.22\n",
      "        -41 |         20        0.06        0.27\n",
      "        -40 |         22        0.06        0.34\n",
      "        -39 |         30        0.09        0.42\n",
      "        -38 |         38        0.11        0.53\n",
      "        -37 |         28        0.08        0.61\n",
      "        -36 |         43        0.12        0.73\n",
      "        -35 |         49        0.14        0.87\n",
      "        -34 |         42        0.12        0.99\n",
      "        -33 |         53        0.15        1.14\n",
      "        -32 |         58        0.16        1.30\n",
      "        -31 |         63        0.18        1.48\n",
      "        -30 |         75        0.21        1.70\n",
      "        -29 |         78        0.22        1.92\n",
      "        -28 |         95        0.27        2.19\n",
      "        -27 |         93        0.26        2.45\n",
      "        -26 |        105        0.30        2.75\n",
      "        -25 |        103        0.29        3.04\n",
      "        -24 |        105        0.30        3.34\n",
      "        -23 |        132        0.37        3.71\n",
      "        -22 |        147        0.42        4.13\n",
      "        -21 |        160        0.45        4.58\n",
      "        -20 |        204        0.58        5.16\n",
      "        -19 |        189        0.54        5.69\n",
      "        -18 |        192        0.54        6.24\n",
      "        -17 |        203        0.58        6.81\n",
      "        -16 |        216        0.61        7.43\n",
      "        -15 |        241        0.68        8.11\n",
      "        -14 |        268        0.76        8.87\n",
      "        -13 |        308        0.87        9.74\n",
      "        -12 |        330        0.94       10.68\n",
      "        -11 |        354        1.00       11.68\n",
      "        -10 |        632        1.79       13.47\n",
      "         -9 |        518        1.47       14.94\n",
      "         -8 |        607        1.72       16.66\n",
      "         -7 |        665        1.89       18.55\n",
      "         -6 |        729        2.07       20.61\n",
      "         -5 |      1,339        3.80       24.41\n",
      "         -4 |      1,283        3.64       28.05\n",
      "         -3 |      1,812        5.14       33.18\n",
      "         -2 |      2,689        7.62       40.80\n",
      "         -1 |      6,466       18.33       59.13\n",
      "          3 |      2,292        6.50       65.63\n",
      "          4 |      1,598        4.53       70.16\n",
      "          5 |      1,762        4.99       75.15\n",
      "          6 |      1,012        2.87       78.02\n",
      "          7 |        876        2.48       80.51\n",
      "          8 |        688        1.95       82.46\n",
      "          9 |        625        1.77       84.23\n",
      "         10 |        788        2.23       86.46\n",
      "         11 |        482        1.37       87.83\n",
      "         12 |        340        0.96       88.79\n",
      "         13 |        321        0.91       89.70\n",
      "         14 |        316        0.90       90.60\n",
      "         15 |        297        0.84       91.44\n",
      "         16 |        227        0.64       92.08\n",
      "         17 |        208        0.59       92.67\n",
      "         18 |        224        0.63       93.31\n",
      "         19 |        217        0.62       93.92\n",
      "         20 |        221        0.63       94.55\n",
      "         21 |        171        0.48       95.03\n",
      "         22 |        175        0.50       95.53\n",
      "         23 |        139        0.39       95.92\n",
      "         24 |        144        0.41       96.33\n",
      "         25 |        114        0.32       96.66\n",
      "         26 |        127        0.36       97.02\n",
      "         27 |        117        0.33       97.35\n",
      "         28 |        106        0.30       97.65\n",
      "         29 |         99        0.28       97.93\n",
      "         30 |        102        0.29       98.22\n",
      "         31 |         89        0.25       98.47\n",
      "         32 |         72        0.20       98.67\n",
      "         33 |         66        0.19       98.86\n",
      "         34 |         60        0.17       99.03\n",
      "         35 |         49        0.14       99.17\n",
      "         36 |         46        0.13       99.30\n",
      "         37 |         49        0.14       99.44\n",
      "         38 |         29        0.08       99.52\n",
      "         39 |         22        0.06       99.58\n",
      "         40 |         29        0.08       99.67\n",
      "         41 |         28        0.08       99.74\n",
      "         42 |         33        0.09       99.84\n",
      "         43 |         13        0.04       99.88\n",
      "         44 |         15        0.04       99.92\n",
      "         45 |          8        0.02       99.94\n",
      "         46 |          8        0.02       99.96\n",
      "         47 |          4        0.01       99.97\n",
      "         48 |          3        0.01       99.98\n",
      "         49 |          1        0.00       99.99\n",
      "         50 |          4        0.01      100.00\n",
      "         51 |          1        0.00      100.00\n",
      "------------+-----------------------------------\n",
      "      Total |     35,278      100.00\n"
     ]
    }
   ],
   "source": [
    "gen age_diff = lead_age - age\n",
    "tab age_diff if linked == 0 & !inrange(age_diff, 0, 2)"
   ]
  },
  {
   "cell_type": "code",
   "execution_count": 35,
   "metadata": {
    "scrolled": true,
    "slideshow": {
     "slide_type": "subslide"
    }
   },
   "outputs": [
    {
     "name": "stdout",
     "output_type": "stream",
     "text": [
      "\n",
      "\n",
      "\n",
      "           |       lead_sex\n",
      "       sex |         1          2 |     Total\n",
      "-----------+----------------------+----------\n",
      "   1. male |         0      1,059 |     1,059 \n",
      " 2. female |     1,328          0 |     1,328 \n",
      "-----------+----------------------+----------\n",
      "     Total |     1,328      1,059 |     2,387 \n"
     ]
    }
   ],
   "source": [
    "numlabel, add\n",
    "tab sex lead_sex if linked == 0 & sex ~= lead_sex"
   ]
  },
  {
   "cell_type": "code",
   "execution_count": 36,
   "metadata": {
    "scrolled": false,
    "slideshow": {
     "slide_type": "subslide"
    }
   },
   "outputs": [
    {
     "name": "stdout",
     "output_type": "stream",
     "text": [
      "\n",
      "                      |                  lead_race\n",
      "                 race |       100        200        300        650 |     Total\n",
      "----------------------+--------------------------------------------+----------\n",
      "           100. white |         0        688        132         47 |     1,573 \n",
      "     200. black/negro |       643          0         17          8 |       789 \n",
      "300. american indian/ |       151         22          0          0 |       226 \n",
      "650. asian or pacific |        82          9          1          0 |       476 \n",
      "      651. asian only |       355         63          8          0 |       471 \n",
      "652. hawaiian/pacific |        43         11          2          0 |        91 \n",
      "     801. white-black |        45         22          2          0 |        79 \n",
      "802. white-american i |        59          4          4          0 |        74 \n",
      "     803. white-asian |        16          0          0          0 |        24 \n",
      "804. white-hawaiian/p |         2          1          0          0 |         7 \n",
      "805. black-american i |         4          1          0          0 |         8 \n",
      "     806. black-asian |         0          1          0          0 |         9 \n",
      "808. american indian- |         0          0          0          0 |         1 \n",
      "809. asian-hawaiian/p |         2          0          0          0 |         8 \n",
      "810. white-black-amer |         1          0          0          0 |         3 \n",
      "811. white-black-asia |         0          0          0          0 |         1 \n",
      "812. white-american i |         1          0          0          0 |         1 \n",
      "813. white-asian-hawa |         1          0          0          0 |         3 \n",
      "816. white-black--haw |         0          0          0          0 |         1 \n",
      "820. two or three rac |         0          0          0          0 |         9 \n",
      "----------------------+--------------------------------------------+----------\n",
      "                Total |     1,405        822        166         55 |     3,854 \n",
      "\n",
      "\n",
      "                      |                  lead_race\n",
      "                 race |       651        652        801        802 |     Total\n",
      "----------------------+--------------------------------------------+----------\n",
      "           100. white |       371         52         84        136 |     1,573 \n",
      "     200. black/negro |        64          4         25          3 |       789 \n",
      "300. american indian/ |        13          0          1         35 |       226 \n",
      "650. asian or pacific |       336         27          0          1 |       476 \n",
      "      651. asian only |         0         16          5          0 |       471 \n",
      "652. hawaiian/pacific |        31          0          0          0 |        91 \n",
      "     801. white-black |         2          0          0          4 |        79 \n",
      "802. white-american i |         5          0          2          0 |        74 \n",
      "     803. white-asian |         5          1          0          1 |        24 \n",
      "804. white-hawaiian/p |         2          0          0          0 |         7 \n",
      "805. black-american i |         1          0          1          0 |         8 \n",
      "     806. black-asian |         8          0          0          0 |         9 \n",
      "808. american indian- |         1          0          0          0 |         1 \n",
      "809. asian-hawaiian/p |         4          0          0          0 |         8 \n",
      "810. white-black-amer |         0          0          2          0 |         3 \n",
      "811. white-black-asia |         0          0          1          0 |         1 \n",
      "812. white-american i |         0          0          0          0 |         1 \n",
      "813. white-asian-hawa |         0          1          0          0 |         3 \n",
      "816. white-black--haw |         0          0          0          0 |         1 \n",
      "820. two or three rac |         0          0          0          0 |         9 \n",
      "----------------------+--------------------------------------------+----------\n",
      "                Total |       843        101        121        180 |     3,854 \n",
      "\n",
      "\n",
      "                      |                  lead_race\n",
      "                 race |       803        804        805        806 |     Total\n",
      "----------------------+--------------------------------------------+----------\n",
      "           100. white |        37          8          5          1 |     1,573 \n",
      "     200. black/negro |         4          0         14          0 |       789 \n",
      "300. american indian/ |         0          0          2          0 |       226 \n",
      "650. asian or pacific |         7          5          0          0 |       476 \n",
      "      651. asian only |        16          0          1          1 |       471 \n",
      "652. hawaiian/pacific |         0          3          0          0 |        91 \n",
      "     801. white-black |         2          0          0          0 |        79 \n",
      "802. white-american i |         0          0          0          0 |        74 \n",
      "     803. white-asian |         0          0          0          0 |        24 \n",
      "804. white-hawaiian/p |         0          0          0          0 |         7 \n",
      "805. black-american i |         0          0          0          0 |         8 \n",
      "     806. black-asian |         0          0          0          0 |         9 \n",
      "808. american indian- |         0          0          0          0 |         1 \n",
      "809. asian-hawaiian/p |         0          0          0          0 |         8 \n",
      "810. white-black-amer |         0          0          0          0 |         3 \n",
      "811. white-black-asia |         0          0          0          0 |         1 \n",
      "812. white-american i |         0          0          0          0 |         1 \n",
      "813. white-asian-hawa |         0          1          0          0 |         3 \n",
      "816. white-black--haw |         0          0          0          0 |         1 \n",
      "820. two or three rac |         0          0          0          0 |         9 \n",
      "----------------------+--------------------------------------------+----------\n",
      "                Total |        66         17         22          2 |     3,854 \n",
      "\n",
      "\n",
      "                      |                  lead_race\n",
      "                 race |       807        808        809        810 |     Total\n",
      "----------------------+--------------------------------------------+----------\n",
      "           100. white |         0          2          3          1 |     1,573 \n",
      "     200. black/negro |         2          0          0          2 |       789 \n",
      "300. american indian/ |         0          1          0          0 |       226 \n",
      "650. asian or pacific |         0          0          4          0 |       476 \n",
      "      651. asian only |         0          0          4          1 |       471 \n",
      "652. hawaiian/pacific |         0          0          1          0 |        91 \n",
      "     801. white-black |         0          0          0          1 |        79 \n",
      "802. white-american i |         0          0          0          0 |        74 \n",
      "     803. white-asian |         0          0          0          0 |        24 \n",
      "804. white-hawaiian/p |         0          0          0          0 |         7 \n",
      "805. black-american i |         0          0          0          1 |         8 \n",
      "     806. black-asian |         0          0          0          0 |         9 \n",
      "808. american indian- |         0          0          0          0 |         1 \n",
      "809. asian-hawaiian/p |         0          0          0          0 |         8 \n",
      "810. white-black-amer |         0          0          0          0 |         3 \n",
      "811. white-black-asia |         0          0          0          0 |         1 \n",
      "812. white-american i |         0          0          0          0 |         1 \n",
      "813. white-asian-hawa |         0          0          0          0 |         3 \n",
      "816. white-black--haw |         1          0          0          0 |         1 \n",
      "820. two or three rac |         0          0          1          0 |         9 \n",
      "----------------------+--------------------------------------------+----------\n",
      "                Total |         3          3         13          6 |     3,854 \n",
      "\n",
      "\n",
      "                      |                  lead_race\n",
      "                 race |       811        812        813        815 |     Total\n",
      "----------------------+--------------------------------------------+----------\n",
      "           100. white |         3          0          2          0 |     1,573 \n",
      "     200. black/negro |         1          1          0          0 |       789 \n"
     ]
    },
    {
     "name": "stdout",
     "output_type": "stream",
     "text": [
      "300. american indian/ |         0          0          0          1 |       226 \n",
      "650. asian or pacific |         0          1          1          0 |       476 \n",
      "      651. asian only |         0          0          1          0 |       471 \n",
      "652. hawaiian/pacific |         0          0          0          0 |        91 \n",
      "     801. white-black |         0          0          1          0 |        79 \n",
      "802. white-american i |         0          0          0          0 |        74 \n",
      "     803. white-asian |         0          1          0          0 |        24 \n",
      "804. white-hawaiian/p |         0          0          2          0 |         7 \n",
      "805. black-american i |         0          0          0          0 |         8 \n",
      "     806. black-asian |         0          0          0          0 |         9 \n",
      "808. american indian- |         0          0          0          0 |         1 \n",
      "809. asian-hawaiian/p |         0          0          2          0 |         8 \n",
      "810. white-black-amer |         0          0          0          0 |         3 \n",
      "811. white-black-asia |         0          0          0          0 |         1 \n",
      "812. white-american i |         0          0          0          0 |         1 \n",
      "813. white-asian-hawa |         0          0          0          0 |         3 \n",
      "816. white-black--haw |         0          0          0          0 |         1 \n",
      "820. two or three rac |         0          0          8          0 |         9 \n",
      "----------------------+--------------------------------------------+----------\n",
      "                Total |         4          3         17          1 |     3,854 \n",
      "\n",
      "\n",
      "                      |       lead_race\n",
      "                 race |       820        830 |     Total\n",
      "----------------------+----------------------+----------\n",
      "           100. white |         1          0 |     1,573 \n",
      "     200. black/negro |         0          1 |       789 \n",
      "300. american indian/ |         0          0 |       226 \n",
      "650. asian or pacific |         2          0 |       476 \n",
      "      651. asian only |         0          0 |       471 \n",
      "652. hawaiian/pacific |         0          0 |        91 \n",
      "     801. white-black |         0          0 |        79 \n",
      "802. white-american i |         0          0 |        74 \n",
      "     803. white-asian |         0          0 |        24 \n",
      "804. white-hawaiian/p |         0          0 |         7 \n",
      "805. black-american i |         0          0 |         8 \n",
      "     806. black-asian |         0          0 |         9 \n",
      "808. american indian- |         0          0 |         1 \n",
      "809. asian-hawaiian/p |         0          0 |         8 \n",
      "810. white-black-amer |         0          0 |         3 \n",
      "811. white-black-asia |         0          0 |         1 \n",
      "812. white-american i |         0          0 |         1 \n",
      "813. white-asian-hawa |         0          0 |         3 \n",
      "816. white-black--haw |         0          0 |         1 \n",
      "820. two or three rac |         0          0 |         9 \n",
      "----------------------+----------------------+----------\n",
      "                Total |         3          1 |     3,854 \n"
     ]
    }
   ],
   "source": [
    "tab race lead_race if linked == 0 & race ~= lead_race"
   ]
  },
  {
   "cell_type": "code",
   "execution_count": 37,
   "metadata": {
    "scrolled": true,
    "slideshow": {
     "slide_type": "subslide"
    }
   },
   "outputs": [
    {
     "name": "stdout",
     "output_type": "stream",
     "text": [
      "\n",
      "\n",
      "\n",
      "    maxmish |      Freq.     Percent        Cum.\n",
      "------------+-----------------------------------\n",
      "          1 |      8,880        0.08        0.08\n",
      "          2 |     28,653        0.25        0.33\n",
      "          3 |     62,278        0.55        0.88\n",
      "          4 |    700,541        6.17        7.05\n",
      "          5 |    123,755        1.09        8.14\n",
      "          6 |    170,636        1.50        9.64\n",
      "          7 |    302,570        2.66       12.31\n",
      "          8 |  9,957,024       87.69      100.00\n",
      "------------+-----------------------------------\n",
      "      Total | 11,354,337      100.00\n"
     ]
    }
   ],
   "source": [
    "by cpsidp: egen maxmish = max(mish)\n",
    "tab maxmish"
   ]
  },
  {
   "cell_type": "code",
   "execution_count": 38,
   "metadata": {
    "scrolled": true,
    "slideshow": {
     "slide_type": "subslide"
    }
   },
   "outputs": [
    {
     "name": "stdout",
     "output_type": "stream",
     "text": [
      "\n",
      "\n",
      "\n",
      "\n",
      "\n",
      "        obs |      Freq.     Percent        Cum.\n",
      "------------+-----------------------------------\n",
      "          1 |     19,057      100.00      100.00\n",
      "------------+-----------------------------------\n",
      "      Total |     19,057      100.00\n"
     ]
    }
   ],
   "source": [
    "egen tag_help = tag(cpsidp month year)\n",
    "egen obs = total(tag_help), by(cpsidp)\n",
    "drop tag_help\n",
    "\n",
    "tab obs if obs == 1 & obs ~= maxmish\n"
   ]
  },
  {
   "cell_type": "code",
   "execution_count": 40,
   "metadata": {
    "slideshow": {
     "slide_type": "subslide"
    }
   },
   "outputs": [
    {
     "name": "stdout",
     "output_type": "stream",
     "text": [
      "\n",
      "(1,773,756 missing values generated)\n",
      "\n",
      "\n",
      " mish_delta |      Freq.     Percent        Cum.\n",
      "------------+-----------------------------------\n",
      "          2 |     44,397       71.52       71.52\n",
      "          3 |      9,370       15.09       86.61\n",
      "          4 |      6,290       10.13       96.74\n",
      "          5 |      1,237        1.99       98.74\n",
      "          6 |        517        0.83       99.57\n",
      "          7 |        267        0.43      100.00\n",
      "------------+-----------------------------------\n",
      "      Total |     62,078      100.00\n"
     ]
    }
   ],
   "source": [
    "gen mish_delta = lead_mish - mish\n",
    "tab mish_delta if mish_delta ~= 1 & linked == 0"
   ]
  },
  {
   "cell_type": "markdown",
   "metadata": {
    "slideshow": {
     "slide_type": "subslide"
    }
   },
   "source": [
    "So why do we make such an effort looking at invalid linkages?\n",
    "\n",
    "Because you ought to know the data you are about to dismiss as well as the data you would like to workt with.\n",
    "Checking you data for sanity might reduce the risk of measurement errors (wrong observations).\n",
    "Apparently the concept of CPSIDP is not as trustworthy as one would have thought beforehand."
   ]
  },
  {
   "cell_type": "markdown",
   "metadata": {
    "slideshow": {
     "slide_type": "subslide"
    }
   },
   "source": [
    "<center>Now that we have our data set, we can start working with it.</center>"
   ]
  },
  {
   "cell_type": "markdown",
   "metadata": {
    "slideshow": {
     "slide_type": "slide"
    }
   },
   "source": [
    "# Insight & descriptive statistics (Task 1)"
   ]
  },
  {
   "cell_type": "markdown",
   "metadata": {
    "slideshow": {
     "slide_type": "slide"
    }
   },
   "source": [
    "### How many unique respondents are introduced into the panel each year? "
   ]
  },
  {
   "cell_type": "code",
   "execution_count": 41,
   "metadata": {
    "slideshow": {
     "slide_type": "subslide"
    }
   },
   "outputs": [
    {
     "name": "stdout",
     "output_type": "stream",
     "text": [
      "\n",
      "\n",
      "\n",
      "\n",
      "\n",
      "-----------------------\n",
      "survey    |\n",
      "year      | num_entries\n",
      "----------+------------\n",
      "     2000 |      118318\n",
      "     2001 |       90452\n",
      "     2002 |       88235\n",
      "     2003 |       85354\n",
      "     2004 |       85452\n",
      "     2005 |       88015\n",
      "     2006 |       85214\n",
      "     2007 |       84712\n",
      "     2008 |       83922\n",
      "     2009 |       85156\n",
      "     2010 |       84026\n",
      "     2011 |       82859\n",
      "     2012 |       82899\n",
      "     2013 |       80171\n",
      "     2014 |       82359\n",
      "     2015 |       83782\n",
      "     2016 |       80282\n",
      "     2017 |       77176\n",
      "     2018 |       74552\n",
      "     2019 |       70910\n",
      "     2020 |       53685\n",
      "     2021 |       26225\n",
      "-----------------------\n"
     ]
    }
   ],
   "source": [
    "* count unique new individuals by year\n",
    "sort year month\n",
    "egen tag_help = tag(cpsidp)\n",
    "egen num_entries = total(tag_help), by(year)\n",
    "tabdisp year, c(num_entries)"
   ]
  },
  {
   "cell_type": "markdown",
   "metadata": {
    "slideshow": {
     "slide_type": "slide"
    }
   },
   "source": [
    "### What is the average yearly share of female respondents overall? How does the average annual share evolve from 2000-2020?"
   ]
  },
  {
   "cell_type": "code",
   "execution_count": 42,
   "metadata": {
    "scrolled": false,
    "slideshow": {
     "slide_type": "subslide"
    }
   },
   "outputs": [
    {
     "name": "stdout",
     "output_type": "stream",
     "text": [
      "\n",
      "\n",
      "    Variable |        Obs        Mean    Std. Dev.       Min        Max\n",
      "-------------+---------------------------------------------------------\n",
      "         sex | 11,354,337    1.514263    .4997965          1          2\n",
      "\n",
      "(11,354,337 real changes made)\n",
      "\n",
      "\n",
      "\n",
      "\n",
      "Mean estimation                   Number of obs   = 11,354,337\n",
      "\n",
      "--------------------------------------------------------------\n",
      "             |       Mean   Std. Err.     [95% Conf. Interval]\n",
      "-------------+------------------------------------------------\n",
      "         sex |   .5142631   .0001483      .5139724    .5145539\n",
      "--------------------------------------------------------------\n",
      "\n",
      "\n",
      "\n",
      "----------------------\n",
      "survey    |\n",
      "year      |   max(fem)\n",
      "----------+-----------\n",
      "     2000 |   .5150207\n",
      "     2001 |    .515788\n",
      "     2002 |   .5150558\n",
      "     2003 |    .515885\n",
      "     2004 |   .5148885\n",
      "     2005 |   .5155335\n",
      "     2006 |   .5166667\n",
      "     2007 |   .5157396\n",
      "     2008 |   .5139523\n",
      "     2009 |   .5114723\n",
      "     2010 |   .5131696\n",
      "     2011 |    .515455\n",
      "     2012 |   .5148475\n",
      "     2013 |   .5144394\n",
      "     2014 |   .5130008\n",
      "     2015 |   .5133336\n",
      "     2016 |   .5131161\n",
      "     2017 |   .5143098\n",
      "     2018 |   .5136473\n",
      "     2019 |   .5123831\n",
      "     2020 |   .5126786\n",
      "     2021 |   .5099174\n",
      "----------------------\n",
      "\n",
      "\n",
      "+----------------+\n",
      "| Key            |\n",
      "|----------------|\n",
      "|   frequency    |\n",
      "| row percentage |\n",
      "+----------------+\n",
      "\n",
      "    survey |          sex\n",
      "      year |      male     female |     Total\n",
      "-----------+----------------------+----------\n",
      "      2000 |   195,532    207,644 |   403,176 \n",
      "           |     48.50      51.50 |    100.00 \n",
      "-----------+----------------------+----------\n",
      "      2001 |   257,579    274,376 |   531,955 \n",
      "           |     48.42      51.58 |    100.00 \n",
      "-----------+----------------------+----------\n",
      "      2002 |   281,561    299,044 |   580,605 \n",
      "           |     48.49      51.51 |    100.00 \n",
      "-----------+----------------------+----------\n",
      "      2003 |   281,372    299,837 |   581,209 \n",
      "           |     48.41      51.59 |    100.00 \n",
      "-----------+----------------------+----------\n",
      "      2004 |   273,908    290,721 |   564,629 \n",
      "           |     48.51      51.49 |    100.00 \n",
      "-----------+----------------------+----------\n",
      "      2005 |   271,854    289,287 |   561,141 \n",
      "           |     48.45      51.55 |    100.00 \n",
      "-----------+----------------------+----------\n",
      "      2006 |   272,846    291,663 |   564,509 \n",
      "           |     48.33      51.67 |    100.00 \n",
      "-----------+----------------------+----------\n",
      "      2007 |   271,411    289,054 |   560,465 \n",
      "           |     48.43      51.57 |    100.00 \n",
      "-----------+----------------------+----------\n",
      "      2008 |   272,943    288,613 |   561,556 \n",
      "           |     48.60      51.40 |    100.00 \n",
      "-----------+----------------------+----------\n",
      "      2009 |   276,748    289,746 |   566,494 \n",
      "           |     48.85      51.15 |    100.00 \n",
      "-----------+----------------------+----------\n",
      "      2010 |   275,194    290,083 |   565,277 \n",
      "           |     48.68      51.32 |    100.00 \n",
      "-----------+----------------------+----------\n",
      "      2011 |   269,893    287,110 |   557,003 \n",
      "           |     48.45      51.55 |    100.00 \n",
      "-----------+----------------------+----------\n",
      "      2012 |   268,463    284,895 |   553,358 \n",
      "           |     48.52      51.48 |    100.00 \n",
      "-----------+----------------------+----------\n",
      "      2013 |   264,413    280,139 |   544,552 \n",
      "           |     48.56      51.44 |    100.00 \n",
      "-----------+----------------------+----------\n",
      "      2014 |   258,617    272,425 |   531,042 \n",
      "           |     48.70      51.30 |    100.00 \n",
      "-----------+----------------------+----------\n",
      "      2015 |   253,397    267,282 |   520,679 \n",
      "           |     48.67      51.33 |    100.00 \n",
      "-----------+----------------------+----------\n",
      "      2016 |   254,819    268,548 |   523,367 \n",
      "           |     48.69      51.31 |    100.00 \n",
      "-----------+----------------------+----------\n",
      "      2017 |   249,060    263,736 |   512,796 \n",
      "           |     48.57      51.43 |    100.00 \n",
      "-----------+----------------------+----------\n",
      "      2018 |   239,464    252,903 |   492,367 \n",
      "           |     48.64      51.36 |    100.00 \n",
      "-----------+----------------------+----------\n",
      "      2019 |   229,355    241,004 |   470,359 \n",
      "           |     48.76      51.24 |    100.00 \n",
      "-----------+----------------------+----------\n",
      "      2020 |   190,645    200,565 |   391,210 \n",
      "           |     48.73      51.27 |    100.00 \n",
      "-----------+----------------------+----------\n",
      "      2021 |   106,146    110,442 |   216,588 \n",
      "           |     49.01      50.99 |    100.00 \n",
      "-----------+----------------------+----------\n",
      "     Total | 5,515,220  5,839,117 |11,354,337 \n",
      "           |     48.57      51.43 |    100.00 \n"
     ]
    }
   ],
   "source": [
    "* share of female responses\n",
    "\n",
    "tab sex\n",
    "replace sex = sex - 1\n",
    "label define sex 0 \"male\" 1 \"female\"\n",
    "label value sex sex\n",
    "\n",
    "* share overall\n",
    "mean sex\n",
    "\n",
    "* or simply \n",
    "tab sex\n",
    "\n",
    "* share per year\n",
    "bysort year: egen fem = mean(sex)\n",
    "table year, content(max fem)\n",
    "* or \n",
    "tab year sex, row"
   ]
  },
  {
   "cell_type": "markdown",
   "metadata": {},
   "source": [
    "If you trying to calculate the share of a variable, yet it is not binary coded, you can try different approaches.\n",
    "\n",
    "tab gives you pretty much everything you want:\n",
    "\n",
    ">tab year sex, row\n",
    "\n",
    "If you want to store the share as a ne variable, you have to come up with something different.\n",
    "\n",
    "Let us generate a variable for the share of unique female respondents:"
   ]
  },
  {
   "cell_type": "code",
   "execution_count": 45,
   "metadata": {
    "scrolled": true
   },
   "outputs": [],
   "source": [
    "egen fem_counter = tag(year cpsidp) if sex == 1\n",
    "egen fem_total = total(fem_counter), by(year)\n",
    "egen both_counter = tag(year cpsidp)\n",
    "egen respondents_total = total(both_counter), by(year)\n",
    "gen fem_share = fem_total / respondents_total"
   ]
  },
  {
   "cell_type": "code",
   "execution_count": 47,
   "metadata": {},
   "outputs": [
    {
     "name": "stdout",
     "output_type": "stream",
     "text": [
      "file workfile01.dta saved\n"
     ]
    }
   ],
   "source": [
    "save \"workfile01.dta\", replace"
   ]
  },
  {
   "cell_type": "code",
   "execution_count": 48,
   "metadata": {},
   "outputs": [
    {
     "data": {
      "application/pdf": "[encoded data removed]",
      "image/svg+xml": [
       "<?xml version=\"1.0\" encoding=\"UTF-8\" standalone=\"no\"?>\n",
       "<!-- This is a Stata 16.1 generated SVG file (http://www.stata.com) -->\n",
       "\n",
       "<svg version=\"1.1\" width=\"600px\" height=\"436px\" viewBox=\"0 0 3960 2880\" xmlns=\"http://www.w3.org/2000/svg\" xmlns:xlink=\"http://www.w3.org/1999/xlink\">\n",
       "\t<desc>Stata Graph - Graph</desc>\n",
       "\t<rect x=\"0\" y=\"0\" width=\"3960\" height=\"2880\" style=\"fill:#EAF2F3;stroke:none\"/>\n",
       "\t<rect x=\"0.00\" y=\"0.00\" width=\"3959.88\" height=\"2880.00\" style=\"fill:#EAF2F3\"/>\n",
       "\t<rect x=\"2.88\" y=\"2.88\" width=\"3954.12\" height=\"2874.24\" style=\"fill:none;stroke:#EAF2F3;stroke-width:5.76\"/>\n",
       "\t<rect x=\"390.80\" y=\"275.35\" width=\"3468.22\" height=\"2213.83\" style=\"fill:#FFFFFF\"/>\n",
       "\t<rect x=\"393.68\" y=\"278.23\" width=\"3462.46\" height=\"2208.07\" style=\"fill:none;stroke:#FFFFFF;stroke-width:5.76\"/>\n",
       "\t<line x1=\"390.80\" y1=\"2425.82\" x2=\"3859.02\" y2=\"2425.82\" style=\"stroke:#EAF2F3;stroke-width:8.64\"/>\n",
       "\t<line x1=\"390.80\" y1=\"2217.17\" x2=\"3859.02\" y2=\"2217.17\" style=\"stroke:#EAF2F3;stroke-width:8.64\"/>\n",
       "\t<line x1=\"390.80\" y1=\"2008.40\" x2=\"3859.02\" y2=\"2008.40\" style=\"stroke:#EAF2F3;stroke-width:8.64\"/>\n",
       "\t<line x1=\"390.80\" y1=\"1799.75\" x2=\"3859.02\" y2=\"1799.75\" style=\"stroke:#EAF2F3;stroke-width:8.64\"/>\n",
       "\t<line x1=\"390.80\" y1=\"1590.98\" x2=\"3859.02\" y2=\"1590.98\" style=\"stroke:#EAF2F3;stroke-width:8.64\"/>\n",
       "\t<line x1=\"390.80\" y1=\"1382.33\" x2=\"3859.02\" y2=\"1382.33\" style=\"stroke:#EAF2F3;stroke-width:8.64\"/>\n",
       "\t<line x1=\"390.80\" y1=\"1173.56\" x2=\"3859.02\" y2=\"1173.56\" style=\"stroke:#EAF2F3;stroke-width:8.64\"/>\n",
       "\t<line x1=\"390.80\" y1=\"964.91\" x2=\"3859.02\" y2=\"964.91\" style=\"stroke:#EAF2F3;stroke-width:8.64\"/>\n",
       "\t<line x1=\"390.80\" y1=\"756.14\" x2=\"3859.02\" y2=\"756.14\" style=\"stroke:#EAF2F3;stroke-width:8.64\"/>\n",
       "\t<line x1=\"390.80\" y1=\"547.49\" x2=\"3859.02\" y2=\"547.49\" style=\"stroke:#EAF2F3;stroke-width:8.64\"/>\n",
       "\t<line x1=\"390.80\" y1=\"338.71\" x2=\"3859.02\" y2=\"338.71\" style=\"stroke:#EAF2F3;stroke-width:8.64\"/>\n",
       "\t<path d=\" M454.04 1350.15 L613.18 1347.93 L772.32 1349.41 L931.47 1346.94 L1090.61 1349.91 L1249.75 1348.17 L1408.77 1346.19 L1567.91 1347.80 L1727.06 1350.77 L1886.20 1355.48 L2045.34 1351.64 L2204.48 1348.42 L2363.50 1348.67 L2522.64 1350.15 L2681.79 1352.88 L2840.93 1351.02 L3000.07 1352.13 L3159.21 1349.91 L3318.23 1350.90 L3477.38 1354.49 L3636.52 1352.75 L3795.66 1359.56\" stroke-linejoin=\"round\" style=\"fill:none;stroke:#1A476F;stroke-width:8.64\"/>\n",
       "\t<line x1=\"390.80\" y1=\"2489.19\" x2=\"390.80\" y2=\"275.35\" style=\"stroke:#000000;stroke-width:5.76\"/>\n",
       "\t<line x1=\"390.80\" y1=\"2425.82\" x2=\"350.83\" y2=\"2425.82\" style=\"stroke:#000000;stroke-width:5.76\"/>\n",
       "\t<text x=\"300.72\" y=\"2425.82\" style=\"font-family:'Helvetica';font-size:99.99px;fill:#000000\" transform=\"rotate(-90 300.72,2425.82)\" text-anchor=\"middle\">0</text>\n",
       "\t<line x1=\"390.80\" y1=\"2217.17\" x2=\"350.83\" y2=\"2217.17\" style=\"stroke:#000000;stroke-width:5.76\"/>\n",
       "\t<text x=\"300.72\" y=\"2217.17\" style=\"font-family:'Helvetica';font-size:99.99px;fill:#000000\" transform=\"rotate(-90 300.72,2217.17)\" text-anchor=\"middle\">.1</text>\n",
       "\t<line x1=\"390.80\" y1=\"2008.40\" x2=\"350.83\" y2=\"2008.40\" style=\"stroke:#000000;stroke-width:5.76\"/>\n",
       "\t<text x=\"300.72\" y=\"2008.40\" style=\"font-family:'Helvetica';font-size:99.99px;fill:#000000\" transform=\"rotate(-90 300.72,2008.40)\" text-anchor=\"middle\">.2</text>\n",
       "\t<line x1=\"390.80\" y1=\"1799.75\" x2=\"350.83\" y2=\"1799.75\" style=\"stroke:#000000;stroke-width:5.76\"/>\n",
       "\t<text x=\"300.72\" y=\"1799.75\" style=\"font-family:'Helvetica';font-size:99.99px;fill:#000000\" transform=\"rotate(-90 300.72,1799.75)\" text-anchor=\"middle\">.3</text>\n",
       "\t<line x1=\"390.80\" y1=\"1590.98\" x2=\"350.83\" y2=\"1590.98\" style=\"stroke:#000000;stroke-width:5.76\"/>\n",
       "\t<text x=\"300.72\" y=\"1590.98\" style=\"font-family:'Helvetica';font-size:99.99px;fill:#000000\" transform=\"rotate(-90 300.72,1590.98)\" text-anchor=\"middle\">.4</text>\n",
       "\t<line x1=\"390.80\" y1=\"1382.33\" x2=\"350.83\" y2=\"1382.33\" style=\"stroke:#000000;stroke-width:5.76\"/>\n",
       "\t<text x=\"300.72\" y=\"1382.33\" style=\"font-family:'Helvetica';font-size:99.99px;fill:#000000\" transform=\"rotate(-90 300.72,1382.33)\" text-anchor=\"middle\">.5</text>\n",
       "\t<line x1=\"390.80\" y1=\"1173.56\" x2=\"350.83\" y2=\"1173.56\" style=\"stroke:#000000;stroke-width:5.76\"/>\n",
       "\t<text x=\"300.72\" y=\"1173.56\" style=\"font-family:'Helvetica';font-size:99.99px;fill:#000000\" transform=\"rotate(-90 300.72,1173.56)\" text-anchor=\"middle\">.6</text>\n",
       "\t<line x1=\"390.80\" y1=\"964.91\" x2=\"350.83\" y2=\"964.91\" style=\"stroke:#000000;stroke-width:5.76\"/>\n",
       "\t<text x=\"300.72\" y=\"964.91\" style=\"font-family:'Helvetica';font-size:99.99px;fill:#000000\" transform=\"rotate(-90 300.72,964.91)\" text-anchor=\"middle\">.7</text>\n",
       "\t<line x1=\"390.80\" y1=\"756.14\" x2=\"350.83\" y2=\"756.14\" style=\"stroke:#000000;stroke-width:5.76\"/>\n",
       "\t<text x=\"300.72\" y=\"756.14\" style=\"font-family:'Helvetica';font-size:99.99px;fill:#000000\" transform=\"rotate(-90 300.72,756.14)\" text-anchor=\"middle\">.8</text>\n",
       "\t<line x1=\"390.80\" y1=\"547.49\" x2=\"350.83\" y2=\"547.49\" style=\"stroke:#000000;stroke-width:5.76\"/>\n",
       "\t<text x=\"300.72\" y=\"547.49\" style=\"font-family:'Helvetica';font-size:99.99px;fill:#000000\" transform=\"rotate(-90 300.72,547.49)\" text-anchor=\"middle\">.9</text>\n",
       "\t<line x1=\"390.80\" y1=\"338.71\" x2=\"350.83\" y2=\"338.71\" style=\"stroke:#000000;stroke-width:5.76\"/>\n",
       "\t<text x=\"300.72\" y=\"338.71\" style=\"font-family:'Helvetica';font-size:99.99px;fill:#000000\" transform=\"rotate(-90 300.72,338.71)\" text-anchor=\"middle\">1</text>\n",
       "\t<text x=\"190.71\" y=\"1382.33\" style=\"font-family:'Helvetica';font-size:99.99px;fill:#000000\" transform=\"rotate(-90 190.71,1382.33)\" text-anchor=\"middle\">share</text>\n",
       "\t<line x1=\"390.80\" y1=\"2489.19\" x2=\"3859.02\" y2=\"2489.19\" style=\"stroke:#000000;stroke-width:5.76\"/>\n",
       "\t<line x1=\"454.16\" y1=\"2489.19\" x2=\"454.16\" y2=\"2529.16\" style=\"stroke:#000000;stroke-width:5.76\"/>\n",
       "\t<text x=\"454.16\" y=\"2619.14\" style=\"font-family:'Helvetica';font-size:99.99px;fill:#000000\" text-anchor=\"middle\">2000</text>\n",
       "\t<line x1=\"1249.75\" y1=\"2489.19\" x2=\"1249.75\" y2=\"2529.16\" style=\"stroke:#000000;stroke-width:5.76\"/>\n",
       "\t<text x=\"1249.75\" y=\"2619.14\" style=\"font-family:'Helvetica';font-size:99.99px;fill:#000000\" text-anchor=\"middle\">2005</text>\n",
       "\t<line x1=\"2045.34\" y1=\"2489.19\" x2=\"2045.34\" y2=\"2529.16\" style=\"stroke:#000000;stroke-width:5.76\"/>\n",
       "\t<text x=\"2045.34\" y=\"2619.14\" style=\"font-family:'Helvetica';font-size:99.99px;fill:#000000\" text-anchor=\"middle\">2010</text>\n",
       "\t<line x1=\"2840.93\" y1=\"2489.19\" x2=\"2840.93\" y2=\"2529.16\" style=\"stroke:#000000;stroke-width:5.76\"/>\n",
       "\t<text x=\"2840.93\" y=\"2619.14\" style=\"font-family:'Helvetica';font-size:99.99px;fill:#000000\" text-anchor=\"middle\">2015</text>\n",
       "\t<line x1=\"3636.64\" y1=\"2489.19\" x2=\"3636.64\" y2=\"2529.16\" style=\"stroke:#000000;stroke-width:5.76\"/>\n",
       "\t<text x=\"3636.64\" y=\"2619.14\" style=\"font-family:'Helvetica';font-size:99.99px;fill:#000000\" text-anchor=\"middle\">2020</text>\n",
       "\t<text x=\"2124.91\" y=\"2729.16\" style=\"font-family:'Helvetica';font-size:99.99px;fill:#000000\" text-anchor=\"middle\">year</text>\n",
       "\t<text x=\"2124.91\" y=\"215.98\" style=\"font-family:'Helvetica';font-size:139.96px;fill:#1E2D53\" text-anchor=\"middle\">Share of female respondents</text>\n",
       "</svg>\n"
      ],
      "text/html": [
       "                <iframe frameborder=\"0\" scrolling=\"no\" height=\"436\" width=\"600\"                srcdoc=\"<html><body>&lt;?xml version=&quot;1.0&quot; encoding=&quot;UTF-8&quot; standalone=&quot;no&quot;?&gt;\n",
       "&lt;!-- This is a Stata 16.1 generated SVG file (http://www.stata.com) --&gt;\n",
       "\n",
       "&lt;svg version=&quot;1.1&quot; width=&quot;600px&quot; height=&quot;436px&quot; viewBox=&quot;0 0 3960 2880&quot; xmlns=&quot;http://www.w3.org/2000/svg&quot; xmlns:xlink=&quot;http://www.w3.org/1999/xlink&quot;&gt;\n",
       "\t&lt;desc&gt;Stata Graph - Graph&lt;/desc&gt;\n",
       "\t&lt;rect x=&quot;0&quot; y=&quot;0&quot; width=&quot;3960&quot; height=&quot;2880&quot; style=&quot;fill:#EAF2F3;stroke:none&quot;/&gt;\n",
       "\t&lt;rect x=&quot;0.00&quot; y=&quot;0.00&quot; width=&quot;3959.88&quot; height=&quot;2880.00&quot; style=&quot;fill:#EAF2F3&quot;/&gt;\n",
       "\t&lt;rect x=&quot;2.88&quot; y=&quot;2.88&quot; width=&quot;3954.12&quot; height=&quot;2874.24&quot; style=&quot;fill:none;stroke:#EAF2F3;stroke-width:5.76&quot;/&gt;\n",
       "\t&lt;rect x=&quot;390.80&quot; y=&quot;275.35&quot; width=&quot;3468.22&quot; height=&quot;2213.83&quot; style=&quot;fill:#FFFFFF&quot;/&gt;\n",
       "\t&lt;rect x=&quot;393.68&quot; y=&quot;278.23&quot; width=&quot;3462.46&quot; height=&quot;2208.07&quot; style=&quot;fill:none;stroke:#FFFFFF;stroke-width:5.76&quot;/&gt;\n",
       "\t&lt;line x1=&quot;390.80&quot; y1=&quot;2425.82&quot; x2=&quot;3859.02&quot; y2=&quot;2425.82&quot; style=&quot;stroke:#EAF2F3;stroke-width:8.64&quot;/&gt;\n",
       "\t&lt;line x1=&quot;390.80&quot; y1=&quot;2217.17&quot; x2=&quot;3859.02&quot; y2=&quot;2217.17&quot; style=&quot;stroke:#EAF2F3;stroke-width:8.64&quot;/&gt;\n",
       "\t&lt;line x1=&quot;390.80&quot; y1=&quot;2008.40&quot; x2=&quot;3859.02&quot; y2=&quot;2008.40&quot; style=&quot;stroke:#EAF2F3;stroke-width:8.64&quot;/&gt;\n",
       "\t&lt;line x1=&quot;390.80&quot; y1=&quot;1799.75&quot; x2=&quot;3859.02&quot; y2=&quot;1799.75&quot; style=&quot;stroke:#EAF2F3;stroke-width:8.64&quot;/&gt;\n",
       "\t&lt;line x1=&quot;390.80&quot; y1=&quot;1590.98&quot; x2=&quot;3859.02&quot; y2=&quot;1590.98&quot; style=&quot;stroke:#EAF2F3;stroke-width:8.64&quot;/&gt;\n",
       "\t&lt;line x1=&quot;390.80&quot; y1=&quot;1382.33&quot; x2=&quot;3859.02&quot; y2=&quot;1382.33&quot; style=&quot;stroke:#EAF2F3;stroke-width:8.64&quot;/&gt;\n",
       "\t&lt;line x1=&quot;390.80&quot; y1=&quot;1173.56&quot; x2=&quot;3859.02&quot; y2=&quot;1173.56&quot; style=&quot;stroke:#EAF2F3;stroke-width:8.64&quot;/&gt;\n",
       "\t&lt;line x1=&quot;390.80&quot; y1=&quot;964.91&quot; x2=&quot;3859.02&quot; y2=&quot;964.91&quot; style=&quot;stroke:#EAF2F3;stroke-width:8.64&quot;/&gt;\n",
       "\t&lt;line x1=&quot;390.80&quot; y1=&quot;756.14&quot; x2=&quot;3859.02&quot; y2=&quot;756.14&quot; style=&quot;stroke:#EAF2F3;stroke-width:8.64&quot;/&gt;\n",
       "\t&lt;line x1=&quot;390.80&quot; y1=&quot;547.49&quot; x2=&quot;3859.02&quot; y2=&quot;547.49&quot; style=&quot;stroke:#EAF2F3;stroke-width:8.64&quot;/&gt;\n",
       "\t&lt;line x1=&quot;390.80&quot; y1=&quot;338.71&quot; x2=&quot;3859.02&quot; y2=&quot;338.71&quot; style=&quot;stroke:#EAF2F3;stroke-width:8.64&quot;/&gt;\n",
       "\t&lt;path d=&quot; M454.04 1350.15 L613.18 1347.93 L772.32 1349.41 L931.47 1346.94 L1090.61 1349.91 L1249.75 1348.17 L1408.77 1346.19 L1567.91 1347.80 L1727.06 1350.77 L1886.20 1355.48 L2045.34 1351.64 L2204.48 1348.42 L2363.50 1348.67 L2522.64 1350.15 L2681.79 1352.88 L2840.93 1351.02 L3000.07 1352.13 L3159.21 1349.91 L3318.23 1350.90 L3477.38 1354.49 L3636.52 1352.75 L3795.66 1359.56&quot; stroke-linejoin=&quot;round&quot; style=&quot;fill:none;stroke:#1A476F;stroke-width:8.64&quot;/&gt;\n",
       "\t&lt;line x1=&quot;390.80&quot; y1=&quot;2489.19&quot; x2=&quot;390.80&quot; y2=&quot;275.35&quot; style=&quot;stroke:#000000;stroke-width:5.76&quot;/&gt;\n",
       "\t&lt;line x1=&quot;390.80&quot; y1=&quot;2425.82&quot; x2=&quot;350.83&quot; y2=&quot;2425.82&quot; style=&quot;stroke:#000000;stroke-width:5.76&quot;/&gt;\n",
       "\t&lt;text x=&quot;300.72&quot; y=&quot;2425.82&quot; style=&quot;font-family:&#x27;Helvetica&#x27;;font-size:99.99px;fill:#000000&quot; transform=&quot;rotate(-90 300.72,2425.82)&quot; text-anchor=&quot;middle&quot;&gt;0&lt;/text&gt;\n",
       "\t&lt;line x1=&quot;390.80&quot; y1=&quot;2217.17&quot; x2=&quot;350.83&quot; y2=&quot;2217.17&quot; style=&quot;stroke:#000000;stroke-width:5.76&quot;/&gt;\n",
       "\t&lt;text x=&quot;300.72&quot; y=&quot;2217.17&quot; style=&quot;font-family:&#x27;Helvetica&#x27;;font-size:99.99px;fill:#000000&quot; transform=&quot;rotate(-90 300.72,2217.17)&quot; text-anchor=&quot;middle&quot;&gt;.1&lt;/text&gt;\n",
       "\t&lt;line x1=&quot;390.80&quot; y1=&quot;2008.40&quot; x2=&quot;350.83&quot; y2=&quot;2008.40&quot; style=&quot;stroke:#000000;stroke-width:5.76&quot;/&gt;\n",
       "\t&lt;text x=&quot;300.72&quot; y=&quot;2008.40&quot; style=&quot;font-family:&#x27;Helvetica&#x27;;font-size:99.99px;fill:#000000&quot; transform=&quot;rotate(-90 300.72,2008.40)&quot; text-anchor=&quot;middle&quot;&gt;.2&lt;/text&gt;\n",
       "\t&lt;line x1=&quot;390.80&quot; y1=&quot;1799.75&quot; x2=&quot;350.83&quot; y2=&quot;1799.75&quot; style=&quot;stroke:#000000;stroke-width:5.76&quot;/&gt;\n",
       "\t&lt;text x=&quot;300.72&quot; y=&quot;1799.75&quot; style=&quot;font-family:&#x27;Helvetica&#x27;;font-size:99.99px;fill:#000000&quot; transform=&quot;rotate(-90 300.72,1799.75)&quot; text-anchor=&quot;middle&quot;&gt;.3&lt;/text&gt;\n",
       "\t&lt;line x1=&quot;390.80&quot; y1=&quot;1590.98&quot; x2=&quot;350.83&quot; y2=&quot;1590.98&quot; style=&quot;stroke:#000000;stroke-width:5.76&quot;/&gt;\n",
       "\t&lt;text x=&quot;300.72&quot; y=&quot;1590.98&quot; style=&quot;font-family:&#x27;Helvetica&#x27;;font-size:99.99px;fill:#000000&quot; transform=&quot;rotate(-90 300.72,1590.98)&quot; text-anchor=&quot;middle&quot;&gt;.4&lt;/text&gt;\n",
       "\t&lt;line x1=&quot;390.80&quot; y1=&quot;1382.33&quot; x2=&quot;350.83&quot; y2=&quot;1382.33&quot; style=&quot;stroke:#000000;stroke-width:5.76&quot;/&gt;\n",
       "\t&lt;text x=&quot;300.72&quot; y=&quot;1382.33&quot; style=&quot;font-family:&#x27;Helvetica&#x27;;font-size:99.99px;fill:#000000&quot; transform=&quot;rotate(-90 300.72,1382.33)&quot; text-anchor=&quot;middle&quot;&gt;.5&lt;/text&gt;\n",
       "\t&lt;line x1=&quot;390.80&quot; y1=&quot;1173.56&quot; x2=&quot;350.83&quot; y2=&quot;1173.56&quot; style=&quot;stroke:#000000;stroke-width:5.76&quot;/&gt;\n",
       "\t&lt;text x=&quot;300.72&quot; y=&quot;1173.56&quot; style=&quot;font-family:&#x27;Helvetica&#x27;;font-size:99.99px;fill:#000000&quot; transform=&quot;rotate(-90 300.72,1173.56)&quot; text-anchor=&quot;middle&quot;&gt;.6&lt;/text&gt;\n",
       "\t&lt;line x1=&quot;390.80&quot; y1=&quot;964.91&quot; x2=&quot;350.83&quot; y2=&quot;964.91&quot; style=&quot;stroke:#000000;stroke-width:5.76&quot;/&gt;\n",
       "\t&lt;text x=&quot;300.72&quot; y=&quot;964.91&quot; style=&quot;font-family:&#x27;Helvetica&#x27;;font-size:99.99px;fill:#000000&quot; transform=&quot;rotate(-90 300.72,964.91)&quot; text-anchor=&quot;middle&quot;&gt;.7&lt;/text&gt;\n",
       "\t&lt;line x1=&quot;390.80&quot; y1=&quot;756.14&quot; x2=&quot;350.83&quot; y2=&quot;756.14&quot; style=&quot;stroke:#000000;stroke-width:5.76&quot;/&gt;\n",
       "\t&lt;text x=&quot;300.72&quot; y=&quot;756.14&quot; style=&quot;font-family:&#x27;Helvetica&#x27;;font-size:99.99px;fill:#000000&quot; transform=&quot;rotate(-90 300.72,756.14)&quot; text-anchor=&quot;middle&quot;&gt;.8&lt;/text&gt;\n",
       "\t&lt;line x1=&quot;390.80&quot; y1=&quot;547.49&quot; x2=&quot;350.83&quot; y2=&quot;547.49&quot; style=&quot;stroke:#000000;stroke-width:5.76&quot;/&gt;\n",
       "\t&lt;text x=&quot;300.72&quot; y=&quot;547.49&quot; style=&quot;font-family:&#x27;Helvetica&#x27;;font-size:99.99px;fill:#000000&quot; transform=&quot;rotate(-90 300.72,547.49)&quot; text-anchor=&quot;middle&quot;&gt;.9&lt;/text&gt;\n",
       "\t&lt;line x1=&quot;390.80&quot; y1=&quot;338.71&quot; x2=&quot;350.83&quot; y2=&quot;338.71&quot; style=&quot;stroke:#000000;stroke-width:5.76&quot;/&gt;\n",
       "\t&lt;text x=&quot;300.72&quot; y=&quot;338.71&quot; style=&quot;font-family:&#x27;Helvetica&#x27;;font-size:99.99px;fill:#000000&quot; transform=&quot;rotate(-90 300.72,338.71)&quot; text-anchor=&quot;middle&quot;&gt;1&lt;/text&gt;\n",
       "\t&lt;text x=&quot;190.71&quot; y=&quot;1382.33&quot; style=&quot;font-family:&#x27;Helvetica&#x27;;font-size:99.99px;fill:#000000&quot; transform=&quot;rotate(-90 190.71,1382.33)&quot; text-anchor=&quot;middle&quot;&gt;share&lt;/text&gt;\n",
       "\t&lt;line x1=&quot;390.80&quot; y1=&quot;2489.19&quot; x2=&quot;3859.02&quot; y2=&quot;2489.19&quot; style=&quot;stroke:#000000;stroke-width:5.76&quot;/&gt;\n",
       "\t&lt;line x1=&quot;454.16&quot; y1=&quot;2489.19&quot; x2=&quot;454.16&quot; y2=&quot;2529.16&quot; style=&quot;stroke:#000000;stroke-width:5.76&quot;/&gt;\n",
       "\t&lt;text x=&quot;454.16&quot; y=&quot;2619.14&quot; style=&quot;font-family:&#x27;Helvetica&#x27;;font-size:99.99px;fill:#000000&quot; text-anchor=&quot;middle&quot;&gt;2000&lt;/text&gt;\n",
       "\t&lt;line x1=&quot;1249.75&quot; y1=&quot;2489.19&quot; x2=&quot;1249.75&quot; y2=&quot;2529.16&quot; style=&quot;stroke:#000000;stroke-width:5.76&quot;/&gt;\n",
       "\t&lt;text x=&quot;1249.75&quot; y=&quot;2619.14&quot; style=&quot;font-family:&#x27;Helvetica&#x27;;font-size:99.99px;fill:#000000&quot; text-anchor=&quot;middle&quot;&gt;2005&lt;/text&gt;\n",
       "\t&lt;line x1=&quot;2045.34&quot; y1=&quot;2489.19&quot; x2=&quot;2045.34&quot; y2=&quot;2529.16&quot; style=&quot;stroke:#000000;stroke-width:5.76&quot;/&gt;\n",
       "\t&lt;text x=&quot;2045.34&quot; y=&quot;2619.14&quot; style=&quot;font-family:&#x27;Helvetica&#x27;;font-size:99.99px;fill:#000000&quot; text-anchor=&quot;middle&quot;&gt;2010&lt;/text&gt;\n",
       "\t&lt;line x1=&quot;2840.93&quot; y1=&quot;2489.19&quot; x2=&quot;2840.93&quot; y2=&quot;2529.16&quot; style=&quot;stroke:#000000;stroke-width:5.76&quot;/&gt;\n",
       "\t&lt;text x=&quot;2840.93&quot; y=&quot;2619.14&quot; style=&quot;font-family:&#x27;Helvetica&#x27;;font-size:99.99px;fill:#000000&quot; text-anchor=&quot;middle&quot;&gt;2015&lt;/text&gt;\n",
       "\t&lt;line x1=&quot;3636.64&quot; y1=&quot;2489.19&quot; x2=&quot;3636.64&quot; y2=&quot;2529.16&quot; style=&quot;stroke:#000000;stroke-width:5.76&quot;/&gt;\n",
       "\t&lt;text x=&quot;3636.64&quot; y=&quot;2619.14&quot; style=&quot;font-family:&#x27;Helvetica&#x27;;font-size:99.99px;fill:#000000&quot; text-anchor=&quot;middle&quot;&gt;2020&lt;/text&gt;\n",
       "\t&lt;text x=&quot;2124.91&quot; y=&quot;2729.16&quot; style=&quot;font-family:&#x27;Helvetica&#x27;;font-size:99.99px;fill:#000000&quot; text-anchor=&quot;middle&quot;&gt;year&lt;/text&gt;\n",
       "\t&lt;text x=&quot;2124.91&quot; y=&quot;215.98&quot; style=&quot;font-family:&#x27;Helvetica&#x27;;font-size:139.96px;fill:#1E2D53&quot; text-anchor=&quot;middle&quot;&gt;Share of female respondents&lt;/text&gt;\n",
       "&lt;/svg&gt;\n",
       "</body></html>\"></iframe>\n"
      ],
      "text/plain": [
       "This front-end cannot display the desired image type."
      ]
     },
     "metadata": {
      "image/svg+xml": {
       "height": 436,
       "width": 600
      },
      "text/html": {
       "height": 436,
       "width": 600
      }
     },
     "output_type": "display_data"
    }
   ],
   "source": [
    "collapse fem_share, by(year)\n",
    "twoway (line fem_share year, sort), ytitle(share) xtitle(year) title(Share of female respondents) yscale(range(0.00 1.00)) ylabel(0(0.1)1)"
   ]
  },
  {
   "cell_type": "code",
   "execution_count": 49,
   "metadata": {},
   "outputs": [],
   "source": [
    "use \"workfile01.dta\", clear"
   ]
  },
  {
   "cell_type": "markdown",
   "metadata": {},
   "source": [
    "I strongly recommend to drop the auxiliary variables after that, so that the table stays clear and tidy."
   ]
  },
  {
   "cell_type": "code",
   "execution_count": 50,
   "metadata": {},
   "outputs": [],
   "source": [
    "drop fem_* both_* respondents_*"
   ]
  },
  {
   "cell_type": "markdown",
   "metadata": {},
   "source": [
    "### What is the average yearly share of respondents holding at least a college degree overall? How does the average annual share evolve from 2000-2020?"
   ]
  },
  {
   "cell_type": "markdown",
   "metadata": {},
   "source": [
    "For the average share of respondents holding a college degree you have to calculated the share of respondents instead the share of responses. You also have to keep in mind that individuals are paticipating up to four times a year in the survey.\n",
    "The following code considers this as well as the fact that a person can obtain college degree between the waves of interviews. The highes degree obtained within a year will be counted."
   ]
  },
  {
   "cell_type": "code",
   "execution_count": 51,
   "metadata": {
    "scrolled": true
   },
   "outputs": [
    {
     "name": "stdout",
     "output_type": "stream",
     "text": [
      "\n",
      "\n",
      "          educational attainment recode |      Freq.     Percent        Cum.\n",
      "----------------------------------------+-----------------------------------\n",
      "                        1. niu or blank |          9        0.00        0.00\n",
      "                   2. none or preschool |     29,001        0.26        0.26\n",
      "               10. grades 1, 2, 3, or 4 |     55,654        0.49        0.75\n",
      "                      20. grades 5 or 6 |    124,978        1.10        1.85\n",
      "                      30. grades 7 or 8 |    221,665        1.95        3.80\n",
      "                            40. grade 9 |    335,882        2.96        6.76\n",
      "                           50. grade 10 |    414,008        3.65       10.40\n",
      "                           60. grade 11 |    447,258        3.94       14.34\n",
      "             71. 12th grade, no diploma |    165,357        1.46       15.80\n",
      "  73. high school diploma or equivalent |  3,219,208       28.35       44.15\n",
      "         81. some college but no degree |  2,086,324       18.37       62.53\n",
      "91. associate's degree, occupational/vo |    506,645        4.46       66.99\n",
      "92. associate's degree, academic progra |    545,433        4.80       71.79\n",
      "                 111. bachelor's degree |  2,106,549       18.55       90.34\n",
      "                   123. master's degree |    798,942        7.04       97.38\n",
      "        124. professional school degree |    150,658        1.33       98.71\n",
      "                  125. doctorate degree |    146,766        1.29      100.00\n",
      "----------------------------------------+-----------------------------------\n",
      "                                  Total | 11,354,337      100.00\n",
      "\n",
      "(11,354,337 missing values generated)\n",
      "\n",
      "(3,748,348 real changes made)\n",
      "\n",
      "\n",
      "\n",
      "\n",
      "\n"
     ]
    }
   ],
   "source": [
    "tab educ\n",
    "gen college = .\n",
    "replace college = 1 if inlist(educ, 125, 124, 092, 123, 111)\n",
    "\n",
    "egen tag_college = tag(year cpsidp college)\n",
    "egen tag_respondents = tag(year cpsidp)\n",
    "\n",
    "egen college_total = total(tag_college), by(year)\n",
    "egen respondents_total = total(tag_respondents), by(year)\n",
    "\n",
    "gen college_share = college_total / respondents_total"
   ]
  },
  {
   "cell_type": "code",
   "execution_count": 52,
   "metadata": {},
   "outputs": [
    {
     "name": "stdout",
     "output_type": "stream",
     "text": [
      "file workfile01.dta saved\n"
     ]
    }
   ],
   "source": [
    "save \"workfile01.dta\", replace"
   ]
  },
  {
   "cell_type": "code",
   "execution_count": 53,
   "metadata": {},
   "outputs": [
    {
     "data": {
      "application/pdf": "[encoded data removed]",
      "image/svg+xml": [
       "<?xml version=\"1.0\" encoding=\"UTF-8\" standalone=\"no\"?>\n",
       "<!-- This is a Stata 16.1 generated SVG file (http://www.stata.com) -->\n",
       "\n",
       "<svg version=\"1.1\" width=\"600px\" height=\"436px\" viewBox=\"0 0 3960 2880\" xmlns=\"http://www.w3.org/2000/svg\" xmlns:xlink=\"http://www.w3.org/1999/xlink\">\n",
       "\t<desc>Stata Graph - Graph</desc>\n",
       "\t<rect x=\"0\" y=\"0\" width=\"3960\" height=\"2880\" style=\"fill:#EAF2F3;stroke:none\"/>\n",
       "\t<rect x=\"0.00\" y=\"0.00\" width=\"3959.88\" height=\"2880.00\" style=\"fill:#EAF2F3\"/>\n",
       "\t<rect x=\"2.88\" y=\"2.88\" width=\"3954.12\" height=\"2874.24\" style=\"fill:none;stroke:#EAF2F3;stroke-width:5.76\"/>\n",
       "\t<rect x=\"384.24\" y=\"275.35\" width=\"3474.78\" height=\"2213.83\" style=\"fill:#FFFFFF\"/>\n",
       "\t<rect x=\"387.12\" y=\"278.23\" width=\"3469.02\" height=\"2208.07\" style=\"fill:none;stroke:#FFFFFF;stroke-width:5.76\"/>\n",
       "\t<line x1=\"384.24\" y1=\"2425.82\" x2=\"3859.02\" y2=\"2425.82\" style=\"stroke:#EAF2F3;stroke-width:8.64\"/>\n",
       "\t<line x1=\"384.24\" y1=\"2217.17\" x2=\"3859.02\" y2=\"2217.17\" style=\"stroke:#EAF2F3;stroke-width:8.64\"/>\n",
       "\t<line x1=\"384.24\" y1=\"2008.40\" x2=\"3859.02\" y2=\"2008.40\" style=\"stroke:#EAF2F3;stroke-width:8.64\"/>\n",
       "\t<line x1=\"384.24\" y1=\"1799.75\" x2=\"3859.02\" y2=\"1799.75\" style=\"stroke:#EAF2F3;stroke-width:8.64\"/>\n",
       "\t<line x1=\"384.24\" y1=\"1590.98\" x2=\"3859.02\" y2=\"1590.98\" style=\"stroke:#EAF2F3;stroke-width:8.64\"/>\n",
       "\t<line x1=\"384.24\" y1=\"1382.33\" x2=\"3859.02\" y2=\"1382.33\" style=\"stroke:#EAF2F3;stroke-width:8.64\"/>\n",
       "\t<line x1=\"384.24\" y1=\"1173.56\" x2=\"3859.02\" y2=\"1173.56\" style=\"stroke:#EAF2F3;stroke-width:8.64\"/>\n",
       "\t<line x1=\"384.24\" y1=\"964.91\" x2=\"3859.02\" y2=\"964.91\" style=\"stroke:#EAF2F3;stroke-width:8.64\"/>\n",
       "\t<line x1=\"384.24\" y1=\"756.14\" x2=\"3859.02\" y2=\"756.14\" style=\"stroke:#EAF2F3;stroke-width:8.64\"/>\n",
       "\t<line x1=\"384.24\" y1=\"547.49\" x2=\"3859.02\" y2=\"547.49\" style=\"stroke:#EAF2F3;stroke-width:8.64\"/>\n",
       "\t<line x1=\"384.24\" y1=\"338.71\" x2=\"3859.02\" y2=\"338.71\" style=\"stroke:#EAF2F3;stroke-width:8.64\"/>\n",
       "\t<path d=\" M447.60 1846.16 L606.99 1831.56 L766.51 1819.55 L925.90 1813.61 L1085.29 1806.68 L1244.80 1797.03 L1404.19 1781.93 L1563.58 1752.60 L1723.10 1738.49 L1882.48 1730.70 L2041.88 1728.59 L2201.39 1712.13 L2360.78 1693.32 L2520.17 1678.84 L2679.68 1672.41 L2839.07 1662.01 L2998.46 1654.09 L3157.98 1637.14 L3317.37 1621.79 L3476.76 1609.54 L3636.27 1587.89 L3795.66 1587.39\" stroke-linejoin=\"round\" style=\"fill:none;stroke:#1A476F;stroke-width:8.64\"/>\n",
       "\t<line x1=\"384.24\" y1=\"2489.19\" x2=\"384.24\" y2=\"275.35\" style=\"stroke:#000000;stroke-width:5.76\"/>\n",
       "\t<line x1=\"384.24\" y1=\"2425.82\" x2=\"344.27\" y2=\"2425.82\" style=\"stroke:#000000;stroke-width:5.76\"/>\n",
       "\t<text x=\"294.29\" y=\"2425.82\" style=\"font-family:'Helvetica';font-size:99.99px;fill:#000000\" transform=\"rotate(-90 294.29,2425.82)\" text-anchor=\"middle\">0</text>\n",
       "\t<line x1=\"384.24\" y1=\"2217.17\" x2=\"344.27\" y2=\"2217.17\" style=\"stroke:#000000;stroke-width:5.76\"/>\n",
       "\t<text x=\"294.29\" y=\"2217.17\" style=\"font-family:'Helvetica';font-size:99.99px;fill:#000000\" transform=\"rotate(-90 294.29,2217.17)\" text-anchor=\"middle\">.1</text>\n",
       "\t<line x1=\"384.24\" y1=\"2008.40\" x2=\"344.27\" y2=\"2008.40\" style=\"stroke:#000000;stroke-width:5.76\"/>\n",
       "\t<text x=\"294.29\" y=\"2008.40\" style=\"font-family:'Helvetica';font-size:99.99px;fill:#000000\" transform=\"rotate(-90 294.29,2008.40)\" text-anchor=\"middle\">.2</text>\n",
       "\t<line x1=\"384.24\" y1=\"1799.75\" x2=\"344.27\" y2=\"1799.75\" style=\"stroke:#000000;stroke-width:5.76\"/>\n",
       "\t<text x=\"294.29\" y=\"1799.75\" style=\"font-family:'Helvetica';font-size:99.99px;fill:#000000\" transform=\"rotate(-90 294.29,1799.75)\" text-anchor=\"middle\">.3</text>\n",
       "\t<line x1=\"384.24\" y1=\"1590.98\" x2=\"344.27\" y2=\"1590.98\" style=\"stroke:#000000;stroke-width:5.76\"/>\n",
       "\t<text x=\"294.29\" y=\"1590.98\" style=\"font-family:'Helvetica';font-size:99.99px;fill:#000000\" transform=\"rotate(-90 294.29,1590.98)\" text-anchor=\"middle\">.4</text>\n",
       "\t<line x1=\"384.24\" y1=\"1382.33\" x2=\"344.27\" y2=\"1382.33\" style=\"stroke:#000000;stroke-width:5.76\"/>\n",
       "\t<text x=\"294.29\" y=\"1382.33\" style=\"font-family:'Helvetica';font-size:99.99px;fill:#000000\" transform=\"rotate(-90 294.29,1382.33)\" text-anchor=\"middle\">.5</text>\n",
       "\t<line x1=\"384.24\" y1=\"1173.56\" x2=\"344.27\" y2=\"1173.56\" style=\"stroke:#000000;stroke-width:5.76\"/>\n",
       "\t<text x=\"294.29\" y=\"1173.56\" style=\"font-family:'Helvetica';font-size:99.99px;fill:#000000\" transform=\"rotate(-90 294.29,1173.56)\" text-anchor=\"middle\">.6</text>\n",
       "\t<line x1=\"384.24\" y1=\"964.91\" x2=\"344.27\" y2=\"964.91\" style=\"stroke:#000000;stroke-width:5.76\"/>\n",
       "\t<text x=\"294.29\" y=\"964.91\" style=\"font-family:'Helvetica';font-size:99.99px;fill:#000000\" transform=\"rotate(-90 294.29,964.91)\" text-anchor=\"middle\">.7</text>\n",
       "\t<line x1=\"384.24\" y1=\"756.14\" x2=\"344.27\" y2=\"756.14\" style=\"stroke:#000000;stroke-width:5.76\"/>\n",
       "\t<text x=\"294.29\" y=\"756.14\" style=\"font-family:'Helvetica';font-size:99.99px;fill:#000000\" transform=\"rotate(-90 294.29,756.14)\" text-anchor=\"middle\">.8</text>\n",
       "\t<line x1=\"384.24\" y1=\"547.49\" x2=\"344.27\" y2=\"547.49\" style=\"stroke:#000000;stroke-width:5.76\"/>\n",
       "\t<text x=\"294.29\" y=\"547.49\" style=\"font-family:'Helvetica';font-size:99.99px;fill:#000000\" transform=\"rotate(-90 294.29,547.49)\" text-anchor=\"middle\">.9</text>\n",
       "\t<line x1=\"384.24\" y1=\"338.71\" x2=\"344.27\" y2=\"338.71\" style=\"stroke:#000000;stroke-width:5.76\"/>\n",
       "\t<text x=\"294.29\" y=\"338.71\" style=\"font-family:'Helvetica';font-size:99.99px;fill:#000000\" transform=\"rotate(-90 294.29,338.71)\" text-anchor=\"middle\">1</text>\n",
       "\t<text x=\"190.71\" y=\"1382.33\" style=\"font-family:'Helvetica';font-size:99.99px;fill:#000000\" transform=\"rotate(-90 190.71,1382.33)\" text-anchor=\"middle\">share</text>\n",
       "\t<line x1=\"384.24\" y1=\"2489.19\" x2=\"3859.02\" y2=\"2489.19\" style=\"stroke:#000000;stroke-width:5.76\"/>\n",
       "\t<line x1=\"447.60\" y1=\"2489.19\" x2=\"447.60\" y2=\"2529.16\" style=\"stroke:#000000;stroke-width:5.76\"/>\n",
       "\t<text x=\"447.60\" y=\"2619.14\" style=\"font-family:'Helvetica';font-size:99.99px;fill:#000000\" text-anchor=\"middle\">2000</text>\n",
       "\t<line x1=\"1244.80\" y1=\"2489.19\" x2=\"1244.80\" y2=\"2529.16\" style=\"stroke:#000000;stroke-width:5.76\"/>\n",
       "\t<text x=\"1244.80\" y=\"2619.14\" style=\"font-family:'Helvetica';font-size:99.99px;fill:#000000\" text-anchor=\"middle\">2005</text>\n",
       "\t<line x1=\"2042.00\" y1=\"2489.19\" x2=\"2042.00\" y2=\"2529.16\" style=\"stroke:#000000;stroke-width:5.76\"/>\n",
       "\t<text x=\"2042.00\" y=\"2619.14\" style=\"font-family:'Helvetica';font-size:99.99px;fill:#000000\" text-anchor=\"middle\">2010</text>\n",
       "\t<line x1=\"2839.07\" y1=\"2489.19\" x2=\"2839.07\" y2=\"2529.16\" style=\"stroke:#000000;stroke-width:5.76\"/>\n",
       "\t<text x=\"2839.07\" y=\"2619.14\" style=\"font-family:'Helvetica';font-size:99.99px;fill:#000000\" text-anchor=\"middle\">2015</text>\n",
       "\t<line x1=\"3636.27\" y1=\"2489.19\" x2=\"3636.27\" y2=\"2529.16\" style=\"stroke:#000000;stroke-width:5.76\"/>\n",
       "\t<text x=\"3636.27\" y=\"2619.14\" style=\"font-family:'Helvetica';font-size:99.99px;fill:#000000\" text-anchor=\"middle\">2020</text>\n",
       "\t<text x=\"2121.69\" y=\"2729.16\" style=\"font-family:'Helvetica';font-size:99.99px;fill:#000000\" text-anchor=\"middle\">year</text>\n",
       "\t<text x=\"2121.69\" y=\"215.98\" style=\"font-family:'Helvetica';font-size:139.96px;fill:#1E2D53\" text-anchor=\"middle\">Share of respondents holding at least a college degree</text>\n",
       "</svg>\n"
      ],
      "text/html": [
       "                <iframe frameborder=\"0\" scrolling=\"no\" height=\"436\" width=\"600\"                srcdoc=\"<html><body>&lt;?xml version=&quot;1.0&quot; encoding=&quot;UTF-8&quot; standalone=&quot;no&quot;?&gt;\n",
       "&lt;!-- This is a Stata 16.1 generated SVG file (http://www.stata.com) --&gt;\n",
       "\n",
       "&lt;svg version=&quot;1.1&quot; width=&quot;600px&quot; height=&quot;436px&quot; viewBox=&quot;0 0 3960 2880&quot; xmlns=&quot;http://www.w3.org/2000/svg&quot; xmlns:xlink=&quot;http://www.w3.org/1999/xlink&quot;&gt;\n",
       "\t&lt;desc&gt;Stata Graph - Graph&lt;/desc&gt;\n",
       "\t&lt;rect x=&quot;0&quot; y=&quot;0&quot; width=&quot;3960&quot; height=&quot;2880&quot; style=&quot;fill:#EAF2F3;stroke:none&quot;/&gt;\n",
       "\t&lt;rect x=&quot;0.00&quot; y=&quot;0.00&quot; width=&quot;3959.88&quot; height=&quot;2880.00&quot; style=&quot;fill:#EAF2F3&quot;/&gt;\n",
       "\t&lt;rect x=&quot;2.88&quot; y=&quot;2.88&quot; width=&quot;3954.12&quot; height=&quot;2874.24&quot; style=&quot;fill:none;stroke:#EAF2F3;stroke-width:5.76&quot;/&gt;\n",
       "\t&lt;rect x=&quot;384.24&quot; y=&quot;275.35&quot; width=&quot;3474.78&quot; height=&quot;2213.83&quot; style=&quot;fill:#FFFFFF&quot;/&gt;\n",
       "\t&lt;rect x=&quot;387.12&quot; y=&quot;278.23&quot; width=&quot;3469.02&quot; height=&quot;2208.07&quot; style=&quot;fill:none;stroke:#FFFFFF;stroke-width:5.76&quot;/&gt;\n",
       "\t&lt;line x1=&quot;384.24&quot; y1=&quot;2425.82&quot; x2=&quot;3859.02&quot; y2=&quot;2425.82&quot; style=&quot;stroke:#EAF2F3;stroke-width:8.64&quot;/&gt;\n",
       "\t&lt;line x1=&quot;384.24&quot; y1=&quot;2217.17&quot; x2=&quot;3859.02&quot; y2=&quot;2217.17&quot; style=&quot;stroke:#EAF2F3;stroke-width:8.64&quot;/&gt;\n",
       "\t&lt;line x1=&quot;384.24&quot; y1=&quot;2008.40&quot; x2=&quot;3859.02&quot; y2=&quot;2008.40&quot; style=&quot;stroke:#EAF2F3;stroke-width:8.64&quot;/&gt;\n",
       "\t&lt;line x1=&quot;384.24&quot; y1=&quot;1799.75&quot; x2=&quot;3859.02&quot; y2=&quot;1799.75&quot; style=&quot;stroke:#EAF2F3;stroke-width:8.64&quot;/&gt;\n",
       "\t&lt;line x1=&quot;384.24&quot; y1=&quot;1590.98&quot; x2=&quot;3859.02&quot; y2=&quot;1590.98&quot; style=&quot;stroke:#EAF2F3;stroke-width:8.64&quot;/&gt;\n",
       "\t&lt;line x1=&quot;384.24&quot; y1=&quot;1382.33&quot; x2=&quot;3859.02&quot; y2=&quot;1382.33&quot; style=&quot;stroke:#EAF2F3;stroke-width:8.64&quot;/&gt;\n",
       "\t&lt;line x1=&quot;384.24&quot; y1=&quot;1173.56&quot; x2=&quot;3859.02&quot; y2=&quot;1173.56&quot; style=&quot;stroke:#EAF2F3;stroke-width:8.64&quot;/&gt;\n",
       "\t&lt;line x1=&quot;384.24&quot; y1=&quot;964.91&quot; x2=&quot;3859.02&quot; y2=&quot;964.91&quot; style=&quot;stroke:#EAF2F3;stroke-width:8.64&quot;/&gt;\n",
       "\t&lt;line x1=&quot;384.24&quot; y1=&quot;756.14&quot; x2=&quot;3859.02&quot; y2=&quot;756.14&quot; style=&quot;stroke:#EAF2F3;stroke-width:8.64&quot;/&gt;\n",
       "\t&lt;line x1=&quot;384.24&quot; y1=&quot;547.49&quot; x2=&quot;3859.02&quot; y2=&quot;547.49&quot; style=&quot;stroke:#EAF2F3;stroke-width:8.64&quot;/&gt;\n",
       "\t&lt;line x1=&quot;384.24&quot; y1=&quot;338.71&quot; x2=&quot;3859.02&quot; y2=&quot;338.71&quot; style=&quot;stroke:#EAF2F3;stroke-width:8.64&quot;/&gt;\n",
       "\t&lt;path d=&quot; M447.60 1846.16 L606.99 1831.56 L766.51 1819.55 L925.90 1813.61 L1085.29 1806.68 L1244.80 1797.03 L1404.19 1781.93 L1563.58 1752.60 L1723.10 1738.49 L1882.48 1730.70 L2041.88 1728.59 L2201.39 1712.13 L2360.78 1693.32 L2520.17 1678.84 L2679.68 1672.41 L2839.07 1662.01 L2998.46 1654.09 L3157.98 1637.14 L3317.37 1621.79 L3476.76 1609.54 L3636.27 1587.89 L3795.66 1587.39&quot; stroke-linejoin=&quot;round&quot; style=&quot;fill:none;stroke:#1A476F;stroke-width:8.64&quot;/&gt;\n",
       "\t&lt;line x1=&quot;384.24&quot; y1=&quot;2489.19&quot; x2=&quot;384.24&quot; y2=&quot;275.35&quot; style=&quot;stroke:#000000;stroke-width:5.76&quot;/&gt;\n",
       "\t&lt;line x1=&quot;384.24&quot; y1=&quot;2425.82&quot; x2=&quot;344.27&quot; y2=&quot;2425.82&quot; style=&quot;stroke:#000000;stroke-width:5.76&quot;/&gt;\n",
       "\t&lt;text x=&quot;294.29&quot; y=&quot;2425.82&quot; style=&quot;font-family:&#x27;Helvetica&#x27;;font-size:99.99px;fill:#000000&quot; transform=&quot;rotate(-90 294.29,2425.82)&quot; text-anchor=&quot;middle&quot;&gt;0&lt;/text&gt;\n",
       "\t&lt;line x1=&quot;384.24&quot; y1=&quot;2217.17&quot; x2=&quot;344.27&quot; y2=&quot;2217.17&quot; style=&quot;stroke:#000000;stroke-width:5.76&quot;/&gt;\n",
       "\t&lt;text x=&quot;294.29&quot; y=&quot;2217.17&quot; style=&quot;font-family:&#x27;Helvetica&#x27;;font-size:99.99px;fill:#000000&quot; transform=&quot;rotate(-90 294.29,2217.17)&quot; text-anchor=&quot;middle&quot;&gt;.1&lt;/text&gt;\n",
       "\t&lt;line x1=&quot;384.24&quot; y1=&quot;2008.40&quot; x2=&quot;344.27&quot; y2=&quot;2008.40&quot; style=&quot;stroke:#000000;stroke-width:5.76&quot;/&gt;\n",
       "\t&lt;text x=&quot;294.29&quot; y=&quot;2008.40&quot; style=&quot;font-family:&#x27;Helvetica&#x27;;font-size:99.99px;fill:#000000&quot; transform=&quot;rotate(-90 294.29,2008.40)&quot; text-anchor=&quot;middle&quot;&gt;.2&lt;/text&gt;\n",
       "\t&lt;line x1=&quot;384.24&quot; y1=&quot;1799.75&quot; x2=&quot;344.27&quot; y2=&quot;1799.75&quot; style=&quot;stroke:#000000;stroke-width:5.76&quot;/&gt;\n",
       "\t&lt;text x=&quot;294.29&quot; y=&quot;1799.75&quot; style=&quot;font-family:&#x27;Helvetica&#x27;;font-size:99.99px;fill:#000000&quot; transform=&quot;rotate(-90 294.29,1799.75)&quot; text-anchor=&quot;middle&quot;&gt;.3&lt;/text&gt;\n",
       "\t&lt;line x1=&quot;384.24&quot; y1=&quot;1590.98&quot; x2=&quot;344.27&quot; y2=&quot;1590.98&quot; style=&quot;stroke:#000000;stroke-width:5.76&quot;/&gt;\n",
       "\t&lt;text x=&quot;294.29&quot; y=&quot;1590.98&quot; style=&quot;font-family:&#x27;Helvetica&#x27;;font-size:99.99px;fill:#000000&quot; transform=&quot;rotate(-90 294.29,1590.98)&quot; text-anchor=&quot;middle&quot;&gt;.4&lt;/text&gt;\n",
       "\t&lt;line x1=&quot;384.24&quot; y1=&quot;1382.33&quot; x2=&quot;344.27&quot; y2=&quot;1382.33&quot; style=&quot;stroke:#000000;stroke-width:5.76&quot;/&gt;\n",
       "\t&lt;text x=&quot;294.29&quot; y=&quot;1382.33&quot; style=&quot;font-family:&#x27;Helvetica&#x27;;font-size:99.99px;fill:#000000&quot; transform=&quot;rotate(-90 294.29,1382.33)&quot; text-anchor=&quot;middle&quot;&gt;.5&lt;/text&gt;\n",
       "\t&lt;line x1=&quot;384.24&quot; y1=&quot;1173.56&quot; x2=&quot;344.27&quot; y2=&quot;1173.56&quot; style=&quot;stroke:#000000;stroke-width:5.76&quot;/&gt;\n",
       "\t&lt;text x=&quot;294.29&quot; y=&quot;1173.56&quot; style=&quot;font-family:&#x27;Helvetica&#x27;;font-size:99.99px;fill:#000000&quot; transform=&quot;rotate(-90 294.29,1173.56)&quot; text-anchor=&quot;middle&quot;&gt;.6&lt;/text&gt;\n",
       "\t&lt;line x1=&quot;384.24&quot; y1=&quot;964.91&quot; x2=&quot;344.27&quot; y2=&quot;964.91&quot; style=&quot;stroke:#000000;stroke-width:5.76&quot;/&gt;\n",
       "\t&lt;text x=&quot;294.29&quot; y=&quot;964.91&quot; style=&quot;font-family:&#x27;Helvetica&#x27;;font-size:99.99px;fill:#000000&quot; transform=&quot;rotate(-90 294.29,964.91)&quot; text-anchor=&quot;middle&quot;&gt;.7&lt;/text&gt;\n",
       "\t&lt;line x1=&quot;384.24&quot; y1=&quot;756.14&quot; x2=&quot;344.27&quot; y2=&quot;756.14&quot; style=&quot;stroke:#000000;stroke-width:5.76&quot;/&gt;\n",
       "\t&lt;text x=&quot;294.29&quot; y=&quot;756.14&quot; style=&quot;font-family:&#x27;Helvetica&#x27;;font-size:99.99px;fill:#000000&quot; transform=&quot;rotate(-90 294.29,756.14)&quot; text-anchor=&quot;middle&quot;&gt;.8&lt;/text&gt;\n",
       "\t&lt;line x1=&quot;384.24&quot; y1=&quot;547.49&quot; x2=&quot;344.27&quot; y2=&quot;547.49&quot; style=&quot;stroke:#000000;stroke-width:5.76&quot;/&gt;\n",
       "\t&lt;text x=&quot;294.29&quot; y=&quot;547.49&quot; style=&quot;font-family:&#x27;Helvetica&#x27;;font-size:99.99px;fill:#000000&quot; transform=&quot;rotate(-90 294.29,547.49)&quot; text-anchor=&quot;middle&quot;&gt;.9&lt;/text&gt;\n",
       "\t&lt;line x1=&quot;384.24&quot; y1=&quot;338.71&quot; x2=&quot;344.27&quot; y2=&quot;338.71&quot; style=&quot;stroke:#000000;stroke-width:5.76&quot;/&gt;\n",
       "\t&lt;text x=&quot;294.29&quot; y=&quot;338.71&quot; style=&quot;font-family:&#x27;Helvetica&#x27;;font-size:99.99px;fill:#000000&quot; transform=&quot;rotate(-90 294.29,338.71)&quot; text-anchor=&quot;middle&quot;&gt;1&lt;/text&gt;\n",
       "\t&lt;text x=&quot;190.71&quot; y=&quot;1382.33&quot; style=&quot;font-family:&#x27;Helvetica&#x27;;font-size:99.99px;fill:#000000&quot; transform=&quot;rotate(-90 190.71,1382.33)&quot; text-anchor=&quot;middle&quot;&gt;share&lt;/text&gt;\n",
       "\t&lt;line x1=&quot;384.24&quot; y1=&quot;2489.19&quot; x2=&quot;3859.02&quot; y2=&quot;2489.19&quot; style=&quot;stroke:#000000;stroke-width:5.76&quot;/&gt;\n",
       "\t&lt;line x1=&quot;447.60&quot; y1=&quot;2489.19&quot; x2=&quot;447.60&quot; y2=&quot;2529.16&quot; style=&quot;stroke:#000000;stroke-width:5.76&quot;/&gt;\n",
       "\t&lt;text x=&quot;447.60&quot; y=&quot;2619.14&quot; style=&quot;font-family:&#x27;Helvetica&#x27;;font-size:99.99px;fill:#000000&quot; text-anchor=&quot;middle&quot;&gt;2000&lt;/text&gt;\n",
       "\t&lt;line x1=&quot;1244.80&quot; y1=&quot;2489.19&quot; x2=&quot;1244.80&quot; y2=&quot;2529.16&quot; style=&quot;stroke:#000000;stroke-width:5.76&quot;/&gt;\n",
       "\t&lt;text x=&quot;1244.80&quot; y=&quot;2619.14&quot; style=&quot;font-family:&#x27;Helvetica&#x27;;font-size:99.99px;fill:#000000&quot; text-anchor=&quot;middle&quot;&gt;2005&lt;/text&gt;\n",
       "\t&lt;line x1=&quot;2042.00&quot; y1=&quot;2489.19&quot; x2=&quot;2042.00&quot; y2=&quot;2529.16&quot; style=&quot;stroke:#000000;stroke-width:5.76&quot;/&gt;\n",
       "\t&lt;text x=&quot;2042.00&quot; y=&quot;2619.14&quot; style=&quot;font-family:&#x27;Helvetica&#x27;;font-size:99.99px;fill:#000000&quot; text-anchor=&quot;middle&quot;&gt;2010&lt;/text&gt;\n",
       "\t&lt;line x1=&quot;2839.07&quot; y1=&quot;2489.19&quot; x2=&quot;2839.07&quot; y2=&quot;2529.16&quot; style=&quot;stroke:#000000;stroke-width:5.76&quot;/&gt;\n",
       "\t&lt;text x=&quot;2839.07&quot; y=&quot;2619.14&quot; style=&quot;font-family:&#x27;Helvetica&#x27;;font-size:99.99px;fill:#000000&quot; text-anchor=&quot;middle&quot;&gt;2015&lt;/text&gt;\n",
       "\t&lt;line x1=&quot;3636.27&quot; y1=&quot;2489.19&quot; x2=&quot;3636.27&quot; y2=&quot;2529.16&quot; style=&quot;stroke:#000000;stroke-width:5.76&quot;/&gt;\n",
       "\t&lt;text x=&quot;3636.27&quot; y=&quot;2619.14&quot; style=&quot;font-family:&#x27;Helvetica&#x27;;font-size:99.99px;fill:#000000&quot; text-anchor=&quot;middle&quot;&gt;2020&lt;/text&gt;\n",
       "\t&lt;text x=&quot;2121.69&quot; y=&quot;2729.16&quot; style=&quot;font-family:&#x27;Helvetica&#x27;;font-size:99.99px;fill:#000000&quot; text-anchor=&quot;middle&quot;&gt;year&lt;/text&gt;\n",
       "\t&lt;text x=&quot;2121.69&quot; y=&quot;215.98&quot; style=&quot;font-family:&#x27;Helvetica&#x27;;font-size:139.96px;fill:#1E2D53&quot; text-anchor=&quot;middle&quot;&gt;Share of respondents holding at least a college degree&lt;/text&gt;\n",
       "&lt;/svg&gt;\n",
       "</body></html>\"></iframe>\n"
      ],
      "text/plain": [
       "This front-end cannot display the desired image type."
      ]
     },
     "metadata": {
      "image/svg+xml": {
       "height": 436,
       "width": 600
      },
      "text/html": {
       "height": 436,
       "width": 600
      }
     },
     "output_type": "display_data"
    }
   ],
   "source": [
    "collapse college_share, by(year)\n",
    "twoway (line college_share year, sort), ytitle(share) xtitle(year) title(Share of respondents holding at least a college degree) yscale(range(0.00 1.00)) ylabel(0(0.1)1)"
   ]
  },
  {
   "cell_type": "code",
   "execution_count": 54,
   "metadata": {},
   "outputs": [],
   "source": [
    "use \"workfile01.dta\", clear"
   ]
  },
  {
   "cell_type": "code",
   "execution_count": 55,
   "metadata": {},
   "outputs": [],
   "source": [
    "drop college* respondents*"
   ]
  },
  {
   "cell_type": "markdown",
   "metadata": {},
   "source": [
    "### Plot the distribution of hourly wages for the years 2001, 2009 and 2018."
   ]
  },
  {
   "cell_type": "code",
   "execution_count": 60,
   "metadata": {
    "scrolled": false
   },
   "outputs": [
    {
     "data": {
      "application/pdf": "[encoded data removed]",
      "image/svg+xml": [
       "<?xml version=\"1.0\" encoding=\"UTF-8\" standalone=\"no\"?>\n",
       "<!-- This is a Stata 16.1 generated SVG file (http://www.stata.com) -->\n",
       "\n",
       "<svg version=\"1.1\" width=\"600px\" height=\"436px\" viewBox=\"0 0 3960 2880\" xmlns=\"http://www.w3.org/2000/svg\" xmlns:xlink=\"http://www.w3.org/1999/xlink\">\n",
       "\t<desc>Stata Graph - Graph</desc>\n",
       "\t<rect x=\"0\" y=\"0\" width=\"3960\" height=\"2880\" style=\"fill:#EAF2F3;stroke:none\"/>\n",
       "\t<rect x=\"0.00\" y=\"0.00\" width=\"3959.88\" height=\"2880.00\" style=\"fill:#EAF2F3\"/>\n",
       "\t<rect x=\"2.88\" y=\"2.88\" width=\"3954.12\" height=\"2874.24\" style=\"fill:none;stroke:#EAF2F3;stroke-width:5.76\"/>\n",
       "\t<rect x=\"63.36\" y=\"63.36\" width=\"1277.72\" height=\"2753.28\" style=\"fill:#EAF2F3\"/>\n",
       "\t<rect x=\"65.52\" y=\"65.52\" width=\"1273.40\" height=\"2748.96\" style=\"fill:none;stroke:#EAF2F3;stroke-width:4.32\"/>\n",
       "\t<rect x=\"356.40\" y=\"138.98\" width=\"909.07\" height=\"2384.61\" style=\"fill:#FFFFFF\"/>\n",
       "\t<rect x=\"358.56\" y=\"141.14\" width=\"904.75\" height=\"2380.29\" style=\"fill:none;stroke:#FFFFFF;stroke-width:4.32\"/>\n",
       "\t<line x1=\"356.40\" y1=\"2523.59\" x2=\"1265.47\" y2=\"2523.59\" style=\"stroke:#EAF2F3;stroke-width:6.48\"/>\n",
       "\t<line x1=\"356.40\" y1=\"2056.17\" x2=\"1265.47\" y2=\"2056.17\" style=\"stroke:#EAF2F3;stroke-width:6.48\"/>\n",
       "\t<line x1=\"356.40\" y1=\"1588.75\" x2=\"1265.47\" y2=\"1588.75\" style=\"stroke:#EAF2F3;stroke-width:6.48\"/>\n",
       "\t<line x1=\"356.40\" y1=\"1121.33\" x2=\"1265.47\" y2=\"1121.33\" style=\"stroke:#EAF2F3;stroke-width:6.48\"/>\n",
       "\t<line x1=\"356.40\" y1=\"653.92\" x2=\"1265.47\" y2=\"653.92\" style=\"stroke:#EAF2F3;stroke-width:6.48\"/>\n",
       "\t<line x1=\"356.40\" y1=\"186.50\" x2=\"1265.47\" y2=\"186.50\" style=\"stroke:#EAF2F3;stroke-width:6.48\"/>\n",
       "\t<rect x=\"412.71\" y=\"2466.17\" width=\"17.57\" height=\"57.42\" style=\"fill:#CAC27E\"/>\n",
       "\t<rect x=\"415.95\" y=\"2469.41\" width=\"11.09\" height=\"50.94\" style=\"fill:none;stroke:#D7D29E;stroke-width:6.48\"/>\n",
       "\t<rect x=\"430.28\" y=\"2442.04\" width=\"17.45\" height=\"81.55\" style=\"fill:#CAC27E\"/>\n",
       "\t<rect x=\"433.52\" y=\"2445.27\" width=\"10.97\" height=\"75.07\" style=\"fill:none;stroke:#D7D29E;stroke-width:6.48\"/>\n",
       "\t<rect x=\"447.73\" y=\"1166.63\" width=\"17.45\" height=\"1356.96\" style=\"fill:#CAC27E\"/>\n",
       "\t<rect x=\"450.97\" y=\"1169.87\" width=\"10.97\" height=\"1350.48\" style=\"fill:none;stroke:#D7D29E;stroke-width:6.48\"/>\n",
       "\t<rect x=\"465.18\" y=\"330.55\" width=\"17.57\" height=\"2193.04\" style=\"fill:#CAC27E\"/>\n",
       "\t<rect x=\"468.42\" y=\"333.79\" width=\"11.09\" height=\"2186.56\" style=\"fill:none;stroke:#D7D29E;stroke-width:6.48\"/>\n",
       "\t<rect x=\"482.75\" y=\"234.02\" width=\"17.45\" height=\"2289.57\" style=\"fill:#CAC27E\"/>\n",
       "\t<rect x=\"485.99\" y=\"237.26\" width=\"10.97\" height=\"2283.09\" style=\"fill:none;stroke:#D7D29E;stroke-width:6.48\"/>\n",
       "\t<rect x=\"500.20\" y=\"1223.06\" width=\"17.57\" height=\"1300.53\" style=\"fill:#CAC27E\"/>\n",
       "\t<rect x=\"503.44\" y=\"1226.30\" width=\"11.09\" height=\"1294.05\" style=\"fill:none;stroke:#D7D29E;stroke-width:6.48\"/>\n",
       "\t<rect x=\"517.77\" y=\"1527.62\" width=\"17.45\" height=\"995.97\" style=\"fill:#CAC27E\"/>\n",
       "\t<rect x=\"521.01\" y=\"1530.86\" width=\"10.97\" height=\"989.49\" style=\"fill:none;stroke:#D7D29E;stroke-width:6.48\"/>\n",
       "\t<rect x=\"535.22\" y=\"1865.22\" width=\"17.57\" height=\"658.37\" style=\"fill:#CAC27E\"/>\n",
       "\t<rect x=\"538.46\" y=\"1868.46\" width=\"11.09\" height=\"651.89\" style=\"fill:none;stroke:#D7D29E;stroke-width:6.48\"/>\n",
       "\t<rect x=\"552.79\" y=\"2026.84\" width=\"17.45\" height=\"496.75\" style=\"fill:#CAC27E\"/>\n",
       "\t<rect x=\"556.03\" y=\"2030.08\" width=\"10.97\" height=\"490.27\" style=\"fill:none;stroke:#D7D29E;stroke-width:6.48\"/>\n",
       "\t<rect x=\"570.24\" y=\"2098.62\" width=\"17.45\" height=\"424.97\" style=\"fill:#CAC27E\"/>\n",
       "\t<rect x=\"573.48\" y=\"2101.86\" width=\"10.97\" height=\"418.49\" style=\"fill:none;stroke:#D7D29E;stroke-width:6.48\"/>\n",
       "\t<rect x=\"587.69\" y=\"2209.13\" width=\"17.57\" height=\"314.46\" style=\"fill:#CAC27E\"/>\n",
       "\t<rect x=\"590.93\" y=\"2212.37\" width=\"11.09\" height=\"307.98\" style=\"fill:none;stroke:#D7D29E;stroke-width:6.48\"/>\n",
       "\t<rect x=\"605.26\" y=\"2321.62\" width=\"17.45\" height=\"201.97\" style=\"fill:#CAC27E\"/>\n",
       "\t<rect x=\"608.50\" y=\"2324.86\" width=\"10.97\" height=\"195.49\" style=\"fill:none;stroke:#D7D29E;stroke-width:6.48\"/>\n",
       "\t<rect x=\"622.71\" y=\"2424.21\" width=\"17.57\" height=\"99.37\" style=\"fill:#CAC27E\"/>\n",
       "\t<rect x=\"625.95\" y=\"2427.45\" width=\"11.09\" height=\"92.89\" style=\"fill:none;stroke:#D7D29E;stroke-width:6.48\"/>\n",
       "\t<rect x=\"640.28\" y=\"2434.11\" width=\"17.45\" height=\"89.47\" style=\"fill:#CAC27E\"/>\n",
       "\t<rect x=\"643.52\" y=\"2437.35\" width=\"10.97\" height=\"82.99\" style=\"fill:none;stroke:#D7D29E;stroke-width:6.48\"/>\n",
       "\t<rect x=\"657.73\" y=\"2479.53\" width=\"17.57\" height=\"44.06\" style=\"fill:#CAC27E\"/>\n",
       "\t<rect x=\"660.97\" y=\"2482.77\" width=\"11.09\" height=\"37.58\" style=\"fill:none;stroke:#D7D29E;stroke-width:6.48\"/>\n",
       "\t<rect x=\"675.30\" y=\"2493.39\" width=\"17.45\" height=\"30.20\" style=\"fill:#CAC27E\"/>\n",
       "\t<rect x=\"678.54\" y=\"2496.63\" width=\"10.97\" height=\"23.72\" style=\"fill:none;stroke:#D7D29E;stroke-width:6.48\"/>\n",
       "\t<rect x=\"692.75\" y=\"2485.35\" width=\"17.57\" height=\"38.24\" style=\"fill:#CAC27E\"/>\n",
       "\t<rect x=\"695.99\" y=\"2488.59\" width=\"11.09\" height=\"31.76\" style=\"fill:none;stroke:#D7D29E;stroke-width:6.48\"/>\n",
       "\t<rect x=\"710.33\" y=\"2502.67\" width=\"17.45\" height=\"20.91\" style=\"fill:#CAC27E\"/>\n",
       "\t<rect x=\"713.56\" y=\"2505.91\" width=\"10.97\" height=\"14.43\" style=\"fill:none;stroke:#D7D29E;stroke-width:6.48\"/>\n",
       "\t<rect x=\"727.77\" y=\"2504.16\" width=\"17.45\" height=\"19.43\" style=\"fill:#CAC27E\"/>\n",
       "\t<rect x=\"731.01\" y=\"2507.40\" width=\"10.97\" height=\"12.95\" style=\"fill:none;stroke:#D7D29E;stroke-width:6.48\"/>\n",
       "\t<rect x=\"745.22\" y=\"2513.69\" width=\"17.57\" height=\"9.90\" style=\"fill:#CAC27E\"/>\n",
       "\t<rect x=\"748.46\" y=\"2516.93\" width=\"11.09\" height=\"3.42\" style=\"fill:none;stroke:#D7D29E;stroke-width:6.48\"/>\n",
       "\t<rect x=\"762.79\" y=\"2514.31\" width=\"17.45\" height=\"9.28\" style=\"fill:#CAC27E\"/>\n",
       "\t<rect x=\"766.03\" y=\"2517.55\" width=\"10.97\" height=\"2.80\" style=\"fill:none;stroke:#D7D29E;stroke-width:6.48\"/>\n",
       "\t<rect x=\"780.24\" y=\"2520.12\" width=\"17.57\" height=\"3.47\" style=\"fill:#CAC27E\"/>\n",
       "\t<rect x=\"783.48\" y=\"2520.35\" width=\"11.09\" height=\"3.01\" style=\"fill:none;stroke:#D7D29E;stroke-width:6.48\"/>\n",
       "\t<rect x=\"797.82\" y=\"2512.33\" width=\"17.45\" height=\"11.26\" style=\"fill:#CAC27E\"/>\n",
       "\t<rect x=\"801.06\" y=\"2515.57\" width=\"10.97\" height=\"4.78\" style=\"fill:none;stroke:#D7D29E;stroke-width:6.48\"/>\n",
       "\t<rect x=\"815.26\" y=\"2522.85\" width=\"17.57\" height=\"0.74\" style=\"fill:#CAC27E\"/>\n",
       "\t<rect x=\"818.50\" y=\"2520.35\" width=\"11.09\" height=\"5.74\" style=\"fill:none;stroke:#D7D29E;stroke-width:6.48\"/>\n",
       "\t<rect x=\"832.84\" y=\"2523.09\" width=\"17.45\" height=\"0.50\" style=\"fill:#CAC27E\"/>\n",
       "\t<rect x=\"836.08\" y=\"2520.35\" width=\"10.97\" height=\"5.98\" style=\"fill:none;stroke:#D7D29E;stroke-width:6.48\"/>\n",
       "\t<rect x=\"850.29\" y=\"2521.61\" width=\"17.57\" height=\"1.98\" style=\"fill:#CAC27E\"/>\n",
       "\t<rect x=\"853.53\" y=\"2520.35\" width=\"11.09\" height=\"4.50\" style=\"fill:none;stroke:#D7D29E;stroke-width:6.48\"/>\n",
       "\t<rect x=\"867.86\" y=\"2521.61\" width=\"17.45\" height=\"1.98\" style=\"fill:#CAC27E\"/>\n",
       "\t<rect x=\"871.10\" y=\"2520.35\" width=\"10.97\" height=\"4.50\" style=\"fill:none;stroke:#D7D29E;stroke-width:6.48\"/>\n",
       "\t<rect x=\"885.31\" y=\"2519.50\" width=\"17.45\" height=\"4.08\" style=\"fill:#CAC27E\"/>\n",
       "\t<rect x=\"888.55\" y=\"2520.35\" width=\"10.97\" height=\"2.40\" style=\"fill:none;stroke:#D7D29E;stroke-width:6.48\"/>\n",
       "\t<rect x=\"902.76\" y=\"2522.23\" width=\"17.57\" height=\"1.36\" style=\"fill:#CAC27E\"/>\n",
       "\t<rect x=\"906.00\" y=\"2520.35\" width=\"11.09\" height=\"5.12\" style=\"fill:none;stroke:#D7D29E;stroke-width:6.48\"/>\n",
       "\t<rect x=\"920.33\" y=\"2521.86\" width=\"17.45\" height=\"1.73\" style=\"fill:#CAC27E\"/>\n",
       "\t<rect x=\"923.57\" y=\"2520.35\" width=\"10.97\" height=\"4.75\" style=\"fill:none;stroke:#D7D29E;stroke-width:6.48\"/>\n",
       "\t<rect x=\"937.78\" y=\"2523.09\" width=\"17.57\" height=\"0.50\" style=\"fill:#CAC27E\"/>\n",
       "\t<rect x=\"941.02\" y=\"2520.35\" width=\"11.09\" height=\"5.98\" style=\"fill:none;stroke:#D7D29E;stroke-width:6.48\"/>\n",
       "\t<rect x=\"955.35\" y=\"2522.72\" width=\"17.45\" height=\"0.87\" style=\"fill:#CAC27E\"/>\n",
       "\t<rect x=\"958.59\" y=\"2520.35\" width=\"10.97\" height=\"5.61\" style=\"fill:none;stroke:#D7D29E;stroke-width:6.48\"/>\n",
       "\t<rect x=\"972.80\" y=\"2521.86\" width=\"17.57\" height=\"1.73\" style=\"fill:#CAC27E\"/>\n",
       "\t<rect x=\"976.04\" y=\"2520.35\" width=\"11.09\" height=\"4.75\" style=\"fill:none;stroke:#D7D29E;stroke-width:6.48\"/>\n",
       "\t<rect x=\"990.37\" y=\"2520.50\" width=\"17.45\" height=\"3.09\" style=\"fill:#CAC27E\"/>\n",
       "\t<rect x=\"993.61\" y=\"2520.35\" width=\"10.97\" height=\"3.39\" style=\"fill:none;stroke:#D7D29E;stroke-width:6.48\"/>\n",
       "\t<rect x=\"1007.82\" y=\"2520.37\" width=\"17.57\" height=\"3.22\" style=\"fill:#CAC27E\"/>\n",
       "\t<rect x=\"1011.06\" y=\"2520.35\" width=\"11.09\" height=\"3.26\" style=\"fill:none;stroke:#D7D29E;stroke-width:6.48\"/>\n",
       "\t<rect x=\"1025.39\" y=\"2523.34\" width=\"17.45\" height=\"0.25\" style=\"fill:#CAC27E\"/>\n",
       "\t<rect x=\"1028.63\" y=\"2520.35\" width=\"10.97\" height=\"6.23\" style=\"fill:none;stroke:#D7D29E;stroke-width:6.48\"/>\n",
       "\t<rect x=\"1042.84\" y=\"2522.48\" width=\"17.45\" height=\"1.11\" style=\"fill:#CAC27E\"/>\n",
       "\t<rect x=\"1046.08\" y=\"2520.35\" width=\"10.97\" height=\"5.37\" style=\"fill:none;stroke:#D7D29E;stroke-width:6.48\"/>\n",
       "\t<rect x=\"1060.29\" y=\"2523.09\" width=\"17.57\" height=\"0.50\" style=\"fill:#CAC27E\"/>\n",
       "\t<rect x=\"1063.53\" y=\"2520.35\" width=\"11.09\" height=\"5.98\" style=\"fill:none;stroke:#D7D29E;stroke-width:6.48\"/>\n",
       "\t<rect x=\"1095.31\" y=\"2522.85\" width=\"17.57\" height=\"0.74\" style=\"fill:#CAC27E\"/>\n",
       "\t<rect x=\"1098.55\" y=\"2520.35\" width=\"11.09\" height=\"5.74\" style=\"fill:none;stroke:#D7D29E;stroke-width:6.48\"/>\n",
       "\t<rect x=\"1112.88\" y=\"2523.34\" width=\"17.45\" height=\"0.25\" style=\"fill:#CAC27E\"/>\n",
       "\t<rect x=\"1116.12\" y=\"2520.35\" width=\"10.97\" height=\"6.23\" style=\"fill:none;stroke:#D7D29E;stroke-width:6.48\"/>\n",
       "\t<rect x=\"1130.33\" y=\"2522.72\" width=\"17.57\" height=\"0.87\" style=\"fill:#CAC27E\"/>\n",
       "\t<rect x=\"1133.57\" y=\"2520.35\" width=\"11.09\" height=\"5.61\" style=\"fill:none;stroke:#D7D29E;stroke-width:6.48\"/>\n",
       "\t<rect x=\"1147.90\" y=\"2523.09\" width=\"17.45\" height=\"0.50\" style=\"fill:#CAC27E\"/>\n",
       "\t<rect x=\"1151.14\" y=\"2520.35\" width=\"10.97\" height=\"5.98\" style=\"fill:none;stroke:#D7D29E;stroke-width:6.48\"/>\n",
       "\t<rect x=\"1200.38\" y=\"2520.50\" width=\"17.45\" height=\"3.09\" style=\"fill:#CAC27E\"/>\n",
       "\t<rect x=\"1203.61\" y=\"2520.35\" width=\"10.97\" height=\"3.39\" style=\"fill:none;stroke:#D7D29E;stroke-width:6.48\"/>\n",
       "\t<line x1=\"356.40\" y1=\"2523.59\" x2=\"356.40\" y2=\"138.98\" style=\"stroke:#000000;stroke-width:4.32\"/>\n",
       "\t<line x1=\"356.40\" y1=\"2523.59\" x2=\"326.45\" y2=\"2523.59\" style=\"stroke:#000000;stroke-width:4.32\"/>\n",
       "\t<text x=\"288.92\" y=\"2523.59\" style=\"font-family:'Helvetica';font-size:74.99px;fill:#000000\" transform=\"rotate(-90 288.92,2523.59)\" text-anchor=\"middle\">0</text>\n",
       "\t<line x1=\"356.40\" y1=\"2056.17\" x2=\"326.45\" y2=\"2056.17\" style=\"stroke:#000000;stroke-width:4.32\"/>\n",
       "\t<text x=\"288.92\" y=\"2056.17\" style=\"font-family:'Helvetica';font-size:74.99px;fill:#000000\" transform=\"rotate(-90 288.92,2056.17)\" text-anchor=\"middle\">.02</text>\n",
       "\t<line x1=\"356.40\" y1=\"1588.75\" x2=\"326.45\" y2=\"1588.75\" style=\"stroke:#000000;stroke-width:4.32\"/>\n",
       "\t<text x=\"288.92\" y=\"1588.75\" style=\"font-family:'Helvetica';font-size:74.99px;fill:#000000\" transform=\"rotate(-90 288.92,1588.75)\" text-anchor=\"middle\">.04</text>\n",
       "\t<line x1=\"356.40\" y1=\"1121.33\" x2=\"326.45\" y2=\"1121.33\" style=\"stroke:#000000;stroke-width:4.32\"/>\n",
       "\t<text x=\"288.92\" y=\"1121.33\" style=\"font-family:'Helvetica';font-size:74.99px;fill:#000000\" transform=\"rotate(-90 288.92,1121.33)\" text-anchor=\"middle\">.06</text>\n",
       "\t<line x1=\"356.40\" y1=\"653.92\" x2=\"326.45\" y2=\"653.92\" style=\"stroke:#000000;stroke-width:4.32\"/>\n",
       "\t<text x=\"288.92\" y=\"653.92\" style=\"font-family:'Helvetica';font-size:74.99px;fill:#000000\" transform=\"rotate(-90 288.92,653.92)\" text-anchor=\"middle\">.08</text>\n",
       "\t<line x1=\"356.40\" y1=\"186.50\" x2=\"326.45\" y2=\"186.50\" style=\"stroke:#000000;stroke-width:4.32\"/>\n",
       "\t<text x=\"288.92\" y=\"186.50\" style=\"font-family:'Helvetica';font-size:74.99px;fill:#000000\" transform=\"rotate(-90 288.92,186.50)\" text-anchor=\"middle\">.1</text>\n",
       "\t<text x=\"206.38\" y=\"1331.22\" style=\"font-family:'Helvetica';font-size:74.99px;fill:#000000\" transform=\"rotate(-90 206.38,1331.22)\" text-anchor=\"middle\">Density</text>\n",
       "\t<line x1=\"356.40\" y1=\"2523.59\" x2=\"1265.47\" y2=\"2523.59\" style=\"stroke:#000000;stroke-width:4.32\"/>\n",
       "\t<line x1=\"410.97\" y1=\"2523.59\" x2=\"410.97\" y2=\"2553.54\" style=\"stroke:#000000;stroke-width:4.32\"/>\n",
       "\t<text x=\"410.97\" y=\"2620.95\" style=\"font-family:'Helvetica';font-size:74.99px;fill:#000000\" text-anchor=\"middle\">0</text>\n",
       "\t<line x1=\"572.47\" y1=\"2523.59\" x2=\"572.47\" y2=\"2553.54\" style=\"stroke:#000000;stroke-width:4.32\"/>\n",
       "\t<text x=\"572.47\" y=\"2620.95\" style=\"font-family:'Helvetica';font-size:74.99px;fill:#000000\" text-anchor=\"middle\">20</text>\n",
       "\t<line x1=\"733.84\" y1=\"2523.59\" x2=\"733.84\" y2=\"2553.54\" style=\"stroke:#000000;stroke-width:4.32\"/>\n",
       "\t<text x=\"733.84\" y=\"2620.95\" style=\"font-family:'Helvetica';font-size:74.99px;fill:#000000\" text-anchor=\"middle\">40</text>\n",
       "\t<line x1=\"895.21\" y1=\"2523.59\" x2=\"895.21\" y2=\"2553.54\" style=\"stroke:#000000;stroke-width:4.32\"/>\n",
       "\t<text x=\"895.21\" y=\"2620.95\" style=\"font-family:'Helvetica';font-size:74.99px;fill:#000000\" text-anchor=\"middle\">60</text>\n",
       "\t<line x1=\"1056.58\" y1=\"2523.59\" x2=\"1056.58\" y2=\"2553.54\" style=\"stroke:#000000;stroke-width:4.32\"/>\n",
       "\t<text x=\"1056.58\" y=\"2620.95\" style=\"font-family:'Helvetica';font-size:74.99px;fill:#000000\" text-anchor=\"middle\">80</text>\n",
       "\t<line x1=\"1217.95\" y1=\"2523.59\" x2=\"1217.95\" y2=\"2553.54\" style=\"stroke:#000000;stroke-width:4.32\"/>\n",
       "\t<text x=\"1217.95\" y=\"2620.95\" style=\"font-family:'Helvetica';font-size:74.99px;fill:#000000\" text-anchor=\"middle\">100</text>\n",
       "\t<text x=\"810.93\" y=\"2703.49\" style=\"font-family:'Helvetica';font-size:74.99px;fill:#000000\" text-anchor=\"middle\">hourly wage</text>\n",
       "\t<rect x=\"1341.08\" y=\"63.36\" width=\"1277.72\" height=\"2753.28\" style=\"fill:#EAF2F3\"/>\n",
       "\t<rect x=\"1343.24\" y=\"65.52\" width=\"1273.40\" height=\"2748.96\" style=\"fill:none;stroke:#EAF2F3;stroke-width:4.32\"/>\n",
       "\t<rect x=\"1634.12\" y=\"138.98\" width=\"909.07\" height=\"2384.61\" style=\"fill:#FFFFFF\"/>\n",
       "\t<rect x=\"1636.28\" y=\"141.14\" width=\"904.75\" height=\"2380.29\" style=\"fill:none;stroke:#FFFFFF;stroke-width:4.32\"/>\n",
       "\t<line x1=\"1634.12\" y1=\"2523.59\" x2=\"2543.19\" y2=\"2523.59\" style=\"stroke:#EAF2F3;stroke-width:6.48\"/>\n",
       "\t<line x1=\"1634.12\" y1=\"2056.17\" x2=\"2543.19\" y2=\"2056.17\" style=\"stroke:#EAF2F3;stroke-width:6.48\"/>\n",
       "\t<line x1=\"1634.12\" y1=\"1588.75\" x2=\"2543.19\" y2=\"1588.75\" style=\"stroke:#EAF2F3;stroke-width:6.48\"/>\n",
       "\t<line x1=\"1634.12\" y1=\"1121.33\" x2=\"2543.19\" y2=\"1121.33\" style=\"stroke:#EAF2F3;stroke-width:6.48\"/>\n",
       "\t<line x1=\"1634.12\" y1=\"653.92\" x2=\"2543.19\" y2=\"653.92\" style=\"stroke:#EAF2F3;stroke-width:6.48\"/>\n",
       "\t<line x1=\"1634.12\" y1=\"186.50\" x2=\"2543.19\" y2=\"186.50\" style=\"stroke:#EAF2F3;stroke-width:6.48\"/>\n",
       "\t<rect x=\"1690.42\" y=\"2468.64\" width=\"17.57\" height=\"54.95\" style=\"fill:#CAC27E\"/>\n",
       "\t<rect x=\"1693.66\" y=\"2471.88\" width=\"11.09\" height=\"48.47\" style=\"fill:none;stroke:#D7D29E;stroke-width:6.48\"/>\n",
       "\t<rect x=\"1708.00\" y=\"2440.67\" width=\"17.45\" height=\"82.92\" style=\"fill:#CAC27E\"/>\n",
       "\t<rect x=\"1711.24\" y=\"2443.91\" width=\"10.97\" height=\"76.44\" style=\"fill:none;stroke:#D7D29E;stroke-width:6.48\"/>\n",
       "\t<rect x=\"1725.45\" y=\"2112.85\" width=\"17.45\" height=\"410.74\" style=\"fill:#CAC27E\"/>\n",
       "\t<rect x=\"1728.69\" y=\"2116.09\" width=\"10.97\" height=\"404.26\" style=\"fill:none;stroke:#D7D29E;stroke-width:6.48\"/>\n",
       "\t<rect x=\"1742.89\" y=\"512.22\" width=\"17.57\" height=\"2011.37\" style=\"fill:#CAC27E\"/>\n",
       "\t<rect x=\"1746.13\" y=\"515.46\" width=\"11.09\" height=\"2004.89\" style=\"fill:none;stroke:#D7D29E;stroke-width:6.48\"/>\n",
       "\t<rect x=\"1760.47\" y=\"788.31\" width=\"17.45\" height=\"1735.28\" style=\"fill:#CAC27E\"/>\n",
       "\t<rect x=\"1763.71\" y=\"791.55\" width=\"10.97\" height=\"1728.80\" style=\"fill:none;stroke:#D7D29E;stroke-width:6.48\"/>\n",
       "\t<rect x=\"1777.92\" y=\"1047.08\" width=\"17.57\" height=\"1476.51\" style=\"fill:#CAC27E\"/>\n",
       "\t<rect x=\"1781.16\" y=\"1050.32\" width=\"11.09\" height=\"1470.03\" style=\"fill:none;stroke:#D7D29E;stroke-width:6.48\"/>\n",
       "\t<rect x=\"1795.49\" y=\"1306.10\" width=\"17.45\" height=\"1217.49\" style=\"fill:#CAC27E\"/>\n",
       "\t<rect x=\"1798.73\" y=\"1309.34\" width=\"10.97\" height=\"1211.01\" style=\"fill:none;stroke:#D7D29E;stroke-width:6.48\"/>\n",
       "\t<rect x=\"1812.94\" y=\"1748.39\" width=\"17.57\" height=\"775.19\" style=\"fill:#CAC27E\"/>\n",
       "\t<rect x=\"1816.18\" y=\"1751.63\" width=\"11.09\" height=\"768.71\" style=\"fill:none;stroke:#D7D29E;stroke-width:6.48\"/>\n",
       "\t<rect x=\"1830.51\" y=\"1650.51\" width=\"17.45\" height=\"873.08\" style=\"fill:#CAC27E\"/>\n",
       "\t<rect x=\"1833.75\" y=\"1653.75\" width=\"10.97\" height=\"866.60\" style=\"fill:none;stroke:#D7D29E;stroke-width:6.48\"/>\n",
       "\t<rect x=\"1847.96\" y=\"2114.09\" width=\"17.57\" height=\"409.50\" style=\"fill:#CAC27E\"/>\n",
       "\t<rect x=\"1851.20\" y=\"2117.33\" width=\"11.09\" height=\"403.02\" style=\"fill:none;stroke:#D7D29E;stroke-width:6.48\"/>\n",
       "\t<rect x=\"1865.53\" y=\"2185.37\" width=\"17.45\" height=\"338.22\" style=\"fill:#CAC27E\"/>\n",
       "\t<rect x=\"1868.77\" y=\"2188.61\" width=\"10.97\" height=\"331.74\" style=\"fill:none;stroke:#D7D29E;stroke-width:6.48\"/>\n",
       "\t<rect x=\"1882.98\" y=\"2154.68\" width=\"17.45\" height=\"368.91\" style=\"fill:#CAC27E\"/>\n",
       "\t<rect x=\"1886.22\" y=\"2157.92\" width=\"10.97\" height=\"362.43\" style=\"fill:none;stroke:#D7D29E;stroke-width:6.48\"/>\n",
       "\t<rect x=\"1900.43\" y=\"2314.32\" width=\"17.57\" height=\"209.27\" style=\"fill:#CAC27E\"/>\n",
       "\t<rect x=\"1903.67\" y=\"2317.56\" width=\"11.09\" height=\"202.79\" style=\"fill:none;stroke:#D7D29E;stroke-width:6.48\"/>\n",
       "\t<rect x=\"1918.00\" y=\"2307.89\" width=\"17.45\" height=\"215.70\" style=\"fill:#CAC27E\"/>\n",
       "\t<rect x=\"1921.24\" y=\"2311.13\" width=\"10.97\" height=\"209.22\" style=\"fill:none;stroke:#D7D29E;stroke-width:6.48\"/>\n",
       "\t<rect x=\"1935.45\" y=\"2362.59\" width=\"17.57\" height=\"161.00\" style=\"fill:#CAC27E\"/>\n",
       "\t<rect x=\"1938.69\" y=\"2365.82\" width=\"11.09\" height=\"154.52\" style=\"fill:none;stroke:#D7D29E;stroke-width:6.48\"/>\n",
       "\t<rect x=\"1953.02\" y=\"2414.81\" width=\"17.45\" height=\"108.78\" style=\"fill:#CAC27E\"/>\n",
       "\t<rect x=\"1956.26\" y=\"2418.05\" width=\"10.97\" height=\"102.30\" style=\"fill:none;stroke:#D7D29E;stroke-width:6.48\"/>\n",
       "\t<rect x=\"1970.47\" y=\"2454.29\" width=\"17.57\" height=\"69.30\" style=\"fill:#CAC27E\"/>\n",
       "\t<rect x=\"1973.71\" y=\"2457.53\" width=\"11.09\" height=\"62.82\" style=\"fill:none;stroke:#D7D29E;stroke-width:6.48\"/>\n",
       "\t<rect x=\"1988.04\" y=\"2484.11\" width=\"17.45\" height=\"39.48\" style=\"fill:#CAC27E\"/>\n",
       "\t<rect x=\"1991.28\" y=\"2487.35\" width=\"10.97\" height=\"33.00\" style=\"fill:none;stroke:#D7D29E;stroke-width:6.48\"/>\n",
       "\t<rect x=\"2005.49\" y=\"2465.80\" width=\"17.45\" height=\"57.79\" style=\"fill:#CAC27E\"/>\n",
       "\t<rect x=\"2008.73\" y=\"2469.04\" width=\"10.97\" height=\"51.31\" style=\"fill:none;stroke:#D7D29E;stroke-width:6.48\"/>\n",
       "\t<rect x=\"2022.94\" y=\"2489.56\" width=\"17.57\" height=\"34.03\" style=\"fill:#CAC27E\"/>\n",
       "\t<rect x=\"2026.18\" y=\"2492.80\" width=\"11.09\" height=\"27.55\" style=\"fill:none;stroke:#D7D29E;stroke-width:6.48\"/>\n",
       "\t<rect x=\"2040.51\" y=\"2497.11\" width=\"17.45\" height=\"26.48\" style=\"fill:#CAC27E\"/>\n",
       "\t<rect x=\"2043.75\" y=\"2500.35\" width=\"10.97\" height=\"20.00\" style=\"fill:none;stroke:#D7D29E;stroke-width:6.48\"/>\n",
       "\t<rect x=\"2057.96\" y=\"2504.41\" width=\"17.57\" height=\"19.18\" style=\"fill:#CAC27E\"/>\n",
       "\t<rect x=\"2061.20\" y=\"2507.65\" width=\"11.09\" height=\"12.70\" style=\"fill:none;stroke:#D7D29E;stroke-width:6.48\"/>\n",
       "\t<rect x=\"2075.53\" y=\"2495.99\" width=\"17.45\" height=\"27.60\" style=\"fill:#CAC27E\"/>\n",
       "\t<rect x=\"2078.77\" y=\"2499.23\" width=\"10.97\" height=\"21.12\" style=\"fill:none;stroke:#D7D29E;stroke-width:6.48\"/>\n",
       "\t<rect x=\"2092.98\" y=\"2511.46\" width=\"17.57\" height=\"12.13\" style=\"fill:#CAC27E\"/>\n",
       "\t<rect x=\"2096.22\" y=\"2514.70\" width=\"11.09\" height=\"5.65\" style=\"fill:none;stroke:#D7D29E;stroke-width:6.48\"/>\n",
       "\t<rect x=\"2110.56\" y=\"2514.68\" width=\"17.45\" height=\"8.91\" style=\"fill:#CAC27E\"/>\n",
       "\t<rect x=\"2113.80\" y=\"2517.92\" width=\"10.97\" height=\"2.43\" style=\"fill:none;stroke:#D7D29E;stroke-width:6.48\"/>\n",
       "\t<rect x=\"2128.01\" y=\"2509.48\" width=\"17.57\" height=\"14.11\" style=\"fill:#CAC27E\"/>\n",
       "\t<rect x=\"2131.24\" y=\"2512.72\" width=\"11.09\" height=\"7.63\" style=\"fill:none;stroke:#D7D29E;stroke-width:6.48\"/>\n",
       "\t<rect x=\"2145.58\" y=\"2516.53\" width=\"17.45\" height=\"7.05\" style=\"fill:#CAC27E\"/>\n",
       "\t<rect x=\"2148.82\" y=\"2519.77\" width=\"10.97\" height=\"0.57\" style=\"fill:none;stroke:#D7D29E;stroke-width:6.48\"/>\n",
       "\t<rect x=\"2163.03\" y=\"2508.99\" width=\"17.45\" height=\"14.60\" style=\"fill:#CAC27E\"/>\n",
       "\t<rect x=\"2166.27\" y=\"2512.23\" width=\"10.97\" height=\"8.12\" style=\"fill:none;stroke:#D7D29E;stroke-width:6.48\"/>\n",
       "\t<rect x=\"2180.47\" y=\"2522.48\" width=\"17.57\" height=\"1.11\" style=\"fill:#CAC27E\"/>\n",
       "\t<rect x=\"2183.71\" y=\"2520.35\" width=\"11.09\" height=\"5.37\" style=\"fill:none;stroke:#D7D29E;stroke-width:6.48\"/>\n",
       "\t<rect x=\"2198.05\" y=\"2519.63\" width=\"17.45\" height=\"3.96\" style=\"fill:#CAC27E\"/>\n",
       "\t<rect x=\"2201.29\" y=\"2520.35\" width=\"10.97\" height=\"2.52\" style=\"fill:none;stroke:#D7D29E;stroke-width:6.48\"/>\n",
       "\t<rect x=\"2215.50\" y=\"2522.85\" width=\"17.57\" height=\"0.74\" style=\"fill:#CAC27E\"/>\n",
       "\t<rect x=\"2218.74\" y=\"2520.35\" width=\"11.09\" height=\"5.74\" style=\"fill:none;stroke:#D7D29E;stroke-width:6.48\"/>\n",
       "\t<rect x=\"2233.07\" y=\"2521.61\" width=\"17.45\" height=\"1.98\" style=\"fill:#CAC27E\"/>\n",
       "\t<rect x=\"2236.31\" y=\"2520.35\" width=\"10.97\" height=\"4.50\" style=\"fill:none;stroke:#D7D29E;stroke-width:6.48\"/>\n",
       "\t<rect x=\"2250.52\" y=\"2519.38\" width=\"17.57\" height=\"4.21\" style=\"fill:#CAC27E\"/>\n",
       "\t<rect x=\"2253.76\" y=\"2520.35\" width=\"11.09\" height=\"2.27\" style=\"fill:none;stroke:#D7D29E;stroke-width:6.48\"/>\n",
       "\t<rect x=\"2268.09\" y=\"2517.77\" width=\"17.45\" height=\"5.82\" style=\"fill:#CAC27E\"/>\n",
       "\t<rect x=\"2271.33\" y=\"2520.35\" width=\"10.97\" height=\"0.66\" style=\"fill:none;stroke:#D7D29E;stroke-width:6.48\"/>\n",
       "\t<rect x=\"2285.54\" y=\"2518.51\" width=\"17.57\" height=\"5.07\" style=\"fill:#CAC27E\"/>\n",
       "\t<rect x=\"2288.78\" y=\"2520.35\" width=\"11.09\" height=\"1.41\" style=\"fill:none;stroke:#D7D29E;stroke-width:6.48\"/>\n",
       "\t<rect x=\"2303.11\" y=\"2523.09\" width=\"17.45\" height=\"0.50\" style=\"fill:#CAC27E\"/>\n",
       "\t<rect x=\"2306.35\" y=\"2520.35\" width=\"10.97\" height=\"5.98\" style=\"fill:none;stroke:#D7D29E;stroke-width:6.48\"/>\n",
       "\t<rect x=\"2320.56\" y=\"2522.23\" width=\"17.45\" height=\"1.36\" style=\"fill:#CAC27E\"/>\n",
       "\t<rect x=\"2323.80\" y=\"2520.35\" width=\"10.97\" height=\"5.12\" style=\"fill:none;stroke:#D7D29E;stroke-width:6.48\"/>\n",
       "\t<rect x=\"2338.01\" y=\"2522.23\" width=\"17.57\" height=\"1.36\" style=\"fill:#CAC27E\"/>\n",
       "\t<rect x=\"2341.25\" y=\"2520.35\" width=\"11.09\" height=\"5.12\" style=\"fill:none;stroke:#D7D29E;stroke-width:6.48\"/>\n",
       "\t<rect x=\"2355.58\" y=\"2522.23\" width=\"17.45\" height=\"1.36\" style=\"fill:#CAC27E\"/>\n",
       "\t<rect x=\"2358.82\" y=\"2520.35\" width=\"10.97\" height=\"5.12\" style=\"fill:none;stroke:#D7D29E;stroke-width:6.48\"/>\n",
       "\t<rect x=\"2373.03\" y=\"2522.23\" width=\"17.57\" height=\"1.36\" style=\"fill:#CAC27E\"/>\n",
       "\t<rect x=\"2376.27\" y=\"2520.35\" width=\"11.09\" height=\"5.12\" style=\"fill:none;stroke:#D7D29E;stroke-width:6.48\"/>\n",
       "\t<rect x=\"2390.60\" y=\"2522.72\" width=\"17.45\" height=\"0.87\" style=\"fill:#CAC27E\"/>\n",
       "\t<rect x=\"2393.84\" y=\"2520.35\" width=\"10.97\" height=\"5.61\" style=\"fill:none;stroke:#D7D29E;stroke-width:6.48\"/>\n",
       "\t<rect x=\"2408.05\" y=\"2521.98\" width=\"17.57\" height=\"1.61\" style=\"fill:#CAC27E\"/>\n",
       "\t<rect x=\"2411.29\" y=\"2520.35\" width=\"11.09\" height=\"4.87\" style=\"fill:none;stroke:#D7D29E;stroke-width:6.48\"/>\n",
       "\t<rect x=\"2425.62\" y=\"2523.34\" width=\"17.45\" height=\"0.25\" style=\"fill:#CAC27E\"/>\n",
       "\t<rect x=\"2428.86\" y=\"2520.35\" width=\"10.97\" height=\"6.23\" style=\"fill:none;stroke:#D7D29E;stroke-width:6.48\"/>\n",
       "\t<rect x=\"2478.09\" y=\"2517.65\" width=\"17.45\" height=\"5.94\" style=\"fill:#CAC27E\"/>\n",
       "\t<rect x=\"2481.33\" y=\"2520.35\" width=\"10.97\" height=\"0.54\" style=\"fill:none;stroke:#D7D29E;stroke-width:6.48\"/>\n",
       "\t<line x1=\"1634.12\" y1=\"2523.59\" x2=\"1634.12\" y2=\"138.98\" style=\"stroke:#000000;stroke-width:4.32\"/>\n",
       "\t<line x1=\"1634.12\" y1=\"2523.59\" x2=\"1604.17\" y2=\"2523.59\" style=\"stroke:#000000;stroke-width:4.32\"/>\n",
       "\t<text x=\"1566.64\" y=\"2523.59\" style=\"font-family:'Helvetica';font-size:74.99px;fill:#000000\" transform=\"rotate(-90 1566.64,2523.59)\" text-anchor=\"middle\">0</text>\n",
       "\t<line x1=\"1634.12\" y1=\"2056.17\" x2=\"1604.17\" y2=\"2056.17\" style=\"stroke:#000000;stroke-width:4.32\"/>\n",
       "\t<text x=\"1566.64\" y=\"2056.17\" style=\"font-family:'Helvetica';font-size:74.99px;fill:#000000\" transform=\"rotate(-90 1566.64,2056.17)\" text-anchor=\"middle\">.02</text>\n",
       "\t<line x1=\"1634.12\" y1=\"1588.75\" x2=\"1604.17\" y2=\"1588.75\" style=\"stroke:#000000;stroke-width:4.32\"/>\n",
       "\t<text x=\"1566.64\" y=\"1588.75\" style=\"font-family:'Helvetica';font-size:74.99px;fill:#000000\" transform=\"rotate(-90 1566.64,1588.75)\" text-anchor=\"middle\">.04</text>\n",
       "\t<line x1=\"1634.12\" y1=\"1121.33\" x2=\"1604.17\" y2=\"1121.33\" style=\"stroke:#000000;stroke-width:4.32\"/>\n",
       "\t<text x=\"1566.64\" y=\"1121.33\" style=\"font-family:'Helvetica';font-size:74.99px;fill:#000000\" transform=\"rotate(-90 1566.64,1121.33)\" text-anchor=\"middle\">.06</text>\n",
       "\t<line x1=\"1634.12\" y1=\"653.92\" x2=\"1604.17\" y2=\"653.92\" style=\"stroke:#000000;stroke-width:4.32\"/>\n",
       "\t<text x=\"1566.64\" y=\"653.92\" style=\"font-family:'Helvetica';font-size:74.99px;fill:#000000\" transform=\"rotate(-90 1566.64,653.92)\" text-anchor=\"middle\">.08</text>\n",
       "\t<line x1=\"1634.12\" y1=\"186.50\" x2=\"1604.17\" y2=\"186.50\" style=\"stroke:#000000;stroke-width:4.32\"/>\n",
       "\t<text x=\"1566.64\" y=\"186.50\" style=\"font-family:'Helvetica';font-size:74.99px;fill:#000000\" transform=\"rotate(-90 1566.64,186.50)\" text-anchor=\"middle\">.1</text>\n",
       "\t<text x=\"1484.10\" y=\"1331.22\" style=\"font-family:'Helvetica';font-size:74.99px;fill:#000000\" transform=\"rotate(-90 1484.10,1331.22)\" text-anchor=\"middle\">Density</text>\n",
       "\t<line x1=\"1634.12\" y1=\"2523.59\" x2=\"2543.19\" y2=\"2523.59\" style=\"stroke:#000000;stroke-width:4.32\"/>\n",
       "\t<line x1=\"1685.60\" y1=\"2523.59\" x2=\"1685.60\" y2=\"2553.54\" style=\"stroke:#000000;stroke-width:4.32\"/>\n",
       "\t<text x=\"1685.60\" y=\"2620.95\" style=\"font-family:'Helvetica';font-size:74.99px;fill:#000000\" text-anchor=\"middle\">0</text>\n",
       "\t<line x1=\"1847.71\" y1=\"2523.59\" x2=\"1847.71\" y2=\"2553.54\" style=\"stroke:#000000;stroke-width:4.32\"/>\n",
       "\t<text x=\"1847.71\" y=\"2620.95\" style=\"font-family:'Helvetica';font-size:74.99px;fill:#000000\" text-anchor=\"middle\">20</text>\n",
       "\t<line x1=\"2009.70\" y1=\"2523.59\" x2=\"2009.70\" y2=\"2553.54\" style=\"stroke:#000000;stroke-width:4.32\"/>\n",
       "\t<text x=\"2009.70\" y=\"2620.95\" style=\"font-family:'Helvetica';font-size:74.99px;fill:#000000\" text-anchor=\"middle\">40</text>\n",
       "\t<line x1=\"2171.69\" y1=\"2523.59\" x2=\"2171.69\" y2=\"2553.54\" style=\"stroke:#000000;stroke-width:4.32\"/>\n",
       "\t<text x=\"2171.69\" y=\"2620.95\" style=\"font-family:'Helvetica';font-size:74.99px;fill:#000000\" text-anchor=\"middle\">60</text>\n",
       "\t<line x1=\"2333.68\" y1=\"2523.59\" x2=\"2333.68\" y2=\"2553.54\" style=\"stroke:#000000;stroke-width:4.32\"/>\n",
       "\t<text x=\"2333.68\" y=\"2620.95\" style=\"font-family:'Helvetica';font-size:74.99px;fill:#000000\" text-anchor=\"middle\">80</text>\n",
       "\t<line x1=\"2495.67\" y1=\"2523.59\" x2=\"2495.67\" y2=\"2553.54\" style=\"stroke:#000000;stroke-width:4.32\"/>\n",
       "\t<text x=\"2495.67\" y=\"2620.95\" style=\"font-family:'Helvetica';font-size:74.99px;fill:#000000\" text-anchor=\"middle\">100</text>\n",
       "\t<text x=\"2088.65\" y=\"2703.49\" style=\"font-family:'Helvetica';font-size:74.99px;fill:#000000\" text-anchor=\"middle\">hourly wage</text>\n",
       "\t<rect x=\"2618.80\" y=\"63.36\" width=\"1277.72\" height=\"2753.28\" style=\"fill:#EAF2F3\"/>\n",
       "\t<rect x=\"2620.96\" y=\"65.52\" width=\"1273.40\" height=\"2748.96\" style=\"fill:none;stroke:#EAF2F3;stroke-width:4.32\"/>\n",
       "\t<rect x=\"2911.84\" y=\"138.98\" width=\"909.07\" height=\"2384.61\" style=\"fill:#FFFFFF\"/>\n",
       "\t<rect x=\"2914.00\" y=\"141.14\" width=\"904.75\" height=\"2380.29\" style=\"fill:none;stroke:#FFFFFF;stroke-width:4.32\"/>\n",
       "\t<line x1=\"2911.84\" y1=\"2523.59\" x2=\"3820.91\" y2=\"2523.59\" style=\"stroke:#EAF2F3;stroke-width:6.48\"/>\n",
       "\t<line x1=\"2911.84\" y1=\"2056.17\" x2=\"3820.91\" y2=\"2056.17\" style=\"stroke:#EAF2F3;stroke-width:6.48\"/>\n",
       "\t<line x1=\"2911.84\" y1=\"1588.75\" x2=\"3820.91\" y2=\"1588.75\" style=\"stroke:#EAF2F3;stroke-width:6.48\"/>\n",
       "\t<line x1=\"2911.84\" y1=\"1121.33\" x2=\"3820.91\" y2=\"1121.33\" style=\"stroke:#EAF2F3;stroke-width:6.48\"/>\n",
       "\t<line x1=\"2911.84\" y1=\"653.92\" x2=\"3820.91\" y2=\"653.92\" style=\"stroke:#EAF2F3;stroke-width:6.48\"/>\n",
       "\t<line x1=\"2911.84\" y1=\"186.50\" x2=\"3820.91\" y2=\"186.50\" style=\"stroke:#EAF2F3;stroke-width:6.48\"/>\n",
       "\t<rect x=\"2968.14\" y=\"2488.69\" width=\"17.57\" height=\"34.90\" style=\"fill:#CAC27E\"/>\n",
       "\t<rect x=\"2971.38\" y=\"2491.93\" width=\"11.09\" height=\"28.42\" style=\"fill:none;stroke:#D7D29E;stroke-width:6.48\"/>\n",
       "\t<rect x=\"2985.72\" y=\"2477.80\" width=\"17.45\" height=\"45.79\" style=\"fill:#CAC27E\"/>\n",
       "\t<rect x=\"2988.96\" y=\"2481.04\" width=\"10.97\" height=\"39.31\" style=\"fill:none;stroke:#D7D29E;stroke-width:6.48\"/>\n",
       "\t<rect x=\"3003.16\" y=\"2471.49\" width=\"17.45\" height=\"52.10\" style=\"fill:#CAC27E\"/>\n",
       "\t<rect x=\"3006.40\" y=\"2474.73\" width=\"10.97\" height=\"45.62\" style=\"fill:none;stroke:#D7D29E;stroke-width:6.48\"/>\n",
       "\t<rect x=\"3020.61\" y=\"1993.67\" width=\"17.57\" height=\"529.91\" style=\"fill:#CAC27E\"/>\n",
       "\t<rect x=\"3023.85\" y=\"1996.91\" width=\"11.09\" height=\"523.43\" style=\"fill:none;stroke:#D7D29E;stroke-width:6.48\"/>\n",
       "\t<rect x=\"3038.19\" y=\"703.66\" width=\"17.45\" height=\"1819.92\" style=\"fill:#CAC27E\"/>\n",
       "\t<rect x=\"3041.43\" y=\"706.90\" width=\"10.97\" height=\"1813.44\" style=\"fill:none;stroke:#D7D29E;stroke-width:6.48\"/>\n",
       "\t<rect x=\"3055.64\" y=\"944.37\" width=\"17.57\" height=\"1579.22\" style=\"fill:#CAC27E\"/>\n",
       "\t<rect x=\"3058.87\" y=\"947.61\" width=\"11.09\" height=\"1572.74\" style=\"fill:none;stroke:#D7D29E;stroke-width:6.48\"/>\n",
       "\t<rect x=\"3073.21\" y=\"1058.84\" width=\"17.45\" height=\"1464.75\" style=\"fill:#CAC27E\"/>\n",
       "\t<rect x=\"3076.45\" y=\"1062.08\" width=\"10.97\" height=\"1458.27\" style=\"fill:none;stroke:#D7D29E;stroke-width:6.48\"/>\n",
       "\t<rect x=\"3090.66\" y=\"1458.19\" width=\"17.57\" height=\"1065.40\" style=\"fill:#CAC27E\"/>\n",
       "\t<rect x=\"3093.90\" y=\"1461.43\" width=\"11.09\" height=\"1058.92\" style=\"fill:none;stroke:#D7D29E;stroke-width:6.48\"/>\n",
       "\t<rect x=\"3108.23\" y=\"1736.76\" width=\"17.45\" height=\"786.83\" style=\"fill:#CAC27E\"/>\n",
       "\t<rect x=\"3111.47\" y=\"1740.00\" width=\"10.97\" height=\"780.35\" style=\"fill:none;stroke:#D7D29E;stroke-width:6.48\"/>\n",
       "\t<rect x=\"3125.68\" y=\"1784.16\" width=\"17.57\" height=\"739.43\" style=\"fill:#CAC27E\"/>\n",
       "\t<rect x=\"3128.92\" y=\"1787.40\" width=\"11.09\" height=\"732.95\" style=\"fill:none;stroke:#D7D29E;stroke-width:6.48\"/>\n",
       "\t<rect x=\"3143.25\" y=\"1966.82\" width=\"17.45\" height=\"556.77\" style=\"fill:#CAC27E\"/>\n",
       "\t<rect x=\"3146.49\" y=\"1970.06\" width=\"10.97\" height=\"550.29\" style=\"fill:none;stroke:#D7D29E;stroke-width:6.48\"/>\n",
       "\t<rect x=\"3160.70\" y=\"2082.53\" width=\"17.45\" height=\"441.06\" style=\"fill:#CAC27E\"/>\n",
       "\t<rect x=\"3163.94\" y=\"2085.77\" width=\"10.97\" height=\"434.58\" style=\"fill:none;stroke:#D7D29E;stroke-width:6.48\"/>\n",
       "\t<rect x=\"3178.15\" y=\"2237.10\" width=\"17.57\" height=\"286.49\" style=\"fill:#CAC27E\"/>\n",
       "\t<rect x=\"3181.39\" y=\"2240.34\" width=\"11.09\" height=\"280.01\" style=\"fill:none;stroke:#D7D29E;stroke-width:6.48\"/>\n",
       "\t<rect x=\"3195.72\" y=\"2233.88\" width=\"17.45\" height=\"289.71\" style=\"fill:#CAC27E\"/>\n",
       "\t<rect x=\"3198.96\" y=\"2237.12\" width=\"10.97\" height=\"283.23\" style=\"fill:none;stroke:#D7D29E;stroke-width:6.48\"/>\n",
       "\t<rect x=\"3213.17\" y=\"2332.39\" width=\"17.57\" height=\"191.20\" style=\"fill:#CAC27E\"/>\n",
       "\t<rect x=\"3216.41\" y=\"2335.63\" width=\"11.09\" height=\"184.72\" style=\"fill:none;stroke:#D7D29E;stroke-width:6.48\"/>\n",
       "\t<rect x=\"3230.74\" y=\"2396.25\" width=\"17.45\" height=\"127.34\" style=\"fill:#CAC27E\"/>\n",
       "\t<rect x=\"3233.98\" y=\"2399.49\" width=\"10.97\" height=\"120.86\" style=\"fill:none;stroke:#D7D29E;stroke-width:6.48\"/>\n",
       "\t<rect x=\"3248.19\" y=\"2334.86\" width=\"17.57\" height=\"188.72\" style=\"fill:#CAC27E\"/>\n",
       "\t<rect x=\"3251.43\" y=\"2338.10\" width=\"11.09\" height=\"182.24\" style=\"fill:none;stroke:#D7D29E;stroke-width:6.48\"/>\n",
       "\t<rect x=\"3265.76\" y=\"2444.14\" width=\"17.45\" height=\"79.45\" style=\"fill:#CAC27E\"/>\n",
       "\t<rect x=\"3269.00\" y=\"2447.38\" width=\"10.97\" height=\"72.97\" style=\"fill:none;stroke:#D7D29E;stroke-width:6.48\"/>\n",
       "\t<rect x=\"3283.21\" y=\"2411.22\" width=\"17.57\" height=\"112.37\" style=\"fill:#CAC27E\"/>\n",
       "\t<rect x=\"3286.45\" y=\"2414.46\" width=\"11.09\" height=\"105.89\" style=\"fill:none;stroke:#D7D29E;stroke-width:6.48\"/>\n",
       "\t<rect x=\"3300.78\" y=\"2470.99\" width=\"17.45\" height=\"52.60\" style=\"fill:#CAC27E\"/>\n",
       "\t<rect x=\"3304.02\" y=\"2474.23\" width=\"10.97\" height=\"46.12\" style=\"fill:none;stroke:#D7D29E;stroke-width:6.48\"/>\n",
       "\t<rect x=\"3318.23\" y=\"2461.09\" width=\"17.45\" height=\"62.50\" style=\"fill:#CAC27E\"/>\n",
       "\t<rect x=\"3321.47\" y=\"2464.33\" width=\"10.97\" height=\"56.02\" style=\"fill:none;stroke:#D7D29E;stroke-width:6.48\"/>\n",
       "\t<rect x=\"3335.68\" y=\"2492.53\" width=\"17.57\" height=\"31.06\" style=\"fill:#CAC27E\"/>\n",
       "\t<rect x=\"3338.92\" y=\"2495.77\" width=\"11.09\" height=\"24.58\" style=\"fill:none;stroke:#D7D29E;stroke-width:6.48\"/>\n",
       "\t<rect x=\"3353.25\" y=\"2459.73\" width=\"17.45\" height=\"63.86\" style=\"fill:#CAC27E\"/>\n",
       "\t<rect x=\"3356.49\" y=\"2462.97\" width=\"10.97\" height=\"57.38\" style=\"fill:none;stroke:#D7D29E;stroke-width:6.48\"/>\n",
       "\t<rect x=\"3370.70\" y=\"2504.90\" width=\"17.57\" height=\"18.69\" style=\"fill:#CAC27E\"/>\n",
       "\t<rect x=\"3373.94\" y=\"2508.14\" width=\"11.09\" height=\"12.21\" style=\"fill:none;stroke:#D7D29E;stroke-width:6.48\"/>\n",
       "\t<rect x=\"3388.28\" y=\"2508.24\" width=\"17.45\" height=\"15.35\" style=\"fill:#CAC27E\"/>\n",
       "\t<rect x=\"3391.51\" y=\"2511.48\" width=\"10.97\" height=\"8.87\" style=\"fill:none;stroke:#D7D29E;stroke-width:6.48\"/>\n",
       "\t<rect x=\"3405.72\" y=\"2500.08\" width=\"17.57\" height=\"23.51\" style=\"fill:#CAC27E\"/>\n",
       "\t<rect x=\"3408.96\" y=\"2503.32\" width=\"11.09\" height=\"17.03\" style=\"fill:none;stroke:#D7D29E;stroke-width:6.48\"/>\n",
       "\t<rect x=\"3423.30\" y=\"2509.98\" width=\"17.45\" height=\"13.61\" style=\"fill:#CAC27E\"/>\n",
       "\t<rect x=\"3426.54\" y=\"2513.22\" width=\"10.97\" height=\"7.13\" style=\"fill:none;stroke:#D7D29E;stroke-width:6.48\"/>\n",
       "\t<rect x=\"3440.74\" y=\"2503.17\" width=\"17.57\" height=\"20.42\" style=\"fill:#CAC27E\"/>\n",
       "\t<rect x=\"3443.98\" y=\"2506.41\" width=\"11.09\" height=\"13.94\" style=\"fill:none;stroke:#D7D29E;stroke-width:6.48\"/>\n",
       "\t<rect x=\"3458.32\" y=\"2513.19\" width=\"17.45\" height=\"10.40\" style=\"fill:#CAC27E\"/>\n",
       "\t<rect x=\"3461.56\" y=\"2516.43\" width=\"10.97\" height=\"3.92\" style=\"fill:none;stroke:#D7D29E;stroke-width:6.48\"/>\n",
       "\t<rect x=\"3475.77\" y=\"2510.72\" width=\"17.45\" height=\"12.87\" style=\"fill:#CAC27E\"/>\n",
       "\t<rect x=\"3479.01\" y=\"2513.96\" width=\"10.97\" height=\"6.39\" style=\"fill:none;stroke:#D7D29E;stroke-width:6.48\"/>\n",
       "\t<rect x=\"3493.22\" y=\"2515.79\" width=\"17.57\" height=\"7.80\" style=\"fill:#CAC27E\"/>\n",
       "\t<rect x=\"3496.45\" y=\"2519.03\" width=\"11.09\" height=\"1.32\" style=\"fill:none;stroke:#D7D29E;stroke-width:6.48\"/>\n",
       "\t<rect x=\"3510.79\" y=\"2520.37\" width=\"17.45\" height=\"3.22\" style=\"fill:#CAC27E\"/>\n",
       "\t<rect x=\"3514.03\" y=\"2520.35\" width=\"10.97\" height=\"3.26\" style=\"fill:none;stroke:#D7D29E;stroke-width:6.48\"/>\n",
       "\t<rect x=\"3528.24\" y=\"2518.02\" width=\"17.57\" height=\"5.57\" style=\"fill:#CAC27E\"/>\n",
       "\t<rect x=\"3531.48\" y=\"2520.35\" width=\"11.09\" height=\"0.91\" style=\"fill:none;stroke:#D7D29E;stroke-width:6.48\"/>\n",
       "\t<rect x=\"3545.81\" y=\"2509.98\" width=\"17.45\" height=\"13.61\" style=\"fill:#CAC27E\"/>\n",
       "\t<rect x=\"3549.05\" y=\"2513.22\" width=\"10.97\" height=\"7.13\" style=\"fill:none;stroke:#D7D29E;stroke-width:6.48\"/>\n",
       "\t<rect x=\"3563.26\" y=\"2518.02\" width=\"17.57\" height=\"5.57\" style=\"fill:#CAC27E\"/>\n",
       "\t<rect x=\"3566.50\" y=\"2520.35\" width=\"11.09\" height=\"0.91\" style=\"fill:none;stroke:#D7D29E;stroke-width:6.48\"/>\n",
       "\t<rect x=\"3580.83\" y=\"2522.35\" width=\"17.45\" height=\"1.24\" style=\"fill:#CAC27E\"/>\n",
       "\t<rect x=\"3584.07\" y=\"2520.35\" width=\"10.97\" height=\"5.24\" style=\"fill:none;stroke:#D7D29E;stroke-width:6.48\"/>\n",
       "\t<rect x=\"3598.28\" y=\"2519.63\" width=\"17.45\" height=\"3.96\" style=\"fill:#CAC27E\"/>\n",
       "\t<rect x=\"3601.52\" y=\"2520.35\" width=\"10.97\" height=\"2.52\" style=\"fill:none;stroke:#D7D29E;stroke-width:6.48\"/>\n",
       "\t<rect x=\"3615.73\" y=\"2522.85\" width=\"17.57\" height=\"0.74\" style=\"fill:#CAC27E\"/>\n",
       "\t<rect x=\"3618.97\" y=\"2520.35\" width=\"11.09\" height=\"5.74\" style=\"fill:none;stroke:#D7D29E;stroke-width:6.48\"/>\n",
       "\t<rect x=\"3633.30\" y=\"2522.35\" width=\"17.45\" height=\"1.24\" style=\"fill:#CAC27E\"/>\n",
       "\t<rect x=\"3636.54\" y=\"2520.35\" width=\"10.97\" height=\"5.24\" style=\"fill:none;stroke:#D7D29E;stroke-width:6.48\"/>\n",
       "\t<rect x=\"3650.75\" y=\"2522.10\" width=\"17.57\" height=\"1.49\" style=\"fill:#CAC27E\"/>\n",
       "\t<rect x=\"3653.99\" y=\"2520.35\" width=\"11.09\" height=\"4.99\" style=\"fill:none;stroke:#D7D29E;stroke-width:6.48\"/>\n",
       "\t<rect x=\"3668.32\" y=\"2522.35\" width=\"17.45\" height=\"1.24\" style=\"fill:#CAC27E\"/>\n",
       "\t<rect x=\"3671.56\" y=\"2520.35\" width=\"10.97\" height=\"5.24\" style=\"fill:none;stroke:#D7D29E;stroke-width:6.48\"/>\n",
       "\t<rect x=\"3685.77\" y=\"2521.86\" width=\"17.57\" height=\"1.73\" style=\"fill:#CAC27E\"/>\n",
       "\t<rect x=\"3689.01\" y=\"2520.35\" width=\"11.09\" height=\"4.75\" style=\"fill:none;stroke:#D7D29E;stroke-width:6.48\"/>\n",
       "\t<rect x=\"3703.34\" y=\"2523.09\" width=\"17.45\" height=\"0.50\" style=\"fill:#CAC27E\"/>\n",
       "\t<rect x=\"3706.58\" y=\"2520.35\" width=\"10.97\" height=\"5.98\" style=\"fill:none;stroke:#D7D29E;stroke-width:6.48\"/>\n",
       "\t<rect x=\"3720.79\" y=\"2522.35\" width=\"17.57\" height=\"1.24\" style=\"fill:#CAC27E\"/>\n",
       "\t<rect x=\"3724.03\" y=\"2520.35\" width=\"11.09\" height=\"5.24\" style=\"fill:none;stroke:#D7D29E;stroke-width:6.48\"/>\n",
       "\t<rect x=\"3738.36\" y=\"2523.34\" width=\"17.45\" height=\"0.25\" style=\"fill:#CAC27E\"/>\n",
       "\t<rect x=\"3741.60\" y=\"2520.35\" width=\"10.97\" height=\"6.23\" style=\"fill:none;stroke:#D7D29E;stroke-width:6.48\"/>\n",
       "\t<rect x=\"3755.81\" y=\"2517.28\" width=\"17.45\" height=\"6.31\" style=\"fill:#CAC27E\"/>\n",
       "\t<rect x=\"3759.05\" y=\"2520.35\" width=\"10.97\" height=\"0.17\" style=\"fill:none;stroke:#D7D29E;stroke-width:6.48\"/>\n",
       "\t<line x1=\"2911.84\" y1=\"2523.59\" x2=\"2911.84\" y2=\"138.98\" style=\"stroke:#000000;stroke-width:4.32\"/>\n",
       "\t<line x1=\"2911.84\" y1=\"2523.59\" x2=\"2881.89\" y2=\"2523.59\" style=\"stroke:#000000;stroke-width:4.32\"/>\n",
       "\t<text x=\"2844.36\" y=\"2523.59\" style=\"font-family:'Helvetica';font-size:74.99px;fill:#000000\" transform=\"rotate(-90 2844.36,2523.59)\" text-anchor=\"middle\">0</text>\n",
       "\t<line x1=\"2911.84\" y1=\"2056.17\" x2=\"2881.89\" y2=\"2056.17\" style=\"stroke:#000000;stroke-width:4.32\"/>\n",
       "\t<text x=\"2844.36\" y=\"2056.17\" style=\"font-family:'Helvetica';font-size:74.99px;fill:#000000\" transform=\"rotate(-90 2844.36,2056.17)\" text-anchor=\"middle\">.02</text>\n",
       "\t<line x1=\"2911.84\" y1=\"1588.75\" x2=\"2881.89\" y2=\"1588.75\" style=\"stroke:#000000;stroke-width:4.32\"/>\n",
       "\t<text x=\"2844.36\" y=\"1588.75\" style=\"font-family:'Helvetica';font-size:74.99px;fill:#000000\" transform=\"rotate(-90 2844.36,1588.75)\" text-anchor=\"middle\">.04</text>\n",
       "\t<line x1=\"2911.84\" y1=\"1121.33\" x2=\"2881.89\" y2=\"1121.33\" style=\"stroke:#000000;stroke-width:4.32\"/>\n",
       "\t<text x=\"2844.36\" y=\"1121.33\" style=\"font-family:'Helvetica';font-size:74.99px;fill:#000000\" transform=\"rotate(-90 2844.36,1121.33)\" text-anchor=\"middle\">.06</text>\n",
       "\t<line x1=\"2911.84\" y1=\"653.92\" x2=\"2881.89\" y2=\"653.92\" style=\"stroke:#000000;stroke-width:4.32\"/>\n",
       "\t<text x=\"2844.36\" y=\"653.92\" style=\"font-family:'Helvetica';font-size:74.99px;fill:#000000\" transform=\"rotate(-90 2844.36,653.92)\" text-anchor=\"middle\">.08</text>\n",
       "\t<line x1=\"2911.84\" y1=\"186.50\" x2=\"2881.89\" y2=\"186.50\" style=\"stroke:#000000;stroke-width:4.32\"/>\n",
       "\t<text x=\"2844.36\" y=\"186.50\" style=\"font-family:'Helvetica';font-size:74.99px;fill:#000000\" transform=\"rotate(-90 2844.36,186.50)\" text-anchor=\"middle\">.1</text>\n",
       "\t<text x=\"2761.82\" y=\"1331.22\" style=\"font-family:'Helvetica';font-size:74.99px;fill:#000000\" transform=\"rotate(-90 2761.82,1331.22)\" text-anchor=\"middle\">Density</text>\n",
       "\t<line x1=\"2911.84\" y1=\"2523.59\" x2=\"3820.91\" y2=\"2523.59\" style=\"stroke:#000000;stroke-width:4.32\"/>\n",
       "\t<line x1=\"2966.78\" y1=\"2523.59\" x2=\"2966.78\" y2=\"2553.54\" style=\"stroke:#000000;stroke-width:4.32\"/>\n",
       "\t<text x=\"2966.78\" y=\"2620.95\" style=\"font-family:'Helvetica';font-size:74.99px;fill:#000000\" text-anchor=\"middle\">0</text>\n",
       "\t<line x1=\"3128.15\" y1=\"2523.59\" x2=\"3128.15\" y2=\"2553.54\" style=\"stroke:#000000;stroke-width:4.32\"/>\n",
       "\t<text x=\"3128.15\" y=\"2620.95\" style=\"font-family:'Helvetica';font-size:74.99px;fill:#000000\" text-anchor=\"middle\">20</text>\n",
       "\t<line x1=\"3289.40\" y1=\"2523.59\" x2=\"3289.40\" y2=\"2553.54\" style=\"stroke:#000000;stroke-width:4.32\"/>\n",
       "\t<text x=\"3289.40\" y=\"2620.95\" style=\"font-family:'Helvetica';font-size:74.99px;fill:#000000\" text-anchor=\"middle\">40</text>\n",
       "\t<line x1=\"3450.77\" y1=\"2523.59\" x2=\"3450.77\" y2=\"2553.54\" style=\"stroke:#000000;stroke-width:4.32\"/>\n",
       "\t<text x=\"3450.77\" y=\"2620.95\" style=\"font-family:'Helvetica';font-size:74.99px;fill:#000000\" text-anchor=\"middle\">60</text>\n",
       "\t<line x1=\"3612.14\" y1=\"2523.59\" x2=\"3612.14\" y2=\"2553.54\" style=\"stroke:#000000;stroke-width:4.32\"/>\n",
       "\t<text x=\"3612.14\" y=\"2620.95\" style=\"font-family:'Helvetica';font-size:74.99px;fill:#000000\" text-anchor=\"middle\">80</text>\n",
       "\t<line x1=\"3773.39\" y1=\"2523.59\" x2=\"3773.39\" y2=\"2553.54\" style=\"stroke:#000000;stroke-width:4.32\"/>\n",
       "\t<text x=\"3773.39\" y=\"2620.95\" style=\"font-family:'Helvetica';font-size:74.99px;fill:#000000\" text-anchor=\"middle\">100</text>\n",
       "\t<text x=\"3366.37\" y=\"2703.49\" style=\"font-family:'Helvetica';font-size:74.99px;fill:#000000\" text-anchor=\"middle\">hourly wage</text>\n",
       "</svg>\n"
      ],
      "text/html": [
       "                <iframe frameborder=\"0\" scrolling=\"no\" height=\"436\" width=\"600\"                srcdoc=\"<html><body>&lt;?xml version=&quot;1.0&quot; encoding=&quot;UTF-8&quot; standalone=&quot;no&quot;?&gt;\n",
       "&lt;!-- This is a Stata 16.1 generated SVG file (http://www.stata.com) --&gt;\n",
       "\n",
       "&lt;svg version=&quot;1.1&quot; width=&quot;600px&quot; height=&quot;436px&quot; viewBox=&quot;0 0 3960 2880&quot; xmlns=&quot;http://www.w3.org/2000/svg&quot; xmlns:xlink=&quot;http://www.w3.org/1999/xlink&quot;&gt;\n",
       "\t&lt;desc&gt;Stata Graph - Graph&lt;/desc&gt;\n",
       "\t&lt;rect x=&quot;0&quot; y=&quot;0&quot; width=&quot;3960&quot; height=&quot;2880&quot; style=&quot;fill:#EAF2F3;stroke:none&quot;/&gt;\n",
       "\t&lt;rect x=&quot;0.00&quot; y=&quot;0.00&quot; width=&quot;3959.88&quot; height=&quot;2880.00&quot; style=&quot;fill:#EAF2F3&quot;/&gt;\n",
       "\t&lt;rect x=&quot;2.88&quot; y=&quot;2.88&quot; width=&quot;3954.12&quot; height=&quot;2874.24&quot; style=&quot;fill:none;stroke:#EAF2F3;stroke-width:5.76&quot;/&gt;\n",
       "\t&lt;rect x=&quot;63.36&quot; y=&quot;63.36&quot; width=&quot;1277.72&quot; height=&quot;2753.28&quot; style=&quot;fill:#EAF2F3&quot;/&gt;\n",
       "\t&lt;rect x=&quot;65.52&quot; y=&quot;65.52&quot; width=&quot;1273.40&quot; height=&quot;2748.96&quot; style=&quot;fill:none;stroke:#EAF2F3;stroke-width:4.32&quot;/&gt;\n",
       "\t&lt;rect x=&quot;356.40&quot; y=&quot;138.98&quot; width=&quot;909.07&quot; height=&quot;2384.61&quot; style=&quot;fill:#FFFFFF&quot;/&gt;\n",
       "\t&lt;rect x=&quot;358.56&quot; y=&quot;141.14&quot; width=&quot;904.75&quot; height=&quot;2380.29&quot; style=&quot;fill:none;stroke:#FFFFFF;stroke-width:4.32&quot;/&gt;\n",
       "\t&lt;line x1=&quot;356.40&quot; y1=&quot;2523.59&quot; x2=&quot;1265.47&quot; y2=&quot;2523.59&quot; style=&quot;stroke:#EAF2F3;stroke-width:6.48&quot;/&gt;\n",
       "\t&lt;line x1=&quot;356.40&quot; y1=&quot;2056.17&quot; x2=&quot;1265.47&quot; y2=&quot;2056.17&quot; style=&quot;stroke:#EAF2F3;stroke-width:6.48&quot;/&gt;\n",
       "\t&lt;line x1=&quot;356.40&quot; y1=&quot;1588.75&quot; x2=&quot;1265.47&quot; y2=&quot;1588.75&quot; style=&quot;stroke:#EAF2F3;stroke-width:6.48&quot;/&gt;\n",
       "\t&lt;line x1=&quot;356.40&quot; y1=&quot;1121.33&quot; x2=&quot;1265.47&quot; y2=&quot;1121.33&quot; style=&quot;stroke:#EAF2F3;stroke-width:6.48&quot;/&gt;\n",
       "\t&lt;line x1=&quot;356.40&quot; y1=&quot;653.92&quot; x2=&quot;1265.47&quot; y2=&quot;653.92&quot; style=&quot;stroke:#EAF2F3;stroke-width:6.48&quot;/&gt;\n",
       "\t&lt;line x1=&quot;356.40&quot; y1=&quot;186.50&quot; x2=&quot;1265.47&quot; y2=&quot;186.50&quot; style=&quot;stroke:#EAF2F3;stroke-width:6.48&quot;/&gt;\n",
       "\t&lt;rect x=&quot;412.71&quot; y=&quot;2466.17&quot; width=&quot;17.57&quot; height=&quot;57.42&quot; style=&quot;fill:#CAC27E&quot;/&gt;\n",
       "\t&lt;rect x=&quot;415.95&quot; y=&quot;2469.41&quot; width=&quot;11.09&quot; height=&quot;50.94&quot; style=&quot;fill:none;stroke:#D7D29E;stroke-width:6.48&quot;/&gt;\n",
       "\t&lt;rect x=&quot;430.28&quot; y=&quot;2442.04&quot; width=&quot;17.45&quot; height=&quot;81.55&quot; style=&quot;fill:#CAC27E&quot;/&gt;\n",
       "\t&lt;rect x=&quot;433.52&quot; y=&quot;2445.27&quot; width=&quot;10.97&quot; height=&quot;75.07&quot; style=&quot;fill:none;stroke:#D7D29E;stroke-width:6.48&quot;/&gt;\n",
       "\t&lt;rect x=&quot;447.73&quot; y=&quot;1166.63&quot; width=&quot;17.45&quot; height=&quot;1356.96&quot; style=&quot;fill:#CAC27E&quot;/&gt;\n",
       "\t&lt;rect x=&quot;450.97&quot; y=&quot;1169.87&quot; width=&quot;10.97&quot; height=&quot;1350.48&quot; style=&quot;fill:none;stroke:#D7D29E;stroke-width:6.48&quot;/&gt;\n",
       "\t&lt;rect x=&quot;465.18&quot; y=&quot;330.55&quot; width=&quot;17.57&quot; height=&quot;2193.04&quot; style=&quot;fill:#CAC27E&quot;/&gt;\n",
       "\t&lt;rect x=&quot;468.42&quot; y=&quot;333.79&quot; width=&quot;11.09&quot; height=&quot;2186.56&quot; style=&quot;fill:none;stroke:#D7D29E;stroke-width:6.48&quot;/&gt;\n",
       "\t&lt;rect x=&quot;482.75&quot; y=&quot;234.02&quot; width=&quot;17.45&quot; height=&quot;2289.57&quot; style=&quot;fill:#CAC27E&quot;/&gt;\n",
       "\t&lt;rect x=&quot;485.99&quot; y=&quot;237.26&quot; width=&quot;10.97&quot; height=&quot;2283.09&quot; style=&quot;fill:none;stroke:#D7D29E;stroke-width:6.48&quot;/&gt;\n",
       "\t&lt;rect x=&quot;500.20&quot; y=&quot;1223.06&quot; width=&quot;17.57&quot; height=&quot;1300.53&quot; style=&quot;fill:#CAC27E&quot;/&gt;\n",
       "\t&lt;rect x=&quot;503.44&quot; y=&quot;1226.30&quot; width=&quot;11.09&quot; height=&quot;1294.05&quot; style=&quot;fill:none;stroke:#D7D29E;stroke-width:6.48&quot;/&gt;\n",
       "\t&lt;rect x=&quot;517.77&quot; y=&quot;1527.62&quot; width=&quot;17.45&quot; height=&quot;995.97&quot; style=&quot;fill:#CAC27E&quot;/&gt;\n",
       "\t&lt;rect x=&quot;521.01&quot; y=&quot;1530.86&quot; width=&quot;10.97&quot; height=&quot;989.49&quot; style=&quot;fill:none;stroke:#D7D29E;stroke-width:6.48&quot;/&gt;\n",
       "\t&lt;rect x=&quot;535.22&quot; y=&quot;1865.22&quot; width=&quot;17.57&quot; height=&quot;658.37&quot; style=&quot;fill:#CAC27E&quot;/&gt;\n",
       "\t&lt;rect x=&quot;538.46&quot; y=&quot;1868.46&quot; width=&quot;11.09&quot; height=&quot;651.89&quot; style=&quot;fill:none;stroke:#D7D29E;stroke-width:6.48&quot;/&gt;\n",
       "\t&lt;rect x=&quot;552.79&quot; y=&quot;2026.84&quot; width=&quot;17.45&quot; height=&quot;496.75&quot; style=&quot;fill:#CAC27E&quot;/&gt;\n",
       "\t&lt;rect x=&quot;556.03&quot; y=&quot;2030.08&quot; width=&quot;10.97&quot; height=&quot;490.27&quot; style=&quot;fill:none;stroke:#D7D29E;stroke-width:6.48&quot;/&gt;\n",
       "\t&lt;rect x=&quot;570.24&quot; y=&quot;2098.62&quot; width=&quot;17.45&quot; height=&quot;424.97&quot; style=&quot;fill:#CAC27E&quot;/&gt;\n",
       "\t&lt;rect x=&quot;573.48&quot; y=&quot;2101.86&quot; width=&quot;10.97&quot; height=&quot;418.49&quot; style=&quot;fill:none;stroke:#D7D29E;stroke-width:6.48&quot;/&gt;\n",
       "\t&lt;rect x=&quot;587.69&quot; y=&quot;2209.13&quot; width=&quot;17.57&quot; height=&quot;314.46&quot; style=&quot;fill:#CAC27E&quot;/&gt;\n",
       "\t&lt;rect x=&quot;590.93&quot; y=&quot;2212.37&quot; width=&quot;11.09&quot; height=&quot;307.98&quot; style=&quot;fill:none;stroke:#D7D29E;stroke-width:6.48&quot;/&gt;\n",
       "\t&lt;rect x=&quot;605.26&quot; y=&quot;2321.62&quot; width=&quot;17.45&quot; height=&quot;201.97&quot; style=&quot;fill:#CAC27E&quot;/&gt;\n",
       "\t&lt;rect x=&quot;608.50&quot; y=&quot;2324.86&quot; width=&quot;10.97&quot; height=&quot;195.49&quot; style=&quot;fill:none;stroke:#D7D29E;stroke-width:6.48&quot;/&gt;\n",
       "\t&lt;rect x=&quot;622.71&quot; y=&quot;2424.21&quot; width=&quot;17.57&quot; height=&quot;99.37&quot; style=&quot;fill:#CAC27E&quot;/&gt;\n",
       "\t&lt;rect x=&quot;625.95&quot; y=&quot;2427.45&quot; width=&quot;11.09&quot; height=&quot;92.89&quot; style=&quot;fill:none;stroke:#D7D29E;stroke-width:6.48&quot;/&gt;\n",
       "\t&lt;rect x=&quot;640.28&quot; y=&quot;2434.11&quot; width=&quot;17.45&quot; height=&quot;89.47&quot; style=&quot;fill:#CAC27E&quot;/&gt;\n",
       "\t&lt;rect x=&quot;643.52&quot; y=&quot;2437.35&quot; width=&quot;10.97&quot; height=&quot;82.99&quot; style=&quot;fill:none;stroke:#D7D29E;stroke-width:6.48&quot;/&gt;\n",
       "\t&lt;rect x=&quot;657.73&quot; y=&quot;2479.53&quot; width=&quot;17.57&quot; height=&quot;44.06&quot; style=&quot;fill:#CAC27E&quot;/&gt;\n",
       "\t&lt;rect x=&quot;660.97&quot; y=&quot;2482.77&quot; width=&quot;11.09&quot; height=&quot;37.58&quot; style=&quot;fill:none;stroke:#D7D29E;stroke-width:6.48&quot;/&gt;\n",
       "\t&lt;rect x=&quot;675.30&quot; y=&quot;2493.39&quot; width=&quot;17.45&quot; height=&quot;30.20&quot; style=&quot;fill:#CAC27E&quot;/&gt;\n",
       "\t&lt;rect x=&quot;678.54&quot; y=&quot;2496.63&quot; width=&quot;10.97&quot; height=&quot;23.72&quot; style=&quot;fill:none;stroke:#D7D29E;stroke-width:6.48&quot;/&gt;\n",
       "\t&lt;rect x=&quot;692.75&quot; y=&quot;2485.35&quot; width=&quot;17.57&quot; height=&quot;38.24&quot; style=&quot;fill:#CAC27E&quot;/&gt;\n",
       "\t&lt;rect x=&quot;695.99&quot; y=&quot;2488.59&quot; width=&quot;11.09&quot; height=&quot;31.76&quot; style=&quot;fill:none;stroke:#D7D29E;stroke-width:6.48&quot;/&gt;\n",
       "\t&lt;rect x=&quot;710.33&quot; y=&quot;2502.67&quot; width=&quot;17.45&quot; height=&quot;20.91&quot; style=&quot;fill:#CAC27E&quot;/&gt;\n",
       "\t&lt;rect x=&quot;713.56&quot; y=&quot;2505.91&quot; width=&quot;10.97&quot; height=&quot;14.43&quot; style=&quot;fill:none;stroke:#D7D29E;stroke-width:6.48&quot;/&gt;\n",
       "\t&lt;rect x=&quot;727.77&quot; y=&quot;2504.16&quot; width=&quot;17.45&quot; height=&quot;19.43&quot; style=&quot;fill:#CAC27E&quot;/&gt;\n",
       "\t&lt;rect x=&quot;731.01&quot; y=&quot;2507.40&quot; width=&quot;10.97&quot; height=&quot;12.95&quot; style=&quot;fill:none;stroke:#D7D29E;stroke-width:6.48&quot;/&gt;\n",
       "\t&lt;rect x=&quot;745.22&quot; y=&quot;2513.69&quot; width=&quot;17.57&quot; height=&quot;9.90&quot; style=&quot;fill:#CAC27E&quot;/&gt;\n",
       "\t&lt;rect x=&quot;748.46&quot; y=&quot;2516.93&quot; width=&quot;11.09&quot; height=&quot;3.42&quot; style=&quot;fill:none;stroke:#D7D29E;stroke-width:6.48&quot;/&gt;\n",
       "\t&lt;rect x=&quot;762.79&quot; y=&quot;2514.31&quot; width=&quot;17.45&quot; height=&quot;9.28&quot; style=&quot;fill:#CAC27E&quot;/&gt;\n",
       "\t&lt;rect x=&quot;766.03&quot; y=&quot;2517.55&quot; width=&quot;10.97&quot; height=&quot;2.80&quot; style=&quot;fill:none;stroke:#D7D29E;stroke-width:6.48&quot;/&gt;\n",
       "\t&lt;rect x=&quot;780.24&quot; y=&quot;2520.12&quot; width=&quot;17.57&quot; height=&quot;3.47&quot; style=&quot;fill:#CAC27E&quot;/&gt;\n",
       "\t&lt;rect x=&quot;783.48&quot; y=&quot;2520.35&quot; width=&quot;11.09&quot; height=&quot;3.01&quot; style=&quot;fill:none;stroke:#D7D29E;stroke-width:6.48&quot;/&gt;\n",
       "\t&lt;rect x=&quot;797.82&quot; y=&quot;2512.33&quot; width=&quot;17.45&quot; height=&quot;11.26&quot; style=&quot;fill:#CAC27E&quot;/&gt;\n",
       "\t&lt;rect x=&quot;801.06&quot; y=&quot;2515.57&quot; width=&quot;10.97&quot; height=&quot;4.78&quot; style=&quot;fill:none;stroke:#D7D29E;stroke-width:6.48&quot;/&gt;\n",
       "\t&lt;rect x=&quot;815.26&quot; y=&quot;2522.85&quot; width=&quot;17.57&quot; height=&quot;0.74&quot; style=&quot;fill:#CAC27E&quot;/&gt;\n",
       "\t&lt;rect x=&quot;818.50&quot; y=&quot;2520.35&quot; width=&quot;11.09&quot; height=&quot;5.74&quot; style=&quot;fill:none;stroke:#D7D29E;stroke-width:6.48&quot;/&gt;\n",
       "\t&lt;rect x=&quot;832.84&quot; y=&quot;2523.09&quot; width=&quot;17.45&quot; height=&quot;0.50&quot; style=&quot;fill:#CAC27E&quot;/&gt;\n",
       "\t&lt;rect x=&quot;836.08&quot; y=&quot;2520.35&quot; width=&quot;10.97&quot; height=&quot;5.98&quot; style=&quot;fill:none;stroke:#D7D29E;stroke-width:6.48&quot;/&gt;\n",
       "\t&lt;rect x=&quot;850.29&quot; y=&quot;2521.61&quot; width=&quot;17.57&quot; height=&quot;1.98&quot; style=&quot;fill:#CAC27E&quot;/&gt;\n",
       "\t&lt;rect x=&quot;853.53&quot; y=&quot;2520.35&quot; width=&quot;11.09&quot; height=&quot;4.50&quot; style=&quot;fill:none;stroke:#D7D29E;stroke-width:6.48&quot;/&gt;\n",
       "\t&lt;rect x=&quot;867.86&quot; y=&quot;2521.61&quot; width=&quot;17.45&quot; height=&quot;1.98&quot; style=&quot;fill:#CAC27E&quot;/&gt;\n",
       "\t&lt;rect x=&quot;871.10&quot; y=&quot;2520.35&quot; width=&quot;10.97&quot; height=&quot;4.50&quot; style=&quot;fill:none;stroke:#D7D29E;stroke-width:6.48&quot;/&gt;\n",
       "\t&lt;rect x=&quot;885.31&quot; y=&quot;2519.50&quot; width=&quot;17.45&quot; height=&quot;4.08&quot; style=&quot;fill:#CAC27E&quot;/&gt;\n",
       "\t&lt;rect x=&quot;888.55&quot; y=&quot;2520.35&quot; width=&quot;10.97&quot; height=&quot;2.40&quot; style=&quot;fill:none;stroke:#D7D29E;stroke-width:6.48&quot;/&gt;\n",
       "\t&lt;rect x=&quot;902.76&quot; y=&quot;2522.23&quot; width=&quot;17.57&quot; height=&quot;1.36&quot; style=&quot;fill:#CAC27E&quot;/&gt;\n",
       "\t&lt;rect x=&quot;906.00&quot; y=&quot;2520.35&quot; width=&quot;11.09&quot; height=&quot;5.12&quot; style=&quot;fill:none;stroke:#D7D29E;stroke-width:6.48&quot;/&gt;\n",
       "\t&lt;rect x=&quot;920.33&quot; y=&quot;2521.86&quot; width=&quot;17.45&quot; height=&quot;1.73&quot; style=&quot;fill:#CAC27E&quot;/&gt;\n",
       "\t&lt;rect x=&quot;923.57&quot; y=&quot;2520.35&quot; width=&quot;10.97&quot; height=&quot;4.75&quot; style=&quot;fill:none;stroke:#D7D29E;stroke-width:6.48&quot;/&gt;\n",
       "\t&lt;rect x=&quot;937.78&quot; y=&quot;2523.09&quot; width=&quot;17.57&quot; height=&quot;0.50&quot; style=&quot;fill:#CAC27E&quot;/&gt;\n",
       "\t&lt;rect x=&quot;941.02&quot; y=&quot;2520.35&quot; width=&quot;11.09&quot; height=&quot;5.98&quot; style=&quot;fill:none;stroke:#D7D29E;stroke-width:6.48&quot;/&gt;\n",
       "\t&lt;rect x=&quot;955.35&quot; y=&quot;2522.72&quot; width=&quot;17.45&quot; height=&quot;0.87&quot; style=&quot;fill:#CAC27E&quot;/&gt;\n",
       "\t&lt;rect x=&quot;958.59&quot; y=&quot;2520.35&quot; width=&quot;10.97&quot; height=&quot;5.61&quot; style=&quot;fill:none;stroke:#D7D29E;stroke-width:6.48&quot;/&gt;\n",
       "\t&lt;rect x=&quot;972.80&quot; y=&quot;2521.86&quot; width=&quot;17.57&quot; height=&quot;1.73&quot; style=&quot;fill:#CAC27E&quot;/&gt;\n",
       "\t&lt;rect x=&quot;976.04&quot; y=&quot;2520.35&quot; width=&quot;11.09&quot; height=&quot;4.75&quot; style=&quot;fill:none;stroke:#D7D29E;stroke-width:6.48&quot;/&gt;\n",
       "\t&lt;rect x=&quot;990.37&quot; y=&quot;2520.50&quot; width=&quot;17.45&quot; height=&quot;3.09&quot; style=&quot;fill:#CAC27E&quot;/&gt;\n",
       "\t&lt;rect x=&quot;993.61&quot; y=&quot;2520.35&quot; width=&quot;10.97&quot; height=&quot;3.39&quot; style=&quot;fill:none;stroke:#D7D29E;stroke-width:6.48&quot;/&gt;\n",
       "\t&lt;rect x=&quot;1007.82&quot; y=&quot;2520.37&quot; width=&quot;17.57&quot; height=&quot;3.22&quot; style=&quot;fill:#CAC27E&quot;/&gt;\n",
       "\t&lt;rect x=&quot;1011.06&quot; y=&quot;2520.35&quot; width=&quot;11.09&quot; height=&quot;3.26&quot; style=&quot;fill:none;stroke:#D7D29E;stroke-width:6.48&quot;/&gt;\n",
       "\t&lt;rect x=&quot;1025.39&quot; y=&quot;2523.34&quot; width=&quot;17.45&quot; height=&quot;0.25&quot; style=&quot;fill:#CAC27E&quot;/&gt;\n",
       "\t&lt;rect x=&quot;1028.63&quot; y=&quot;2520.35&quot; width=&quot;10.97&quot; height=&quot;6.23&quot; style=&quot;fill:none;stroke:#D7D29E;stroke-width:6.48&quot;/&gt;\n",
       "\t&lt;rect x=&quot;1042.84&quot; y=&quot;2522.48&quot; width=&quot;17.45&quot; height=&quot;1.11&quot; style=&quot;fill:#CAC27E&quot;/&gt;\n",
       "\t&lt;rect x=&quot;1046.08&quot; y=&quot;2520.35&quot; width=&quot;10.97&quot; height=&quot;5.37&quot; style=&quot;fill:none;stroke:#D7D29E;stroke-width:6.48&quot;/&gt;\n",
       "\t&lt;rect x=&quot;1060.29&quot; y=&quot;2523.09&quot; width=&quot;17.57&quot; height=&quot;0.50&quot; style=&quot;fill:#CAC27E&quot;/&gt;\n",
       "\t&lt;rect x=&quot;1063.53&quot; y=&quot;2520.35&quot; width=&quot;11.09&quot; height=&quot;5.98&quot; style=&quot;fill:none;stroke:#D7D29E;stroke-width:6.48&quot;/&gt;\n",
       "\t&lt;rect x=&quot;1095.31&quot; y=&quot;2522.85&quot; width=&quot;17.57&quot; height=&quot;0.74&quot; style=&quot;fill:#CAC27E&quot;/&gt;\n",
       "\t&lt;rect x=&quot;1098.55&quot; y=&quot;2520.35&quot; width=&quot;11.09&quot; height=&quot;5.74&quot; style=&quot;fill:none;stroke:#D7D29E;stroke-width:6.48&quot;/&gt;\n",
       "\t&lt;rect x=&quot;1112.88&quot; y=&quot;2523.34&quot; width=&quot;17.45&quot; height=&quot;0.25&quot; style=&quot;fill:#CAC27E&quot;/&gt;\n",
       "\t&lt;rect x=&quot;1116.12&quot; y=&quot;2520.35&quot; width=&quot;10.97&quot; height=&quot;6.23&quot; style=&quot;fill:none;stroke:#D7D29E;stroke-width:6.48&quot;/&gt;\n",
       "\t&lt;rect x=&quot;1130.33&quot; y=&quot;2522.72&quot; width=&quot;17.57&quot; height=&quot;0.87&quot; style=&quot;fill:#CAC27E&quot;/&gt;\n",
       "\t&lt;rect x=&quot;1133.57&quot; y=&quot;2520.35&quot; width=&quot;11.09&quot; height=&quot;5.61&quot; style=&quot;fill:none;stroke:#D7D29E;stroke-width:6.48&quot;/&gt;\n",
       "\t&lt;rect x=&quot;1147.90&quot; y=&quot;2523.09&quot; width=&quot;17.45&quot; height=&quot;0.50&quot; style=&quot;fill:#CAC27E&quot;/&gt;\n",
       "\t&lt;rect x=&quot;1151.14&quot; y=&quot;2520.35&quot; width=&quot;10.97&quot; height=&quot;5.98&quot; style=&quot;fill:none;stroke:#D7D29E;stroke-width:6.48&quot;/&gt;\n",
       "\t&lt;rect x=&quot;1200.38&quot; y=&quot;2520.50&quot; width=&quot;17.45&quot; height=&quot;3.09&quot; style=&quot;fill:#CAC27E&quot;/&gt;\n",
       "\t&lt;rect x=&quot;1203.61&quot; y=&quot;2520.35&quot; width=&quot;10.97&quot; height=&quot;3.39&quot; style=&quot;fill:none;stroke:#D7D29E;stroke-width:6.48&quot;/&gt;\n",
       "\t&lt;line x1=&quot;356.40&quot; y1=&quot;2523.59&quot; x2=&quot;356.40&quot; y2=&quot;138.98&quot; style=&quot;stroke:#000000;stroke-width:4.32&quot;/&gt;\n",
       "\t&lt;line x1=&quot;356.40&quot; y1=&quot;2523.59&quot; x2=&quot;326.45&quot; y2=&quot;2523.59&quot; style=&quot;stroke:#000000;stroke-width:4.32&quot;/&gt;\n",
       "\t&lt;text x=&quot;288.92&quot; y=&quot;2523.59&quot; style=&quot;font-family:&#x27;Helvetica&#x27;;font-size:74.99px;fill:#000000&quot; transform=&quot;rotate(-90 288.92,2523.59)&quot; text-anchor=&quot;middle&quot;&gt;0&lt;/text&gt;\n",
       "\t&lt;line x1=&quot;356.40&quot; y1=&quot;2056.17&quot; x2=&quot;326.45&quot; y2=&quot;2056.17&quot; style=&quot;stroke:#000000;stroke-width:4.32&quot;/&gt;\n",
       "\t&lt;text x=&quot;288.92&quot; y=&quot;2056.17&quot; style=&quot;font-family:&#x27;Helvetica&#x27;;font-size:74.99px;fill:#000000&quot; transform=&quot;rotate(-90 288.92,2056.17)&quot; text-anchor=&quot;middle&quot;&gt;.02&lt;/text&gt;\n",
       "\t&lt;line x1=&quot;356.40&quot; y1=&quot;1588.75&quot; x2=&quot;326.45&quot; y2=&quot;1588.75&quot; style=&quot;stroke:#000000;stroke-width:4.32&quot;/&gt;\n",
       "\t&lt;text x=&quot;288.92&quot; y=&quot;1588.75&quot; style=&quot;font-family:&#x27;Helvetica&#x27;;font-size:74.99px;fill:#000000&quot; transform=&quot;rotate(-90 288.92,1588.75)&quot; text-anchor=&quot;middle&quot;&gt;.04&lt;/text&gt;\n",
       "\t&lt;line x1=&quot;356.40&quot; y1=&quot;1121.33&quot; x2=&quot;326.45&quot; y2=&quot;1121.33&quot; style=&quot;stroke:#000000;stroke-width:4.32&quot;/&gt;\n",
       "\t&lt;text x=&quot;288.92&quot; y=&quot;1121.33&quot; style=&quot;font-family:&#x27;Helvetica&#x27;;font-size:74.99px;fill:#000000&quot; transform=&quot;rotate(-90 288.92,1121.33)&quot; text-anchor=&quot;middle&quot;&gt;.06&lt;/text&gt;\n",
       "\t&lt;line x1=&quot;356.40&quot; y1=&quot;653.92&quot; x2=&quot;326.45&quot; y2=&quot;653.92&quot; style=&quot;stroke:#000000;stroke-width:4.32&quot;/&gt;\n",
       "\t&lt;text x=&quot;288.92&quot; y=&quot;653.92&quot; style=&quot;font-family:&#x27;Helvetica&#x27;;font-size:74.99px;fill:#000000&quot; transform=&quot;rotate(-90 288.92,653.92)&quot; text-anchor=&quot;middle&quot;&gt;.08&lt;/text&gt;\n",
       "\t&lt;line x1=&quot;356.40&quot; y1=&quot;186.50&quot; x2=&quot;326.45&quot; y2=&quot;186.50&quot; style=&quot;stroke:#000000;stroke-width:4.32&quot;/&gt;\n",
       "\t&lt;text x=&quot;288.92&quot; y=&quot;186.50&quot; style=&quot;font-family:&#x27;Helvetica&#x27;;font-size:74.99px;fill:#000000&quot; transform=&quot;rotate(-90 288.92,186.50)&quot; text-anchor=&quot;middle&quot;&gt;.1&lt;/text&gt;\n",
       "\t&lt;text x=&quot;206.38&quot; y=&quot;1331.22&quot; style=&quot;font-family:&#x27;Helvetica&#x27;;font-size:74.99px;fill:#000000&quot; transform=&quot;rotate(-90 206.38,1331.22)&quot; text-anchor=&quot;middle&quot;&gt;Density&lt;/text&gt;\n",
       "\t&lt;line x1=&quot;356.40&quot; y1=&quot;2523.59&quot; x2=&quot;1265.47&quot; y2=&quot;2523.59&quot; style=&quot;stroke:#000000;stroke-width:4.32&quot;/&gt;\n",
       "\t&lt;line x1=&quot;410.97&quot; y1=&quot;2523.59&quot; x2=&quot;410.97&quot; y2=&quot;2553.54&quot; style=&quot;stroke:#000000;stroke-width:4.32&quot;/&gt;\n",
       "\t&lt;text x=&quot;410.97&quot; y=&quot;2620.95&quot; style=&quot;font-family:&#x27;Helvetica&#x27;;font-size:74.99px;fill:#000000&quot; text-anchor=&quot;middle&quot;&gt;0&lt;/text&gt;\n",
       "\t&lt;line x1=&quot;572.47&quot; y1=&quot;2523.59&quot; x2=&quot;572.47&quot; y2=&quot;2553.54&quot; style=&quot;stroke:#000000;stroke-width:4.32&quot;/&gt;\n",
       "\t&lt;text x=&quot;572.47&quot; y=&quot;2620.95&quot; style=&quot;font-family:&#x27;Helvetica&#x27;;font-size:74.99px;fill:#000000&quot; text-anchor=&quot;middle&quot;&gt;20&lt;/text&gt;\n",
       "\t&lt;line x1=&quot;733.84&quot; y1=&quot;2523.59&quot; x2=&quot;733.84&quot; y2=&quot;2553.54&quot; style=&quot;stroke:#000000;stroke-width:4.32&quot;/&gt;\n",
       "\t&lt;text x=&quot;733.84&quot; y=&quot;2620.95&quot; style=&quot;font-family:&#x27;Helvetica&#x27;;font-size:74.99px;fill:#000000&quot; text-anchor=&quot;middle&quot;&gt;40&lt;/text&gt;\n",
       "\t&lt;line x1=&quot;895.21&quot; y1=&quot;2523.59&quot; x2=&quot;895.21&quot; y2=&quot;2553.54&quot; style=&quot;stroke:#000000;stroke-width:4.32&quot;/&gt;\n",
       "\t&lt;text x=&quot;895.21&quot; y=&quot;2620.95&quot; style=&quot;font-family:&#x27;Helvetica&#x27;;font-size:74.99px;fill:#000000&quot; text-anchor=&quot;middle&quot;&gt;60&lt;/text&gt;\n",
       "\t&lt;line x1=&quot;1056.58&quot; y1=&quot;2523.59&quot; x2=&quot;1056.58&quot; y2=&quot;2553.54&quot; style=&quot;stroke:#000000;stroke-width:4.32&quot;/&gt;\n",
       "\t&lt;text x=&quot;1056.58&quot; y=&quot;2620.95&quot; style=&quot;font-family:&#x27;Helvetica&#x27;;font-size:74.99px;fill:#000000&quot; text-anchor=&quot;middle&quot;&gt;80&lt;/text&gt;\n",
       "\t&lt;line x1=&quot;1217.95&quot; y1=&quot;2523.59&quot; x2=&quot;1217.95&quot; y2=&quot;2553.54&quot; style=&quot;stroke:#000000;stroke-width:4.32&quot;/&gt;\n",
       "\t&lt;text x=&quot;1217.95&quot; y=&quot;2620.95&quot; style=&quot;font-family:&#x27;Helvetica&#x27;;font-size:74.99px;fill:#000000&quot; text-anchor=&quot;middle&quot;&gt;100&lt;/text&gt;\n",
       "\t&lt;text x=&quot;810.93&quot; y=&quot;2703.49&quot; style=&quot;font-family:&#x27;Helvetica&#x27;;font-size:74.99px;fill:#000000&quot; text-anchor=&quot;middle&quot;&gt;hourly wage&lt;/text&gt;\n",
       "\t&lt;rect x=&quot;1341.08&quot; y=&quot;63.36&quot; width=&quot;1277.72&quot; height=&quot;2753.28&quot; style=&quot;fill:#EAF2F3&quot;/&gt;\n",
       "\t&lt;rect x=&quot;1343.24&quot; y=&quot;65.52&quot; width=&quot;1273.40&quot; height=&quot;2748.96&quot; style=&quot;fill:none;stroke:#EAF2F3;stroke-width:4.32&quot;/&gt;\n",
       "\t&lt;rect x=&quot;1634.12&quot; y=&quot;138.98&quot; width=&quot;909.07&quot; height=&quot;2384.61&quot; style=&quot;fill:#FFFFFF&quot;/&gt;\n",
       "\t&lt;rect x=&quot;1636.28&quot; y=&quot;141.14&quot; width=&quot;904.75&quot; height=&quot;2380.29&quot; style=&quot;fill:none;stroke:#FFFFFF;stroke-width:4.32&quot;/&gt;\n",
       "\t&lt;line x1=&quot;1634.12&quot; y1=&quot;2523.59&quot; x2=&quot;2543.19&quot; y2=&quot;2523.59&quot; style=&quot;stroke:#EAF2F3;stroke-width:6.48&quot;/&gt;\n",
       "\t&lt;line x1=&quot;1634.12&quot; y1=&quot;2056.17&quot; x2=&quot;2543.19&quot; y2=&quot;2056.17&quot; style=&quot;stroke:#EAF2F3;stroke-width:6.48&quot;/&gt;\n",
       "\t&lt;line x1=&quot;1634.12&quot; y1=&quot;1588.75&quot; x2=&quot;2543.19&quot; y2=&quot;1588.75&quot; style=&quot;stroke:#EAF2F3;stroke-width:6.48&quot;/&gt;\n",
       "\t&lt;line x1=&quot;1634.12&quot; y1=&quot;1121.33&quot; x2=&quot;2543.19&quot; y2=&quot;1121.33&quot; style=&quot;stroke:#EAF2F3;stroke-width:6.48&quot;/&gt;\n",
       "\t&lt;line x1=&quot;1634.12&quot; y1=&quot;653.92&quot; x2=&quot;2543.19&quot; y2=&quot;653.92&quot; style=&quot;stroke:#EAF2F3;stroke-width:6.48&quot;/&gt;\n",
       "\t&lt;line x1=&quot;1634.12&quot; y1=&quot;186.50&quot; x2=&quot;2543.19&quot; y2=&quot;186.50&quot; style=&quot;stroke:#EAF2F3;stroke-width:6.48&quot;/&gt;\n",
       "\t&lt;rect x=&quot;1690.42&quot; y=&quot;2468.64&quot; width=&quot;17.57&quot; height=&quot;54.95&quot; style=&quot;fill:#CAC27E&quot;/&gt;\n",
       "\t&lt;rect x=&quot;1693.66&quot; y=&quot;2471.88&quot; width=&quot;11.09&quot; height=&quot;48.47&quot; style=&quot;fill:none;stroke:#D7D29E;stroke-width:6.48&quot;/&gt;\n",
       "\t&lt;rect x=&quot;1708.00&quot; y=&quot;2440.67&quot; width=&quot;17.45&quot; height=&quot;82.92&quot; style=&quot;fill:#CAC27E&quot;/&gt;\n",
       "\t&lt;rect x=&quot;1711.24&quot; y=&quot;2443.91&quot; width=&quot;10.97&quot; height=&quot;76.44&quot; style=&quot;fill:none;stroke:#D7D29E;stroke-width:6.48&quot;/&gt;\n",
       "\t&lt;rect x=&quot;1725.45&quot; y=&quot;2112.85&quot; width=&quot;17.45&quot; height=&quot;410.74&quot; style=&quot;fill:#CAC27E&quot;/&gt;\n",
       "\t&lt;rect x=&quot;1728.69&quot; y=&quot;2116.09&quot; width=&quot;10.97&quot; height=&quot;404.26&quot; style=&quot;fill:none;stroke:#D7D29E;stroke-width:6.48&quot;/&gt;\n",
       "\t&lt;rect x=&quot;1742.89&quot; y=&quot;512.22&quot; width=&quot;17.57&quot; height=&quot;2011.37&quot; style=&quot;fill:#CAC27E&quot;/&gt;\n",
       "\t&lt;rect x=&quot;1746.13&quot; y=&quot;515.46&quot; width=&quot;11.09&quot; height=&quot;2004.89&quot; style=&quot;fill:none;stroke:#D7D29E;stroke-width:6.48&quot;/&gt;\n",
       "\t&lt;rect x=&quot;1760.47&quot; y=&quot;788.31&quot; width=&quot;17.45&quot; height=&quot;1735.28&quot; style=&quot;fill:#CAC27E&quot;/&gt;\n",
       "\t&lt;rect x=&quot;1763.71&quot; y=&quot;791.55&quot; width=&quot;10.97&quot; height=&quot;1728.80&quot; style=&quot;fill:none;stroke:#D7D29E;stroke-width:6.48&quot;/&gt;\n",
       "\t&lt;rect x=&quot;1777.92&quot; y=&quot;1047.08&quot; width=&quot;17.57&quot; height=&quot;1476.51&quot; style=&quot;fill:#CAC27E&quot;/&gt;\n",
       "\t&lt;rect x=&quot;1781.16&quot; y=&quot;1050.32&quot; width=&quot;11.09&quot; height=&quot;1470.03&quot; style=&quot;fill:none;stroke:#D7D29E;stroke-width:6.48&quot;/&gt;\n",
       "\t&lt;rect x=&quot;1795.49&quot; y=&quot;1306.10&quot; width=&quot;17.45&quot; height=&quot;1217.49&quot; style=&quot;fill:#CAC27E&quot;/&gt;\n",
       "\t&lt;rect x=&quot;1798.73&quot; y=&quot;1309.34&quot; width=&quot;10.97&quot; height=&quot;1211.01&quot; style=&quot;fill:none;stroke:#D7D29E;stroke-width:6.48&quot;/&gt;\n",
       "\t&lt;rect x=&quot;1812.94&quot; y=&quot;1748.39&quot; width=&quot;17.57&quot; height=&quot;775.19&quot; style=&quot;fill:#CAC27E&quot;/&gt;\n",
       "\t&lt;rect x=&quot;1816.18&quot; y=&quot;1751.63&quot; width=&quot;11.09&quot; height=&quot;768.71&quot; style=&quot;fill:none;stroke:#D7D29E;stroke-width:6.48&quot;/&gt;\n",
       "\t&lt;rect x=&quot;1830.51&quot; y=&quot;1650.51&quot; width=&quot;17.45&quot; height=&quot;873.08&quot; style=&quot;fill:#CAC27E&quot;/&gt;\n",
       "\t&lt;rect x=&quot;1833.75&quot; y=&quot;1653.75&quot; width=&quot;10.97&quot; height=&quot;866.60&quot; style=&quot;fill:none;stroke:#D7D29E;stroke-width:6.48&quot;/&gt;\n",
       "\t&lt;rect x=&quot;1847.96&quot; y=&quot;2114.09&quot; width=&quot;17.57&quot; height=&quot;409.50&quot; style=&quot;fill:#CAC27E&quot;/&gt;\n",
       "\t&lt;rect x=&quot;1851.20&quot; y=&quot;2117.33&quot; width=&quot;11.09&quot; height=&quot;403.02&quot; style=&quot;fill:none;stroke:#D7D29E;stroke-width:6.48&quot;/&gt;\n",
       "\t&lt;rect x=&quot;1865.53&quot; y=&quot;2185.37&quot; width=&quot;17.45&quot; height=&quot;338.22&quot; style=&quot;fill:#CAC27E&quot;/&gt;\n",
       "\t&lt;rect x=&quot;1868.77&quot; y=&quot;2188.61&quot; width=&quot;10.97&quot; height=&quot;331.74&quot; style=&quot;fill:none;stroke:#D7D29E;stroke-width:6.48&quot;/&gt;\n",
       "\t&lt;rect x=&quot;1882.98&quot; y=&quot;2154.68&quot; width=&quot;17.45&quot; height=&quot;368.91&quot; style=&quot;fill:#CAC27E&quot;/&gt;\n",
       "\t&lt;rect x=&quot;1886.22&quot; y=&quot;2157.92&quot; width=&quot;10.97&quot; height=&quot;362.43&quot; style=&quot;fill:none;stroke:#D7D29E;stroke-width:6.48&quot;/&gt;\n",
       "\t&lt;rect x=&quot;1900.43&quot; y=&quot;2314.32&quot; width=&quot;17.57&quot; height=&quot;209.27&quot; style=&quot;fill:#CAC27E&quot;/&gt;\n",
       "\t&lt;rect x=&quot;1903.67&quot; y=&quot;2317.56&quot; width=&quot;11.09&quot; height=&quot;202.79&quot; style=&quot;fill:none;stroke:#D7D29E;stroke-width:6.48&quot;/&gt;\n",
       "\t&lt;rect x=&quot;1918.00&quot; y=&quot;2307.89&quot; width=&quot;17.45&quot; height=&quot;215.70&quot; style=&quot;fill:#CAC27E&quot;/&gt;\n",
       "\t&lt;rect x=&quot;1921.24&quot; y=&quot;2311.13&quot; width=&quot;10.97&quot; height=&quot;209.22&quot; style=&quot;fill:none;stroke:#D7D29E;stroke-width:6.48&quot;/&gt;\n",
       "\t&lt;rect x=&quot;1935.45&quot; y=&quot;2362.59&quot; width=&quot;17.57&quot; height=&quot;161.00&quot; style=&quot;fill:#CAC27E&quot;/&gt;\n",
       "\t&lt;rect x=&quot;1938.69&quot; y=&quot;2365.82&quot; width=&quot;11.09&quot; height=&quot;154.52&quot; style=&quot;fill:none;stroke:#D7D29E;stroke-width:6.48&quot;/&gt;\n",
       "\t&lt;rect x=&quot;1953.02&quot; y=&quot;2414.81&quot; width=&quot;17.45&quot; height=&quot;108.78&quot; style=&quot;fill:#CAC27E&quot;/&gt;\n",
       "\t&lt;rect x=&quot;1956.26&quot; y=&quot;2418.05&quot; width=&quot;10.97&quot; height=&quot;102.30&quot; style=&quot;fill:none;stroke:#D7D29E;stroke-width:6.48&quot;/&gt;\n",
       "\t&lt;rect x=&quot;1970.47&quot; y=&quot;2454.29&quot; width=&quot;17.57&quot; height=&quot;69.30&quot; style=&quot;fill:#CAC27E&quot;/&gt;\n",
       "\t&lt;rect x=&quot;1973.71&quot; y=&quot;2457.53&quot; width=&quot;11.09&quot; height=&quot;62.82&quot; style=&quot;fill:none;stroke:#D7D29E;stroke-width:6.48&quot;/&gt;\n",
       "\t&lt;rect x=&quot;1988.04&quot; y=&quot;2484.11&quot; width=&quot;17.45&quot; height=&quot;39.48&quot; style=&quot;fill:#CAC27E&quot;/&gt;\n",
       "\t&lt;rect x=&quot;1991.28&quot; y=&quot;2487.35&quot; width=&quot;10.97&quot; height=&quot;33.00&quot; style=&quot;fill:none;stroke:#D7D29E;stroke-width:6.48&quot;/&gt;\n",
       "\t&lt;rect x=&quot;2005.49&quot; y=&quot;2465.80&quot; width=&quot;17.45&quot; height=&quot;57.79&quot; style=&quot;fill:#CAC27E&quot;/&gt;\n",
       "\t&lt;rect x=&quot;2008.73&quot; y=&quot;2469.04&quot; width=&quot;10.97&quot; height=&quot;51.31&quot; style=&quot;fill:none;stroke:#D7D29E;stroke-width:6.48&quot;/&gt;\n",
       "\t&lt;rect x=&quot;2022.94&quot; y=&quot;2489.56&quot; width=&quot;17.57&quot; height=&quot;34.03&quot; style=&quot;fill:#CAC27E&quot;/&gt;\n",
       "\t&lt;rect x=&quot;2026.18&quot; y=&quot;2492.80&quot; width=&quot;11.09&quot; height=&quot;27.55&quot; style=&quot;fill:none;stroke:#D7D29E;stroke-width:6.48&quot;/&gt;\n",
       "\t&lt;rect x=&quot;2040.51&quot; y=&quot;2497.11&quot; width=&quot;17.45&quot; height=&quot;26.48&quot; style=&quot;fill:#CAC27E&quot;/&gt;\n",
       "\t&lt;rect x=&quot;2043.75&quot; y=&quot;2500.35&quot; width=&quot;10.97&quot; height=&quot;20.00&quot; style=&quot;fill:none;stroke:#D7D29E;stroke-width:6.48&quot;/&gt;\n",
       "\t&lt;rect x=&quot;2057.96&quot; y=&quot;2504.41&quot; width=&quot;17.57&quot; height=&quot;19.18&quot; style=&quot;fill:#CAC27E&quot;/&gt;\n",
       "\t&lt;rect x=&quot;2061.20&quot; y=&quot;2507.65&quot; width=&quot;11.09&quot; height=&quot;12.70&quot; style=&quot;fill:none;stroke:#D7D29E;stroke-width:6.48&quot;/&gt;\n",
       "\t&lt;rect x=&quot;2075.53&quot; y=&quot;2495.99&quot; width=&quot;17.45&quot; height=&quot;27.60&quot; style=&quot;fill:#CAC27E&quot;/&gt;\n",
       "\t&lt;rect x=&quot;2078.77&quot; y=&quot;2499.23&quot; width=&quot;10.97&quot; height=&quot;21.12&quot; style=&quot;fill:none;stroke:#D7D29E;stroke-width:6.48&quot;/&gt;\n",
       "\t&lt;rect x=&quot;2092.98&quot; y=&quot;2511.46&quot; width=&quot;17.57&quot; height=&quot;12.13&quot; style=&quot;fill:#CAC27E&quot;/&gt;\n",
       "\t&lt;rect x=&quot;2096.22&quot; y=&quot;2514.70&quot; width=&quot;11.09&quot; height=&quot;5.65&quot; style=&quot;fill:none;stroke:#D7D29E;stroke-width:6.48&quot;/&gt;\n",
       "\t&lt;rect x=&quot;2110.56&quot; y=&quot;2514.68&quot; width=&quot;17.45&quot; height=&quot;8.91&quot; style=&quot;fill:#CAC27E&quot;/&gt;\n",
       "\t&lt;rect x=&quot;2113.80&quot; y=&quot;2517.92&quot; width=&quot;10.97&quot; height=&quot;2.43&quot; style=&quot;fill:none;stroke:#D7D29E;stroke-width:6.48&quot;/&gt;\n",
       "\t&lt;rect x=&quot;2128.01&quot; y=&quot;2509.48&quot; width=&quot;17.57&quot; height=&quot;14.11&quot; style=&quot;fill:#CAC27E&quot;/&gt;\n",
       "\t&lt;rect x=&quot;2131.24&quot; y=&quot;2512.72&quot; width=&quot;11.09&quot; height=&quot;7.63&quot; style=&quot;fill:none;stroke:#D7D29E;stroke-width:6.48&quot;/&gt;\n",
       "\t&lt;rect x=&quot;2145.58&quot; y=&quot;2516.53&quot; width=&quot;17.45&quot; height=&quot;7.05&quot; style=&quot;fill:#CAC27E&quot;/&gt;\n",
       "\t&lt;rect x=&quot;2148.82&quot; y=&quot;2519.77&quot; width=&quot;10.97&quot; height=&quot;0.57&quot; style=&quot;fill:none;stroke:#D7D29E;stroke-width:6.48&quot;/&gt;\n",
       "\t&lt;rect x=&quot;2163.03&quot; y=&quot;2508.99&quot; width=&quot;17.45&quot; height=&quot;14.60&quot; style=&quot;fill:#CAC27E&quot;/&gt;\n",
       "\t&lt;rect x=&quot;2166.27&quot; y=&quot;2512.23&quot; width=&quot;10.97&quot; height=&quot;8.12&quot; style=&quot;fill:none;stroke:#D7D29E;stroke-width:6.48&quot;/&gt;\n",
       "\t&lt;rect x=&quot;2180.47&quot; y=&quot;2522.48&quot; width=&quot;17.57&quot; height=&quot;1.11&quot; style=&quot;fill:#CAC27E&quot;/&gt;\n",
       "\t&lt;rect x=&quot;2183.71&quot; y=&quot;2520.35&quot; width=&quot;11.09&quot; height=&quot;5.37&quot; style=&quot;fill:none;stroke:#D7D29E;stroke-width:6.48&quot;/&gt;\n",
       "\t&lt;rect x=&quot;2198.05&quot; y=&quot;2519.63&quot; width=&quot;17.45&quot; height=&quot;3.96&quot; style=&quot;fill:#CAC27E&quot;/&gt;\n",
       "\t&lt;rect x=&quot;2201.29&quot; y=&quot;2520.35&quot; width=&quot;10.97&quot; height=&quot;2.52&quot; style=&quot;fill:none;stroke:#D7D29E;stroke-width:6.48&quot;/&gt;\n",
       "\t&lt;rect x=&quot;2215.50&quot; y=&quot;2522.85&quot; width=&quot;17.57&quot; height=&quot;0.74&quot; style=&quot;fill:#CAC27E&quot;/&gt;\n",
       "\t&lt;rect x=&quot;2218.74&quot; y=&quot;2520.35&quot; width=&quot;11.09&quot; height=&quot;5.74&quot; style=&quot;fill:none;stroke:#D7D29E;stroke-width:6.48&quot;/&gt;\n",
       "\t&lt;rect x=&quot;2233.07&quot; y=&quot;2521.61&quot; width=&quot;17.45&quot; height=&quot;1.98&quot; style=&quot;fill:#CAC27E&quot;/&gt;\n",
       "\t&lt;rect x=&quot;2236.31&quot; y=&quot;2520.35&quot; width=&quot;10.97&quot; height=&quot;4.50&quot; style=&quot;fill:none;stroke:#D7D29E;stroke-width:6.48&quot;/&gt;\n",
       "\t&lt;rect x=&quot;2250.52&quot; y=&quot;2519.38&quot; width=&quot;17.57&quot; height=&quot;4.21&quot; style=&quot;fill:#CAC27E&quot;/&gt;\n",
       "\t&lt;rect x=&quot;2253.76&quot; y=&quot;2520.35&quot; width=&quot;11.09&quot; height=&quot;2.27&quot; style=&quot;fill:none;stroke:#D7D29E;stroke-width:6.48&quot;/&gt;\n",
       "\t&lt;rect x=&quot;2268.09&quot; y=&quot;2517.77&quot; width=&quot;17.45&quot; height=&quot;5.82&quot; style=&quot;fill:#CAC27E&quot;/&gt;\n",
       "\t&lt;rect x=&quot;2271.33&quot; y=&quot;2520.35&quot; width=&quot;10.97&quot; height=&quot;0.66&quot; style=&quot;fill:none;stroke:#D7D29E;stroke-width:6.48&quot;/&gt;\n",
       "\t&lt;rect x=&quot;2285.54&quot; y=&quot;2518.51&quot; width=&quot;17.57&quot; height=&quot;5.07&quot; style=&quot;fill:#CAC27E&quot;/&gt;\n",
       "\t&lt;rect x=&quot;2288.78&quot; y=&quot;2520.35&quot; width=&quot;11.09&quot; height=&quot;1.41&quot; style=&quot;fill:none;stroke:#D7D29E;stroke-width:6.48&quot;/&gt;\n",
       "\t&lt;rect x=&quot;2303.11&quot; y=&quot;2523.09&quot; width=&quot;17.45&quot; height=&quot;0.50&quot; style=&quot;fill:#CAC27E&quot;/&gt;\n",
       "\t&lt;rect x=&quot;2306.35&quot; y=&quot;2520.35&quot; width=&quot;10.97&quot; height=&quot;5.98&quot; style=&quot;fill:none;stroke:#D7D29E;stroke-width:6.48&quot;/&gt;\n",
       "\t&lt;rect x=&quot;2320.56&quot; y=&quot;2522.23&quot; width=&quot;17.45&quot; height=&quot;1.36&quot; style=&quot;fill:#CAC27E&quot;/&gt;\n",
       "\t&lt;rect x=&quot;2323.80&quot; y=&quot;2520.35&quot; width=&quot;10.97&quot; height=&quot;5.12&quot; style=&quot;fill:none;stroke:#D7D29E;stroke-width:6.48&quot;/&gt;\n",
       "\t&lt;rect x=&quot;2338.01&quot; y=&quot;2522.23&quot; width=&quot;17.57&quot; height=&quot;1.36&quot; style=&quot;fill:#CAC27E&quot;/&gt;\n",
       "\t&lt;rect x=&quot;2341.25&quot; y=&quot;2520.35&quot; width=&quot;11.09&quot; height=&quot;5.12&quot; style=&quot;fill:none;stroke:#D7D29E;stroke-width:6.48&quot;/&gt;\n",
       "\t&lt;rect x=&quot;2355.58&quot; y=&quot;2522.23&quot; width=&quot;17.45&quot; height=&quot;1.36&quot; style=&quot;fill:#CAC27E&quot;/&gt;\n",
       "\t&lt;rect x=&quot;2358.82&quot; y=&quot;2520.35&quot; width=&quot;10.97&quot; height=&quot;5.12&quot; style=&quot;fill:none;stroke:#D7D29E;stroke-width:6.48&quot;/&gt;\n",
       "\t&lt;rect x=&quot;2373.03&quot; y=&quot;2522.23&quot; width=&quot;17.57&quot; height=&quot;1.36&quot; style=&quot;fill:#CAC27E&quot;/&gt;\n",
       "\t&lt;rect x=&quot;2376.27&quot; y=&quot;2520.35&quot; width=&quot;11.09&quot; height=&quot;5.12&quot; style=&quot;fill:none;stroke:#D7D29E;stroke-width:6.48&quot;/&gt;\n",
       "\t&lt;rect x=&quot;2390.60&quot; y=&quot;2522.72&quot; width=&quot;17.45&quot; height=&quot;0.87&quot; style=&quot;fill:#CAC27E&quot;/&gt;\n",
       "\t&lt;rect x=&quot;2393.84&quot; y=&quot;2520.35&quot; width=&quot;10.97&quot; height=&quot;5.61&quot; style=&quot;fill:none;stroke:#D7D29E;stroke-width:6.48&quot;/&gt;\n",
       "\t&lt;rect x=&quot;2408.05&quot; y=&quot;2521.98&quot; width=&quot;17.57&quot; height=&quot;1.61&quot; style=&quot;fill:#CAC27E&quot;/&gt;\n",
       "\t&lt;rect x=&quot;2411.29&quot; y=&quot;2520.35&quot; width=&quot;11.09&quot; height=&quot;4.87&quot; style=&quot;fill:none;stroke:#D7D29E;stroke-width:6.48&quot;/&gt;\n",
       "\t&lt;rect x=&quot;2425.62&quot; y=&quot;2523.34&quot; width=&quot;17.45&quot; height=&quot;0.25&quot; style=&quot;fill:#CAC27E&quot;/&gt;\n",
       "\t&lt;rect x=&quot;2428.86&quot; y=&quot;2520.35&quot; width=&quot;10.97&quot; height=&quot;6.23&quot; style=&quot;fill:none;stroke:#D7D29E;stroke-width:6.48&quot;/&gt;\n",
       "\t&lt;rect x=&quot;2478.09&quot; y=&quot;2517.65&quot; width=&quot;17.45&quot; height=&quot;5.94&quot; style=&quot;fill:#CAC27E&quot;/&gt;\n",
       "\t&lt;rect x=&quot;2481.33&quot; y=&quot;2520.35&quot; width=&quot;10.97&quot; height=&quot;0.54&quot; style=&quot;fill:none;stroke:#D7D29E;stroke-width:6.48&quot;/&gt;\n",
       "\t&lt;line x1=&quot;1634.12&quot; y1=&quot;2523.59&quot; x2=&quot;1634.12&quot; y2=&quot;138.98&quot; style=&quot;stroke:#000000;stroke-width:4.32&quot;/&gt;\n",
       "\t&lt;line x1=&quot;1634.12&quot; y1=&quot;2523.59&quot; x2=&quot;1604.17&quot; y2=&quot;2523.59&quot; style=&quot;stroke:#000000;stroke-width:4.32&quot;/&gt;\n",
       "\t&lt;text x=&quot;1566.64&quot; y=&quot;2523.59&quot; style=&quot;font-family:&#x27;Helvetica&#x27;;font-size:74.99px;fill:#000000&quot; transform=&quot;rotate(-90 1566.64,2523.59)&quot; text-anchor=&quot;middle&quot;&gt;0&lt;/text&gt;\n",
       "\t&lt;line x1=&quot;1634.12&quot; y1=&quot;2056.17&quot; x2=&quot;1604.17&quot; y2=&quot;2056.17&quot; style=&quot;stroke:#000000;stroke-width:4.32&quot;/&gt;\n",
       "\t&lt;text x=&quot;1566.64&quot; y=&quot;2056.17&quot; style=&quot;font-family:&#x27;Helvetica&#x27;;font-size:74.99px;fill:#000000&quot; transform=&quot;rotate(-90 1566.64,2056.17)&quot; text-anchor=&quot;middle&quot;&gt;.02&lt;/text&gt;\n",
       "\t&lt;line x1=&quot;1634.12&quot; y1=&quot;1588.75&quot; x2=&quot;1604.17&quot; y2=&quot;1588.75&quot; style=&quot;stroke:#000000;stroke-width:4.32&quot;/&gt;\n",
       "\t&lt;text x=&quot;1566.64&quot; y=&quot;1588.75&quot; style=&quot;font-family:&#x27;Helvetica&#x27;;font-size:74.99px;fill:#000000&quot; transform=&quot;rotate(-90 1566.64,1588.75)&quot; text-anchor=&quot;middle&quot;&gt;.04&lt;/text&gt;\n",
       "\t&lt;line x1=&quot;1634.12&quot; y1=&quot;1121.33&quot; x2=&quot;1604.17&quot; y2=&quot;1121.33&quot; style=&quot;stroke:#000000;stroke-width:4.32&quot;/&gt;\n",
       "\t&lt;text x=&quot;1566.64&quot; y=&quot;1121.33&quot; style=&quot;font-family:&#x27;Helvetica&#x27;;font-size:74.99px;fill:#000000&quot; transform=&quot;rotate(-90 1566.64,1121.33)&quot; text-anchor=&quot;middle&quot;&gt;.06&lt;/text&gt;\n",
       "\t&lt;line x1=&quot;1634.12&quot; y1=&quot;653.92&quot; x2=&quot;1604.17&quot; y2=&quot;653.92&quot; style=&quot;stroke:#000000;stroke-width:4.32&quot;/&gt;\n",
       "\t&lt;text x=&quot;1566.64&quot; y=&quot;653.92&quot; style=&quot;font-family:&#x27;Helvetica&#x27;;font-size:74.99px;fill:#000000&quot; transform=&quot;rotate(-90 1566.64,653.92)&quot; text-anchor=&quot;middle&quot;&gt;.08&lt;/text&gt;\n",
       "\t&lt;line x1=&quot;1634.12&quot; y1=&quot;186.50&quot; x2=&quot;1604.17&quot; y2=&quot;186.50&quot; style=&quot;stroke:#000000;stroke-width:4.32&quot;/&gt;\n",
       "\t&lt;text x=&quot;1566.64&quot; y=&quot;186.50&quot; style=&quot;font-family:&#x27;Helvetica&#x27;;font-size:74.99px;fill:#000000&quot; transform=&quot;rotate(-90 1566.64,186.50)&quot; text-anchor=&quot;middle&quot;&gt;.1&lt;/text&gt;\n",
       "\t&lt;text x=&quot;1484.10&quot; y=&quot;1331.22&quot; style=&quot;font-family:&#x27;Helvetica&#x27;;font-size:74.99px;fill:#000000&quot; transform=&quot;rotate(-90 1484.10,1331.22)&quot; text-anchor=&quot;middle&quot;&gt;Density&lt;/text&gt;\n",
       "\t&lt;line x1=&quot;1634.12&quot; y1=&quot;2523.59&quot; x2=&quot;2543.19&quot; y2=&quot;2523.59&quot; style=&quot;stroke:#000000;stroke-width:4.32&quot;/&gt;\n",
       "\t&lt;line x1=&quot;1685.60&quot; y1=&quot;2523.59&quot; x2=&quot;1685.60&quot; y2=&quot;2553.54&quot; style=&quot;stroke:#000000;stroke-width:4.32&quot;/&gt;\n",
       "\t&lt;text x=&quot;1685.60&quot; y=&quot;2620.95&quot; style=&quot;font-family:&#x27;Helvetica&#x27;;font-size:74.99px;fill:#000000&quot; text-anchor=&quot;middle&quot;&gt;0&lt;/text&gt;\n",
       "\t&lt;line x1=&quot;1847.71&quot; y1=&quot;2523.59&quot; x2=&quot;1847.71&quot; y2=&quot;2553.54&quot; style=&quot;stroke:#000000;stroke-width:4.32&quot;/&gt;\n",
       "\t&lt;text x=&quot;1847.71&quot; y=&quot;2620.95&quot; style=&quot;font-family:&#x27;Helvetica&#x27;;font-size:74.99px;fill:#000000&quot; text-anchor=&quot;middle&quot;&gt;20&lt;/text&gt;\n",
       "\t&lt;line x1=&quot;2009.70&quot; y1=&quot;2523.59&quot; x2=&quot;2009.70&quot; y2=&quot;2553.54&quot; style=&quot;stroke:#000000;stroke-width:4.32&quot;/&gt;\n",
       "\t&lt;text x=&quot;2009.70&quot; y=&quot;2620.95&quot; style=&quot;font-family:&#x27;Helvetica&#x27;;font-size:74.99px;fill:#000000&quot; text-anchor=&quot;middle&quot;&gt;40&lt;/text&gt;\n",
       "\t&lt;line x1=&quot;2171.69&quot; y1=&quot;2523.59&quot; x2=&quot;2171.69&quot; y2=&quot;2553.54&quot; style=&quot;stroke:#000000;stroke-width:4.32&quot;/&gt;\n",
       "\t&lt;text x=&quot;2171.69&quot; y=&quot;2620.95&quot; style=&quot;font-family:&#x27;Helvetica&#x27;;font-size:74.99px;fill:#000000&quot; text-anchor=&quot;middle&quot;&gt;60&lt;/text&gt;\n",
       "\t&lt;line x1=&quot;2333.68&quot; y1=&quot;2523.59&quot; x2=&quot;2333.68&quot; y2=&quot;2553.54&quot; style=&quot;stroke:#000000;stroke-width:4.32&quot;/&gt;\n",
       "\t&lt;text x=&quot;2333.68&quot; y=&quot;2620.95&quot; style=&quot;font-family:&#x27;Helvetica&#x27;;font-size:74.99px;fill:#000000&quot; text-anchor=&quot;middle&quot;&gt;80&lt;/text&gt;\n",
       "\t&lt;line x1=&quot;2495.67&quot; y1=&quot;2523.59&quot; x2=&quot;2495.67&quot; y2=&quot;2553.54&quot; style=&quot;stroke:#000000;stroke-width:4.32&quot;/&gt;\n",
       "\t&lt;text x=&quot;2495.67&quot; y=&quot;2620.95&quot; style=&quot;font-family:&#x27;Helvetica&#x27;;font-size:74.99px;fill:#000000&quot; text-anchor=&quot;middle&quot;&gt;100&lt;/text&gt;\n",
       "\t&lt;text x=&quot;2088.65&quot; y=&quot;2703.49&quot; style=&quot;font-family:&#x27;Helvetica&#x27;;font-size:74.99px;fill:#000000&quot; text-anchor=&quot;middle&quot;&gt;hourly wage&lt;/text&gt;\n",
       "\t&lt;rect x=&quot;2618.80&quot; y=&quot;63.36&quot; width=&quot;1277.72&quot; height=&quot;2753.28&quot; style=&quot;fill:#EAF2F3&quot;/&gt;\n",
       "\t&lt;rect x=&quot;2620.96&quot; y=&quot;65.52&quot; width=&quot;1273.40&quot; height=&quot;2748.96&quot; style=&quot;fill:none;stroke:#EAF2F3;stroke-width:4.32&quot;/&gt;\n",
       "\t&lt;rect x=&quot;2911.84&quot; y=&quot;138.98&quot; width=&quot;909.07&quot; height=&quot;2384.61&quot; style=&quot;fill:#FFFFFF&quot;/&gt;\n",
       "\t&lt;rect x=&quot;2914.00&quot; y=&quot;141.14&quot; width=&quot;904.75&quot; height=&quot;2380.29&quot; style=&quot;fill:none;stroke:#FFFFFF;stroke-width:4.32&quot;/&gt;\n",
       "\t&lt;line x1=&quot;2911.84&quot; y1=&quot;2523.59&quot; x2=&quot;3820.91&quot; y2=&quot;2523.59&quot; style=&quot;stroke:#EAF2F3;stroke-width:6.48&quot;/&gt;\n",
       "\t&lt;line x1=&quot;2911.84&quot; y1=&quot;2056.17&quot; x2=&quot;3820.91&quot; y2=&quot;2056.17&quot; style=&quot;stroke:#EAF2F3;stroke-width:6.48&quot;/&gt;\n",
       "\t&lt;line x1=&quot;2911.84&quot; y1=&quot;1588.75&quot; x2=&quot;3820.91&quot; y2=&quot;1588.75&quot; style=&quot;stroke:#EAF2F3;stroke-width:6.48&quot;/&gt;\n",
       "\t&lt;line x1=&quot;2911.84&quot; y1=&quot;1121.33&quot; x2=&quot;3820.91&quot; y2=&quot;1121.33&quot; style=&quot;stroke:#EAF2F3;stroke-width:6.48&quot;/&gt;\n",
       "\t&lt;line x1=&quot;2911.84&quot; y1=&quot;653.92&quot; x2=&quot;3820.91&quot; y2=&quot;653.92&quot; style=&quot;stroke:#EAF2F3;stroke-width:6.48&quot;/&gt;\n",
       "\t&lt;line x1=&quot;2911.84&quot; y1=&quot;186.50&quot; x2=&quot;3820.91&quot; y2=&quot;186.50&quot; style=&quot;stroke:#EAF2F3;stroke-width:6.48&quot;/&gt;\n",
       "\t&lt;rect x=&quot;2968.14&quot; y=&quot;2488.69&quot; width=&quot;17.57&quot; height=&quot;34.90&quot; style=&quot;fill:#CAC27E&quot;/&gt;\n",
       "\t&lt;rect x=&quot;2971.38&quot; y=&quot;2491.93&quot; width=&quot;11.09&quot; height=&quot;28.42&quot; style=&quot;fill:none;stroke:#D7D29E;stroke-width:6.48&quot;/&gt;\n",
       "\t&lt;rect x=&quot;2985.72&quot; y=&quot;2477.80&quot; width=&quot;17.45&quot; height=&quot;45.79&quot; style=&quot;fill:#CAC27E&quot;/&gt;\n",
       "\t&lt;rect x=&quot;2988.96&quot; y=&quot;2481.04&quot; width=&quot;10.97&quot; height=&quot;39.31&quot; style=&quot;fill:none;stroke:#D7D29E;stroke-width:6.48&quot;/&gt;\n",
       "\t&lt;rect x=&quot;3003.16&quot; y=&quot;2471.49&quot; width=&quot;17.45&quot; height=&quot;52.10&quot; style=&quot;fill:#CAC27E&quot;/&gt;\n",
       "\t&lt;rect x=&quot;3006.40&quot; y=&quot;2474.73&quot; width=&quot;10.97&quot; height=&quot;45.62&quot; style=&quot;fill:none;stroke:#D7D29E;stroke-width:6.48&quot;/&gt;\n",
       "\t&lt;rect x=&quot;3020.61&quot; y=&quot;1993.67&quot; width=&quot;17.57&quot; height=&quot;529.91&quot; style=&quot;fill:#CAC27E&quot;/&gt;\n",
       "\t&lt;rect x=&quot;3023.85&quot; y=&quot;1996.91&quot; width=&quot;11.09&quot; height=&quot;523.43&quot; style=&quot;fill:none;stroke:#D7D29E;stroke-width:6.48&quot;/&gt;\n",
       "\t&lt;rect x=&quot;3038.19&quot; y=&quot;703.66&quot; width=&quot;17.45&quot; height=&quot;1819.92&quot; style=&quot;fill:#CAC27E&quot;/&gt;\n",
       "\t&lt;rect x=&quot;3041.43&quot; y=&quot;706.90&quot; width=&quot;10.97&quot; height=&quot;1813.44&quot; style=&quot;fill:none;stroke:#D7D29E;stroke-width:6.48&quot;/&gt;\n",
       "\t&lt;rect x=&quot;3055.64&quot; y=&quot;944.37&quot; width=&quot;17.57&quot; height=&quot;1579.22&quot; style=&quot;fill:#CAC27E&quot;/&gt;\n",
       "\t&lt;rect x=&quot;3058.87&quot; y=&quot;947.61&quot; width=&quot;11.09&quot; height=&quot;1572.74&quot; style=&quot;fill:none;stroke:#D7D29E;stroke-width:6.48&quot;/&gt;\n",
       "\t&lt;rect x=&quot;3073.21&quot; y=&quot;1058.84&quot; width=&quot;17.45&quot; height=&quot;1464.75&quot; style=&quot;fill:#CAC27E&quot;/&gt;\n",
       "\t&lt;rect x=&quot;3076.45&quot; y=&quot;1062.08&quot; width=&quot;10.97&quot; height=&quot;1458.27&quot; style=&quot;fill:none;stroke:#D7D29E;stroke-width:6.48&quot;/&gt;\n",
       "\t&lt;rect x=&quot;3090.66&quot; y=&quot;1458.19&quot; width=&quot;17.57&quot; height=&quot;1065.40&quot; style=&quot;fill:#CAC27E&quot;/&gt;\n",
       "\t&lt;rect x=&quot;3093.90&quot; y=&quot;1461.43&quot; width=&quot;11.09&quot; height=&quot;1058.92&quot; style=&quot;fill:none;stroke:#D7D29E;stroke-width:6.48&quot;/&gt;\n",
       "\t&lt;rect x=&quot;3108.23&quot; y=&quot;1736.76&quot; width=&quot;17.45&quot; height=&quot;786.83&quot; style=&quot;fill:#CAC27E&quot;/&gt;\n",
       "\t&lt;rect x=&quot;3111.47&quot; y=&quot;1740.00&quot; width=&quot;10.97&quot; height=&quot;780.35&quot; style=&quot;fill:none;stroke:#D7D29E;stroke-width:6.48&quot;/&gt;\n",
       "\t&lt;rect x=&quot;3125.68&quot; y=&quot;1784.16&quot; width=&quot;17.57&quot; height=&quot;739.43&quot; style=&quot;fill:#CAC27E&quot;/&gt;\n",
       "\t&lt;rect x=&quot;3128.92&quot; y=&quot;1787.40&quot; width=&quot;11.09&quot; height=&quot;732.95&quot; style=&quot;fill:none;stroke:#D7D29E;stroke-width:6.48&quot;/&gt;\n",
       "\t&lt;rect x=&quot;3143.25&quot; y=&quot;1966.82&quot; width=&quot;17.45&quot; height=&quot;556.77&quot; style=&quot;fill:#CAC27E&quot;/&gt;\n",
       "\t&lt;rect x=&quot;3146.49&quot; y=&quot;1970.06&quot; width=&quot;10.97&quot; height=&quot;550.29&quot; style=&quot;fill:none;stroke:#D7D29E;stroke-width:6.48&quot;/&gt;\n",
       "\t&lt;rect x=&quot;3160.70&quot; y=&quot;2082.53&quot; width=&quot;17.45&quot; height=&quot;441.06&quot; style=&quot;fill:#CAC27E&quot;/&gt;\n",
       "\t&lt;rect x=&quot;3163.94&quot; y=&quot;2085.77&quot; width=&quot;10.97&quot; height=&quot;434.58&quot; style=&quot;fill:none;stroke:#D7D29E;stroke-width:6.48&quot;/&gt;\n",
       "\t&lt;rect x=&quot;3178.15&quot; y=&quot;2237.10&quot; width=&quot;17.57&quot; height=&quot;286.49&quot; style=&quot;fill:#CAC27E&quot;/&gt;\n",
       "\t&lt;rect x=&quot;3181.39&quot; y=&quot;2240.34&quot; width=&quot;11.09&quot; height=&quot;280.01&quot; style=&quot;fill:none;stroke:#D7D29E;stroke-width:6.48&quot;/&gt;\n",
       "\t&lt;rect x=&quot;3195.72&quot; y=&quot;2233.88&quot; width=&quot;17.45&quot; height=&quot;289.71&quot; style=&quot;fill:#CAC27E&quot;/&gt;\n",
       "\t&lt;rect x=&quot;3198.96&quot; y=&quot;2237.12&quot; width=&quot;10.97&quot; height=&quot;283.23&quot; style=&quot;fill:none;stroke:#D7D29E;stroke-width:6.48&quot;/&gt;\n",
       "\t&lt;rect x=&quot;3213.17&quot; y=&quot;2332.39&quot; width=&quot;17.57&quot; height=&quot;191.20&quot; style=&quot;fill:#CAC27E&quot;/&gt;\n",
       "\t&lt;rect x=&quot;3216.41&quot; y=&quot;2335.63&quot; width=&quot;11.09&quot; height=&quot;184.72&quot; style=&quot;fill:none;stroke:#D7D29E;stroke-width:6.48&quot;/&gt;\n",
       "\t&lt;rect x=&quot;3230.74&quot; y=&quot;2396.25&quot; width=&quot;17.45&quot; height=&quot;127.34&quot; style=&quot;fill:#CAC27E&quot;/&gt;\n",
       "\t&lt;rect x=&quot;3233.98&quot; y=&quot;2399.49&quot; width=&quot;10.97&quot; height=&quot;120.86&quot; style=&quot;fill:none;stroke:#D7D29E;stroke-width:6.48&quot;/&gt;\n",
       "\t&lt;rect x=&quot;3248.19&quot; y=&quot;2334.86&quot; width=&quot;17.57&quot; height=&quot;188.72&quot; style=&quot;fill:#CAC27E&quot;/&gt;\n",
       "\t&lt;rect x=&quot;3251.43&quot; y=&quot;2338.10&quot; width=&quot;11.09&quot; height=&quot;182.24&quot; style=&quot;fill:none;stroke:#D7D29E;stroke-width:6.48&quot;/&gt;\n",
       "\t&lt;rect x=&quot;3265.76&quot; y=&quot;2444.14&quot; width=&quot;17.45&quot; height=&quot;79.45&quot; style=&quot;fill:#CAC27E&quot;/&gt;\n",
       "\t&lt;rect x=&quot;3269.00&quot; y=&quot;2447.38&quot; width=&quot;10.97&quot; height=&quot;72.97&quot; style=&quot;fill:none;stroke:#D7D29E;stroke-width:6.48&quot;/&gt;\n",
       "\t&lt;rect x=&quot;3283.21&quot; y=&quot;2411.22&quot; width=&quot;17.57&quot; height=&quot;112.37&quot; style=&quot;fill:#CAC27E&quot;/&gt;\n",
       "\t&lt;rect x=&quot;3286.45&quot; y=&quot;2414.46&quot; width=&quot;11.09&quot; height=&quot;105.89&quot; style=&quot;fill:none;stroke:#D7D29E;stroke-width:6.48&quot;/&gt;\n",
       "\t&lt;rect x=&quot;3300.78&quot; y=&quot;2470.99&quot; width=&quot;17.45&quot; height=&quot;52.60&quot; style=&quot;fill:#CAC27E&quot;/&gt;\n",
       "\t&lt;rect x=&quot;3304.02&quot; y=&quot;2474.23&quot; width=&quot;10.97&quot; height=&quot;46.12&quot; style=&quot;fill:none;stroke:#D7D29E;stroke-width:6.48&quot;/&gt;\n",
       "\t&lt;rect x=&quot;3318.23&quot; y=&quot;2461.09&quot; width=&quot;17.45&quot; height=&quot;62.50&quot; style=&quot;fill:#CAC27E&quot;/&gt;\n",
       "\t&lt;rect x=&quot;3321.47&quot; y=&quot;2464.33&quot; width=&quot;10.97&quot; height=&quot;56.02&quot; style=&quot;fill:none;stroke:#D7D29E;stroke-width:6.48&quot;/&gt;\n",
       "\t&lt;rect x=&quot;3335.68&quot; y=&quot;2492.53&quot; width=&quot;17.57&quot; height=&quot;31.06&quot; style=&quot;fill:#CAC27E&quot;/&gt;\n",
       "\t&lt;rect x=&quot;3338.92&quot; y=&quot;2495.77&quot; width=&quot;11.09&quot; height=&quot;24.58&quot; style=&quot;fill:none;stroke:#D7D29E;stroke-width:6.48&quot;/&gt;\n",
       "\t&lt;rect x=&quot;3353.25&quot; y=&quot;2459.73&quot; width=&quot;17.45&quot; height=&quot;63.86&quot; style=&quot;fill:#CAC27E&quot;/&gt;\n",
       "\t&lt;rect x=&quot;3356.49&quot; y=&quot;2462.97&quot; width=&quot;10.97&quot; height=&quot;57.38&quot; style=&quot;fill:none;stroke:#D7D29E;stroke-width:6.48&quot;/&gt;\n",
       "\t&lt;rect x=&quot;3370.70&quot; y=&quot;2504.90&quot; width=&quot;17.57&quot; height=&quot;18.69&quot; style=&quot;fill:#CAC27E&quot;/&gt;\n",
       "\t&lt;rect x=&quot;3373.94&quot; y=&quot;2508.14&quot; width=&quot;11.09&quot; height=&quot;12.21&quot; style=&quot;fill:none;stroke:#D7D29E;stroke-width:6.48&quot;/&gt;\n",
       "\t&lt;rect x=&quot;3388.28&quot; y=&quot;2508.24&quot; width=&quot;17.45&quot; height=&quot;15.35&quot; style=&quot;fill:#CAC27E&quot;/&gt;\n",
       "\t&lt;rect x=&quot;3391.51&quot; y=&quot;2511.48&quot; width=&quot;10.97&quot; height=&quot;8.87&quot; style=&quot;fill:none;stroke:#D7D29E;stroke-width:6.48&quot;/&gt;\n",
       "\t&lt;rect x=&quot;3405.72&quot; y=&quot;2500.08&quot; width=&quot;17.57&quot; height=&quot;23.51&quot; style=&quot;fill:#CAC27E&quot;/&gt;\n",
       "\t&lt;rect x=&quot;3408.96&quot; y=&quot;2503.32&quot; width=&quot;11.09&quot; height=&quot;17.03&quot; style=&quot;fill:none;stroke:#D7D29E;stroke-width:6.48&quot;/&gt;\n",
       "\t&lt;rect x=&quot;3423.30&quot; y=&quot;2509.98&quot; width=&quot;17.45&quot; height=&quot;13.61&quot; style=&quot;fill:#CAC27E&quot;/&gt;\n",
       "\t&lt;rect x=&quot;3426.54&quot; y=&quot;2513.22&quot; width=&quot;10.97&quot; height=&quot;7.13&quot; style=&quot;fill:none;stroke:#D7D29E;stroke-width:6.48&quot;/&gt;\n",
       "\t&lt;rect x=&quot;3440.74&quot; y=&quot;2503.17&quot; width=&quot;17.57&quot; height=&quot;20.42&quot; style=&quot;fill:#CAC27E&quot;/&gt;\n",
       "\t&lt;rect x=&quot;3443.98&quot; y=&quot;2506.41&quot; width=&quot;11.09&quot; height=&quot;13.94&quot; style=&quot;fill:none;stroke:#D7D29E;stroke-width:6.48&quot;/&gt;\n",
       "\t&lt;rect x=&quot;3458.32&quot; y=&quot;2513.19&quot; width=&quot;17.45&quot; height=&quot;10.40&quot; style=&quot;fill:#CAC27E&quot;/&gt;\n",
       "\t&lt;rect x=&quot;3461.56&quot; y=&quot;2516.43&quot; width=&quot;10.97&quot; height=&quot;3.92&quot; style=&quot;fill:none;stroke:#D7D29E;stroke-width:6.48&quot;/&gt;\n",
       "\t&lt;rect x=&quot;3475.77&quot; y=&quot;2510.72&quot; width=&quot;17.45&quot; height=&quot;12.87&quot; style=&quot;fill:#CAC27E&quot;/&gt;\n",
       "\t&lt;rect x=&quot;3479.01&quot; y=&quot;2513.96&quot; width=&quot;10.97&quot; height=&quot;6.39&quot; style=&quot;fill:none;stroke:#D7D29E;stroke-width:6.48&quot;/&gt;\n",
       "\t&lt;rect x=&quot;3493.22&quot; y=&quot;2515.79&quot; width=&quot;17.57&quot; height=&quot;7.80&quot; style=&quot;fill:#CAC27E&quot;/&gt;\n",
       "\t&lt;rect x=&quot;3496.45&quot; y=&quot;2519.03&quot; width=&quot;11.09&quot; height=&quot;1.32&quot; style=&quot;fill:none;stroke:#D7D29E;stroke-width:6.48&quot;/&gt;\n",
       "\t&lt;rect x=&quot;3510.79&quot; y=&quot;2520.37&quot; width=&quot;17.45&quot; height=&quot;3.22&quot; style=&quot;fill:#CAC27E&quot;/&gt;\n",
       "\t&lt;rect x=&quot;3514.03&quot; y=&quot;2520.35&quot; width=&quot;10.97&quot; height=&quot;3.26&quot; style=&quot;fill:none;stroke:#D7D29E;stroke-width:6.48&quot;/&gt;\n",
       "\t&lt;rect x=&quot;3528.24&quot; y=&quot;2518.02&quot; width=&quot;17.57&quot; height=&quot;5.57&quot; style=&quot;fill:#CAC27E&quot;/&gt;\n",
       "\t&lt;rect x=&quot;3531.48&quot; y=&quot;2520.35&quot; width=&quot;11.09&quot; height=&quot;0.91&quot; style=&quot;fill:none;stroke:#D7D29E;stroke-width:6.48&quot;/&gt;\n",
       "\t&lt;rect x=&quot;3545.81&quot; y=&quot;2509.98&quot; width=&quot;17.45&quot; height=&quot;13.61&quot; style=&quot;fill:#CAC27E&quot;/&gt;\n",
       "\t&lt;rect x=&quot;3549.05&quot; y=&quot;2513.22&quot; width=&quot;10.97&quot; height=&quot;7.13&quot; style=&quot;fill:none;stroke:#D7D29E;stroke-width:6.48&quot;/&gt;\n",
       "\t&lt;rect x=&quot;3563.26&quot; y=&quot;2518.02&quot; width=&quot;17.57&quot; height=&quot;5.57&quot; style=&quot;fill:#CAC27E&quot;/&gt;\n",
       "\t&lt;rect x=&quot;3566.50&quot; y=&quot;2520.35&quot; width=&quot;11.09&quot; height=&quot;0.91&quot; style=&quot;fill:none;stroke:#D7D29E;stroke-width:6.48&quot;/&gt;\n",
       "\t&lt;rect x=&quot;3580.83&quot; y=&quot;2522.35&quot; width=&quot;17.45&quot; height=&quot;1.24&quot; style=&quot;fill:#CAC27E&quot;/&gt;\n",
       "\t&lt;rect x=&quot;3584.07&quot; y=&quot;2520.35&quot; width=&quot;10.97&quot; height=&quot;5.24&quot; style=&quot;fill:none;stroke:#D7D29E;stroke-width:6.48&quot;/&gt;\n",
       "\t&lt;rect x=&quot;3598.28&quot; y=&quot;2519.63&quot; width=&quot;17.45&quot; height=&quot;3.96&quot; style=&quot;fill:#CAC27E&quot;/&gt;\n",
       "\t&lt;rect x=&quot;3601.52&quot; y=&quot;2520.35&quot; width=&quot;10.97&quot; height=&quot;2.52&quot; style=&quot;fill:none;stroke:#D7D29E;stroke-width:6.48&quot;/&gt;\n",
       "\t&lt;rect x=&quot;3615.73&quot; y=&quot;2522.85&quot; width=&quot;17.57&quot; height=&quot;0.74&quot; style=&quot;fill:#CAC27E&quot;/&gt;\n",
       "\t&lt;rect x=&quot;3618.97&quot; y=&quot;2520.35&quot; width=&quot;11.09&quot; height=&quot;5.74&quot; style=&quot;fill:none;stroke:#D7D29E;stroke-width:6.48&quot;/&gt;\n",
       "\t&lt;rect x=&quot;3633.30&quot; y=&quot;2522.35&quot; width=&quot;17.45&quot; height=&quot;1.24&quot; style=&quot;fill:#CAC27E&quot;/&gt;\n",
       "\t&lt;rect x=&quot;3636.54&quot; y=&quot;2520.35&quot; width=&quot;10.97&quot; height=&quot;5.24&quot; style=&quot;fill:none;stroke:#D7D29E;stroke-width:6.48&quot;/&gt;\n",
       "\t&lt;rect x=&quot;3650.75&quot; y=&quot;2522.10&quot; width=&quot;17.57&quot; height=&quot;1.49&quot; style=&quot;fill:#CAC27E&quot;/&gt;\n",
       "\t&lt;rect x=&quot;3653.99&quot; y=&quot;2520.35&quot; width=&quot;11.09&quot; height=&quot;4.99&quot; style=&quot;fill:none;stroke:#D7D29E;stroke-width:6.48&quot;/&gt;\n",
       "\t&lt;rect x=&quot;3668.32&quot; y=&quot;2522.35&quot; width=&quot;17.45&quot; height=&quot;1.24&quot; style=&quot;fill:#CAC27E&quot;/&gt;\n",
       "\t&lt;rect x=&quot;3671.56&quot; y=&quot;2520.35&quot; width=&quot;10.97&quot; height=&quot;5.24&quot; style=&quot;fill:none;stroke:#D7D29E;stroke-width:6.48&quot;/&gt;\n",
       "\t&lt;rect x=&quot;3685.77&quot; y=&quot;2521.86&quot; width=&quot;17.57&quot; height=&quot;1.73&quot; style=&quot;fill:#CAC27E&quot;/&gt;\n",
       "\t&lt;rect x=&quot;3689.01&quot; y=&quot;2520.35&quot; width=&quot;11.09&quot; height=&quot;4.75&quot; style=&quot;fill:none;stroke:#D7D29E;stroke-width:6.48&quot;/&gt;\n",
       "\t&lt;rect x=&quot;3703.34&quot; y=&quot;2523.09&quot; width=&quot;17.45&quot; height=&quot;0.50&quot; style=&quot;fill:#CAC27E&quot;/&gt;\n",
       "\t&lt;rect x=&quot;3706.58&quot; y=&quot;2520.35&quot; width=&quot;10.97&quot; height=&quot;5.98&quot; style=&quot;fill:none;stroke:#D7D29E;stroke-width:6.48&quot;/&gt;\n",
       "\t&lt;rect x=&quot;3720.79&quot; y=&quot;2522.35&quot; width=&quot;17.57&quot; height=&quot;1.24&quot; style=&quot;fill:#CAC27E&quot;/&gt;\n",
       "\t&lt;rect x=&quot;3724.03&quot; y=&quot;2520.35&quot; width=&quot;11.09&quot; height=&quot;5.24&quot; style=&quot;fill:none;stroke:#D7D29E;stroke-width:6.48&quot;/&gt;\n",
       "\t&lt;rect x=&quot;3738.36&quot; y=&quot;2523.34&quot; width=&quot;17.45&quot; height=&quot;0.25&quot; style=&quot;fill:#CAC27E&quot;/&gt;\n",
       "\t&lt;rect x=&quot;3741.60&quot; y=&quot;2520.35&quot; width=&quot;10.97&quot; height=&quot;6.23&quot; style=&quot;fill:none;stroke:#D7D29E;stroke-width:6.48&quot;/&gt;\n",
       "\t&lt;rect x=&quot;3755.81&quot; y=&quot;2517.28&quot; width=&quot;17.45&quot; height=&quot;6.31&quot; style=&quot;fill:#CAC27E&quot;/&gt;\n",
       "\t&lt;rect x=&quot;3759.05&quot; y=&quot;2520.35&quot; width=&quot;10.97&quot; height=&quot;0.17&quot; style=&quot;fill:none;stroke:#D7D29E;stroke-width:6.48&quot;/&gt;\n",
       "\t&lt;line x1=&quot;2911.84&quot; y1=&quot;2523.59&quot; x2=&quot;2911.84&quot; y2=&quot;138.98&quot; style=&quot;stroke:#000000;stroke-width:4.32&quot;/&gt;\n",
       "\t&lt;line x1=&quot;2911.84&quot; y1=&quot;2523.59&quot; x2=&quot;2881.89&quot; y2=&quot;2523.59&quot; style=&quot;stroke:#000000;stroke-width:4.32&quot;/&gt;\n",
       "\t&lt;text x=&quot;2844.36&quot; y=&quot;2523.59&quot; style=&quot;font-family:&#x27;Helvetica&#x27;;font-size:74.99px;fill:#000000&quot; transform=&quot;rotate(-90 2844.36,2523.59)&quot; text-anchor=&quot;middle&quot;&gt;0&lt;/text&gt;\n",
       "\t&lt;line x1=&quot;2911.84&quot; y1=&quot;2056.17&quot; x2=&quot;2881.89&quot; y2=&quot;2056.17&quot; style=&quot;stroke:#000000;stroke-width:4.32&quot;/&gt;\n",
       "\t&lt;text x=&quot;2844.36&quot; y=&quot;2056.17&quot; style=&quot;font-family:&#x27;Helvetica&#x27;;font-size:74.99px;fill:#000000&quot; transform=&quot;rotate(-90 2844.36,2056.17)&quot; text-anchor=&quot;middle&quot;&gt;.02&lt;/text&gt;\n",
       "\t&lt;line x1=&quot;2911.84&quot; y1=&quot;1588.75&quot; x2=&quot;2881.89&quot; y2=&quot;1588.75&quot; style=&quot;stroke:#000000;stroke-width:4.32&quot;/&gt;\n",
       "\t&lt;text x=&quot;2844.36&quot; y=&quot;1588.75&quot; style=&quot;font-family:&#x27;Helvetica&#x27;;font-size:74.99px;fill:#000000&quot; transform=&quot;rotate(-90 2844.36,1588.75)&quot; text-anchor=&quot;middle&quot;&gt;.04&lt;/text&gt;\n",
       "\t&lt;line x1=&quot;2911.84&quot; y1=&quot;1121.33&quot; x2=&quot;2881.89&quot; y2=&quot;1121.33&quot; style=&quot;stroke:#000000;stroke-width:4.32&quot;/&gt;\n",
       "\t&lt;text x=&quot;2844.36&quot; y=&quot;1121.33&quot; style=&quot;font-family:&#x27;Helvetica&#x27;;font-size:74.99px;fill:#000000&quot; transform=&quot;rotate(-90 2844.36,1121.33)&quot; text-anchor=&quot;middle&quot;&gt;.06&lt;/text&gt;\n",
       "\t&lt;line x1=&quot;2911.84&quot; y1=&quot;653.92&quot; x2=&quot;2881.89&quot; y2=&quot;653.92&quot; style=&quot;stroke:#000000;stroke-width:4.32&quot;/&gt;\n",
       "\t&lt;text x=&quot;2844.36&quot; y=&quot;653.92&quot; style=&quot;font-family:&#x27;Helvetica&#x27;;font-size:74.99px;fill:#000000&quot; transform=&quot;rotate(-90 2844.36,653.92)&quot; text-anchor=&quot;middle&quot;&gt;.08&lt;/text&gt;\n",
       "\t&lt;line x1=&quot;2911.84&quot; y1=&quot;186.50&quot; x2=&quot;2881.89&quot; y2=&quot;186.50&quot; style=&quot;stroke:#000000;stroke-width:4.32&quot;/&gt;\n",
       "\t&lt;text x=&quot;2844.36&quot; y=&quot;186.50&quot; style=&quot;font-family:&#x27;Helvetica&#x27;;font-size:74.99px;fill:#000000&quot; transform=&quot;rotate(-90 2844.36,186.50)&quot; text-anchor=&quot;middle&quot;&gt;.1&lt;/text&gt;\n",
       "\t&lt;text x=&quot;2761.82&quot; y=&quot;1331.22&quot; style=&quot;font-family:&#x27;Helvetica&#x27;;font-size:74.99px;fill:#000000&quot; transform=&quot;rotate(-90 2761.82,1331.22)&quot; text-anchor=&quot;middle&quot;&gt;Density&lt;/text&gt;\n",
       "\t&lt;line x1=&quot;2911.84&quot; y1=&quot;2523.59&quot; x2=&quot;3820.91&quot; y2=&quot;2523.59&quot; style=&quot;stroke:#000000;stroke-width:4.32&quot;/&gt;\n",
       "\t&lt;line x1=&quot;2966.78&quot; y1=&quot;2523.59&quot; x2=&quot;2966.78&quot; y2=&quot;2553.54&quot; style=&quot;stroke:#000000;stroke-width:4.32&quot;/&gt;\n",
       "\t&lt;text x=&quot;2966.78&quot; y=&quot;2620.95&quot; style=&quot;font-family:&#x27;Helvetica&#x27;;font-size:74.99px;fill:#000000&quot; text-anchor=&quot;middle&quot;&gt;0&lt;/text&gt;\n",
       "\t&lt;line x1=&quot;3128.15&quot; y1=&quot;2523.59&quot; x2=&quot;3128.15&quot; y2=&quot;2553.54&quot; style=&quot;stroke:#000000;stroke-width:4.32&quot;/&gt;\n",
       "\t&lt;text x=&quot;3128.15&quot; y=&quot;2620.95&quot; style=&quot;font-family:&#x27;Helvetica&#x27;;font-size:74.99px;fill:#000000&quot; text-anchor=&quot;middle&quot;&gt;20&lt;/text&gt;\n",
       "\t&lt;line x1=&quot;3289.40&quot; y1=&quot;2523.59&quot; x2=&quot;3289.40&quot; y2=&quot;2553.54&quot; style=&quot;stroke:#000000;stroke-width:4.32&quot;/&gt;\n",
       "\t&lt;text x=&quot;3289.40&quot; y=&quot;2620.95&quot; style=&quot;font-family:&#x27;Helvetica&#x27;;font-size:74.99px;fill:#000000&quot; text-anchor=&quot;middle&quot;&gt;40&lt;/text&gt;\n",
       "\t&lt;line x1=&quot;3450.77&quot; y1=&quot;2523.59&quot; x2=&quot;3450.77&quot; y2=&quot;2553.54&quot; style=&quot;stroke:#000000;stroke-width:4.32&quot;/&gt;\n",
       "\t&lt;text x=&quot;3450.77&quot; y=&quot;2620.95&quot; style=&quot;font-family:&#x27;Helvetica&#x27;;font-size:74.99px;fill:#000000&quot; text-anchor=&quot;middle&quot;&gt;60&lt;/text&gt;\n",
       "\t&lt;line x1=&quot;3612.14&quot; y1=&quot;2523.59&quot; x2=&quot;3612.14&quot; y2=&quot;2553.54&quot; style=&quot;stroke:#000000;stroke-width:4.32&quot;/&gt;\n",
       "\t&lt;text x=&quot;3612.14&quot; y=&quot;2620.95&quot; style=&quot;font-family:&#x27;Helvetica&#x27;;font-size:74.99px;fill:#000000&quot; text-anchor=&quot;middle&quot;&gt;80&lt;/text&gt;\n",
       "\t&lt;line x1=&quot;3773.39&quot; y1=&quot;2523.59&quot; x2=&quot;3773.39&quot; y2=&quot;2553.54&quot; style=&quot;stroke:#000000;stroke-width:4.32&quot;/&gt;\n",
       "\t&lt;text x=&quot;3773.39&quot; y=&quot;2620.95&quot; style=&quot;font-family:&#x27;Helvetica&#x27;;font-size:74.99px;fill:#000000&quot; text-anchor=&quot;middle&quot;&gt;100&lt;/text&gt;\n",
       "\t&lt;text x=&quot;3366.37&quot; y=&quot;2703.49&quot; style=&quot;font-family:&#x27;Helvetica&#x27;;font-size:74.99px;fill:#000000&quot; text-anchor=&quot;middle&quot;&gt;hourly wage&lt;/text&gt;\n",
       "&lt;/svg&gt;\n",
       "</body></html>\"></iframe>\n"
      ],
      "text/plain": [
       "This front-end cannot display the desired image type."
      ]
     },
     "metadata": {
      "image/svg+xml": {
       "height": 436,
       "width": 600
      },
      "text/html": {
       "height": 436,
       "width": 600
      }
     },
     "output_type": "display_data"
    }
   ],
   "source": [
    "mvdecode(hourwage), mv(999.99)\n",
    "\n",
    "qui histogram hourwage if year==2001, name(h2001) yscale(range(0 .1)) ylabel(0(0.02)0.1)\n",
    "qui histogram hourwage if year==2009, name(h2009) yscale(range(0 .1)) ylabel(0(0.02)0.1)\n",
    "qui histogram hourwage if year==2018, name(h2018) yscale(range(0 .1)) ylabel(0(0.02)0.1)\n",
    "graph combine h2001 h2009 h2018, col(3)"
   ]
  },
  {
   "cell_type": "markdown",
   "metadata": {},
   "source": [
    "### Is the data representative of the distribution of the population across all 50 U.S. states in 2017?"
   ]
  },
  {
   "cell_type": "code",
   "execution_count": 61,
   "metadata": {
    "scrolled": true
   },
   "outputs": [
    {
     "name": "stdout",
     "output_type": "stream",
     "text": [
      "\n",
      "                    state (census code) |      Freq.     Percent        Cum.\n",
      "----------------------------------------+-----------------------------------\n",
      "                              11. maine |    171,775        1.51        1.51\n",
      "                      12. new hampshire |    208,615        1.84        3.35\n",
      "                            13. vermont |    161,983        1.43        4.78\n",
      "                      14. massachusetts |    206,391        1.82        6.59\n",
      "                       15. rhode island |    163,331        1.44        8.03\n",
      "                        16. connecticut |    200,132        1.76        9.80\n",
      "                           21. new york |    508,971        4.48       14.28\n",
      "                         22. new jersey |    249,338        2.20       16.47\n",
      "                       23. pennsylvania |    358,675        3.16       19.63\n",
      "                               31. ohio |    323,555        2.85       22.48\n",
      "                            32. indiana |    185,484        1.63       24.12\n",
      "                           33. illinois |    362,981        3.20       27.31\n",
      "                           34. michigan |    289,975        2.55       29.87\n",
      "                          35. wisconsin |    202,315        1.78       31.65\n",
      "                          41. minnesota |    229,674        2.02       33.67\n",
      "                               42. iowa |    183,425        1.62       35.29\n",
      "                           43. missouri |    174,191        1.53       36.82\n",
      "                       44. north dakota |    153,968        1.36       38.18\n",
      "                       45. south dakota |    158,552        1.40       39.57\n",
      "                           46. nebraska |    164,934        1.45       41.03\n",
      "                             47. kansas |    159,595        1.41       42.43\n",
      "                           51. delaware |    152,790        1.35       43.78\n",
      "                           52. maryland |    210,504        1.85       45.63\n",
      "               53. district of columbia |    145,550        1.28       46.91\n",
      "                           54. virginia |    225,874        1.99       48.90\n",
      "                      55. west virginia |    170,770        1.50       50.41\n",
      "                     56. north carolina |    241,747        2.13       52.54\n",
      "                     57. south carolina |    154,789        1.36       53.90\n",
      "                            58. georgia |    228,556        2.01       55.91\n",
      "                            59. florida |    463,151        4.08       59.99\n",
      "                           61. kentucky |    155,967        1.37       61.36\n",
      "                          62. tennessee |    169,203        1.49       62.85\n",
      "                            63. alabama |    166,799        1.47       64.32\n",
      "                        64. mississippi |    138,288        1.22       65.54\n",
      "                           71. arkansas |    145,579        1.28       66.82\n",
      "                          72. louisiana |    156,549        1.38       68.20\n",
      "                           73. oklahoma |    145,215        1.28       69.48\n",
      "                              74. texas |    574,448        5.06       74.54\n",
      "                            81. montana |    143,027        1.26       75.80\n",
      "                              82. idaho |    147,604        1.30       77.10\n",
      "                            83. wyoming |    152,347        1.34       78.44\n",
      "                           84. colorado |    209,008        1.84       80.28\n",
      "                         85. new mexico |    133,566        1.18       81.46\n",
      "                            86. arizona |    153,674        1.35       82.81\n",
      "                               87. utah |    155,571        1.37       84.18\n",
      "                             88. nevada |    165,476        1.46       85.64\n",
      "                         91. washington |    201,853        1.78       87.42\n",
      "                             92. oregon |    165,215        1.46       88.87\n",
      "                         93. california |    952,149        8.39       97.26\n",
      "                             94. alaska |    148,309        1.31       98.57\n",
      "                             95. hawaii |    162,899        1.43      100.00\n",
      "----------------------------------------+-----------------------------------\n",
      "                                  Total | 11,354,337      100.00\n"
     ]
    }
   ],
   "source": [
    "tab statecensus"
   ]
  },
  {
   "cell_type": "code",
   "execution_count": 62,
   "metadata": {},
   "outputs": [
    {
     "name": "stdout",
     "output_type": "stream",
     "text": [
      "\n",
      "\n",
      "\n",
      "                    state (census code) |      Freq.     Percent        Cum.\n",
      "----------------------------------------+-----------------------------------\n",
      "                              11. maine |      1,399        0.89        0.89\n",
      "                      12. new hampshire |      2,136        1.36        2.26\n",
      "                            13. vermont |      2,058        1.31        3.57\n",
      "                      14. massachusetts |      3,368        2.15        5.72\n",
      "                       15. rhode island |      1,436        0.92        6.64\n",
      "                        16. connecticut |      1,602        1.02        7.66\n",
      "                           21. new york |      6,411        4.09       11.75\n",
      "                         22. new jersey |      3,165        2.02       13.78\n",
      "                       23. pennsylvania |      4,433        2.83       16.61\n",
      "                               31. ohio |      4,024        2.57       19.17\n",
      "                            32. indiana |      2,568        1.64       20.81\n",
      "                           33. illinois |      4,561        2.91       23.73\n",
      "                           34. michigan |      3,556        2.27       26.00\n",
      "                          35. wisconsin |      2,151        1.37       27.37\n",
      "                          41. minnesota |      2,077        1.33       28.70\n",
      "                               42. iowa |      1,758        1.12       29.82\n",
      "                           43. missouri |      2,238        1.43       31.25\n",
      "                       44. north dakota |      2,239        1.43       32.68\n",
      "                       45. south dakota |      1,710        1.09       33.77\n",
      "                           46. nebraska |      1,934        1.23       35.00\n",
      "                             47. kansas |      1,965        1.25       36.26\n",
      "                           51. delaware |      1,712        1.09       37.35\n",
      "                           52. maryland |      2,031        1.30       38.65\n",
      "               53. district of columbia |      2,646        1.69       40.34\n",
      "                           54. virginia |      2,914        1.86       42.20\n",
      "                      55. west virginia |      3,453        2.20       44.40\n",
      "                     56. north carolina |      3,531        2.25       46.66\n",
      "                     57. south carolina |      2,411        1.54       48.20\n",
      "                            58. georgia |      3,560        2.27       50.47\n",
      "                            59. florida |      6,820        4.35       54.82\n",
      "                           61. kentucky |      2,024        1.29       56.12\n",
      "                          62. tennessee |      3,014        1.92       58.04\n",
      "                            63. alabama |      3,209        2.05       60.09\n",
      "                        64. mississippi |      2,881        1.84       61.93\n",
      "                           71. arkansas |      2,767        1.77       63.70\n",
      "                          72. louisiana |      3,525        2.25       65.95\n",
      "                           73. oklahoma |      2,258        1.44       67.39\n",
      "                              74. texas |      9,006        5.75       73.14\n",
      "                            81. montana |      2,903        1.85       74.99\n",
      "                              82. idaho |      2,394        1.53       76.52\n",
      "                            83. wyoming |      2,245        1.43       77.95\n",
      "                           84. colorado |      1,882        1.20       79.15\n",
      "                         85. new mexico |      2,710        1.73       80.88\n",
      "                            86. arizona |      2,342        1.50       82.38\n",
      "                               87. utah |      2,340        1.49       83.87\n",
      "                             88. nevada |      1,945        1.24       85.12\n",
      "                         91. washington |      2,846        1.82       86.93\n",
      "                             92. oregon |      2,321        1.48       88.41\n",
      "                         93. california |     13,892        8.87       97.28\n",
      "                             94. alaska |      1,957        1.25       98.53\n",
      "                             95. hawaii |      2,296        1.47      100.00\n",
      "----------------------------------------+-----------------------------------\n",
      "                                  Total |    156,624      100.00\n"
     ]
    }
   ],
   "source": [
    "egen distinct2017 = tag(cpsidp year) if year == 2017\n",
    "tab statecensus if distinct2017 == 1"
   ]
  },
  {
   "cell_type": "markdown",
   "metadata": {},
   "source": [
    "Compare the frequencies with official figures, which you can finde here:\n",
    "<a href=https://www.census.gov/data/tables/time-series/demo/popest/2010s-state-total.html>census.gov</a>"
   ]
  },
  {
   "cell_type": "markdown",
   "metadata": {},
   "source": [
    "### You have the task to create statistics of employment status, occupation, wage and education. <br>You are also asked to do this analysis for the subpopulations defined by age, race, sex and citizenship.<br> How would you proceed?"
   ]
  },
  {
   "cell_type": "markdown",
   "metadata": {},
   "source": [
    "The idea of this task is to rise awareness of the different scale of measurements present in this data set.\n",
    "E.g., there is no point in calculating 5 point statistics for a nominal variable. Frequency tables are a helpful start for a data analysis.\n",
    "\n",
    "There are different ways in stata to create meaningful statistics. When doing so for various subpopulations, you should avoid to render the statistics to granular, i.e. analsing too many groups. The more result tables you have, the harder it gets to compare them.\n"
   ]
  },
  {
   "cell_type": "code",
   "execution_count": null,
   "metadata": {},
   "outputs": [],
   "source": [
    "/* There exist a variety of commands that yield a quick overview of the data as well as some related basic statistics\n",
    "and further information.*/\n",
    "describe"
   ]
  },
  {
   "cell_type": "code",
   "execution_count": null,
   "metadata": {},
   "outputs": [],
   "source": [
    "codebook"
   ]
  },
  {
   "cell_type": "code",
   "execution_count": null,
   "metadata": {},
   "outputs": [],
   "source": [
    "tab year"
   ]
  },
  {
   "cell_type": "code",
   "execution_count": null,
   "metadata": {},
   "outputs": [],
   "source": [
    "summarize age, detail"
   ]
  },
  {
   "cell_type": "code",
   "execution_count": null,
   "metadata": {},
   "outputs": [],
   "source": [
    "// Create frequency tables using the tabulate command\n",
    "tabulate educ sex, row"
   ]
  },
  {
   "cell_type": "code",
   "execution_count": null,
   "metadata": {},
   "outputs": [],
   "source": [
    "numlabel, add\n",
    "tab educ"
   ]
  },
  {
   "cell_type": "markdown",
   "metadata": {},
   "source": [
    "Value 92 represents associate's degrees. Those degrees academic degrees in the US and in other countries who introduced it. However, in most countries of the EU those degrees are not considered academic.\n",
    "Now we have to decide whether to label those degrees as academic college degrees or not.\n",
    "I choose not to do so, since the results of my analysis would be hard to compare with the situation in other countries where such a degree is unknown.\n",
    "\n",
    "If you happen to work with this variable in your project, you may decide to label associate's degrees differently. However you proceed, please elaborate on your decision."
   ]
  },
  {
   "cell_type": "code",
   "execution_count": null,
   "metadata": {},
   "outputs": [],
   "source": [
    "/* create new variable college that is 0 for every degree below college, 1 for every degree equivalent\n",
    "or above college and .m for missing values */\n",
    "\n",
    "gen college = 0\n",
    "replace college = 1 if educ > 92\n",
    "replace college = .m if educ == 1"
   ]
  },
  {
   "cell_type": "code",
   "execution_count": null,
   "metadata": {},
   "outputs": [],
   "source": [
    "tab sex college, row"
   ]
  },
  {
   "cell_type": "code",
   "execution_count": null,
   "metadata": {
    "scrolled": true,
    "slideshow": {
     "slide_type": "subslide"
    }
   },
   "outputs": [],
   "source": [
    "bysort sex college: tab occ empstat, row"
   ]
  },
  {
   "cell_type": "code",
   "execution_count": null,
   "metadata": {},
   "outputs": [],
   "source": [
    "numlabel, add\n",
    "tabulate faminc"
   ]
  },
  {
   "cell_type": "code",
   "execution_count": null,
   "metadata": {},
   "outputs": [],
   "source": [
    "mvdecode(faminc), mv(996 997 999)"
   ]
  },
  {
   "cell_type": "code",
   "execution_count": null,
   "metadata": {},
   "outputs": [],
   "source": [
    "tabstat faminc, by(year) statistics(p25, median, p75)"
   ]
  },
  {
   "cell_type": "code",
   "execution_count": null,
   "metadata": {},
   "outputs": [],
   "source": [
    "graph bar (count), over(faminc) over(year, label(angle(v))) asyvars stack percent"
   ]
  },
  {
   "cell_type": "markdown",
   "metadata": {},
   "source": [
    "# Effects of wage on hours worked (intensive margin) [Task 2]"
   ]
  },
  {
   "cell_type": "code",
   "execution_count": 24,
   "metadata": {},
   "outputs": [
    {
     "name": "stdout",
     "output_type": "stream",
     "text": [
      "\n",
      "C:\\Users\\Hannes\\Documents\n",
      "\n"
     ]
    }
   ],
   "source": [
    "*load data\n",
    "cd \"C:\\Users\\Hannes\\Documents\"\n",
    "use \"session01.dta\", clear"
   ]
  },
  {
   "cell_type": "code",
   "execution_count": null,
   "metadata": {},
   "outputs": [],
   "source": [
    "gen hwage_r = round(hourwage, 1)"
   ]
  },
  {
   "cell_type": "code",
   "execution_count": null,
   "metadata": {},
   "outputs": [],
   "source": [
    "tab hwage_r"
   ]
  },
  {
   "cell_type": "markdown",
   "metadata": {},
   "source": [
    "<a href=\"https://cps.ipums.org/cps-action/variables/HOURWAGE#description_section\"> IPUM's description of hourwage:</a>\n",
    ">HOURWAGE reports how much the respondent earned per hour in the current job, for those workers paid an hourly wage (and coded as \"2\" in PAIDHOUR). Amounts are expressed as they were reported to the interviewer; users must adjust for inflation using Consumer Price Index adjustment factors. Researchers should use the EARNWT weight with this variable. <br> <br> Users should note that HOURWAGE originally had two implied decimal places, but was revised so that the command files provided by IPUMS divide HOURWAGE by 100. <br> <br> HOURWAGE is one of the <a href = \"https://cps.ipums.org/cps/outgoing_rotation_notes.shtml\">Outgoing Rotation/Earner Study</a> questions."
   ]
  },
  {
   "cell_type": "code",
   "execution_count": null,
   "metadata": {
    "scrolled": true
   },
   "outputs": [],
   "source": [
    "summarize hourwage, detail"
   ]
  },
  {
   "cell_type": "markdown",
   "metadata": {},
   "source": [
    "\n",
    "The 10th percentile is 999.99, which means \"not in universe\". Thus we are lacking information on hourly wage for at least 90% of the respondents.\n",
    "The variable for wages in topcoded for the sake of discretion: Every wage that would result in a yearly income of more than \\$ 100,000 (1985-2002) and \\\\$ 150,000 (since 2003) is coded as 99.99 in hourwage."
   ]
  },
  {
   "cell_type": "code",
   "execution_count": 79,
   "metadata": {},
   "outputs": [
    {
     "name": "stdout",
     "output_type": "stream",
     "text": [
      "    hourwage: 10334665 missing values generated\n"
     ]
    }
   ],
   "source": [
    "mvdecode(hourwage), mv(999.99)"
   ]
  },
  {
   "cell_type": "code",
   "execution_count": null,
   "metadata": {},
   "outputs": [],
   "source": [
    "summarize hourwage, detail"
   ]
  },
  {
   "cell_type": "markdown",
   "metadata": {},
   "source": [
    "So how many topcoded values do we have in hourwage?"
   ]
  },
  {
   "cell_type": "code",
   "execution_count": 80,
   "metadata": {},
   "outputs": [
    {
     "name": "stdout",
     "output_type": "stream",
     "text": [
      "\n",
      "hourly wage |      Freq.     Percent        Cum.\n",
      "------------+-----------------------------------\n",
      "      99.99 |        147      100.00      100.00\n",
      "------------+-----------------------------------\n",
      "      Total |        147      100.00\n"
     ]
    }
   ],
   "source": [
    "tab hourwage if hourwage == 99.99"
   ]
  },
  {
   "cell_type": "code",
   "execution_count": null,
   "metadata": {
    "scrolled": true
   },
   "outputs": [],
   "source": [
    "sum hourwage if hourwage < 99.99"
   ]
  },
  {
   "cell_type": "code",
   "execution_count": 81,
   "metadata": {
    "scrolled": true
   },
   "outputs": [
    {
     "name": "stdout",
     "output_type": "stream",
     "text": [
      "    hourwage: 147 missing values generated\n"
     ]
    }
   ],
   "source": [
    "mvdecode(hourwage), mv(99.99)"
   ]
  },
  {
   "cell_type": "code",
   "execution_count": null,
   "metadata": {},
   "outputs": [],
   "source": [
    "tab month if !missing(hourwage)"
   ]
  },
  {
   "cell_type": "markdown",
   "metadata": {},
   "source": [
    "### Examine the effect of wage on hours worked (intensive margin of labour supply) using an OLS."
   ]
  },
  {
   "cell_type": "code",
   "execution_count": null,
   "metadata": {},
   "outputs": [],
   "source": [
    "numlabel , add\n",
    "tabulate uhrswork1"
   ]
  },
  {
   "cell_type": "markdown",
   "metadata": {},
   "source": [
    "uhrswork1 = 999 denotes missing values. But how do we handle varying hours (i.e. uhrswork1=997)? In a way we are lacking information here as well."
   ]
  },
  {
   "cell_type": "code",
   "execution_count": null,
   "metadata": {
    "scrolled": true
   },
   "outputs": [],
   "source": [
    "tab empstat"
   ]
  },
  {
   "cell_type": "markdown",
   "metadata": {},
   "source": [
    "From our understanding individuals with $empstat \\in [1, 12]$ should work at least some hours a week."
   ]
  },
  {
   "cell_type": "code",
   "execution_count": 82,
   "metadata": {},
   "outputs": [
    {
     "name": "stdout",
     "output_type": "stream",
     "text": [
      "\n",
      "   hours usually |\n",
      " worked per week |\n",
      "     at main job |      Freq.     Percent        Cum.\n",
      "-----------------+-----------------------------------\n",
      "      0. 0 hours |      6,588        0.09        0.09\n",
      "               1 |      3,188        0.04        0.14\n",
      "               2 |      7,959        0.11        0.25\n",
      "               3 |      7,698        0.11        0.36\n",
      "               4 |     13,467        0.19        0.54\n",
      "               5 |     17,100        0.24        0.78\n",
      "               6 |     15,871        0.22        1.00\n",
      "               7 |      6,084        0.09        1.09\n",
      "               8 |     32,912        0.46        1.55\n",
      "               9 |      5,634        0.08        1.63\n",
      "              10 |     65,531        0.92        2.54\n",
      "              11 |      2,631        0.04        2.58\n",
      "              12 |     38,263        0.53        3.12\n",
      "              13 |      4,294        0.06        3.18\n",
      "              14 |      7,845        0.11        3.29\n",
      "              15 |     82,197        1.15        4.43\n",
      "              16 |     41,570        0.58        5.02\n",
      "              17 |      6,080        0.08        5.10\n",
      "              18 |     18,750        0.26        5.36\n",
      "              19 |      3,857        0.05        5.42\n",
      "              20 |    269,134        3.76        9.18\n",
      "              21 |      6,728        0.09        9.27\n",
      "              22 |     10,534        0.15        9.42\n",
      "              23 |      6,799        0.10        9.51\n",
      "              24 |     68,599        0.96       10.47\n",
      "              25 |    125,220        1.75       12.22\n",
      "              26 |      7,552        0.11       12.33\n",
      "              27 |      8,527        0.12       12.45\n",
      "              28 |     21,295        0.30       12.75\n",
      "              29 |      3,968        0.06       12.80\n",
      "              30 |    223,764        3.13       15.93\n",
      "              31 |      2,277        0.03       15.96\n",
      "              32 |     99,667        1.39       17.35\n",
      "              33 |      9,441        0.13       17.49\n",
      "              34 |      8,833        0.12       17.61\n",
      "              35 |    227,885        3.19       20.79\n",
      "              36 |     83,390        1.17       21.96\n",
      "              37 |     39,541        0.55       22.51\n",
      "              38 |     87,401        1.22       23.73\n",
      "              39 |      9,936        0.14       23.87\n",
      "              40 |  3,957,809       55.32       79.19\n",
      "              41 |      4,113        0.06       79.25\n",
      "              42 |     35,985        0.50       79.75\n",
      "              43 |     18,161        0.25       80.01\n",
      "              44 |     20,602        0.29       80.30\n",
      "              45 |    315,324        4.41       84.70\n",
      "              46 |     10,018        0.14       84.84\n",
      "              47 |      7,996        0.11       84.95\n",
      "              48 |     56,433        0.79       85.74\n",
      "              49 |      3,654        0.05       85.79\n",
      "              50 |    506,182        7.08       92.87\n",
      "              51 |        952        0.01       92.88\n",
      "              52 |      7,930        0.11       92.99\n",
      "              53 |      3,187        0.04       93.04\n",
      "              54 |      4,298        0.06       93.10\n",
      "              55 |    107,358        1.50       94.60\n",
      "              56 |      9,850        0.14       94.74\n",
      "              57 |      1,450        0.02       94.76\n",
      "              58 |      2,914        0.04       94.80\n",
      "              59 |        440        0.01       94.80\n",
      "              60 |    231,627        3.24       98.04\n",
      "              61 |        207        0.00       98.04\n",
      "              62 |      1,082        0.02       98.06\n",
      "              63 |      1,036        0.01       98.07\n",
      "              64 |        916        0.01       98.09\n",
      "              65 |     26,040        0.36       98.45\n",
      "              66 |      1,588        0.02       98.47\n",
      "              67 |        393        0.01       98.48\n",
      "              68 |        828        0.01       98.49\n",
      "              69 |        165        0.00       98.49\n",
      "              70 |     45,307        0.63       99.13\n",
      "              71 |         80        0.00       99.13\n",
      "              72 |      7,385        0.10       99.23\n",
      "              73 |        139        0.00       99.23\n",
      "              74 |        239        0.00       99.24\n",
      "              75 |      6,575        0.09       99.33\n",
      "              76 |        287        0.00       99.33\n",
      "              77 |        516        0.01       99.34\n",
      "              78 |        447        0.01       99.34\n",
      "              79 |         66        0.00       99.35\n",
      "              80 |     23,988        0.34       99.68\n",
      "              81 |         66        0.00       99.68\n",
      "              82 |        210        0.00       99.68\n",
      "              83 |         78        0.00       99.69\n",
      "              84 |      6,603        0.09       99.78\n",
      "              85 |      1,331        0.02       99.80\n",
      "              86 |        176        0.00       99.80\n",
      "              87 |        124        0.00       99.80\n",
      "              88 |        205        0.00       99.80\n",
      "              89 |         43        0.00       99.80\n",
      "              90 |      4,008        0.06       99.86\n",
      "              91 |        205        0.00       99.86\n",
      "              92 |         65        0.00       99.86\n",
      "              93 |         43        0.00       99.86\n",
      "              94 |        101        0.00       99.87\n",
      "              95 |        271        0.00       99.87\n",
      "              96 |        624        0.01       99.88\n",
      "              97 |         30        0.00       99.88\n",
      "              98 |        573        0.01       99.89\n",
      "              99 |      8,066        0.11      100.00\n",
      "-----------------+-----------------------------------\n",
      "           Total |  7,154,399      100.00\n"
     ]
    }
   ],
   "source": [
    "tab uhrswork1 if inrange(empstat, 1, 12)"
   ]
  },
  {
   "cell_type": "markdown",
   "metadata": {},
   "source": [
    "uhrswork1 = 997 affects approximately 7.6 % of all respondents having a job. We are going to exclude 997 an 999 from the analysis, since we are interested in effects on the intensive margin.\n",
    "Keep in mind that the missing of data (or in our case a varying in hours) could yield some important implications as well.\n",
    "\n",
    "To elaborate on that, let us have a brief look at missing values."
   ]
  },
  {
   "cell_type": "markdown",
   "metadata": {},
   "source": [
    "#### Missing Completely At Random (MCAR)\n",
    "The occurence of a missing value in Y does not depend on realisations of any other variable $X_i$ nor does it depend on other realisations of Y itself.<br>\n",
    "e.g.\n",
    "- transmission errors\n",
    "\n",
    "#### Missing At Random (MAR)\n",
    "The occurence of a missing value can be fully explained by the other variables $X_i$.<br>\n",
    "e.g.\n",
    "- males are less likely to state existing mental problems - regardless of whether they have mentral problems or not\n",
    "\n",
    "#### Missing Not At Random (MNAR)\n",
    "The occurence of a missing value in Y does depend on realisations of Y itself and can also depend on realisations of other variables $X_i$.<br>\n",
    "e.g.\n",
    "- People with high income are less likely to state their income.\n",
    "\n",
    "\n",
    "\n",
    "Keep in mind that the missing of data might hold some information as well."
   ]
  },
  {
   "cell_type": "code",
   "execution_count": 83,
   "metadata": {},
   "outputs": [],
   "source": [
    "mvdecode(uhrswork1), mv(999 997)"
   ]
  },
  {
   "cell_type": "code",
   "execution_count": 84,
   "metadata": {},
   "outputs": [
    {
     "name": "stdout",
     "output_type": "stream",
     "text": [
      "(sum of wgt is 8,740,213,304.43)\n",
      "\n",
      "Linear regression                               Number of obs     =    952,574\n",
      "                                                F(1, 952572)      =   22347.36\n",
      "                                                Prob > F          =     0.0000\n",
      "                                                R-squared         =     0.0501\n",
      "                                                Root MSE          =     9.6503\n",
      "\n",
      "------------------------------------------------------------------------------\n",
      "             |               Robust\n",
      "   uhrswork1 |      Coef.   Std. Err.      t    P>|t|     [95% Conf. Interval]\n",
      "-------------+----------------------------------------------------------------\n",
      "    hourwage |   .2388114   .0015975   149.49   0.000     .2356803    .2419425\n",
      "       _cons |   32.61111   .0278884  1169.34   0.000     32.55645    32.66577\n",
      "------------------------------------------------------------------------------\n"
     ]
    }
   ],
   "source": [
    "reg uhrswork1 hourwage [pweight=earnwt]"
   ]
  },
  {
   "cell_type": "markdown",
   "metadata": {},
   "source": [
    "OLS minimizes\n",
    "$$\\sum_{i=1}^n (y_i - (\\alpha1 + \\beta x_i))^2$$\n",
    "Introducing a weight $w_i$ (probability weight) for every observation:\n",
    "$$\\sum_{i=1}^n w_i^2 (y_i - (\\alpha1 + \\beta x_i))^2$$\n",
    "$$\\sum_{i=1}^n (w_iy_i - (\\alpha w_i + \\beta w_i x_i))^2$$"
   ]
  },
  {
   "cell_type": "markdown",
   "metadata": {},
   "source": [
    "### Determine the correlation between wages and hours worked. What is the difference between OLS and correlation?"
   ]
  },
  {
   "cell_type": "code",
   "execution_count": 85,
   "metadata": {},
   "outputs": [
    {
     "name": "stdout",
     "output_type": "stream",
     "text": [
      "(obs=955,096)\n",
      "\n",
      "             | uhrswo~1 hourwage\n",
      "-------------+------------------\n",
      "   uhrswork1 |   1.0000\n",
      "    hourwage |   0.2343   1.0000\n",
      "\n"
     ]
    }
   ],
   "source": [
    "corr uhrswork1 hourwage"
   ]
  },
  {
   "cell_type": "markdown",
   "metadata": {},
   "source": [
    "The default correlation command does not feature pweights. However, for point estimates of the correlation it is recommended to use aweight instead - though it delivers bogus p-values.\n",
    "https://www.stata.com/support"
   ]
  },
  {
   "cell_type": "code",
   "execution_count": 86,
   "metadata": {
    "scrolled": true
   },
   "outputs": [
    {
     "name": "stdout",
     "output_type": "stream",
     "text": [
      "\n",
      "(sum of wgt is 8,740,213,304.43)\n",
      "(obs=952,574)\n",
      "\n",
      "             | uhrswo~1 hourwage\n",
      "-------------+------------------\n",
      "   uhrswork1 |   1.0000\n",
      "    hourwage |   0.2239   1.0000\n",
      "\n",
      "\n",
      ".0501\n"
     ]
    }
   ],
   "source": [
    "corr uhrswork1 hourwage [aweight=earnwt]\n",
    "display round(r(rho)^2, .0001)"
   ]
  },
  {
   "cell_type": "markdown",
   "metadata": {},
   "source": [
    "### Add age, sex and citizenship to your model. Include the log of wage and hours. Interpret the results of a multivariate regression."
   ]
  },
  {
   "cell_type": "code",
   "execution_count": 2,
   "metadata": {
    "scrolled": true
   },
   "outputs": [
    {
     "name": "stdout",
     "output_type": "stream",
     "text": [
      "\n",
      "\n",
      "\n",
      "                citizenship status |      Freq.     Percent        Cum.\n",
      "-----------------------------------+-----------------------------------\n",
      "                    1. born in u.s |  9,742,527       85.80       85.80\n",
      "          2. born in u.s. outlying |     58,904        0.52       86.32\n",
      "3. born abroad of american parents |    100,987        0.89       87.21\n",
      "            4. naturalized citizen |    636,648        5.61       92.82\n",
      "                  5. not a citizen |    815,271        7.18      100.00\n",
      "-----------------------------------+-----------------------------------\n",
      "                             Total | 11,354,337      100.00\n"
     ]
    }
   ],
   "source": [
    "numlabel, add\n",
    "tab citizen"
   ]
  },
  {
   "cell_type": "code",
   "execution_count": 25,
   "metadata": {},
   "outputs": [
    {
     "name": "stdout",
     "output_type": "stream",
     "text": [
      "\n",
      "(1611810 differences between citizen and ctz)\n",
      "\n",
      "\n"
     ]
    }
   ],
   "source": [
    "recode citizen (1/4 = 1) (5 = 0), gen (ctz)\n",
    "label define citizen 0 \"not a citizen\" 1 \"citizen\"\n",
    "label value ctz citizen"
   ]
  },
  {
   "cell_type": "code",
   "execution_count": 26,
   "metadata": {},
   "outputs": [
    {
     "name": "stdout",
     "output_type": "stream",
     "text": [
      "\n",
      "    RECODE of |\n",
      "      citizen |\n",
      " (citizenship |\n",
      "      status) |      Freq.     Percent        Cum.\n",
      "--------------+-----------------------------------\n",
      "not a citizen |    815,271        7.18        7.18\n",
      "      citizen | 10,539,066       92.82      100.00\n",
      "--------------+-----------------------------------\n",
      "        Total | 11,354,337      100.00\n"
     ]
    }
   ],
   "source": [
    "tab ctz, missing"
   ]
  },
  {
   "cell_type": "code",
   "execution_count": 22,
   "metadata": {
    "scrolled": true
   },
   "outputs": [
    {
     "name": "stdout",
     "output_type": "stream",
     "text": [
      "(bin=70, start=15, width=.74285714)\n"
     ]
    },
    {
     "data": {
      "application/pdf": "[encoded data removed]",
      "image/svg+xml": [
       "<?xml version=\"1.0\" encoding=\"UTF-8\" standalone=\"no\"?>\n",
       "<!-- This is a Stata 16.1 generated SVG file (http://www.stata.com) -->\n",
       "\n",
       "<svg version=\"1.1\" width=\"600px\" height=\"436px\" viewBox=\"0 0 3960 2880\" xmlns=\"http://www.w3.org/2000/svg\" xmlns:xlink=\"http://www.w3.org/1999/xlink\">\n",
       "\t<desc>Stata Graph - Graph</desc>\n",
       "\t<rect x=\"0\" y=\"0\" width=\"3960\" height=\"2880\" style=\"fill:#EAF2F3;stroke:none\"/>\n",
       "\t<rect x=\"0.00\" y=\"0.00\" width=\"3959.88\" height=\"2880.00\" style=\"fill:#EAF2F3\"/>\n",
       "\t<rect x=\"2.88\" y=\"2.88\" width=\"3954.12\" height=\"2874.24\" style=\"fill:none;stroke:#EAF2F3;stroke-width:5.76\"/>\n",
       "\t<rect x=\"390.80\" y=\"100.86\" width=\"3468.22\" height=\"2388.33\" style=\"fill:#FFFFFF\"/>\n",
       "\t<rect x=\"393.68\" y=\"103.74\" width=\"3462.46\" height=\"2382.57\" style=\"fill:none;stroke:#FFFFFF;stroke-width:5.76\"/>\n",
       "\t<line x1=\"390.80\" y1=\"2489.19\" x2=\"3859.02\" y2=\"2489.19\" style=\"stroke:#EAF2F3;stroke-width:8.64\"/>\n",
       "\t<line x1=\"390.80\" y1=\"1720.18\" x2=\"3859.02\" y2=\"1720.18\" style=\"stroke:#EAF2F3;stroke-width:8.64\"/>\n",
       "\t<line x1=\"390.80\" y1=\"951.17\" x2=\"3859.02\" y2=\"951.17\" style=\"stroke:#EAF2F3;stroke-width:8.64\"/>\n",
       "\t<line x1=\"390.80\" y1=\"182.17\" x2=\"3859.02\" y2=\"182.17\" style=\"stroke:#EAF2F3;stroke-width:8.64\"/>\n",
       "\t<rect x=\"473.10\" y=\"715.42\" width=\"37.99\" height=\"1773.76\" style=\"fill:#CAC27E\"/>\n",
       "\t<rect x=\"477.42\" y=\"719.74\" width=\"29.35\" height=\"1765.12\" style=\"fill:none;stroke:#D7D29E;stroke-width:8.64\"/>\n",
       "\t<rect x=\"511.09\" y=\"330.67\" width=\"37.99\" height=\"2158.51\" style=\"fill:#CAC27E\"/>\n",
       "\t<rect x=\"515.41\" y=\"334.99\" width=\"29.35\" height=\"2149.88\" style=\"fill:none;stroke:#D7D29E;stroke-width:8.64\"/>\n",
       "\t<rect x=\"549.08\" y=\"350.72\" width=\"37.99\" height=\"2138.47\" style=\"fill:#CAC27E\"/>\n",
       "\t<rect x=\"553.40\" y=\"355.04\" width=\"29.35\" height=\"2129.83\" style=\"fill:none;stroke:#D7D29E;stroke-width:8.64\"/>\n",
       "\t<rect x=\"625.06\" y=\"571.25\" width=\"37.87\" height=\"1917.94\" style=\"fill:#CAC27E\"/>\n",
       "\t<rect x=\"629.38\" y=\"575.57\" width=\"29.23\" height=\"1909.30\" style=\"fill:none;stroke:#D7D29E;stroke-width:8.64\"/>\n",
       "\t<rect x=\"662.93\" y=\"762.82\" width=\"37.99\" height=\"1726.37\" style=\"fill:#CAC27E\"/>\n",
       "\t<rect x=\"667.25\" y=\"767.14\" width=\"29.35\" height=\"1717.73\" style=\"fill:none;stroke:#D7D29E;stroke-width:8.64\"/>\n",
       "\t<rect x=\"700.92\" y=\"829.52\" width=\"37.99\" height=\"1659.66\" style=\"fill:#CAC27E\"/>\n",
       "\t<rect x=\"705.24\" y=\"833.84\" width=\"29.35\" height=\"1651.02\" style=\"fill:none;stroke:#D7D29E;stroke-width:8.64\"/>\n",
       "\t<rect x=\"776.90\" y=\"843.01\" width=\"37.99\" height=\"1646.17\" style=\"fill:#CAC27E\"/>\n",
       "\t<rect x=\"781.22\" y=\"847.33\" width=\"29.35\" height=\"1637.53\" style=\"fill:none;stroke:#D7D29E;stroke-width:8.64\"/>\n",
       "\t<rect x=\"814.89\" y=\"875.68\" width=\"37.99\" height=\"1613.50\" style=\"fill:#CAC27E\"/>\n",
       "\t<rect x=\"819.21\" y=\"880.00\" width=\"29.35\" height=\"1604.86\" style=\"fill:none;stroke:#D7D29E;stroke-width:8.64\"/>\n",
       "\t<rect x=\"852.88\" y=\"875.81\" width=\"37.99\" height=\"1613.38\" style=\"fill:#CAC27E\"/>\n",
       "\t<rect x=\"857.20\" y=\"880.13\" width=\"29.35\" height=\"1604.74\" style=\"fill:none;stroke:#D7D29E;stroke-width:8.64\"/>\n",
       "\t<rect x=\"928.74\" y=\"837.44\" width=\"37.99\" height=\"1651.74\" style=\"fill:#CAC27E\"/>\n",
       "\t<rect x=\"933.06\" y=\"841.76\" width=\"29.35\" height=\"1643.10\" style=\"fill:none;stroke:#D7D29E;stroke-width:8.64\"/>\n",
       "\t<rect x=\"966.74\" y=\"774.58\" width=\"37.99\" height=\"1714.61\" style=\"fill:#CAC27E\"/>\n",
       "\t<rect x=\"971.05\" y=\"778.90\" width=\"29.35\" height=\"1705.97\" style=\"fill:none;stroke:#D7D29E;stroke-width:8.64\"/>\n",
       "\t<rect x=\"1004.73\" y=\"758.98\" width=\"37.99\" height=\"1730.20\" style=\"fill:#CAC27E\"/>\n",
       "\t<rect x=\"1009.05\" y=\"763.30\" width=\"29.35\" height=\"1721.56\" style=\"fill:none;stroke:#D7D29E;stroke-width:8.64\"/>\n",
       "\t<rect x=\"1080.71\" y=\"738.19\" width=\"37.99\" height=\"1750.99\" style=\"fill:#CAC27E\"/>\n",
       "\t<rect x=\"1085.03\" y=\"742.51\" width=\"29.35\" height=\"1742.35\" style=\"fill:none;stroke:#D7D29E;stroke-width:8.64\"/>\n",
       "\t<rect x=\"1118.70\" y=\"701.68\" width=\"37.99\" height=\"1787.50\" style=\"fill:#CAC27E\"/>\n",
       "\t<rect x=\"1123.02\" y=\"706.00\" width=\"29.35\" height=\"1778.86\" style=\"fill:none;stroke:#D7D29E;stroke-width:8.64\"/>\n",
       "\t<rect x=\"1156.69\" y=\"676.81\" width=\"37.87\" height=\"1812.38\" style=\"fill:#CAC27E\"/>\n",
       "\t<rect x=\"1161.01\" y=\"681.13\" width=\"29.23\" height=\"1803.74\" style=\"fill:none;stroke:#D7D29E;stroke-width:8.64\"/>\n",
       "\t<rect x=\"1232.55\" y=\"582.39\" width=\"37.99\" height=\"1906.80\" style=\"fill:#CAC27E\"/>\n",
       "\t<rect x=\"1236.87\" y=\"586.71\" width=\"29.35\" height=\"1898.16\" style=\"fill:none;stroke:#D7D29E;stroke-width:8.64\"/>\n",
       "\t<rect x=\"1270.54\" y=\"583.62\" width=\"37.99\" height=\"1905.56\" style=\"fill:#CAC27E\"/>\n",
       "\t<rect x=\"1274.86\" y=\"587.94\" width=\"29.35\" height=\"1896.92\" style=\"fill:none;stroke:#D7D29E;stroke-width:8.64\"/>\n",
       "\t<rect x=\"1308.53\" y=\"569.02\" width=\"37.99\" height=\"1920.17\" style=\"fill:#CAC27E\"/>\n",
       "\t<rect x=\"1312.85\" y=\"573.34\" width=\"29.35\" height=\"1911.53\" style=\"fill:none;stroke:#D7D29E;stroke-width:8.64\"/>\n",
       "\t<rect x=\"1384.52\" y=\"560.61\" width=\"37.87\" height=\"1928.58\" style=\"fill:#CAC27E\"/>\n",
       "\t<rect x=\"1388.83\" y=\"564.92\" width=\"29.23\" height=\"1919.94\" style=\"fill:none;stroke:#D7D29E;stroke-width:8.64\"/>\n",
       "\t<rect x=\"1422.38\" y=\"530.78\" width=\"37.99\" height=\"1958.40\" style=\"fill:#CAC27E\"/>\n",
       "\t<rect x=\"1426.70\" y=\"535.10\" width=\"29.35\" height=\"1949.77\" style=\"fill:none;stroke:#D7D29E;stroke-width:8.64\"/>\n",
       "\t<rect x=\"1460.37\" y=\"463.71\" width=\"37.99\" height=\"2025.48\" style=\"fill:#CAC27E\"/>\n",
       "\t<rect x=\"1464.69\" y=\"468.03\" width=\"29.35\" height=\"2016.84\" style=\"fill:none;stroke:#D7D29E;stroke-width:8.64\"/>\n",
       "\t<rect x=\"1536.36\" y=\"459.99\" width=\"37.99\" height=\"2029.19\" style=\"fill:#CAC27E\"/>\n",
       "\t<rect x=\"1540.68\" y=\"464.31\" width=\"29.35\" height=\"2020.55\" style=\"fill:none;stroke:#D7D29E;stroke-width:8.64\"/>\n",
       "\t<rect x=\"1574.35\" y=\"446.63\" width=\"37.99\" height=\"2042.56\" style=\"fill:#CAC27E\"/>\n",
       "\t<rect x=\"1578.67\" y=\"450.95\" width=\"29.35\" height=\"2033.92\" style=\"fill:none;stroke:#D7D29E;stroke-width:8.64\"/>\n",
       "\t<rect x=\"1612.34\" y=\"425.47\" width=\"37.99\" height=\"2063.72\" style=\"fill:#CAC27E\"/>\n",
       "\t<rect x=\"1616.66\" y=\"429.79\" width=\"29.35\" height=\"2055.08\" style=\"fill:none;stroke:#D7D29E;stroke-width:8.64\"/>\n",
       "\t<rect x=\"1688.20\" y=\"406.04\" width=\"37.99\" height=\"2083.15\" style=\"fill:#CAC27E\"/>\n",
       "\t<rect x=\"1692.52\" y=\"410.36\" width=\"29.35\" height=\"2074.51\" style=\"fill:none;stroke:#D7D29E;stroke-width:8.64\"/>\n",
       "\t<rect x=\"1726.19\" y=\"307.16\" width=\"37.99\" height=\"2182.03\" style=\"fill:#CAC27E\"/>\n",
       "\t<rect x=\"1730.51\" y=\"311.48\" width=\"29.35\" height=\"2173.39\" style=\"fill:none;stroke:#D7D29E;stroke-width:8.64\"/>\n",
       "\t<rect x=\"1802.17\" y=\"335.25\" width=\"37.99\" height=\"2153.94\" style=\"fill:#CAC27E\"/>\n",
       "\t<rect x=\"1806.49\" y=\"339.57\" width=\"29.35\" height=\"2145.30\" style=\"fill:none;stroke:#D7D29E;stroke-width:8.64\"/>\n",
       "\t<rect x=\"1840.16\" y=\"324.98\" width=\"37.99\" height=\"2164.21\" style=\"fill:#CAC27E\"/>\n",
       "\t<rect x=\"1844.48\" y=\"329.30\" width=\"29.35\" height=\"2155.57\" style=\"fill:none;stroke:#D7D29E;stroke-width:8.64\"/>\n",
       "\t<rect x=\"1878.15\" y=\"310.00\" width=\"37.87\" height=\"2179.18\" style=\"fill:#CAC27E\"/>\n",
       "\t<rect x=\"1882.47\" y=\"314.32\" width=\"29.23\" height=\"2170.54\" style=\"fill:none;stroke:#D7D29E;stroke-width:8.64\"/>\n",
       "\t<rect x=\"1954.01\" y=\"288.72\" width=\"37.99\" height=\"2200.47\" style=\"fill:#CAC27E\"/>\n",
       "\t<rect x=\"1958.33\" y=\"293.04\" width=\"29.35\" height=\"2191.83\" style=\"fill:none;stroke:#D7D29E;stroke-width:8.64\"/>\n",
       "\t<rect x=\"1992.00\" y=\"237.48\" width=\"37.99\" height=\"2251.70\" style=\"fill:#CAC27E\"/>\n",
       "\t<rect x=\"1996.32\" y=\"241.80\" width=\"29.35\" height=\"2243.06\" style=\"fill:none;stroke:#D7D29E;stroke-width:8.64\"/>\n",
       "\t<rect x=\"2029.99\" y=\"242.68\" width=\"37.99\" height=\"2246.50\" style=\"fill:#CAC27E\"/>\n",
       "\t<rect x=\"2034.31\" y=\"247.00\" width=\"29.35\" height=\"2237.86\" style=\"fill:none;stroke:#D7D29E;stroke-width:8.64\"/>\n",
       "\t<rect x=\"2105.98\" y=\"255.92\" width=\"37.99\" height=\"2233.26\" style=\"fill:#CAC27E\"/>\n",
       "\t<rect x=\"2110.30\" y=\"260.24\" width=\"29.35\" height=\"2224.62\" style=\"fill:none;stroke:#D7D29E;stroke-width:8.64\"/>\n",
       "\t<rect x=\"2143.97\" y=\"256.54\" width=\"37.87\" height=\"2232.64\" style=\"fill:#CAC27E\"/>\n",
       "\t<rect x=\"2148.29\" y=\"260.86\" width=\"29.23\" height=\"2224.00\" style=\"fill:none;stroke:#D7D29E;stroke-width:8.64\"/>\n",
       "\t<rect x=\"2181.84\" y=\"258.03\" width=\"37.99\" height=\"2231.16\" style=\"fill:#CAC27E\"/>\n",
       "\t<rect x=\"2186.16\" y=\"262.35\" width=\"29.35\" height=\"2222.52\" style=\"fill:none;stroke:#D7D29E;stroke-width:8.64\"/>\n",
       "\t<rect x=\"2257.82\" y=\"164.22\" width=\"37.99\" height=\"2324.96\" style=\"fill:#CAC27E\"/>\n",
       "\t<rect x=\"2262.14\" y=\"168.54\" width=\"29.35\" height=\"2316.32\" style=\"fill:none;stroke:#D7D29E;stroke-width:8.64\"/>\n",
       "\t<rect x=\"2295.81\" y=\"223.50\" width=\"37.99\" height=\"2265.69\" style=\"fill:#CAC27E\"/>\n",
       "\t<rect x=\"2300.13\" y=\"227.82\" width=\"29.35\" height=\"2257.05\" style=\"fill:none;stroke:#D7D29E;stroke-width:8.64\"/>\n",
       "\t<rect x=\"2333.80\" y=\"266.32\" width=\"37.99\" height=\"2222.87\" style=\"fill:#CAC27E\"/>\n",
       "\t<rect x=\"2338.12\" y=\"270.64\" width=\"29.35\" height=\"2214.23\" style=\"fill:none;stroke:#D7D29E;stroke-width:8.64\"/>\n",
       "\t<rect x=\"2409.78\" y=\"283.52\" width=\"37.87\" height=\"2205.67\" style=\"fill:#CAC27E\"/>\n",
       "\t<rect x=\"2414.10\" y=\"287.84\" width=\"29.23\" height=\"2197.03\" style=\"fill:none;stroke:#D7D29E;stroke-width:8.64\"/>\n",
       "\t<rect x=\"2447.65\" y=\"304.19\" width=\"37.99\" height=\"2185.00\" style=\"fill:#CAC27E\"/>\n",
       "\t<rect x=\"2451.97\" y=\"308.51\" width=\"29.35\" height=\"2176.36\" style=\"fill:none;stroke:#D7D29E;stroke-width:8.64\"/>\n",
       "\t<rect x=\"2485.64\" y=\"316.81\" width=\"37.99\" height=\"2172.38\" style=\"fill:#CAC27E\"/>\n",
       "\t<rect x=\"2489.96\" y=\"321.13\" width=\"29.35\" height=\"2163.74\" style=\"fill:none;stroke:#D7D29E;stroke-width:8.64\"/>\n",
       "\t<rect x=\"2561.63\" y=\"369.53\" width=\"37.99\" height=\"2119.66\" style=\"fill:#CAC27E\"/>\n",
       "\t<rect x=\"2565.94\" y=\"373.85\" width=\"29.35\" height=\"2111.02\" style=\"fill:none;stroke:#D7D29E;stroke-width:8.64\"/>\n",
       "\t<rect x=\"2599.62\" y=\"416.06\" width=\"37.99\" height=\"2073.12\" style=\"fill:#CAC27E\"/>\n",
       "\t<rect x=\"2603.94\" y=\"420.38\" width=\"29.35\" height=\"2064.49\" style=\"fill:none;stroke:#D7D29E;stroke-width:8.64\"/>\n",
       "\t<rect x=\"2637.61\" y=\"464.20\" width=\"37.87\" height=\"2024.98\" style=\"fill:#CAC27E\"/>\n",
       "\t<rect x=\"2641.93\" y=\"468.52\" width=\"29.23\" height=\"2016.34\" style=\"fill:none;stroke:#D7D29E;stroke-width:8.64\"/>\n",
       "\t<rect x=\"2713.47\" y=\"525.83\" width=\"37.99\" height=\"1963.36\" style=\"fill:#CAC27E\"/>\n",
       "\t<rect x=\"2717.79\" y=\"530.15\" width=\"29.35\" height=\"1954.72\" style=\"fill:none;stroke:#D7D29E;stroke-width:8.64\"/>\n",
       "\t<rect x=\"2751.46\" y=\"549.10\" width=\"37.99\" height=\"1940.09\" style=\"fill:#CAC27E\"/>\n",
       "\t<rect x=\"2755.78\" y=\"553.42\" width=\"29.35\" height=\"1931.45\" style=\"fill:none;stroke:#D7D29E;stroke-width:8.64\"/>\n",
       "\t<rect x=\"2789.45\" y=\"638.57\" width=\"37.99\" height=\"1850.62\" style=\"fill:#CAC27E\"/>\n",
       "\t<rect x=\"2793.77\" y=\"642.89\" width=\"29.35\" height=\"1841.98\" style=\"fill:none;stroke:#D7D29E;stroke-width:8.64\"/>\n",
       "\t<rect x=\"2865.43\" y=\"696.12\" width=\"37.99\" height=\"1793.07\" style=\"fill:#CAC27E\"/>\n",
       "\t<rect x=\"2869.75\" y=\"700.44\" width=\"29.35\" height=\"1784.43\" style=\"fill:none;stroke:#D7D29E;stroke-width:8.64\"/>\n",
       "\t<rect x=\"2903.42\" y=\"752.42\" width=\"37.87\" height=\"1736.76\" style=\"fill:#CAC27E\"/>\n",
       "\t<rect x=\"2907.74\" y=\"756.74\" width=\"29.23\" height=\"1728.12\" style=\"fill:none;stroke:#D7D29E;stroke-width:8.64\"/>\n",
       "\t<rect x=\"2941.29\" y=\"817.02\" width=\"37.99\" height=\"1672.16\" style=\"fill:#CAC27E\"/>\n",
       "\t<rect x=\"2945.61\" y=\"821.34\" width=\"29.35\" height=\"1663.52\" style=\"fill:none;stroke:#D7D29E;stroke-width:8.64\"/>\n",
       "\t<rect x=\"3017.27\" y=\"853.28\" width=\"37.99\" height=\"1635.90\" style=\"fill:#CAC27E\"/>\n",
       "\t<rect x=\"3021.59\" y=\"857.60\" width=\"29.35\" height=\"1627.26\" style=\"fill:none;stroke:#D7D29E;stroke-width:8.64\"/>\n",
       "\t<rect x=\"3055.26\" y=\"976.67\" width=\"37.99\" height=\"1512.52\" style=\"fill:#CAC27E\"/>\n",
       "\t<rect x=\"3059.58\" y=\"980.99\" width=\"29.35\" height=\"1503.88\" style=\"fill:none;stroke:#D7D29E;stroke-width:8.64\"/>\n",
       "\t<rect x=\"3093.26\" y=\"1301.15\" width=\"37.99\" height=\"1188.04\" style=\"fill:#CAC27E\"/>\n",
       "\t<rect x=\"3097.57\" y=\"1305.47\" width=\"29.35\" height=\"1179.40\" style=\"fill:none;stroke:#D7D29E;stroke-width:8.64\"/>\n",
       "\t<line x1=\"390.80\" y1=\"2489.19\" x2=\"390.80\" y2=\"100.86\" style=\"stroke:#000000;stroke-width:5.76\"/>\n",
       "\t<line x1=\"390.80\" y1=\"2489.19\" x2=\"350.83\" y2=\"2489.19\" style=\"stroke:#000000;stroke-width:5.76\"/>\n",
       "\t<text x=\"300.72\" y=\"2489.19\" style=\"font-family:'Helvetica';font-size:99.99px;fill:#000000\" transform=\"rotate(-90 300.72,2489.19)\" text-anchor=\"middle\">0</text>\n",
       "\t<line x1=\"390.80\" y1=\"1720.18\" x2=\"350.83\" y2=\"1720.18\" style=\"stroke:#000000;stroke-width:5.76\"/>\n",
       "\t<text x=\"300.72\" y=\"1720.18\" style=\"font-family:'Helvetica';font-size:99.99px;fill:#000000\" transform=\"rotate(-90 300.72,1720.18)\" text-anchor=\"middle\">.01</text>\n",
       "\t<line x1=\"390.80\" y1=\"951.17\" x2=\"350.83\" y2=\"951.17\" style=\"stroke:#000000;stroke-width:5.76\"/>\n",
       "\t<text x=\"300.72\" y=\"951.17\" style=\"font-family:'Helvetica';font-size:99.99px;fill:#000000\" transform=\"rotate(-90 300.72,951.17)\" text-anchor=\"middle\">.02</text>\n",
       "\t<line x1=\"390.80\" y1=\"182.17\" x2=\"350.83\" y2=\"182.17\" style=\"stroke:#000000;stroke-width:5.76\"/>\n",
       "\t<text x=\"300.72\" y=\"182.17\" style=\"font-family:'Helvetica';font-size:99.99px;fill:#000000\" transform=\"rotate(-90 300.72,182.17)\" text-anchor=\"middle\">.03</text>\n",
       "\t<text x=\"190.71\" y=\"1294.96\" style=\"font-family:'Helvetica';font-size:99.99px;fill:#000000\" transform=\"rotate(-90 190.71,1294.96)\" text-anchor=\"middle\">Density</text>\n",
       "\t<line x1=\"390.80\" y1=\"2489.19\" x2=\"3859.02\" y2=\"2489.19\" style=\"stroke:#000000;stroke-width:5.76\"/>\n",
       "\t<line x1=\"728.76\" y1=\"2489.19\" x2=\"728.76\" y2=\"2529.16\" style=\"stroke:#000000;stroke-width:5.76\"/>\n",
       "\t<text x=\"728.76\" y=\"2619.14\" style=\"font-family:'Helvetica';font-size:99.99px;fill:#000000\" text-anchor=\"middle\">20</text>\n",
       "\t<line x1=\"1751.06\" y1=\"2489.19\" x2=\"1751.06\" y2=\"2529.16\" style=\"stroke:#000000;stroke-width:5.76\"/>\n",
       "\t<text x=\"1751.06\" y=\"2619.14\" style=\"font-family:'Helvetica';font-size:99.99px;fill:#000000\" text-anchor=\"middle\">40</text>\n",
       "\t<line x1=\"2773.36\" y1=\"2489.19\" x2=\"2773.36\" y2=\"2529.16\" style=\"stroke:#000000;stroke-width:5.76\"/>\n",
       "\t<text x=\"2773.36\" y=\"2619.14\" style=\"font-family:'Helvetica';font-size:99.99px;fill:#000000\" text-anchor=\"middle\">60</text>\n",
       "\t<line x1=\"3795.66\" y1=\"2489.19\" x2=\"3795.66\" y2=\"2529.16\" style=\"stroke:#000000;stroke-width:5.76\"/>\n",
       "\t<text x=\"3795.66\" y=\"2619.14\" style=\"font-family:'Helvetica';font-size:99.99px;fill:#000000\" text-anchor=\"middle\">80</text>\n",
       "\t<text x=\"2124.91\" y=\"2729.16\" style=\"font-family:'Helvetica';font-size:99.99px;fill:#000000\" text-anchor=\"middle\">age</text>\n",
       "</svg>\n"
      ],
      "text/html": [
       "                <iframe frameborder=\"0\" scrolling=\"no\" height=\"436\" width=\"600\"                srcdoc=\"<html><body>&lt;?xml version=&quot;1.0&quot; encoding=&quot;UTF-8&quot; standalone=&quot;no&quot;?&gt;\n",
       "&lt;!-- This is a Stata 16.1 generated SVG file (http://www.stata.com) --&gt;\n",
       "\n",
       "&lt;svg version=&quot;1.1&quot; width=&quot;600px&quot; height=&quot;436px&quot; viewBox=&quot;0 0 3960 2880&quot; xmlns=&quot;http://www.w3.org/2000/svg&quot; xmlns:xlink=&quot;http://www.w3.org/1999/xlink&quot;&gt;\n",
       "\t&lt;desc&gt;Stata Graph - Graph&lt;/desc&gt;\n",
       "\t&lt;rect x=&quot;0&quot; y=&quot;0&quot; width=&quot;3960&quot; height=&quot;2880&quot; style=&quot;fill:#EAF2F3;stroke:none&quot;/&gt;\n",
       "\t&lt;rect x=&quot;0.00&quot; y=&quot;0.00&quot; width=&quot;3959.88&quot; height=&quot;2880.00&quot; style=&quot;fill:#EAF2F3&quot;/&gt;\n",
       "\t&lt;rect x=&quot;2.88&quot; y=&quot;2.88&quot; width=&quot;3954.12&quot; height=&quot;2874.24&quot; style=&quot;fill:none;stroke:#EAF2F3;stroke-width:5.76&quot;/&gt;\n",
       "\t&lt;rect x=&quot;390.80&quot; y=&quot;100.86&quot; width=&quot;3468.22&quot; height=&quot;2388.33&quot; style=&quot;fill:#FFFFFF&quot;/&gt;\n",
       "\t&lt;rect x=&quot;393.68&quot; y=&quot;103.74&quot; width=&quot;3462.46&quot; height=&quot;2382.57&quot; style=&quot;fill:none;stroke:#FFFFFF;stroke-width:5.76&quot;/&gt;\n",
       "\t&lt;line x1=&quot;390.80&quot; y1=&quot;2489.19&quot; x2=&quot;3859.02&quot; y2=&quot;2489.19&quot; style=&quot;stroke:#EAF2F3;stroke-width:8.64&quot;/&gt;\n",
       "\t&lt;line x1=&quot;390.80&quot; y1=&quot;1720.18&quot; x2=&quot;3859.02&quot; y2=&quot;1720.18&quot; style=&quot;stroke:#EAF2F3;stroke-width:8.64&quot;/&gt;\n",
       "\t&lt;line x1=&quot;390.80&quot; y1=&quot;951.17&quot; x2=&quot;3859.02&quot; y2=&quot;951.17&quot; style=&quot;stroke:#EAF2F3;stroke-width:8.64&quot;/&gt;\n",
       "\t&lt;line x1=&quot;390.80&quot; y1=&quot;182.17&quot; x2=&quot;3859.02&quot; y2=&quot;182.17&quot; style=&quot;stroke:#EAF2F3;stroke-width:8.64&quot;/&gt;\n",
       "\t&lt;rect x=&quot;473.10&quot; y=&quot;715.42&quot; width=&quot;37.99&quot; height=&quot;1773.76&quot; style=&quot;fill:#CAC27E&quot;/&gt;\n",
       "\t&lt;rect x=&quot;477.42&quot; y=&quot;719.74&quot; width=&quot;29.35&quot; height=&quot;1765.12&quot; style=&quot;fill:none;stroke:#D7D29E;stroke-width:8.64&quot;/&gt;\n",
       "\t&lt;rect x=&quot;511.09&quot; y=&quot;330.67&quot; width=&quot;37.99&quot; height=&quot;2158.51&quot; style=&quot;fill:#CAC27E&quot;/&gt;\n",
       "\t&lt;rect x=&quot;515.41&quot; y=&quot;334.99&quot; width=&quot;29.35&quot; height=&quot;2149.88&quot; style=&quot;fill:none;stroke:#D7D29E;stroke-width:8.64&quot;/&gt;\n",
       "\t&lt;rect x=&quot;549.08&quot; y=&quot;350.72&quot; width=&quot;37.99&quot; height=&quot;2138.47&quot; style=&quot;fill:#CAC27E&quot;/&gt;\n",
       "\t&lt;rect x=&quot;553.40&quot; y=&quot;355.04&quot; width=&quot;29.35&quot; height=&quot;2129.83&quot; style=&quot;fill:none;stroke:#D7D29E;stroke-width:8.64&quot;/&gt;\n",
       "\t&lt;rect x=&quot;625.06&quot; y=&quot;571.25&quot; width=&quot;37.87&quot; height=&quot;1917.94&quot; style=&quot;fill:#CAC27E&quot;/&gt;\n",
       "\t&lt;rect x=&quot;629.38&quot; y=&quot;575.57&quot; width=&quot;29.23&quot; height=&quot;1909.30&quot; style=&quot;fill:none;stroke:#D7D29E;stroke-width:8.64&quot;/&gt;\n",
       "\t&lt;rect x=&quot;662.93&quot; y=&quot;762.82&quot; width=&quot;37.99&quot; height=&quot;1726.37&quot; style=&quot;fill:#CAC27E&quot;/&gt;\n",
       "\t&lt;rect x=&quot;667.25&quot; y=&quot;767.14&quot; width=&quot;29.35&quot; height=&quot;1717.73&quot; style=&quot;fill:none;stroke:#D7D29E;stroke-width:8.64&quot;/&gt;\n",
       "\t&lt;rect x=&quot;700.92&quot; y=&quot;829.52&quot; width=&quot;37.99&quot; height=&quot;1659.66&quot; style=&quot;fill:#CAC27E&quot;/&gt;\n",
       "\t&lt;rect x=&quot;705.24&quot; y=&quot;833.84&quot; width=&quot;29.35&quot; height=&quot;1651.02&quot; style=&quot;fill:none;stroke:#D7D29E;stroke-width:8.64&quot;/&gt;\n",
       "\t&lt;rect x=&quot;776.90&quot; y=&quot;843.01&quot; width=&quot;37.99&quot; height=&quot;1646.17&quot; style=&quot;fill:#CAC27E&quot;/&gt;\n",
       "\t&lt;rect x=&quot;781.22&quot; y=&quot;847.33&quot; width=&quot;29.35&quot; height=&quot;1637.53&quot; style=&quot;fill:none;stroke:#D7D29E;stroke-width:8.64&quot;/&gt;\n",
       "\t&lt;rect x=&quot;814.89&quot; y=&quot;875.68&quot; width=&quot;37.99&quot; height=&quot;1613.50&quot; style=&quot;fill:#CAC27E&quot;/&gt;\n",
       "\t&lt;rect x=&quot;819.21&quot; y=&quot;880.00&quot; width=&quot;29.35&quot; height=&quot;1604.86&quot; style=&quot;fill:none;stroke:#D7D29E;stroke-width:8.64&quot;/&gt;\n",
       "\t&lt;rect x=&quot;852.88&quot; y=&quot;875.81&quot; width=&quot;37.99&quot; height=&quot;1613.38&quot; style=&quot;fill:#CAC27E&quot;/&gt;\n",
       "\t&lt;rect x=&quot;857.20&quot; y=&quot;880.13&quot; width=&quot;29.35&quot; height=&quot;1604.74&quot; style=&quot;fill:none;stroke:#D7D29E;stroke-width:8.64&quot;/&gt;\n",
       "\t&lt;rect x=&quot;928.74&quot; y=&quot;837.44&quot; width=&quot;37.99&quot; height=&quot;1651.74&quot; style=&quot;fill:#CAC27E&quot;/&gt;\n",
       "\t&lt;rect x=&quot;933.06&quot; y=&quot;841.76&quot; width=&quot;29.35&quot; height=&quot;1643.10&quot; style=&quot;fill:none;stroke:#D7D29E;stroke-width:8.64&quot;/&gt;\n",
       "\t&lt;rect x=&quot;966.74&quot; y=&quot;774.58&quot; width=&quot;37.99&quot; height=&quot;1714.61&quot; style=&quot;fill:#CAC27E&quot;/&gt;\n",
       "\t&lt;rect x=&quot;971.05&quot; y=&quot;778.90&quot; width=&quot;29.35&quot; height=&quot;1705.97&quot; style=&quot;fill:none;stroke:#D7D29E;stroke-width:8.64&quot;/&gt;\n",
       "\t&lt;rect x=&quot;1004.73&quot; y=&quot;758.98&quot; width=&quot;37.99&quot; height=&quot;1730.20&quot; style=&quot;fill:#CAC27E&quot;/&gt;\n",
       "\t&lt;rect x=&quot;1009.05&quot; y=&quot;763.30&quot; width=&quot;29.35&quot; height=&quot;1721.56&quot; style=&quot;fill:none;stroke:#D7D29E;stroke-width:8.64&quot;/&gt;\n",
       "\t&lt;rect x=&quot;1080.71&quot; y=&quot;738.19&quot; width=&quot;37.99&quot; height=&quot;1750.99&quot; style=&quot;fill:#CAC27E&quot;/&gt;\n",
       "\t&lt;rect x=&quot;1085.03&quot; y=&quot;742.51&quot; width=&quot;29.35&quot; height=&quot;1742.35&quot; style=&quot;fill:none;stroke:#D7D29E;stroke-width:8.64&quot;/&gt;\n",
       "\t&lt;rect x=&quot;1118.70&quot; y=&quot;701.68&quot; width=&quot;37.99&quot; height=&quot;1787.50&quot; style=&quot;fill:#CAC27E&quot;/&gt;\n",
       "\t&lt;rect x=&quot;1123.02&quot; y=&quot;706.00&quot; width=&quot;29.35&quot; height=&quot;1778.86&quot; style=&quot;fill:none;stroke:#D7D29E;stroke-width:8.64&quot;/&gt;\n",
       "\t&lt;rect x=&quot;1156.69&quot; y=&quot;676.81&quot; width=&quot;37.87&quot; height=&quot;1812.38&quot; style=&quot;fill:#CAC27E&quot;/&gt;\n",
       "\t&lt;rect x=&quot;1161.01&quot; y=&quot;681.13&quot; width=&quot;29.23&quot; height=&quot;1803.74&quot; style=&quot;fill:none;stroke:#D7D29E;stroke-width:8.64&quot;/&gt;\n",
       "\t&lt;rect x=&quot;1232.55&quot; y=&quot;582.39&quot; width=&quot;37.99&quot; height=&quot;1906.80&quot; style=&quot;fill:#CAC27E&quot;/&gt;\n",
       "\t&lt;rect x=&quot;1236.87&quot; y=&quot;586.71&quot; width=&quot;29.35&quot; height=&quot;1898.16&quot; style=&quot;fill:none;stroke:#D7D29E;stroke-width:8.64&quot;/&gt;\n",
       "\t&lt;rect x=&quot;1270.54&quot; y=&quot;583.62&quot; width=&quot;37.99&quot; height=&quot;1905.56&quot; style=&quot;fill:#CAC27E&quot;/&gt;\n",
       "\t&lt;rect x=&quot;1274.86&quot; y=&quot;587.94&quot; width=&quot;29.35&quot; height=&quot;1896.92&quot; style=&quot;fill:none;stroke:#D7D29E;stroke-width:8.64&quot;/&gt;\n",
       "\t&lt;rect x=&quot;1308.53&quot; y=&quot;569.02&quot; width=&quot;37.99&quot; height=&quot;1920.17&quot; style=&quot;fill:#CAC27E&quot;/&gt;\n",
       "\t&lt;rect x=&quot;1312.85&quot; y=&quot;573.34&quot; width=&quot;29.35&quot; height=&quot;1911.53&quot; style=&quot;fill:none;stroke:#D7D29E;stroke-width:8.64&quot;/&gt;\n",
       "\t&lt;rect x=&quot;1384.52&quot; y=&quot;560.61&quot; width=&quot;37.87&quot; height=&quot;1928.58&quot; style=&quot;fill:#CAC27E&quot;/&gt;\n",
       "\t&lt;rect x=&quot;1388.83&quot; y=&quot;564.92&quot; width=&quot;29.23&quot; height=&quot;1919.94&quot; style=&quot;fill:none;stroke:#D7D29E;stroke-width:8.64&quot;/&gt;\n",
       "\t&lt;rect x=&quot;1422.38&quot; y=&quot;530.78&quot; width=&quot;37.99&quot; height=&quot;1958.40&quot; style=&quot;fill:#CAC27E&quot;/&gt;\n",
       "\t&lt;rect x=&quot;1426.70&quot; y=&quot;535.10&quot; width=&quot;29.35&quot; height=&quot;1949.77&quot; style=&quot;fill:none;stroke:#D7D29E;stroke-width:8.64&quot;/&gt;\n",
       "\t&lt;rect x=&quot;1460.37&quot; y=&quot;463.71&quot; width=&quot;37.99&quot; height=&quot;2025.48&quot; style=&quot;fill:#CAC27E&quot;/&gt;\n",
       "\t&lt;rect x=&quot;1464.69&quot; y=&quot;468.03&quot; width=&quot;29.35&quot; height=&quot;2016.84&quot; style=&quot;fill:none;stroke:#D7D29E;stroke-width:8.64&quot;/&gt;\n",
       "\t&lt;rect x=&quot;1536.36&quot; y=&quot;459.99&quot; width=&quot;37.99&quot; height=&quot;2029.19&quot; style=&quot;fill:#CAC27E&quot;/&gt;\n",
       "\t&lt;rect x=&quot;1540.68&quot; y=&quot;464.31&quot; width=&quot;29.35&quot; height=&quot;2020.55&quot; style=&quot;fill:none;stroke:#D7D29E;stroke-width:8.64&quot;/&gt;\n",
       "\t&lt;rect x=&quot;1574.35&quot; y=&quot;446.63&quot; width=&quot;37.99&quot; height=&quot;2042.56&quot; style=&quot;fill:#CAC27E&quot;/&gt;\n",
       "\t&lt;rect x=&quot;1578.67&quot; y=&quot;450.95&quot; width=&quot;29.35&quot; height=&quot;2033.92&quot; style=&quot;fill:none;stroke:#D7D29E;stroke-width:8.64&quot;/&gt;\n",
       "\t&lt;rect x=&quot;1612.34&quot; y=&quot;425.47&quot; width=&quot;37.99&quot; height=&quot;2063.72&quot; style=&quot;fill:#CAC27E&quot;/&gt;\n",
       "\t&lt;rect x=&quot;1616.66&quot; y=&quot;429.79&quot; width=&quot;29.35&quot; height=&quot;2055.08&quot; style=&quot;fill:none;stroke:#D7D29E;stroke-width:8.64&quot;/&gt;\n",
       "\t&lt;rect x=&quot;1688.20&quot; y=&quot;406.04&quot; width=&quot;37.99&quot; height=&quot;2083.15&quot; style=&quot;fill:#CAC27E&quot;/&gt;\n",
       "\t&lt;rect x=&quot;1692.52&quot; y=&quot;410.36&quot; width=&quot;29.35&quot; height=&quot;2074.51&quot; style=&quot;fill:none;stroke:#D7D29E;stroke-width:8.64&quot;/&gt;\n",
       "\t&lt;rect x=&quot;1726.19&quot; y=&quot;307.16&quot; width=&quot;37.99&quot; height=&quot;2182.03&quot; style=&quot;fill:#CAC27E&quot;/&gt;\n",
       "\t&lt;rect x=&quot;1730.51&quot; y=&quot;311.48&quot; width=&quot;29.35&quot; height=&quot;2173.39&quot; style=&quot;fill:none;stroke:#D7D29E;stroke-width:8.64&quot;/&gt;\n",
       "\t&lt;rect x=&quot;1802.17&quot; y=&quot;335.25&quot; width=&quot;37.99&quot; height=&quot;2153.94&quot; style=&quot;fill:#CAC27E&quot;/&gt;\n",
       "\t&lt;rect x=&quot;1806.49&quot; y=&quot;339.57&quot; width=&quot;29.35&quot; height=&quot;2145.30&quot; style=&quot;fill:none;stroke:#D7D29E;stroke-width:8.64&quot;/&gt;\n",
       "\t&lt;rect x=&quot;1840.16&quot; y=&quot;324.98&quot; width=&quot;37.99&quot; height=&quot;2164.21&quot; style=&quot;fill:#CAC27E&quot;/&gt;\n",
       "\t&lt;rect x=&quot;1844.48&quot; y=&quot;329.30&quot; width=&quot;29.35&quot; height=&quot;2155.57&quot; style=&quot;fill:none;stroke:#D7D29E;stroke-width:8.64&quot;/&gt;\n",
       "\t&lt;rect x=&quot;1878.15&quot; y=&quot;310.00&quot; width=&quot;37.87&quot; height=&quot;2179.18&quot; style=&quot;fill:#CAC27E&quot;/&gt;\n",
       "\t&lt;rect x=&quot;1882.47&quot; y=&quot;314.32&quot; width=&quot;29.23&quot; height=&quot;2170.54&quot; style=&quot;fill:none;stroke:#D7D29E;stroke-width:8.64&quot;/&gt;\n",
       "\t&lt;rect x=&quot;1954.01&quot; y=&quot;288.72&quot; width=&quot;37.99&quot; height=&quot;2200.47&quot; style=&quot;fill:#CAC27E&quot;/&gt;\n",
       "\t&lt;rect x=&quot;1958.33&quot; y=&quot;293.04&quot; width=&quot;29.35&quot; height=&quot;2191.83&quot; style=&quot;fill:none;stroke:#D7D29E;stroke-width:8.64&quot;/&gt;\n",
       "\t&lt;rect x=&quot;1992.00&quot; y=&quot;237.48&quot; width=&quot;37.99&quot; height=&quot;2251.70&quot; style=&quot;fill:#CAC27E&quot;/&gt;\n",
       "\t&lt;rect x=&quot;1996.32&quot; y=&quot;241.80&quot; width=&quot;29.35&quot; height=&quot;2243.06&quot; style=&quot;fill:none;stroke:#D7D29E;stroke-width:8.64&quot;/&gt;\n",
       "\t&lt;rect x=&quot;2029.99&quot; y=&quot;242.68&quot; width=&quot;37.99&quot; height=&quot;2246.50&quot; style=&quot;fill:#CAC27E&quot;/&gt;\n",
       "\t&lt;rect x=&quot;2034.31&quot; y=&quot;247.00&quot; width=&quot;29.35&quot; height=&quot;2237.86&quot; style=&quot;fill:none;stroke:#D7D29E;stroke-width:8.64&quot;/&gt;\n",
       "\t&lt;rect x=&quot;2105.98&quot; y=&quot;255.92&quot; width=&quot;37.99&quot; height=&quot;2233.26&quot; style=&quot;fill:#CAC27E&quot;/&gt;\n",
       "\t&lt;rect x=&quot;2110.30&quot; y=&quot;260.24&quot; width=&quot;29.35&quot; height=&quot;2224.62&quot; style=&quot;fill:none;stroke:#D7D29E;stroke-width:8.64&quot;/&gt;\n",
       "\t&lt;rect x=&quot;2143.97&quot; y=&quot;256.54&quot; width=&quot;37.87&quot; height=&quot;2232.64&quot; style=&quot;fill:#CAC27E&quot;/&gt;\n",
       "\t&lt;rect x=&quot;2148.29&quot; y=&quot;260.86&quot; width=&quot;29.23&quot; height=&quot;2224.00&quot; style=&quot;fill:none;stroke:#D7D29E;stroke-width:8.64&quot;/&gt;\n",
       "\t&lt;rect x=&quot;2181.84&quot; y=&quot;258.03&quot; width=&quot;37.99&quot; height=&quot;2231.16&quot; style=&quot;fill:#CAC27E&quot;/&gt;\n",
       "\t&lt;rect x=&quot;2186.16&quot; y=&quot;262.35&quot; width=&quot;29.35&quot; height=&quot;2222.52&quot; style=&quot;fill:none;stroke:#D7D29E;stroke-width:8.64&quot;/&gt;\n",
       "\t&lt;rect x=&quot;2257.82&quot; y=&quot;164.22&quot; width=&quot;37.99&quot; height=&quot;2324.96&quot; style=&quot;fill:#CAC27E&quot;/&gt;\n",
       "\t&lt;rect x=&quot;2262.14&quot; y=&quot;168.54&quot; width=&quot;29.35&quot; height=&quot;2316.32&quot; style=&quot;fill:none;stroke:#D7D29E;stroke-width:8.64&quot;/&gt;\n",
       "\t&lt;rect x=&quot;2295.81&quot; y=&quot;223.50&quot; width=&quot;37.99&quot; height=&quot;2265.69&quot; style=&quot;fill:#CAC27E&quot;/&gt;\n",
       "\t&lt;rect x=&quot;2300.13&quot; y=&quot;227.82&quot; width=&quot;29.35&quot; height=&quot;2257.05&quot; style=&quot;fill:none;stroke:#D7D29E;stroke-width:8.64&quot;/&gt;\n",
       "\t&lt;rect x=&quot;2333.80&quot; y=&quot;266.32&quot; width=&quot;37.99&quot; height=&quot;2222.87&quot; style=&quot;fill:#CAC27E&quot;/&gt;\n",
       "\t&lt;rect x=&quot;2338.12&quot; y=&quot;270.64&quot; width=&quot;29.35&quot; height=&quot;2214.23&quot; style=&quot;fill:none;stroke:#D7D29E;stroke-width:8.64&quot;/&gt;\n",
       "\t&lt;rect x=&quot;2409.78&quot; y=&quot;283.52&quot; width=&quot;37.87&quot; height=&quot;2205.67&quot; style=&quot;fill:#CAC27E&quot;/&gt;\n",
       "\t&lt;rect x=&quot;2414.10&quot; y=&quot;287.84&quot; width=&quot;29.23&quot; height=&quot;2197.03&quot; style=&quot;fill:none;stroke:#D7D29E;stroke-width:8.64&quot;/&gt;\n",
       "\t&lt;rect x=&quot;2447.65&quot; y=&quot;304.19&quot; width=&quot;37.99&quot; height=&quot;2185.00&quot; style=&quot;fill:#CAC27E&quot;/&gt;\n",
       "\t&lt;rect x=&quot;2451.97&quot; y=&quot;308.51&quot; width=&quot;29.35&quot; height=&quot;2176.36&quot; style=&quot;fill:none;stroke:#D7D29E;stroke-width:8.64&quot;/&gt;\n",
       "\t&lt;rect x=&quot;2485.64&quot; y=&quot;316.81&quot; width=&quot;37.99&quot; height=&quot;2172.38&quot; style=&quot;fill:#CAC27E&quot;/&gt;\n",
       "\t&lt;rect x=&quot;2489.96&quot; y=&quot;321.13&quot; width=&quot;29.35&quot; height=&quot;2163.74&quot; style=&quot;fill:none;stroke:#D7D29E;stroke-width:8.64&quot;/&gt;\n",
       "\t&lt;rect x=&quot;2561.63&quot; y=&quot;369.53&quot; width=&quot;37.99&quot; height=&quot;2119.66&quot; style=&quot;fill:#CAC27E&quot;/&gt;\n",
       "\t&lt;rect x=&quot;2565.94&quot; y=&quot;373.85&quot; width=&quot;29.35&quot; height=&quot;2111.02&quot; style=&quot;fill:none;stroke:#D7D29E;stroke-width:8.64&quot;/&gt;\n",
       "\t&lt;rect x=&quot;2599.62&quot; y=&quot;416.06&quot; width=&quot;37.99&quot; height=&quot;2073.12&quot; style=&quot;fill:#CAC27E&quot;/&gt;\n",
       "\t&lt;rect x=&quot;2603.94&quot; y=&quot;420.38&quot; width=&quot;29.35&quot; height=&quot;2064.49&quot; style=&quot;fill:none;stroke:#D7D29E;stroke-width:8.64&quot;/&gt;\n",
       "\t&lt;rect x=&quot;2637.61&quot; y=&quot;464.20&quot; width=&quot;37.87&quot; height=&quot;2024.98&quot; style=&quot;fill:#CAC27E&quot;/&gt;\n",
       "\t&lt;rect x=&quot;2641.93&quot; y=&quot;468.52&quot; width=&quot;29.23&quot; height=&quot;2016.34&quot; style=&quot;fill:none;stroke:#D7D29E;stroke-width:8.64&quot;/&gt;\n",
       "\t&lt;rect x=&quot;2713.47&quot; y=&quot;525.83&quot; width=&quot;37.99&quot; height=&quot;1963.36&quot; style=&quot;fill:#CAC27E&quot;/&gt;\n",
       "\t&lt;rect x=&quot;2717.79&quot; y=&quot;530.15&quot; width=&quot;29.35&quot; height=&quot;1954.72&quot; style=&quot;fill:none;stroke:#D7D29E;stroke-width:8.64&quot;/&gt;\n",
       "\t&lt;rect x=&quot;2751.46&quot; y=&quot;549.10&quot; width=&quot;37.99&quot; height=&quot;1940.09&quot; style=&quot;fill:#CAC27E&quot;/&gt;\n",
       "\t&lt;rect x=&quot;2755.78&quot; y=&quot;553.42&quot; width=&quot;29.35&quot; height=&quot;1931.45&quot; style=&quot;fill:none;stroke:#D7D29E;stroke-width:8.64&quot;/&gt;\n",
       "\t&lt;rect x=&quot;2789.45&quot; y=&quot;638.57&quot; width=&quot;37.99&quot; height=&quot;1850.62&quot; style=&quot;fill:#CAC27E&quot;/&gt;\n",
       "\t&lt;rect x=&quot;2793.77&quot; y=&quot;642.89&quot; width=&quot;29.35&quot; height=&quot;1841.98&quot; style=&quot;fill:none;stroke:#D7D29E;stroke-width:8.64&quot;/&gt;\n",
       "\t&lt;rect x=&quot;2865.43&quot; y=&quot;696.12&quot; width=&quot;37.99&quot; height=&quot;1793.07&quot; style=&quot;fill:#CAC27E&quot;/&gt;\n",
       "\t&lt;rect x=&quot;2869.75&quot; y=&quot;700.44&quot; width=&quot;29.35&quot; height=&quot;1784.43&quot; style=&quot;fill:none;stroke:#D7D29E;stroke-width:8.64&quot;/&gt;\n",
       "\t&lt;rect x=&quot;2903.42&quot; y=&quot;752.42&quot; width=&quot;37.87&quot; height=&quot;1736.76&quot; style=&quot;fill:#CAC27E&quot;/&gt;\n",
       "\t&lt;rect x=&quot;2907.74&quot; y=&quot;756.74&quot; width=&quot;29.23&quot; height=&quot;1728.12&quot; style=&quot;fill:none;stroke:#D7D29E;stroke-width:8.64&quot;/&gt;\n",
       "\t&lt;rect x=&quot;2941.29&quot; y=&quot;817.02&quot; width=&quot;37.99&quot; height=&quot;1672.16&quot; style=&quot;fill:#CAC27E&quot;/&gt;\n",
       "\t&lt;rect x=&quot;2945.61&quot; y=&quot;821.34&quot; width=&quot;29.35&quot; height=&quot;1663.52&quot; style=&quot;fill:none;stroke:#D7D29E;stroke-width:8.64&quot;/&gt;\n",
       "\t&lt;rect x=&quot;3017.27&quot; y=&quot;853.28&quot; width=&quot;37.99&quot; height=&quot;1635.90&quot; style=&quot;fill:#CAC27E&quot;/&gt;\n",
       "\t&lt;rect x=&quot;3021.59&quot; y=&quot;857.60&quot; width=&quot;29.35&quot; height=&quot;1627.26&quot; style=&quot;fill:none;stroke:#D7D29E;stroke-width:8.64&quot;/&gt;\n",
       "\t&lt;rect x=&quot;3055.26&quot; y=&quot;976.67&quot; width=&quot;37.99&quot; height=&quot;1512.52&quot; style=&quot;fill:#CAC27E&quot;/&gt;\n",
       "\t&lt;rect x=&quot;3059.58&quot; y=&quot;980.99&quot; width=&quot;29.35&quot; height=&quot;1503.88&quot; style=&quot;fill:none;stroke:#D7D29E;stroke-width:8.64&quot;/&gt;\n",
       "\t&lt;rect x=&quot;3093.26&quot; y=&quot;1301.15&quot; width=&quot;37.99&quot; height=&quot;1188.04&quot; style=&quot;fill:#CAC27E&quot;/&gt;\n",
       "\t&lt;rect x=&quot;3097.57&quot; y=&quot;1305.47&quot; width=&quot;29.35&quot; height=&quot;1179.40&quot; style=&quot;fill:none;stroke:#D7D29E;stroke-width:8.64&quot;/&gt;\n",
       "\t&lt;line x1=&quot;390.80&quot; y1=&quot;2489.19&quot; x2=&quot;390.80&quot; y2=&quot;100.86&quot; style=&quot;stroke:#000000;stroke-width:5.76&quot;/&gt;\n",
       "\t&lt;line x1=&quot;390.80&quot; y1=&quot;2489.19&quot; x2=&quot;350.83&quot; y2=&quot;2489.19&quot; style=&quot;stroke:#000000;stroke-width:5.76&quot;/&gt;\n",
       "\t&lt;text x=&quot;300.72&quot; y=&quot;2489.19&quot; style=&quot;font-family:&#x27;Helvetica&#x27;;font-size:99.99px;fill:#000000&quot; transform=&quot;rotate(-90 300.72,2489.19)&quot; text-anchor=&quot;middle&quot;&gt;0&lt;/text&gt;\n",
       "\t&lt;line x1=&quot;390.80&quot; y1=&quot;1720.18&quot; x2=&quot;350.83&quot; y2=&quot;1720.18&quot; style=&quot;stroke:#000000;stroke-width:5.76&quot;/&gt;\n",
       "\t&lt;text x=&quot;300.72&quot; y=&quot;1720.18&quot; style=&quot;font-family:&#x27;Helvetica&#x27;;font-size:99.99px;fill:#000000&quot; transform=&quot;rotate(-90 300.72,1720.18)&quot; text-anchor=&quot;middle&quot;&gt;.01&lt;/text&gt;\n",
       "\t&lt;line x1=&quot;390.80&quot; y1=&quot;951.17&quot; x2=&quot;350.83&quot; y2=&quot;951.17&quot; style=&quot;stroke:#000000;stroke-width:5.76&quot;/&gt;\n",
       "\t&lt;text x=&quot;300.72&quot; y=&quot;951.17&quot; style=&quot;font-family:&#x27;Helvetica&#x27;;font-size:99.99px;fill:#000000&quot; transform=&quot;rotate(-90 300.72,951.17)&quot; text-anchor=&quot;middle&quot;&gt;.02&lt;/text&gt;\n",
       "\t&lt;line x1=&quot;390.80&quot; y1=&quot;182.17&quot; x2=&quot;350.83&quot; y2=&quot;182.17&quot; style=&quot;stroke:#000000;stroke-width:5.76&quot;/&gt;\n",
       "\t&lt;text x=&quot;300.72&quot; y=&quot;182.17&quot; style=&quot;font-family:&#x27;Helvetica&#x27;;font-size:99.99px;fill:#000000&quot; transform=&quot;rotate(-90 300.72,182.17)&quot; text-anchor=&quot;middle&quot;&gt;.03&lt;/text&gt;\n",
       "\t&lt;text x=&quot;190.71&quot; y=&quot;1294.96&quot; style=&quot;font-family:&#x27;Helvetica&#x27;;font-size:99.99px;fill:#000000&quot; transform=&quot;rotate(-90 190.71,1294.96)&quot; text-anchor=&quot;middle&quot;&gt;Density&lt;/text&gt;\n",
       "\t&lt;line x1=&quot;390.80&quot; y1=&quot;2489.19&quot; x2=&quot;3859.02&quot; y2=&quot;2489.19&quot; style=&quot;stroke:#000000;stroke-width:5.76&quot;/&gt;\n",
       "\t&lt;line x1=&quot;728.76&quot; y1=&quot;2489.19&quot; x2=&quot;728.76&quot; y2=&quot;2529.16&quot; style=&quot;stroke:#000000;stroke-width:5.76&quot;/&gt;\n",
       "\t&lt;text x=&quot;728.76&quot; y=&quot;2619.14&quot; style=&quot;font-family:&#x27;Helvetica&#x27;;font-size:99.99px;fill:#000000&quot; text-anchor=&quot;middle&quot;&gt;20&lt;/text&gt;\n",
       "\t&lt;line x1=&quot;1751.06&quot; y1=&quot;2489.19&quot; x2=&quot;1751.06&quot; y2=&quot;2529.16&quot; style=&quot;stroke:#000000;stroke-width:5.76&quot;/&gt;\n",
       "\t&lt;text x=&quot;1751.06&quot; y=&quot;2619.14&quot; style=&quot;font-family:&#x27;Helvetica&#x27;;font-size:99.99px;fill:#000000&quot; text-anchor=&quot;middle&quot;&gt;40&lt;/text&gt;\n",
       "\t&lt;line x1=&quot;2773.36&quot; y1=&quot;2489.19&quot; x2=&quot;2773.36&quot; y2=&quot;2529.16&quot; style=&quot;stroke:#000000;stroke-width:5.76&quot;/&gt;\n",
       "\t&lt;text x=&quot;2773.36&quot; y=&quot;2619.14&quot; style=&quot;font-family:&#x27;Helvetica&#x27;;font-size:99.99px;fill:#000000&quot; text-anchor=&quot;middle&quot;&gt;60&lt;/text&gt;\n",
       "\t&lt;line x1=&quot;3795.66&quot; y1=&quot;2489.19&quot; x2=&quot;3795.66&quot; y2=&quot;2529.16&quot; style=&quot;stroke:#000000;stroke-width:5.76&quot;/&gt;\n",
       "\t&lt;text x=&quot;3795.66&quot; y=&quot;2619.14&quot; style=&quot;font-family:&#x27;Helvetica&#x27;;font-size:99.99px;fill:#000000&quot; text-anchor=&quot;middle&quot;&gt;80&lt;/text&gt;\n",
       "\t&lt;text x=&quot;2124.91&quot; y=&quot;2729.16&quot; style=&quot;font-family:&#x27;Helvetica&#x27;;font-size:99.99px;fill:#000000&quot; text-anchor=&quot;middle&quot;&gt;age&lt;/text&gt;\n",
       "&lt;/svg&gt;\n",
       "</body></html>\"></iframe>\n"
      ],
      "text/plain": [
       "This front-end cannot display the desired image type."
      ]
     },
     "metadata": {
      "image/svg+xml": {
       "height": 436,
       "width": 600
      },
      "text/html": {
       "height": 436,
       "width": 600
      }
     },
     "output_type": "display_data"
    },
    {
     "name": "stdout",
     "output_type": "stream",
     "text": [
      "\n"
     ]
    }
   ],
   "source": [
    "hist age"
   ]
  },
  {
   "cell_type": "markdown",
   "metadata": {},
   "source": [
    "In your own data extract, you might notice the accumulation at ages 80 and 85? <br><br>\n",
    "The <a href=\"https://cps.ipums.org/cps-action/variables/age#codes_section\">description</a> of the variable age on the ipums website holds the following:<br>\n",
    ">Top codes:<br>\n",
    "1962-1987: 99+ coded as 99<br>\n",
    "1988-2001: 90+ coded as 90<br>\n",
    "2002-2003: 80+ coded as 80<br>\n",
    "2004-onward: 80-84 coded as 80, 85+ coded as 85<br>\n",
    "\n",
    "Does this affect our analysis? How many people aged 80 and above still participate in the job market?<br>\n",
    "(First guess: Not that much.)"
   ]
  },
  {
   "cell_type": "code",
   "execution_count": 89,
   "metadata": {
    "scrolled": true
   },
   "outputs": [
    {
     "name": "stdout",
     "output_type": "stream",
     "text": [
      "\n",
      "(4,206,526 missing values generated)\n",
      "\n",
      "(10,334,812 missing values generated)\n"
     ]
    }
   ],
   "source": [
    "* creating logs\n",
    "gen log_uhrswork1 = log(uhrswork1)\n",
    "gen log_hourwage = log(hourwage)"
   ]
  },
  {
   "cell_type": "code",
   "execution_count": 90,
   "metadata": {},
   "outputs": [
    {
     "name": "stdout",
     "output_type": "stream",
     "text": [
      "(sum of wgt is 8,735,618,218.398)\n",
      "\n",
      "Linear regression                               Number of obs     =    952,041\n",
      "                                                F(4, 952036)      =   19380.34\n",
      "                                                Prob > F          =     0.0000\n",
      "                                                R-squared         =     0.1133\n",
      "                                                Root MSE          =      .3694\n",
      "\n",
      "------------------------------------------------------------------------------\n",
      "             |               Robust\n",
      "log_uhrswo~1 |      Coef.   Std. Err.      t    P>|t|     [95% Conf. Interval]\n",
      "-------------+----------------------------------------------------------------\n",
      "log_hourwage |   .1672318   .0010219   163.65   0.000     .1652289    .1692347\n",
      "         age |    .003772   .0000397    95.09   0.000     .0036942    .0038497\n",
      "             |\n",
      "         sex |\n",
      "  2. female  |  -.1185369   .0008945  -132.51   0.000    -.1202902   -.1167837\n",
      "             |\n",
      "         ctz |\n",
      " 1. citizen  |  -.0798118    .001299   -61.44   0.000    -.0823578   -.0772658\n",
      "       _cons |    3.08505   .0029665  1039.98   0.000     3.079236    3.090864\n",
      "------------------------------------------------------------------------------\n"
     ]
    }
   ],
   "source": [
    "* linear regression\n",
    "reg log_uhrswork1 log_hourwage age i.sex i.ctz [pweight=earnwt]"
   ]
  },
  {
   "cell_type": "markdown",
   "metadata": {},
   "source": [
    "Note: Stata created a appropriate cutoff for the dummies i.sex by itself. No need to transform the variable into a binary 0-1 format."
   ]
  },
  {
   "cell_type": "markdown",
   "metadata": {},
   "source": [
    "Instead of creating a new dummy variable for citizen you can also tell stata where to set the cutoff for a dummy in the regression by typing **i5.citizen**.\n",
    "Stata will construct a dummy variable that is one for citizen greater or equal 5 and zero otherwise.\n",
    "Note that this is the exact opposite definition of the dummy variable we have created."
   ]
  },
  {
   "cell_type": "code",
   "execution_count": 91,
   "metadata": {
    "scrolled": false
   },
   "outputs": [
    {
     "name": "stdout",
     "output_type": "stream",
     "text": [
      "(sum of wgt is 8,735,618,218.398)\n",
      "\n",
      "Linear regression                               Number of obs     =    952,041\n",
      "                                                F(4, 952036)      =   19380.34\n",
      "                                                Prob > F          =     0.0000\n",
      "                                                R-squared         =     0.1133\n",
      "                                                Root MSE          =      .3694\n",
      "\n",
      "-------------------------------------------------------------------------------\n",
      "              |               Robust\n",
      "log_uhrswork1 |      Coef.   Std. Err.      t    P>|t|     [95% Conf. Interval]\n",
      "--------------+----------------------------------------------------------------\n",
      " log_hourwage |   .1672318   .0010219   163.65   0.000     .1652289    .1692347\n",
      "          age |    .003772   .0000397    95.09   0.000     .0036942    .0038497\n",
      "              |\n",
      "          sex |\n",
      "   2. female  |  -.1185369   .0008945  -132.51   0.000    -.1202902   -.1167837\n",
      "              |\n",
      "      citizen |\n",
      "5. not a c..  |   .0798118    .001299    61.44   0.000     .0772658    .0823578\n",
      "        _cons |   3.005238   .0030812   975.36   0.000     2.999199    3.011277\n",
      "-------------------------------------------------------------------------------\n"
     ]
    }
   ],
   "source": [
    "reg log_uhrswork1 log_hourwage age i.sex i5.citizen [pweight=earnwt]"
   ]
  },
  {
   "cell_type": "markdown",
   "metadata": {},
   "source": [
    "The absolute value of the citizen dummy is the same as for the former regression, only the sign of the coefficient, the t-value and the confidence interval changes.\n",
    "Because of the changing reference level of both models (1 denotes two different things in citizen2 and i5.citizen) the intercept is slightly different, too."
   ]
  },
  {
   "cell_type": "markdown",
   "metadata": {},
   "source": [
    "**Run the following multivariate regression:<br><br><center>\n",
    "\\\\( \\log hours = \\beta_0 + \\beta_1 \\log wage_i + \\beta_2 age_i + \\beta_3 educ2_i + \\beta_4 sex_i + \\beta_5 (educ2_i \\times sex_i)\\\\);</center><br> with educ2 being a dummy variable for a respondent holding at least a college degree.\n",
    "Interpret your results.**"
   ]
  },
  {
   "cell_type": "code",
   "execution_count": 35,
   "metadata": {
    "scrolled": true
   },
   "outputs": [
    {
     "name": "stdout",
     "output_type": "stream",
     "text": [
      "\n",
      "\n",
      "\n",
      "          educational attainment recode |      Freq.     Percent        Cum.\n",
      "----------------------------------------+-----------------------------------\n",
      "                        1. niu or blank |          9        0.00        0.00\n",
      "                   2. none or preschool |     29,001        0.26        0.26\n",
      "               10. grades 1, 2, 3, or 4 |     55,654        0.49        0.75\n",
      "                      20. grades 5 or 6 |    124,978        1.10        1.85\n",
      "                      30. grades 7 or 8 |    221,665        1.95        3.80\n",
      "                            40. grade 9 |    335,882        2.96        6.76\n",
      "                           50. grade 10 |    414,008        3.65       10.40\n",
      "                           60. grade 11 |    447,258        3.94       14.34\n",
      "             71. 12th grade, no diploma |    165,357        1.46       15.80\n",
      "  73. high school diploma or equivalent |  3,219,208       28.35       44.15\n",
      "         81. some college but no degree |  2,086,324       18.37       62.53\n",
      "91. associate's degree, occupational/vo |    506,645        4.46       66.99\n",
      "92. associate's degree, academic progra |    545,433        4.80       71.79\n",
      "                 111. bachelor's degree |  2,106,549       18.55       90.34\n",
      "                   123. master's degree |    798,942        7.04       97.38\n",
      "        124. professional school degree |    150,658        1.33       98.71\n",
      "                  125. doctorate degree |    146,766        1.29      100.00\n",
      "----------------------------------------+-----------------------------------\n",
      "                                  Total | 11,354,337      100.00\n"
     ]
    }
   ],
   "source": [
    "numlabel, add\n",
    "tab educ"
   ]
  },
  {
   "cell_type": "code",
   "execution_count": 36,
   "metadata": {},
   "outputs": [
    {
     "name": "stdout",
     "output_type": "stream",
     "text": [
      "(11354337 differences between educ and educ2)\n"
     ]
    }
   ],
   "source": [
    "recode educ (1 = .m) (092 111 123 124 125 = 1) (else = 0), gen(educ2)"
   ]
  },
  {
   "cell_type": "code",
   "execution_count": 38,
   "metadata": {},
   "outputs": [],
   "source": [
    "label define educ2 .m \"missing answer\" 0 \"no college\" 1 \"college\"\n",
    "label value educ2 educ2"
   ]
  },
  {
   "cell_type": "code",
   "execution_count": 39,
   "metadata": {
    "scrolled": false
   },
   "outputs": [
    {
     "name": "stdout",
     "output_type": "stream",
     "text": [
      "\n",
      "RECODE of educ |\n",
      "  (educational |\n",
      "    attainment |\n",
      "       recode) |      Freq.     Percent        Cum.\n",
      "---------------+-----------------------------------\n",
      "    no college |  7,605,980       66.99       66.99\n",
      "       college |  3,748,348       33.01      100.00\n",
      "missing answer |          9        0.00      100.00\n",
      "---------------+-----------------------------------\n",
      "         Total | 11,354,337      100.00\n"
     ]
    }
   ],
   "source": [
    "tab educ2, missing"
   ]
  },
  {
   "cell_type": "code",
   "execution_count": 92,
   "metadata": {
    "scrolled": true
   },
   "outputs": [
    {
     "name": "stdout",
     "output_type": "stream",
     "text": [
      "(sum of wgt is 8,735,618,218.398)\n",
      "\n",
      "Linear regression                               Number of obs     =    952,041\n",
      "                                                F(5, 952035)      =   15926.79\n",
      "                                                Prob > F          =     0.0000\n",
      "                                                R-squared         =     0.1128\n",
      "                                                Root MSE          =     .36952\n",
      "\n",
      "------------------------------------------------------------------------------\n",
      "             |               Robust\n",
      "log_uhrswo~1 |      Coef.   Std. Err.      t    P>|t|     [95% Conf. Interval]\n",
      "-------------+----------------------------------------------------------------\n",
      "log_hourwage |   .1770907   .0010586   167.29   0.000     .1750159    .1791655\n",
      "         age |   .0037393   .0000399    93.65   0.000     .0036611    .0038176\n",
      "             |\n",
      "         sex |\n",
      "  2. female  |  -.1105777   .0010262  -107.75   0.000    -.1125891   -.1085663\n",
      "             |\n",
      "       educ2 |\n",
      " 1. college  |  -.0389158   .0013397   -29.05   0.000    -.0415415   -.0362901\n",
      "             |\n",
      "   sex#educ2 |\n",
      "  2. female #|\n",
      " 1. college  |  -.0246875   .0020473   -12.06   0.000    -.0287002   -.0206748\n",
      "             |\n",
      "       _cons |   2.996977   .0030552   980.95   0.000     2.990989    3.002965\n",
      "------------------------------------------------------------------------------\n"
     ]
    }
   ],
   "source": [
    "reg log_uhrswork1 log_hourwage age i.sex##i.educ2 [pweight=earnwt]"
   ]
  },
  {
   "cell_type": "markdown",
   "metadata": {},
   "source": [
    "ceteris paribus:\n",
    "\n",
    "\\\\( \\beta_3 educ2_i + \\beta_4 sex_i + \\beta_5 (educ2_i \\times sex_i) \\\\)<br><br>\n",
    "\n",
    "Plugging in the estimates for the coefficients and calculating the total coefficient for all four subpopulations defined by the two binary dummy variables *sex* and *college* yields:\n",
    "<br>\n",
    "\n",
    "male and no college ==>  \\\\( \\beta_3*0 + \\beta_4*0 + \\beta_5*(0 \\times 0) \\\\)<br>\n",
    "0 * (-.0389158) + 0 * (-.1105777) -.0246875 * (0x0) = 0 (reference group) <br><br>\n",
    "male and college ==> \\\\( \\beta_3*1 + \\beta_4*0 + \\beta_5*(1 \\times 0) \\\\)<br>\n",
    "1 * (-.0389158) + 0 * (-.1105777) -.0246875 * (1x0) = -.0389158 <br><br>\n",
    "female and no college ==> \\\\( \\beta_3*0 + \\beta_4*1 + \\beta_5*(0 \\times 1) \\\\)<br>\n",
    "0 * (-.0389158) + 1 * (-.1105777) -.0246875 * (0x1) = -.1105777 <br><br>\n",
    "female and collge ==>  \\\\( \\beta_3*1 + \\beta_4*1 + \\beta_5*(1 \\times 1) \\\\)<br>\n",
    "1 * (-.0389158) + 1 * (-.1105777) -.0246875 * (1x1) = -.174181"
   ]
  },
  {
   "cell_type": "markdown",
   "metadata": {},
   "source": [
    "The coefficients of the dummy variable depict the effect of being a male holding a college degree as well as of being a female holding or not holding a college degree relative to being a male not holding a college degree.<br>\n",
    "Pay attention to the reference group when interpreting your results "
   ]
  },
  {
   "cell_type": "code",
   "execution_count": 98,
   "metadata": {
    "scrolled": true
   },
   "outputs": [
    {
     "data": {
      "application/pdf": "[encoded data removed]",
      "image/svg+xml": [
       "<?xml version=\"1.0\" encoding=\"UTF-8\" standalone=\"no\"?>\n",
       "<!-- This is a Stata 16.1 generated SVG file (http://www.stata.com) -->\n",
       "\n",
       "<svg version=\"1.1\" width=\"600px\" height=\"436px\" viewBox=\"0 0 3960 2880\" xmlns=\"http://www.w3.org/2000/svg\" xmlns:xlink=\"http://www.w3.org/1999/xlink\">\n",
       "\t<desc>Stata Graph - Graph</desc>\n",
       "\t<rect x=\"0\" y=\"0\" width=\"3960\" height=\"2880\" style=\"fill:#EAF2F3;stroke:none\"/>\n",
       "\t<rect x=\"0.00\" y=\"0.00\" width=\"3959.88\" height=\"2880.00\" style=\"fill:#EAF2F3\"/>\n",
       "\t<rect x=\"2.88\" y=\"2.88\" width=\"3954.12\" height=\"2874.24\" style=\"fill:none;stroke:#EAF2F3;stroke-width:5.76\"/>\n",
       "\t<rect x=\"390.80\" y=\"275.35\" width=\"3468.22\" height=\"1818.32\" style=\"fill:#FFFFFF\"/>\n",
       "\t<rect x=\"393.68\" y=\"278.23\" width=\"3462.46\" height=\"1812.56\" style=\"fill:none;stroke:#FFFFFF;stroke-width:5.76\"/>\n",
       "\t<line x1=\"390.80\" y1=\"1975.98\" x2=\"3859.02\" y2=\"1975.98\" style=\"stroke:#EAF2F3;stroke-width:8.64\"/>\n",
       "\t<line x1=\"390.80\" y1=\"1580.96\" x2=\"3859.02\" y2=\"1580.96\" style=\"stroke:#EAF2F3;stroke-width:8.64\"/>\n",
       "\t<line x1=\"390.80\" y1=\"1186.06\" x2=\"3859.02\" y2=\"1186.06\" style=\"stroke:#EAF2F3;stroke-width:8.64\"/>\n",
       "\t<line x1=\"390.80\" y1=\"791.16\" x2=\"3859.02\" y2=\"791.16\" style=\"stroke:#EAF2F3;stroke-width:8.64\"/>\n",
       "\t<line x1=\"390.80\" y1=\"396.26\" x2=\"3859.02\" y2=\"396.26\" style=\"stroke:#EAF2F3;stroke-width:8.64\"/>\n",
       "\t<path d=\" M454.41 1881.68 L2108.33 1120.59 L3762.25 359.63\" stroke-linejoin=\"round\" style=\"fill:none;stroke:#1A476F;stroke-width:8.64\"/>\n",
       "\t<path d=\" M487.45 1695.92 L2125.16 1500.64 L3762.87 1305.36\" stroke-linejoin=\"round\" style=\"fill:none;stroke:#90353B;stroke-width:8.64\"/>\n",
       "\t<path d=\" M454.41 2030.43 L2108.33 1184.57 L3762.25 338.84\" stroke-linejoin=\"round\" style=\"fill:none;stroke:#55752F;stroke-width:8.64\"/>\n",
       "\t<path d=\" M454.41 1851.11 L2108.45 1700.25 L3762.62 1549.40\" stroke-linejoin=\"round\" style=\"fill:none;stroke:#E37E00;stroke-width:8.64\"/>\n",
       "\t<line x1=\"390.80\" y1=\"2093.67\" x2=\"390.80\" y2=\"275.35\" style=\"stroke:#000000;stroke-width:5.76\"/>\n",
       "\t<line x1=\"390.80\" y1=\"1975.98\" x2=\"350.83\" y2=\"1975.98\" style=\"stroke:#000000;stroke-width:5.76\"/>\n",
       "\t<text x=\"300.72\" y=\"1975.98\" style=\"font-family:'Helvetica';font-size:99.99px;fill:#000000\" transform=\"rotate(-90 300.72,1975.98)\" text-anchor=\"middle\">30</text>\n",
       "\t<line x1=\"390.80\" y1=\"1580.96\" x2=\"350.83\" y2=\"1580.96\" style=\"stroke:#000000;stroke-width:5.76\"/>\n",
       "\t<text x=\"300.72\" y=\"1580.96\" style=\"font-family:'Helvetica';font-size:99.99px;fill:#000000\" transform=\"rotate(-90 300.72,1580.96)\" text-anchor=\"middle\">40</text>\n",
       "\t<line x1=\"390.80\" y1=\"1186.06\" x2=\"350.83\" y2=\"1186.06\" style=\"stroke:#000000;stroke-width:5.76\"/>\n",
       "\t<text x=\"300.72\" y=\"1186.06\" style=\"font-family:'Helvetica';font-size:99.99px;fill:#000000\" transform=\"rotate(-90 300.72,1186.06)\" text-anchor=\"middle\">50</text>\n",
       "\t<line x1=\"390.80\" y1=\"791.16\" x2=\"350.83\" y2=\"791.16\" style=\"stroke:#000000;stroke-width:5.76\"/>\n",
       "\t<text x=\"300.72\" y=\"791.16\" style=\"font-family:'Helvetica';font-size:99.99px;fill:#000000\" transform=\"rotate(-90 300.72,791.16)\" text-anchor=\"middle\">60</text>\n",
       "\t<line x1=\"390.80\" y1=\"396.26\" x2=\"350.83\" y2=\"396.26\" style=\"stroke:#000000;stroke-width:5.76\"/>\n",
       "\t<text x=\"300.72\" y=\"396.26\" style=\"font-family:'Helvetica';font-size:99.99px;fill:#000000\" transform=\"rotate(-90 300.72,396.26)\" text-anchor=\"middle\">70</text>\n",
       "\t<text x=\"190.71\" y=\"1184.57\" style=\"font-family:'Helvetica';font-size:99.99px;fill:#000000\" transform=\"rotate(-90 190.71,1184.57)\" text-anchor=\"middle\">Fitted values</text>\n",
       "\t<line x1=\"390.80\" y1=\"2093.67\" x2=\"3859.02\" y2=\"2093.67\" style=\"stroke:#000000;stroke-width:5.76\"/>\n",
       "\t<line x1=\"454.16\" y1=\"2093.67\" x2=\"454.16\" y2=\"2133.64\" style=\"stroke:#000000;stroke-width:5.76\"/>\n",
       "\t<text x=\"454.16\" y=\"2223.62\" style=\"font-family:'Helvetica';font-size:99.99px;fill:#000000\" text-anchor=\"middle\">0</text>\n",
       "\t<line x1=\"1122.41\" y1=\"2093.67\" x2=\"1122.41\" y2=\"2133.64\" style=\"stroke:#000000;stroke-width:5.76\"/>\n",
       "\t<text x=\"1122.41\" y=\"2223.62\" style=\"font-family:'Helvetica';font-size:99.99px;fill:#000000\" text-anchor=\"middle\">20</text>\n",
       "\t<line x1=\"1790.79\" y1=\"2093.67\" x2=\"1790.79\" y2=\"2133.64\" style=\"stroke:#000000;stroke-width:5.76\"/>\n",
       "\t<text x=\"1790.79\" y=\"2223.62\" style=\"font-family:'Helvetica';font-size:99.99px;fill:#000000\" text-anchor=\"middle\">40</text>\n",
       "\t<line x1=\"2459.04\" y1=\"2093.67\" x2=\"2459.04\" y2=\"2133.64\" style=\"stroke:#000000;stroke-width:5.76\"/>\n",
       "\t<text x=\"2459.04\" y=\"2223.62\" style=\"font-family:'Helvetica';font-size:99.99px;fill:#000000\" text-anchor=\"middle\">60</text>\n",
       "\t<line x1=\"3127.41\" y1=\"2093.67\" x2=\"3127.41\" y2=\"2133.64\" style=\"stroke:#000000;stroke-width:5.76\"/>\n",
       "\t<text x=\"3127.41\" y=\"2223.62\" style=\"font-family:'Helvetica';font-size:99.99px;fill:#000000\" text-anchor=\"middle\">80</text>\n",
       "\t<line x1=\"3795.66\" y1=\"2093.67\" x2=\"3795.66\" y2=\"2133.64\" style=\"stroke:#000000;stroke-width:5.76\"/>\n",
       "\t<text x=\"3795.66\" y=\"2223.62\" style=\"font-family:'Helvetica';font-size:99.99px;fill:#000000\" text-anchor=\"middle\">100</text>\n",
       "\t<text x=\"2124.91\" y=\"2333.64\" style=\"font-family:'Helvetica';font-size:99.99px;fill:#000000\" text-anchor=\"middle\">hourly wage</text>\n",
       "\t<rect x=\"734.46\" y=\"2418.27\" width=\"2780.91\" height=\"326.34\" style=\"fill:#FFFFFF\"/>\n",
       "\t<rect x=\"737.34\" y=\"2421.15\" width=\"2775.15\" height=\"320.58\" style=\"fill:none;stroke:#000000;stroke-width:5.76\"/>\n",
       "\t<line x1=\"777.64\" y1=\"2511.46\" x2=\"1151.99\" y2=\"2511.46\" style=\"stroke:#1A476F;stroke-width:8.64\"/>\n",
       "\t<line x1=\"2194.95\" y1=\"2511.46\" x2=\"2569.30\" y2=\"2511.46\" style=\"stroke:#90353B;stroke-width:8.64\"/>\n",
       "\t<line x1=\"777.64\" y1=\"2651.43\" x2=\"1151.99\" y2=\"2651.43\" style=\"stroke:#55752F;stroke-width:8.64\"/>\n",
       "\t<line x1=\"2194.95\" y1=\"2651.43\" x2=\"2569.30\" y2=\"2651.43\" style=\"stroke:#E37E00;stroke-width:8.64\"/>\n",
       "\t<text x=\"1212.01\" y=\"2546.49\" style=\"font-family:'Helvetica';font-size:99.99px;fill:#000000\">male, no college</text>\n",
       "\t<text x=\"2629.32\" y=\"2546.49\" style=\"font-family:'Helvetica';font-size:99.99px;fill:#000000\">male, college</text>\n",
       "\t<text x=\"1212.01\" y=\"2686.46\" style=\"font-family:'Helvetica';font-size:99.99px;fill:#000000\">female, no college</text>\n",
       "\t<text x=\"2629.32\" y=\"2686.46\" style=\"font-family:'Helvetica';font-size:99.99px;fill:#000000\">female, no college</text>\n",
       "\t<text x=\"2124.91\" y=\"215.98\" style=\"font-family:'Helvetica';font-size:139.96px;fill:#000000\" text-anchor=\"middle\">Regression function fit</text>\n",
       "</svg>\n"
      ],
      "text/html": [
       "                <iframe frameborder=\"0\" scrolling=\"no\" height=\"436\" width=\"600\"                srcdoc=\"<html><body>&lt;?xml version=&quot;1.0&quot; encoding=&quot;UTF-8&quot; standalone=&quot;no&quot;?&gt;\n",
       "&lt;!-- This is a Stata 16.1 generated SVG file (http://www.stata.com) --&gt;\n",
       "\n",
       "&lt;svg version=&quot;1.1&quot; width=&quot;600px&quot; height=&quot;436px&quot; viewBox=&quot;0 0 3960 2880&quot; xmlns=&quot;http://www.w3.org/2000/svg&quot; xmlns:xlink=&quot;http://www.w3.org/1999/xlink&quot;&gt;\n",
       "\t&lt;desc&gt;Stata Graph - Graph&lt;/desc&gt;\n",
       "\t&lt;rect x=&quot;0&quot; y=&quot;0&quot; width=&quot;3960&quot; height=&quot;2880&quot; style=&quot;fill:#EAF2F3;stroke:none&quot;/&gt;\n",
       "\t&lt;rect x=&quot;0.00&quot; y=&quot;0.00&quot; width=&quot;3959.88&quot; height=&quot;2880.00&quot; style=&quot;fill:#EAF2F3&quot;/&gt;\n",
       "\t&lt;rect x=&quot;2.88&quot; y=&quot;2.88&quot; width=&quot;3954.12&quot; height=&quot;2874.24&quot; style=&quot;fill:none;stroke:#EAF2F3;stroke-width:5.76&quot;/&gt;\n",
       "\t&lt;rect x=&quot;390.80&quot; y=&quot;275.35&quot; width=&quot;3468.22&quot; height=&quot;1818.32&quot; style=&quot;fill:#FFFFFF&quot;/&gt;\n",
       "\t&lt;rect x=&quot;393.68&quot; y=&quot;278.23&quot; width=&quot;3462.46&quot; height=&quot;1812.56&quot; style=&quot;fill:none;stroke:#FFFFFF;stroke-width:5.76&quot;/&gt;\n",
       "\t&lt;line x1=&quot;390.80&quot; y1=&quot;1975.98&quot; x2=&quot;3859.02&quot; y2=&quot;1975.98&quot; style=&quot;stroke:#EAF2F3;stroke-width:8.64&quot;/&gt;\n",
       "\t&lt;line x1=&quot;390.80&quot; y1=&quot;1580.96&quot; x2=&quot;3859.02&quot; y2=&quot;1580.96&quot; style=&quot;stroke:#EAF2F3;stroke-width:8.64&quot;/&gt;\n",
       "\t&lt;line x1=&quot;390.80&quot; y1=&quot;1186.06&quot; x2=&quot;3859.02&quot; y2=&quot;1186.06&quot; style=&quot;stroke:#EAF2F3;stroke-width:8.64&quot;/&gt;\n",
       "\t&lt;line x1=&quot;390.80&quot; y1=&quot;791.16&quot; x2=&quot;3859.02&quot; y2=&quot;791.16&quot; style=&quot;stroke:#EAF2F3;stroke-width:8.64&quot;/&gt;\n",
       "\t&lt;line x1=&quot;390.80&quot; y1=&quot;396.26&quot; x2=&quot;3859.02&quot; y2=&quot;396.26&quot; style=&quot;stroke:#EAF2F3;stroke-width:8.64&quot;/&gt;\n",
       "\t&lt;path d=&quot; M454.41 1881.68 L2108.33 1120.59 L3762.25 359.63&quot; stroke-linejoin=&quot;round&quot; style=&quot;fill:none;stroke:#1A476F;stroke-width:8.64&quot;/&gt;\n",
       "\t&lt;path d=&quot; M487.45 1695.92 L2125.16 1500.64 L3762.87 1305.36&quot; stroke-linejoin=&quot;round&quot; style=&quot;fill:none;stroke:#90353B;stroke-width:8.64&quot;/&gt;\n",
       "\t&lt;path d=&quot; M454.41 2030.43 L2108.33 1184.57 L3762.25 338.84&quot; stroke-linejoin=&quot;round&quot; style=&quot;fill:none;stroke:#55752F;stroke-width:8.64&quot;/&gt;\n",
       "\t&lt;path d=&quot; M454.41 1851.11 L2108.45 1700.25 L3762.62 1549.40&quot; stroke-linejoin=&quot;round&quot; style=&quot;fill:none;stroke:#E37E00;stroke-width:8.64&quot;/&gt;\n",
       "\t&lt;line x1=&quot;390.80&quot; y1=&quot;2093.67&quot; x2=&quot;390.80&quot; y2=&quot;275.35&quot; style=&quot;stroke:#000000;stroke-width:5.76&quot;/&gt;\n",
       "\t&lt;line x1=&quot;390.80&quot; y1=&quot;1975.98&quot; x2=&quot;350.83&quot; y2=&quot;1975.98&quot; style=&quot;stroke:#000000;stroke-width:5.76&quot;/&gt;\n",
       "\t&lt;text x=&quot;300.72&quot; y=&quot;1975.98&quot; style=&quot;font-family:&#x27;Helvetica&#x27;;font-size:99.99px;fill:#000000&quot; transform=&quot;rotate(-90 300.72,1975.98)&quot; text-anchor=&quot;middle&quot;&gt;30&lt;/text&gt;\n",
       "\t&lt;line x1=&quot;390.80&quot; y1=&quot;1580.96&quot; x2=&quot;350.83&quot; y2=&quot;1580.96&quot; style=&quot;stroke:#000000;stroke-width:5.76&quot;/&gt;\n",
       "\t&lt;text x=&quot;300.72&quot; y=&quot;1580.96&quot; style=&quot;font-family:&#x27;Helvetica&#x27;;font-size:99.99px;fill:#000000&quot; transform=&quot;rotate(-90 300.72,1580.96)&quot; text-anchor=&quot;middle&quot;&gt;40&lt;/text&gt;\n",
       "\t&lt;line x1=&quot;390.80&quot; y1=&quot;1186.06&quot; x2=&quot;350.83&quot; y2=&quot;1186.06&quot; style=&quot;stroke:#000000;stroke-width:5.76&quot;/&gt;\n",
       "\t&lt;text x=&quot;300.72&quot; y=&quot;1186.06&quot; style=&quot;font-family:&#x27;Helvetica&#x27;;font-size:99.99px;fill:#000000&quot; transform=&quot;rotate(-90 300.72,1186.06)&quot; text-anchor=&quot;middle&quot;&gt;50&lt;/text&gt;\n",
       "\t&lt;line x1=&quot;390.80&quot; y1=&quot;791.16&quot; x2=&quot;350.83&quot; y2=&quot;791.16&quot; style=&quot;stroke:#000000;stroke-width:5.76&quot;/&gt;\n",
       "\t&lt;text x=&quot;300.72&quot; y=&quot;791.16&quot; style=&quot;font-family:&#x27;Helvetica&#x27;;font-size:99.99px;fill:#000000&quot; transform=&quot;rotate(-90 300.72,791.16)&quot; text-anchor=&quot;middle&quot;&gt;60&lt;/text&gt;\n",
       "\t&lt;line x1=&quot;390.80&quot; y1=&quot;396.26&quot; x2=&quot;350.83&quot; y2=&quot;396.26&quot; style=&quot;stroke:#000000;stroke-width:5.76&quot;/&gt;\n",
       "\t&lt;text x=&quot;300.72&quot; y=&quot;396.26&quot; style=&quot;font-family:&#x27;Helvetica&#x27;;font-size:99.99px;fill:#000000&quot; transform=&quot;rotate(-90 300.72,396.26)&quot; text-anchor=&quot;middle&quot;&gt;70&lt;/text&gt;\n",
       "\t&lt;text x=&quot;190.71&quot; y=&quot;1184.57&quot; style=&quot;font-family:&#x27;Helvetica&#x27;;font-size:99.99px;fill:#000000&quot; transform=&quot;rotate(-90 190.71,1184.57)&quot; text-anchor=&quot;middle&quot;&gt;Fitted values&lt;/text&gt;\n",
       "\t&lt;line x1=&quot;390.80&quot; y1=&quot;2093.67&quot; x2=&quot;3859.02&quot; y2=&quot;2093.67&quot; style=&quot;stroke:#000000;stroke-width:5.76&quot;/&gt;\n",
       "\t&lt;line x1=&quot;454.16&quot; y1=&quot;2093.67&quot; x2=&quot;454.16&quot; y2=&quot;2133.64&quot; style=&quot;stroke:#000000;stroke-width:5.76&quot;/&gt;\n",
       "\t&lt;text x=&quot;454.16&quot; y=&quot;2223.62&quot; style=&quot;font-family:&#x27;Helvetica&#x27;;font-size:99.99px;fill:#000000&quot; text-anchor=&quot;middle&quot;&gt;0&lt;/text&gt;\n",
       "\t&lt;line x1=&quot;1122.41&quot; y1=&quot;2093.67&quot; x2=&quot;1122.41&quot; y2=&quot;2133.64&quot; style=&quot;stroke:#000000;stroke-width:5.76&quot;/&gt;\n",
       "\t&lt;text x=&quot;1122.41&quot; y=&quot;2223.62&quot; style=&quot;font-family:&#x27;Helvetica&#x27;;font-size:99.99px;fill:#000000&quot; text-anchor=&quot;middle&quot;&gt;20&lt;/text&gt;\n",
       "\t&lt;line x1=&quot;1790.79&quot; y1=&quot;2093.67&quot; x2=&quot;1790.79&quot; y2=&quot;2133.64&quot; style=&quot;stroke:#000000;stroke-width:5.76&quot;/&gt;\n",
       "\t&lt;text x=&quot;1790.79&quot; y=&quot;2223.62&quot; style=&quot;font-family:&#x27;Helvetica&#x27;;font-size:99.99px;fill:#000000&quot; text-anchor=&quot;middle&quot;&gt;40&lt;/text&gt;\n",
       "\t&lt;line x1=&quot;2459.04&quot; y1=&quot;2093.67&quot; x2=&quot;2459.04&quot; y2=&quot;2133.64&quot; style=&quot;stroke:#000000;stroke-width:5.76&quot;/&gt;\n",
       "\t&lt;text x=&quot;2459.04&quot; y=&quot;2223.62&quot; style=&quot;font-family:&#x27;Helvetica&#x27;;font-size:99.99px;fill:#000000&quot; text-anchor=&quot;middle&quot;&gt;60&lt;/text&gt;\n",
       "\t&lt;line x1=&quot;3127.41&quot; y1=&quot;2093.67&quot; x2=&quot;3127.41&quot; y2=&quot;2133.64&quot; style=&quot;stroke:#000000;stroke-width:5.76&quot;/&gt;\n",
       "\t&lt;text x=&quot;3127.41&quot; y=&quot;2223.62&quot; style=&quot;font-family:&#x27;Helvetica&#x27;;font-size:99.99px;fill:#000000&quot; text-anchor=&quot;middle&quot;&gt;80&lt;/text&gt;\n",
       "\t&lt;line x1=&quot;3795.66&quot; y1=&quot;2093.67&quot; x2=&quot;3795.66&quot; y2=&quot;2133.64&quot; style=&quot;stroke:#000000;stroke-width:5.76&quot;/&gt;\n",
       "\t&lt;text x=&quot;3795.66&quot; y=&quot;2223.62&quot; style=&quot;font-family:&#x27;Helvetica&#x27;;font-size:99.99px;fill:#000000&quot; text-anchor=&quot;middle&quot;&gt;100&lt;/text&gt;\n",
       "\t&lt;text x=&quot;2124.91&quot; y=&quot;2333.64&quot; style=&quot;font-family:&#x27;Helvetica&#x27;;font-size:99.99px;fill:#000000&quot; text-anchor=&quot;middle&quot;&gt;hourly wage&lt;/text&gt;\n",
       "\t&lt;rect x=&quot;734.46&quot; y=&quot;2418.27&quot; width=&quot;2780.91&quot; height=&quot;326.34&quot; style=&quot;fill:#FFFFFF&quot;/&gt;\n",
       "\t&lt;rect x=&quot;737.34&quot; y=&quot;2421.15&quot; width=&quot;2775.15&quot; height=&quot;320.58&quot; style=&quot;fill:none;stroke:#000000;stroke-width:5.76&quot;/&gt;\n",
       "\t&lt;line x1=&quot;777.64&quot; y1=&quot;2511.46&quot; x2=&quot;1151.99&quot; y2=&quot;2511.46&quot; style=&quot;stroke:#1A476F;stroke-width:8.64&quot;/&gt;\n",
       "\t&lt;line x1=&quot;2194.95&quot; y1=&quot;2511.46&quot; x2=&quot;2569.30&quot; y2=&quot;2511.46&quot; style=&quot;stroke:#90353B;stroke-width:8.64&quot;/&gt;\n",
       "\t&lt;line x1=&quot;777.64&quot; y1=&quot;2651.43&quot; x2=&quot;1151.99&quot; y2=&quot;2651.43&quot; style=&quot;stroke:#55752F;stroke-width:8.64&quot;/&gt;\n",
       "\t&lt;line x1=&quot;2194.95&quot; y1=&quot;2651.43&quot; x2=&quot;2569.30&quot; y2=&quot;2651.43&quot; style=&quot;stroke:#E37E00;stroke-width:8.64&quot;/&gt;\n",
       "\t&lt;text x=&quot;1212.01&quot; y=&quot;2546.49&quot; style=&quot;font-family:&#x27;Helvetica&#x27;;font-size:99.99px;fill:#000000&quot;&gt;male, no college&lt;/text&gt;\n",
       "\t&lt;text x=&quot;2629.32&quot; y=&quot;2546.49&quot; style=&quot;font-family:&#x27;Helvetica&#x27;;font-size:99.99px;fill:#000000&quot;&gt;male, college&lt;/text&gt;\n",
       "\t&lt;text x=&quot;1212.01&quot; y=&quot;2686.46&quot; style=&quot;font-family:&#x27;Helvetica&#x27;;font-size:99.99px;fill:#000000&quot;&gt;female, no college&lt;/text&gt;\n",
       "\t&lt;text x=&quot;2629.32&quot; y=&quot;2686.46&quot; style=&quot;font-family:&#x27;Helvetica&#x27;;font-size:99.99px;fill:#000000&quot;&gt;female, no college&lt;/text&gt;\n",
       "\t&lt;text x=&quot;2124.91&quot; y=&quot;215.98&quot; style=&quot;font-family:&#x27;Helvetica&#x27;;font-size:139.96px;fill:#000000&quot; text-anchor=&quot;middle&quot;&gt;Regression function fit&lt;/text&gt;\n",
       "&lt;/svg&gt;\n",
       "</body></html>\"></iframe>\n"
      ],
      "text/plain": [
       "This front-end cannot display the desired image type."
      ]
     },
     "metadata": {
      "image/svg+xml": {
       "height": 436,
       "width": 600
      },
      "text/html": {
       "height": 436,
       "width": 600
      }
     },
     "output_type": "display_data"
    }
   ],
   "source": [
    "twoway (lfit uhrswork1 hourwage if sex == 1 & educ2 == 0) (lfit uhrswork1 hourwage if sex == 1 & educ2 == 1) (lfit uhrswork1 hourwage if sex == 2 & educ2 == 0) (lfit uhrswork1 hourwage if sex == 2 & educ2 == 1), legend(cols(2) order(1 \"male, no college\" 2 \"male, college\" 3 \"female, no college\" 4 \"female, no college\")) title(\"Regression function fit\", color(gs0)) "
   ]
  },
  {
   "cell_type": "code",
   "execution_count": 99,
   "metadata": {},
   "outputs": [
    {
     "name": "stdout",
     "output_type": "stream",
     "text": [
      "(sum of wgt is 8,740,213,304.43)\n",
      "\n",
      "Linear regression                               Number of obs     =    952,574\n",
      "                                                F(5, 952568)      =   21161.61\n",
      "                                                Prob > F          =     0.0000\n",
      "                                                R-squared         =     0.1380\n",
      "                                                Root MSE          =      9.193\n",
      "\n",
      "------------------------------------------------------------------------------\n",
      "             |               Robust\n",
      "   uhrswork1 |      Coef.   Std. Err.      t    P>|t|     [95% Conf. Interval]\n",
      "-------------+----------------------------------------------------------------\n",
      "log_hourwage |   4.994455   .0263433   189.59   0.000     4.942823    5.046087\n",
      "         age |   .0913921   .0009462    96.58   0.000     .0895375    .0932467\n",
      "             |\n",
      "         sex |\n",
      "  2. female  |  -3.386369   .0252816  -133.95   0.000     -3.43592   -3.336818\n",
      "             |\n",
      "       educ2 |\n",
      " 1. college  |   -1.15064   .0375782   -30.62   0.000    -1.224292   -1.076988\n",
      "             |\n",
      "   sex#educ2 |\n",
      "  2. female #|\n",
      " 1. college  |  -.5551601   .0519744   -10.68   0.000    -.6570283    -.453292\n",
      "             |\n",
      "       _cons |   21.80574   .0731417   298.13   0.000     21.66239     21.9491\n",
      "------------------------------------------------------------------------------\n"
     ]
    }
   ],
   "source": [
    "reg uhrswork1 log_hourwage age i.sex##i.educ2 [pweight=earnwt]"
   ]
  },
  {
   "cell_type": "code",
   "execution_count": 100,
   "metadata": {},
   "outputs": [
    {
     "name": "stdout",
     "output_type": "stream",
     "text": [
      "(sum of wgt is 8,735,618,218.398)\n",
      "\n",
      "Linear regression                               Number of obs     =    952,041\n",
      "                                                F(5, 952035)      =   11881.97\n",
      "                                                Prob > F          =     0.0000\n",
      "                                                R-squared         =     0.0889\n",
      "                                                Root MSE          =     .37445\n",
      "\n",
      "------------------------------------------------------------------------------\n",
      "             |               Robust\n",
      "log_uhrswo~1 |      Coef.   Std. Err.      t    P>|t|     [95% Conf. Interval]\n",
      "-------------+----------------------------------------------------------------\n",
      "    hourwage |   .0063358   .0000632   100.31   0.000      .006212    .0064596\n",
      "         age |   .0046301   .0000404   114.56   0.000     .0045509    .0047094\n",
      "             |\n",
      "         sex |\n",
      "  2. female  |   -.127375   .0010303  -123.62   0.000    -.1293944   -.1253555\n",
      "             |\n",
      "       educ2 |\n",
      " 1. college  |  -.0280367   .0013698   -20.47   0.000    -.0307215   -.0253519\n",
      "             |\n",
      "   sex#educ2 |\n",
      "  2. female #|\n",
      " 1. college  |  -.0098348   .0020711    -4.75   0.000     -.013894   -.0057755\n",
      "             |\n",
      "       _cons |   3.330031    .001883  1768.44   0.000      3.32634    3.333721\n",
      "------------------------------------------------------------------------------\n"
     ]
    }
   ],
   "source": [
    "reg log_uhrswork1 hourwage age i.sex##i.educ2 [pweight=earnwt]"
   ]
  },
  {
   "cell_type": "code",
   "execution_count": 101,
   "metadata": {},
   "outputs": [
    {
     "name": "stdout",
     "output_type": "stream",
     "text": [
      "(sum of wgt is 8,740,213,304.43)\n",
      "\n",
      "Linear regression                               Number of obs     =    952,574\n",
      "                                                F(5, 952568)      =   15812.80\n",
      "                                                Prob > F          =     0.0000\n",
      "                                                R-squared         =     0.1101\n",
      "                                                Root MSE          =     9.3406\n",
      "\n",
      "------------------------------------------------------------------------------\n",
      "             |               Robust\n",
      "   uhrswork1 |      Coef.   Std. Err.      t    P>|t|     [95% Conf. Interval]\n",
      "-------------+----------------------------------------------------------------\n",
      "    hourwage |   .1860219    .001619   114.90   0.000     .1828486    .1891952\n",
      "         age |   .1152636   .0009575   120.38   0.000     .1133869    .1171403\n",
      "             |\n",
      "         sex |\n",
      "  2. female  |  -3.837657   .0255038  -150.47   0.000    -3.887644   -3.787671\n",
      "             |\n",
      "       educ2 |\n",
      " 1. college  |  -.8898273    .038427   -23.16   0.000     -.965143   -.8145116\n",
      "             |\n",
      "   sex#educ2 |\n",
      "  2. female #|\n",
      " 1. college  |  -.1451342   .0527644    -2.75   0.006    -.2485507   -.0417178\n",
      "             |\n",
      "       _cons |   31.13315   .0448581   694.04   0.000     31.04523    31.22107\n",
      "------------------------------------------------------------------------------\n"
     ]
    }
   ],
   "source": [
    "reg uhrswork1 hourwage age i.sex##i.educ2 [pweight=earnwt]"
   ]
  },
  {
   "cell_type": "markdown",
   "metadata": {},
   "source": [
    "\\\\( y = \\beta_0 + \\beta_1 x \\\\)\n",
    "\n",
    "| <center>**y / x**</center> | <center>**level**</center> | <center>**log**</center> |\n",
    "| :---        |    :----:   |          ---: |\n",
    "| **level** | change in x by 1 unit changes y by \\\\( \\beta_1 \\\\) |  change in x by 1 % changes y by <br> \\\\( \\beta_1 / 100\\\\) units |\n",
    "| **log** | change in x by 1 unit changes y <br> **approximately** by  \\\\( \\beta_1 \\times 100 \\% \\\\) | change in x by 1 % changes y by \\\\( \\beta_1 \\% \\\\)|"
   ]
  },
  {
   "cell_type": "markdown",
   "metadata": {},
   "source": [
    "## Employment Flows (Task 3)"
   ]
  },
  {
   "cell_type": "markdown",
   "metadata": {},
   "source": [
    "### Group Work (30 min)\n",
    "**The statistics of the Bureau of Labor Statistics base on data from the CPS.**\n",
    "\n",
    "**Derive information on monthly employment flows. Disregard marginal in- and outflows.**\n",
    "**Do so for every month in your data.**\n",
    "\n",
    "**Find out the monthly flows for the U.S. for a period of years covered by your cps sample aswell.<br>\n",
    "Adequate data is provided by the Bureau of Labor Statistics. <a href=\"https://www.bls.gov/webapps/legacy/cpsflowstab.htm\">LINK</a>\n",
    "<br><br>\n",
    "Try to visualise the monthly flows.**\n",
    "\n",
    "**You can also continue to work on your CPS data instead.**\n",
    "\n",
    "**Repeat your calculations for the female and male labor force. Are there remarkable differences in trends?** \n",
    "\n",
    "*Note: Not all tasks have to be solved using Stata. Especially when working with smaller data sets, it is much more convenient to explore and modify data using a spreadsheet program.*"
   ]
  },
  {
   "cell_type": "markdown",
   "metadata": {},
   "source": [
    "<img src=\"https://i.imgflip.com/5skekr.jpg\" title=\"made at imgflip.com\"/></a><div><a href=\"https://imgflip.com/memegenerator\">from Imgflip Meme Generator</a></div>"
   ]
  },
  {
   "cell_type": "markdown",
   "metadata": {},
   "source": [
    "See my example here: <a href=\"https://docs.google.com/presentation/d/1m5qdBlHHZF95bBo4Ee0XYS4B5TbNdPM8sOIOr3LAae0/edit#slide=id.gb091b769bf_0_21\">Link to Google Slides</a> <br><br>\n",
    "<a href=\"https://docs.google.com/spreadsheets/d/1_Vl2oIEV1sOPqyCJ91uyk4psLSqTm1h7ktoKX1aDQMA/edit?usp=sharing\">Related Spreadsheet</a>"
   ]
  }
 ],
 "metadata": {
  "celltoolbar": "Slideshow",
  "kernelspec": {
   "display_name": "Stata",
   "language": "stata",
   "name": "stata"
  },
  "language_info": {
   "codemirror_mode": "stata",
   "file_extension": ".do",
   "mimetype": "text/x-stata",
   "name": "stata",
   "version": "15.1"
  },
  "widgets": {
   "application/vnd.jupyter.widget-state+json": {
    "state": {},
    "version_major": 2,
    "version_minor": 0
   }
  }
 },
 "nbformat": 4,
 "nbformat_minor": 4
}
